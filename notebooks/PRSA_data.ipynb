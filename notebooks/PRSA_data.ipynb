{
 "cells": [
  {
   "cell_type": "code",
   "execution_count": 20,
   "metadata": {},
   "outputs": [
    {
     "data": {
      "text/html": [
       "<div>\n",
       "<style scoped>\n",
       "    .dataframe tbody tr th:only-of-type {\n",
       "        vertical-align: middle;\n",
       "    }\n",
       "\n",
       "    .dataframe tbody tr th {\n",
       "        vertical-align: top;\n",
       "    }\n",
       "\n",
       "    .dataframe thead th {\n",
       "        text-align: right;\n",
       "    }\n",
       "</style>\n",
       "<table border=\"1\" class=\"dataframe\">\n",
       "  <thead>\n",
       "    <tr style=\"text-align: right;\">\n",
       "      <th></th>\n",
       "      <th>No</th>\n",
       "      <th>year</th>\n",
       "      <th>month</th>\n",
       "      <th>day</th>\n",
       "      <th>hour</th>\n",
       "      <th>pm2.5</th>\n",
       "      <th>DEWP</th>\n",
       "      <th>TEMP</th>\n",
       "      <th>PRES</th>\n",
       "      <th>cbwd</th>\n",
       "      <th>Iws</th>\n",
       "      <th>Is</th>\n",
       "      <th>Ir</th>\n",
       "    </tr>\n",
       "  </thead>\n",
       "  <tbody>\n",
       "    <tr>\n",
       "      <th>0</th>\n",
       "      <td>1</td>\n",
       "      <td>2010</td>\n",
       "      <td>1</td>\n",
       "      <td>1</td>\n",
       "      <td>0</td>\n",
       "      <td>NaN</td>\n",
       "      <td>-21</td>\n",
       "      <td>-11.0</td>\n",
       "      <td>1021.0</td>\n",
       "      <td>NW</td>\n",
       "      <td>1.79</td>\n",
       "      <td>0</td>\n",
       "      <td>0</td>\n",
       "    </tr>\n",
       "    <tr>\n",
       "      <th>1</th>\n",
       "      <td>2</td>\n",
       "      <td>2010</td>\n",
       "      <td>1</td>\n",
       "      <td>1</td>\n",
       "      <td>1</td>\n",
       "      <td>NaN</td>\n",
       "      <td>-21</td>\n",
       "      <td>-12.0</td>\n",
       "      <td>1020.0</td>\n",
       "      <td>NW</td>\n",
       "      <td>4.92</td>\n",
       "      <td>0</td>\n",
       "      <td>0</td>\n",
       "    </tr>\n",
       "    <tr>\n",
       "      <th>2</th>\n",
       "      <td>3</td>\n",
       "      <td>2010</td>\n",
       "      <td>1</td>\n",
       "      <td>1</td>\n",
       "      <td>2</td>\n",
       "      <td>NaN</td>\n",
       "      <td>-21</td>\n",
       "      <td>-11.0</td>\n",
       "      <td>1019.0</td>\n",
       "      <td>NW</td>\n",
       "      <td>6.71</td>\n",
       "      <td>0</td>\n",
       "      <td>0</td>\n",
       "    </tr>\n",
       "    <tr>\n",
       "      <th>3</th>\n",
       "      <td>4</td>\n",
       "      <td>2010</td>\n",
       "      <td>1</td>\n",
       "      <td>1</td>\n",
       "      <td>3</td>\n",
       "      <td>NaN</td>\n",
       "      <td>-21</td>\n",
       "      <td>-14.0</td>\n",
       "      <td>1019.0</td>\n",
       "      <td>NW</td>\n",
       "      <td>9.84</td>\n",
       "      <td>0</td>\n",
       "      <td>0</td>\n",
       "    </tr>\n",
       "    <tr>\n",
       "      <th>4</th>\n",
       "      <td>5</td>\n",
       "      <td>2010</td>\n",
       "      <td>1</td>\n",
       "      <td>1</td>\n",
       "      <td>4</td>\n",
       "      <td>NaN</td>\n",
       "      <td>-20</td>\n",
       "      <td>-12.0</td>\n",
       "      <td>1018.0</td>\n",
       "      <td>NW</td>\n",
       "      <td>12.97</td>\n",
       "      <td>0</td>\n",
       "      <td>0</td>\n",
       "    </tr>\n",
       "    <tr>\n",
       "      <th>...</th>\n",
       "      <td>...</td>\n",
       "      <td>...</td>\n",
       "      <td>...</td>\n",
       "      <td>...</td>\n",
       "      <td>...</td>\n",
       "      <td>...</td>\n",
       "      <td>...</td>\n",
       "      <td>...</td>\n",
       "      <td>...</td>\n",
       "      <td>...</td>\n",
       "      <td>...</td>\n",
       "      <td>...</td>\n",
       "      <td>...</td>\n",
       "    </tr>\n",
       "    <tr>\n",
       "      <th>43819</th>\n",
       "      <td>43820</td>\n",
       "      <td>2014</td>\n",
       "      <td>12</td>\n",
       "      <td>31</td>\n",
       "      <td>19</td>\n",
       "      <td>8.0</td>\n",
       "      <td>-23</td>\n",
       "      <td>-2.0</td>\n",
       "      <td>1034.0</td>\n",
       "      <td>NW</td>\n",
       "      <td>231.97</td>\n",
       "      <td>0</td>\n",
       "      <td>0</td>\n",
       "    </tr>\n",
       "    <tr>\n",
       "      <th>43820</th>\n",
       "      <td>43821</td>\n",
       "      <td>2014</td>\n",
       "      <td>12</td>\n",
       "      <td>31</td>\n",
       "      <td>20</td>\n",
       "      <td>10.0</td>\n",
       "      <td>-22</td>\n",
       "      <td>-3.0</td>\n",
       "      <td>1034.0</td>\n",
       "      <td>NW</td>\n",
       "      <td>237.78</td>\n",
       "      <td>0</td>\n",
       "      <td>0</td>\n",
       "    </tr>\n",
       "    <tr>\n",
       "      <th>43821</th>\n",
       "      <td>43822</td>\n",
       "      <td>2014</td>\n",
       "      <td>12</td>\n",
       "      <td>31</td>\n",
       "      <td>21</td>\n",
       "      <td>10.0</td>\n",
       "      <td>-22</td>\n",
       "      <td>-3.0</td>\n",
       "      <td>1034.0</td>\n",
       "      <td>NW</td>\n",
       "      <td>242.70</td>\n",
       "      <td>0</td>\n",
       "      <td>0</td>\n",
       "    </tr>\n",
       "    <tr>\n",
       "      <th>43822</th>\n",
       "      <td>43823</td>\n",
       "      <td>2014</td>\n",
       "      <td>12</td>\n",
       "      <td>31</td>\n",
       "      <td>22</td>\n",
       "      <td>8.0</td>\n",
       "      <td>-22</td>\n",
       "      <td>-4.0</td>\n",
       "      <td>1034.0</td>\n",
       "      <td>NW</td>\n",
       "      <td>246.72</td>\n",
       "      <td>0</td>\n",
       "      <td>0</td>\n",
       "    </tr>\n",
       "    <tr>\n",
       "      <th>43823</th>\n",
       "      <td>43824</td>\n",
       "      <td>2014</td>\n",
       "      <td>12</td>\n",
       "      <td>31</td>\n",
       "      <td>23</td>\n",
       "      <td>12.0</td>\n",
       "      <td>-21</td>\n",
       "      <td>-3.0</td>\n",
       "      <td>1034.0</td>\n",
       "      <td>NW</td>\n",
       "      <td>249.85</td>\n",
       "      <td>0</td>\n",
       "      <td>0</td>\n",
       "    </tr>\n",
       "  </tbody>\n",
       "</table>\n",
       "<p>43824 rows × 13 columns</p>\n",
       "</div>"
      ],
      "text/plain": [
       "          No  year  month  day  hour  pm2.5  DEWP  TEMP    PRES cbwd     Iws  \\\n",
       "0          1  2010      1    1     0    NaN   -21 -11.0  1021.0   NW    1.79   \n",
       "1          2  2010      1    1     1    NaN   -21 -12.0  1020.0   NW    4.92   \n",
       "2          3  2010      1    1     2    NaN   -21 -11.0  1019.0   NW    6.71   \n",
       "3          4  2010      1    1     3    NaN   -21 -14.0  1019.0   NW    9.84   \n",
       "4          5  2010      1    1     4    NaN   -20 -12.0  1018.0   NW   12.97   \n",
       "...      ...   ...    ...  ...   ...    ...   ...   ...     ...  ...     ...   \n",
       "43819  43820  2014     12   31    19    8.0   -23  -2.0  1034.0   NW  231.97   \n",
       "43820  43821  2014     12   31    20   10.0   -22  -3.0  1034.0   NW  237.78   \n",
       "43821  43822  2014     12   31    21   10.0   -22  -3.0  1034.0   NW  242.70   \n",
       "43822  43823  2014     12   31    22    8.0   -22  -4.0  1034.0   NW  246.72   \n",
       "43823  43824  2014     12   31    23   12.0   -21  -3.0  1034.0   NW  249.85   \n",
       "\n",
       "       Is  Ir  \n",
       "0       0   0  \n",
       "1       0   0  \n",
       "2       0   0  \n",
       "3       0   0  \n",
       "4       0   0  \n",
       "...    ..  ..  \n",
       "43819   0   0  \n",
       "43820   0   0  \n",
       "43821   0   0  \n",
       "43822   0   0  \n",
       "43823   0   0  \n",
       "\n",
       "[43824 rows x 13 columns]"
      ]
     },
     "execution_count": 20,
     "metadata": {},
     "output_type": "execute_result"
    }
   ],
   "source": [
    "import pandas as pd\n",
    "from timeweaver import TimeWeaver\n",
    "\n",
    "dataframe = pd.read_csv(\"../data/PRSA/PRSA_data_2010.1.1-2014.12.31.csv\")\n",
    "dataframe\n",
    "\n",
    "# print(markdown_table=dataframe.head().to_markdown(index=False))"
   ]
  },
  {
   "cell_type": "code",
   "execution_count": 21,
   "metadata": {},
   "outputs": [
    {
     "data": {
      "text/plain": [
       "<Axes: >"
      ]
     },
     "execution_count": 21,
     "metadata": {},
     "output_type": "execute_result"
    },
    {
     "data": {
      "image/png": "[encoded data removed]",
      "text/plain": [
       "<Figure size 640x480 with 1 Axes>"
      ]
     },
     "metadata": {},
     "output_type": "display_data"
    }
   ],
   "source": [
    "dataframe[0:1000].plot()"
   ]
  },
  {
   "cell_type": "code",
   "execution_count": 3,
   "metadata": {},
   "outputs": [],
   "source": [
    "interpolator = TimeWeaver(dataframe[0:1000], tracking_column=\"No\")"
   ]
  },
  {
   "cell_type": "code",
   "execution_count": 19,
   "metadata": {},
   "outputs": [
    {
     "data": {
      "text/html": [
       "<div>\n",
       "<style scoped>\n",
       "    .dataframe tbody tr th:only-of-type {\n",
       "        vertical-align: middle;\n",
       "    }\n",
       "\n",
       "    .dataframe tbody tr th {\n",
       "        vertical-align: top;\n",
       "    }\n",
       "\n",
       "    .dataframe thead th {\n",
       "        text-align: right;\n",
       "    }\n",
       "</style>\n",
       "<table border=\"1\" class=\"dataframe\">\n",
       "  <thead>\n",
       "    <tr style=\"text-align: right;\">\n",
       "      <th></th>\n",
       "      <th>Column</th>\n",
       "      <th>Data Type</th>\n",
       "      <th>Total Numeric Cells</th>\n",
       "      <th>Total Non-Numeric Cells</th>\n",
       "      <th>Total NaNs</th>\n",
       "      <th>Total Zero Values</th>\n",
       "    </tr>\n",
       "  </thead>\n",
       "  <tbody>\n",
       "    <tr>\n",
       "      <th>0</th>\n",
       "      <td>No</td>\n",
       "      <td>int64</td>\n",
       "      <td>1000</td>\n",
       "      <td>0</td>\n",
       "      <td>0</td>\n",
       "      <td>0</td>\n",
       "    </tr>\n",
       "    <tr>\n",
       "      <th>1</th>\n",
       "      <td>year</td>\n",
       "      <td>int64</td>\n",
       "      <td>1000</td>\n",
       "      <td>0</td>\n",
       "      <td>0</td>\n",
       "      <td>0</td>\n",
       "    </tr>\n",
       "    <tr>\n",
       "      <th>2</th>\n",
       "      <td>month</td>\n",
       "      <td>int64</td>\n",
       "      <td>1000</td>\n",
       "      <td>0</td>\n",
       "      <td>0</td>\n",
       "      <td>0</td>\n",
       "    </tr>\n",
       "    <tr>\n",
       "      <th>3</th>\n",
       "      <td>day</td>\n",
       "      <td>int64</td>\n",
       "      <td>1000</td>\n",
       "      <td>0</td>\n",
       "      <td>0</td>\n",
       "      <td>0</td>\n",
       "    </tr>\n",
       "    <tr>\n",
       "      <th>4</th>\n",
       "      <td>hour</td>\n",
       "      <td>int64</td>\n",
       "      <td>1000</td>\n",
       "      <td>0</td>\n",
       "      <td>0</td>\n",
       "      <td>42</td>\n",
       "    </tr>\n",
       "    <tr>\n",
       "      <th>5</th>\n",
       "      <td>pm2.5</td>\n",
       "      <td>float64</td>\n",
       "      <td>909</td>\n",
       "      <td>0</td>\n",
       "      <td>91</td>\n",
       "      <td>0</td>\n",
       "    </tr>\n",
       "    <tr>\n",
       "      <th>6</th>\n",
       "      <td>DEWP</td>\n",
       "      <td>int64</td>\n",
       "      <td>1000</td>\n",
       "      <td>0</td>\n",
       "      <td>0</td>\n",
       "      <td>0</td>\n",
       "    </tr>\n",
       "    <tr>\n",
       "      <th>7</th>\n",
       "      <td>TEMP</td>\n",
       "      <td>float64</td>\n",
       "      <td>1000</td>\n",
       "      <td>0</td>\n",
       "      <td>0</td>\n",
       "      <td>48</td>\n",
       "    </tr>\n",
       "    <tr>\n",
       "      <th>8</th>\n",
       "      <td>PRES</td>\n",
       "      <td>float64</td>\n",
       "      <td>1000</td>\n",
       "      <td>0</td>\n",
       "      <td>0</td>\n",
       "      <td>0</td>\n",
       "    </tr>\n",
       "    <tr>\n",
       "      <th>9</th>\n",
       "      <td>cbwd</td>\n",
       "      <td>object</td>\n",
       "      <td>0</td>\n",
       "      <td>1000</td>\n",
       "      <td>0</td>\n",
       "      <td>0</td>\n",
       "    </tr>\n",
       "    <tr>\n",
       "      <th>10</th>\n",
       "      <td>Iws</td>\n",
       "      <td>float64</td>\n",
       "      <td>1000</td>\n",
       "      <td>0</td>\n",
       "      <td>0</td>\n",
       "      <td>0</td>\n",
       "    </tr>\n",
       "    <tr>\n",
       "      <th>11</th>\n",
       "      <td>Is</td>\n",
       "      <td>int64</td>\n",
       "      <td>1000</td>\n",
       "      <td>0</td>\n",
       "      <td>0</td>\n",
       "      <td>958</td>\n",
       "    </tr>\n",
       "    <tr>\n",
       "      <th>12</th>\n",
       "      <td>Ir</td>\n",
       "      <td>int64</td>\n",
       "      <td>1000</td>\n",
       "      <td>0</td>\n",
       "      <td>0</td>\n",
       "      <td>1000</td>\n",
       "    </tr>\n",
       "  </tbody>\n",
       "</table>\n",
       "</div>"
      ],
      "text/plain": [
       "   Column Data Type  Total Numeric Cells  Total Non-Numeric Cells  Total NaNs  \\\n",
       "0      No     int64                 1000                        0           0   \n",
       "1    year     int64                 1000                        0           0   \n",
       "2   month     int64                 1000                        0           0   \n",
       "3     day     int64                 1000                        0           0   \n",
       "4    hour     int64                 1000                        0           0   \n",
       "5   pm2.5   float64                  909                        0          91   \n",
       "6    DEWP     int64                 1000                        0           0   \n",
       "7    TEMP   float64                 1000                        0           0   \n",
       "8    PRES   float64                 1000                        0           0   \n",
       "9    cbwd    object                    0                     1000           0   \n",
       "10    Iws   float64                 1000                        0           0   \n",
       "11     Is     int64                 1000                        0           0   \n",
       "12     Ir     int64                 1000                        0           0   \n",
       "\n",
       "    Total Zero Values  \n",
       "0                   0  \n",
       "1                   0  \n",
       "2                   0  \n",
       "3                   0  \n",
       "4                  42  \n",
       "5                   0  \n",
       "6                   0  \n",
       "7                  48  \n",
       "8                   0  \n",
       "9                   0  \n",
       "10                  0  \n",
       "11                958  \n",
       "12               1000  "
      ]
     },
     "execution_count": 19,
     "metadata": {},
     "output_type": "execute_result"
    }
   ],
   "source": [
    "interpolator.get_summary()\n",
    "# print(interpolator.get_summary().to_markdown(index=False))"
   ]
  },
  {
   "cell_type": "code",
   "execution_count": 22,
   "metadata": {},
   "outputs": [
    {
     "name": "stdout",
     "output_type": "stream",
     "text": [
      "| Column   | Data Type   |   Total Numeric Cells |   Total Non-Numeric Cells |   Total NaNs |   Total Zero Values |   Unique Values Count | Most Frequent Value   |   Minimum Value |   Maximum Value |      Mean |   Median |\n",
      "|:---------|:------------|----------------------:|--------------------------:|-------------:|--------------------:|----------------------:|:----------------------|----------------:|----------------:|----------:|---------:|\n",
      "| No       | int64       |                  1000 |                         0 |            0 |                   0 |                  1000 | 1                     |            1    |         1000    |  500.5    |   500.5  |\n",
      "| year     | int64       |                  1000 |                         0 |            0 |                   0 |                     1 | 2010                  |         2010    |         2010    | 2010      |  2010    |\n",
      "| month    | int64       |                  1000 |                         0 |            0 |                   0 |                     2 | 1                     |            1    |            2    |    1.256  |     1    |\n",
      "| day      | int64       |                  1000 |                         0 |            0 |                   0 |                    31 | 1                     |            1    |           31    |   13.4    |    11    |\n",
      "| hour     | int64       |                  1000 |                         0 |            0 |                  42 |                    24 | 0                     |            0    |           23    |   11.436  |    11    |\n",
      "| pm2.5    | float64     |                   909 |                         0 |           91 |                   0 |                   257 | 27.0                  |            6    |          485    |   88.363  |    61    |\n",
      "| DEWP     | int64       |                  1000 |                         0 |            0 |                   0 |                    26 | -19                   |          -27    |           -2    |  -16.269  |   -17    |\n",
      "| TEMP     | float64     |                  1000 |                         0 |            0 |                  48 |                    28 | -5.0                  |          -19    |            8    |   -5.483  |    -5    |\n",
      "| PRES     | float64     |                  1000 |                         0 |            0 |                   0 |                    28 | 1027.0                |         1012    |         1039    | 1027.82   |  1028    |\n",
      "| cbwd     | object      |                     0 |                      1000 |            0 |                   0 |                     4 | NW                    |          nan    |          nan    |  nan      |   nan    |\n",
      "| Iws      | float64     |                  1000 |                         0 |            0 |                   0 |                   398 | 0.89                  |            0.45 |          299.06 |   34.1421 |     9.84 |\n",
      "| Is       | int64       |                  1000 |                         0 |            0 |                 958 |                    26 | 0                     |            0    |           27    |    0.414  |     0    |\n",
      "| Ir       | int64       |                  1000 |                         0 |            0 |                1000 |                     1 | 0                     |            0    |            0    |    0      |     0    |\n"
     ]
    }
   ],
   "source": [
    "interpolator.get_summary(full_summary=True)\n",
    "# print(interpolator.get_summary(full_summary=True).to_markdown(index=False))"
   ]
  },
  {
   "cell_type": "code",
   "execution_count": 23,
   "metadata": {},
   "outputs": [
    {
     "name": "stdout",
     "output_type": "stream",
     "text": [
      "   Column Data Type  Total Non-Numeric  Total Numeric      n     a       .  \\\n",
      "0      No     int64                  0           2893    0.0   0.0     0.0   \n",
      "1    year     int64                  0           4000    0.0   0.0     0.0   \n",
      "2   month     int64                  0           1000    0.0   0.0     0.0   \n",
      "3     day     int64                  0           1568    0.0   0.0     0.0   \n",
      "4    hour     int64                  0           1580    0.0   0.0     0.0   \n",
      "5   pm2.5   float64               1182           2982  182.0  91.0   909.0   \n",
      "6    DEWP     int64               1000           1845    0.0   0.0     0.0   \n",
      "7    TEMP   float64               1821           2246    0.0   0.0  1000.0   \n",
      "8    PRES   float64               1000           5000    0.0   0.0  1000.0   \n",
      "9    cbwd    object               2000              0    0.0   0.0     0.0   \n",
      "10    Iws   float64               1000           3532    0.0   0.0  1000.0   \n",
      "11     Is     int64                  0           1017    0.0   0.0     0.0   \n",
      "12     Ir     int64                  0           1000    0.0   0.0     0.0   \n",
      "\n",
      "         -      N      W      c      v      E      S  \n",
      "0      0.0    0.0    0.0    0.0    0.0    0.0    0.0  \n",
      "1      0.0    0.0    0.0    0.0    0.0    0.0    0.0  \n",
      "2      0.0    0.0    0.0    0.0    0.0    0.0    0.0  \n",
      "3      0.0    0.0    0.0    0.0    0.0    0.0    0.0  \n",
      "4      0.0    0.0    0.0    0.0    0.0    0.0    0.0  \n",
      "5      0.0    0.0    0.0    0.0    0.0    0.0    0.0  \n",
      "6   1000.0    0.0    0.0    0.0    0.0    0.0    0.0  \n",
      "7    821.0    0.0    0.0    0.0    0.0    0.0    0.0  \n",
      "8      0.0    0.0    0.0    0.0    0.0    0.0    0.0  \n",
      "9      0.0  690.0  528.0  155.0  155.0  317.0  155.0  \n",
      "10     0.0    0.0    0.0    0.0    0.0    0.0    0.0  \n",
      "11     0.0    0.0    0.0    0.0    0.0    0.0    0.0  \n",
      "12     0.0    0.0    0.0    0.0    0.0    0.0    0.0  \n"
     ]
    },
    {
     "ename": "AttributeError",
     "evalue": "'NoneType' object has no attribute 'to_markdown'",
     "output_type": "error",
     "traceback": [
      "\u001b[1;31m---------------------------------------------------------------------------\u001b[0m",
      "\u001b[1;31mAttributeError\u001b[0m                            Traceback (most recent call last)",
      "Cell \u001b[1;32mIn[23], line 2\u001b[0m\n\u001b[0;32m      1\u001b[0m \u001b[38;5;66;03m# interpolator.get_summary_characters()\u001b[39;00m\n\u001b[1;32m----> 2\u001b[0m \u001b[38;5;28;43mprint\u001b[39;49m\u001b[43m(\u001b[49m\u001b[43minterpolator\u001b[49m\u001b[38;5;241;43m.\u001b[39;49m\u001b[43mget_summary_characters\u001b[49m\u001b[43m(\u001b[49m\u001b[43m)\u001b[49m\u001b[43m)\u001b[49m\u001b[38;5;241;43m.\u001b[39;49m\u001b[43mto_markdown\u001b[49m(index\u001b[38;5;241m=\u001b[39m\u001b[38;5;28;01mFalse\u001b[39;00m)\n",
      "\u001b[1;31mAttributeError\u001b[0m: 'NoneType' object has no attribute 'to_markdown'"
     ]
    }
   ],
   "source": [
    "# interpolator.get_summary_characters()\n",
    "print(interpolator.get_summary_characters().to_markdown(index=False))"
   ]
  },
  {
   "cell_type": "code",
   "execution_count": 7,
   "metadata": {},
   "outputs": [
    {
     "name": "stdout",
     "output_type": "stream",
     "text": [
      "➤ Evaluating method: spline ✔                                                   "
     ]
    },
    {
     "name": "stderr",
     "output_type": "stream",
     "text": [
      "c:\\Users\\richa\\Desktop\\TimeWeaver\\.venv\\Lib\\site-packages\\pandas\\core\\missing.py:604: UserWarning: \n",
      "The maximal number of iterations maxit (set to 20 by the program)\n",
      "allowed for finding a smoothing spline with fp=s has been reached: s\n",
      "too small.\n",
      "There is an approximation returned but the corresponding weighted sum\n",
      "of squared residuals does not satisfy the condition abs(fp-s)/s < tol.\n",
      "  terp = interpolate.UnivariateSpline(x, y, k=order, **kwargs)\n"
     ]
    },
    {
     "name": "stdout",
     "output_type": "stream",
     "text": [
      "➤ Evaluation complete. ✔                                                        \n",
      "➤ Evaluated number of methods: 21 ✔\n"
     ]
    }
   ],
   "source": [
    "interpolator.evaluate()"
   ]
  },
  {
   "cell_type": "code",
   "execution_count": 8,
   "metadata": {},
   "outputs": [
    {
     "data": {
      "text/html": [
       "<style type=\"text/css\">\n",
       "#T_5d7cd_row0_col0, #T_5d7cd_row0_col1, #T_5d7cd_row0_col2, #T_5d7cd_row0_col3, #T_5d7cd_row0_col4, #T_5d7cd_row0_col5, #T_5d7cd_row0_col6, #T_5d7cd_row0_col7, #T_5d7cd_row0_col8, #T_5d7cd_row0_col9, #T_5d7cd_row0_col10, #T_5d7cd_row0_col11, #T_5d7cd_row0_col12, #T_5d7cd_row0_col13, #T_5d7cd_row0_col14, #T_5d7cd_row0_col15, #T_5d7cd_row0_col16, #T_5d7cd_row0_col17, #T_5d7cd_row0_col18, #T_5d7cd_row0_col19, #T_5d7cd_row0_col20, #T_5d7cd_row1_col0, #T_5d7cd_row1_col1, #T_5d7cd_row1_col2, #T_5d7cd_row1_col3, #T_5d7cd_row1_col6, #T_5d7cd_row1_col12, #T_5d7cd_row1_col18, #T_5d7cd_row1_col20, #T_5d7cd_row2_col0, #T_5d7cd_row2_col3, #T_5d7cd_row2_col6, #T_5d7cd_row2_col12, #T_5d7cd_row2_col18, #T_5d7cd_row2_col20, #T_5d7cd_row3_col0, #T_5d7cd_row3_col3, #T_5d7cd_row3_col6, #T_5d7cd_row3_col12, #T_5d7cd_row3_col18, #T_5d7cd_row3_col20, #T_5d7cd_row4_col18, #T_5d7cd_row5_col0, #T_5d7cd_row5_col3, #T_5d7cd_row5_col6, #T_5d7cd_row5_col12, #T_5d7cd_row5_col20, #T_5d7cd_row6_col18, #T_5d7cd_row7_col18, #T_5d7cd_row9_col18, #T_5d7cd_row10_col0, #T_5d7cd_row10_col3, #T_5d7cd_row10_col6, #T_5d7cd_row10_col12, #T_5d7cd_row10_col20, #T_5d7cd_row11_col0, #T_5d7cd_row11_col1, #T_5d7cd_row11_col2, #T_5d7cd_row11_col3, #T_5d7cd_row11_col4, #T_5d7cd_row11_col5, #T_5d7cd_row11_col6, #T_5d7cd_row11_col7, #T_5d7cd_row11_col8, #T_5d7cd_row11_col9, #T_5d7cd_row11_col10, #T_5d7cd_row11_col11, #T_5d7cd_row11_col12, #T_5d7cd_row11_col13, #T_5d7cd_row11_col14, #T_5d7cd_row11_col15, #T_5d7cd_row11_col16, #T_5d7cd_row11_col17, #T_5d7cd_row11_col18, #T_5d7cd_row11_col19, #T_5d7cd_row11_col20 {\n",
       "  background-color: green;\n",
       "}\n",
       "</style>\n",
       "<table id=\"T_5d7cd\">\n",
       "  <thead>\n",
       "    <tr>\n",
       "      <th class=\"blank level0\" >&nbsp;</th>\n",
       "      <th id=\"T_5d7cd_level0_col0\" class=\"col_heading level0 col0\" >linear</th>\n",
       "      <th id=\"T_5d7cd_level0_col1\" class=\"col_heading level0 col1\" >nearest</th>\n",
       "      <th id=\"T_5d7cd_level0_col2\" class=\"col_heading level0 col2\" >zero</th>\n",
       "      <th id=\"T_5d7cd_level0_col3\" class=\"col_heading level0 col3\" >slinear</th>\n",
       "      <th id=\"T_5d7cd_level0_col4\" class=\"col_heading level0 col4\" >quadratic</th>\n",
       "      <th id=\"T_5d7cd_level0_col5\" class=\"col_heading level0 col5\" >cubic</th>\n",
       "      <th id=\"T_5d7cd_level0_col6\" class=\"col_heading level0 col6\" >polynomial_order_1</th>\n",
       "      <th id=\"T_5d7cd_level0_col7\" class=\"col_heading level0 col7\" >polynomial_order_2</th>\n",
       "      <th id=\"T_5d7cd_level0_col8\" class=\"col_heading level0 col8\" >polynomial_order_3</th>\n",
       "      <th id=\"T_5d7cd_level0_col9\" class=\"col_heading level0 col9\" >polynomial_order_5</th>\n",
       "      <th id=\"T_5d7cd_level0_col10\" class=\"col_heading level0 col10\" >polynomial_order_7</th>\n",
       "      <th id=\"T_5d7cd_level0_col11\" class=\"col_heading level0 col11\" >polynomial_order_9</th>\n",
       "      <th id=\"T_5d7cd_level0_col12\" class=\"col_heading level0 col12\" >piecewise_polynomial</th>\n",
       "      <th id=\"T_5d7cd_level0_col13\" class=\"col_heading level0 col13\" >spline_order_1</th>\n",
       "      <th id=\"T_5d7cd_level0_col14\" class=\"col_heading level0 col14\" >spline_order_2</th>\n",
       "      <th id=\"T_5d7cd_level0_col15\" class=\"col_heading level0 col15\" >spline_order_3</th>\n",
       "      <th id=\"T_5d7cd_level0_col16\" class=\"col_heading level0 col16\" >spline_order_4</th>\n",
       "      <th id=\"T_5d7cd_level0_col17\" class=\"col_heading level0 col17\" >spline_order_5</th>\n",
       "      <th id=\"T_5d7cd_level0_col18\" class=\"col_heading level0 col18\" >akima</th>\n",
       "      <th id=\"T_5d7cd_level0_col19\" class=\"col_heading level0 col19\" >cubicspline</th>\n",
       "      <th id=\"T_5d7cd_level0_col20\" class=\"col_heading level0 col20\" >from_derivatives</th>\n",
       "    </tr>\n",
       "  </thead>\n",
       "  <tbody>\n",
       "    <tr>\n",
       "      <th id=\"T_5d7cd_level0_row0\" class=\"row_heading level0 row0\" >year</th>\n",
       "      <td id=\"T_5d7cd_row0_col0\" class=\"data row0 col0\" >0.000000</td>\n",
       "      <td id=\"T_5d7cd_row0_col1\" class=\"data row0 col1\" >0.000000</td>\n",
       "      <td id=\"T_5d7cd_row0_col2\" class=\"data row0 col2\" >0.000000</td>\n",
       "      <td id=\"T_5d7cd_row0_col3\" class=\"data row0 col3\" >0.000000</td>\n",
       "      <td id=\"T_5d7cd_row0_col4\" class=\"data row0 col4\" >0.000000</td>\n",
       "      <td id=\"T_5d7cd_row0_col5\" class=\"data row0 col5\" >0.000000</td>\n",
       "      <td id=\"T_5d7cd_row0_col6\" class=\"data row0 col6\" >0.000000</td>\n",
       "      <td id=\"T_5d7cd_row0_col7\" class=\"data row0 col7\" >0.000000</td>\n",
       "      <td id=\"T_5d7cd_row0_col8\" class=\"data row0 col8\" >0.000000</td>\n",
       "      <td id=\"T_5d7cd_row0_col9\" class=\"data row0 col9\" >0.000000</td>\n",
       "      <td id=\"T_5d7cd_row0_col10\" class=\"data row0 col10\" >0.000000</td>\n",
       "      <td id=\"T_5d7cd_row0_col11\" class=\"data row0 col11\" >0.000000</td>\n",
       "      <td id=\"T_5d7cd_row0_col12\" class=\"data row0 col12\" >0.000000</td>\n",
       "      <td id=\"T_5d7cd_row0_col13\" class=\"data row0 col13\" >0.000000</td>\n",
       "      <td id=\"T_5d7cd_row0_col14\" class=\"data row0 col14\" >0.000000</td>\n",
       "      <td id=\"T_5d7cd_row0_col15\" class=\"data row0 col15\" >0.000000</td>\n",
       "      <td id=\"T_5d7cd_row0_col16\" class=\"data row0 col16\" >0.000000</td>\n",
       "      <td id=\"T_5d7cd_row0_col17\" class=\"data row0 col17\" >0.000000</td>\n",
       "      <td id=\"T_5d7cd_row0_col18\" class=\"data row0 col18\" >0.000000</td>\n",
       "      <td id=\"T_5d7cd_row0_col19\" class=\"data row0 col19\" >0.000000</td>\n",
       "      <td id=\"T_5d7cd_row0_col20\" class=\"data row0 col20\" >0.000000</td>\n",
       "    </tr>\n",
       "    <tr>\n",
       "      <th id=\"T_5d7cd_level0_row1\" class=\"row_heading level0 row1\" >month</th>\n",
       "      <td id=\"T_5d7cd_row1_col0\" class=\"data row1 col0\" >0.000000</td>\n",
       "      <td id=\"T_5d7cd_row1_col1\" class=\"data row1 col1\" >0.000000</td>\n",
       "      <td id=\"T_5d7cd_row1_col2\" class=\"data row1 col2\" >0.000000</td>\n",
       "      <td id=\"T_5d7cd_row1_col3\" class=\"data row1 col3\" >0.000000</td>\n",
       "      <td id=\"T_5d7cd_row1_col4\" class=\"data row1 col4\" >0.000100</td>\n",
       "      <td id=\"T_5d7cd_row1_col5\" class=\"data row1 col5\" >0.000300</td>\n",
       "      <td id=\"T_5d7cd_row1_col6\" class=\"data row1 col6\" >0.000000</td>\n",
       "      <td id=\"T_5d7cd_row1_col7\" class=\"data row1 col7\" >0.000100</td>\n",
       "      <td id=\"T_5d7cd_row1_col8\" class=\"data row1 col8\" >0.000300</td>\n",
       "      <td id=\"T_5d7cd_row1_col9\" class=\"data row1 col9\" >0.001600</td>\n",
       "      <td id=\"T_5d7cd_row1_col10\" class=\"data row1 col10\" >0.004100</td>\n",
       "      <td id=\"T_5d7cd_row1_col11\" class=\"data row1 col11\" >0.007600</td>\n",
       "      <td id=\"T_5d7cd_row1_col12\" class=\"data row1 col12\" >0.000000</td>\n",
       "      <td id=\"T_5d7cd_row1_col13\" class=\"data row1 col13\" >0.235000</td>\n",
       "      <td id=\"T_5d7cd_row1_col14\" class=\"data row1 col14\" >0.147800</td>\n",
       "      <td id=\"T_5d7cd_row1_col15\" class=\"data row1 col15\" >0.137200</td>\n",
       "      <td id=\"T_5d7cd_row1_col16\" class=\"data row1 col16\" >0.115200</td>\n",
       "      <td id=\"T_5d7cd_row1_col17\" class=\"data row1 col17\" >0.097100</td>\n",
       "      <td id=\"T_5d7cd_row1_col18\" class=\"data row1 col18\" >0.000000</td>\n",
       "      <td id=\"T_5d7cd_row1_col19\" class=\"data row1 col19\" >0.000300</td>\n",
       "      <td id=\"T_5d7cd_row1_col20\" class=\"data row1 col20\" >0.000000</td>\n",
       "    </tr>\n",
       "    <tr>\n",
       "      <th id=\"T_5d7cd_level0_row2\" class=\"row_heading level0 row2\" >day</th>\n",
       "      <td id=\"T_5d7cd_row2_col0\" class=\"data row2 col0\" >0.045000</td>\n",
       "      <td id=\"T_5d7cd_row2_col1\" class=\"data row2 col1\" >0.070000</td>\n",
       "      <td id=\"T_5d7cd_row2_col2\" class=\"data row2 col2\" >0.060000</td>\n",
       "      <td id=\"T_5d7cd_row2_col3\" class=\"data row2 col3\" >0.045000</td>\n",
       "      <td id=\"T_5d7cd_row2_col4\" class=\"data row2 col4\" >0.074100</td>\n",
       "      <td id=\"T_5d7cd_row2_col5\" class=\"data row2 col5\" >0.086500</td>\n",
       "      <td id=\"T_5d7cd_row2_col6\" class=\"data row2 col6\" >0.045000</td>\n",
       "      <td id=\"T_5d7cd_row2_col7\" class=\"data row2 col7\" >0.074100</td>\n",
       "      <td id=\"T_5d7cd_row2_col8\" class=\"data row2 col8\" >0.086500</td>\n",
       "      <td id=\"T_5d7cd_row2_col9\" class=\"data row2 col9\" >0.156500</td>\n",
       "      <td id=\"T_5d7cd_row2_col10\" class=\"data row2 col10\" >0.262900</td>\n",
       "      <td id=\"T_5d7cd_row2_col11\" class=\"data row2 col11\" >0.396400</td>\n",
       "      <td id=\"T_5d7cd_row2_col12\" class=\"data row2 col12\" >0.045000</td>\n",
       "      <td id=\"T_5d7cd_row2_col13\" class=\"data row2 col13\" >0.382600</td>\n",
       "      <td id=\"T_5d7cd_row2_col14\" class=\"data row2 col14\" >0.377700</td>\n",
       "      <td id=\"T_5d7cd_row2_col15\" class=\"data row2 col15\" >0.421800</td>\n",
       "      <td id=\"T_5d7cd_row2_col16\" class=\"data row2 col16\" >0.351500</td>\n",
       "      <td id=\"T_5d7cd_row2_col17\" class=\"data row2 col17\" >0.355300</td>\n",
       "      <td id=\"T_5d7cd_row2_col18\" class=\"data row2 col18\" >0.045000</td>\n",
       "      <td id=\"T_5d7cd_row2_col19\" class=\"data row2 col19\" >0.086500</td>\n",
       "      <td id=\"T_5d7cd_row2_col20\" class=\"data row2 col20\" >0.045000</td>\n",
       "    </tr>\n",
       "    <tr>\n",
       "      <th id=\"T_5d7cd_level0_row3\" class=\"row_heading level0 row3\" >hour</th>\n",
       "      <td id=\"T_5d7cd_row3_col0\" class=\"data row3 col0\" >1.080000</td>\n",
       "      <td id=\"T_5d7cd_row3_col1\" class=\"data row3 col1\" >2.540000</td>\n",
       "      <td id=\"T_5d7cd_row3_col2\" class=\"data row3 col2\" >2.440000</td>\n",
       "      <td id=\"T_5d7cd_row3_col3\" class=\"data row3 col3\" >1.080000</td>\n",
       "      <td id=\"T_5d7cd_row3_col4\" class=\"data row3 col4\" >1.722700</td>\n",
       "      <td id=\"T_5d7cd_row3_col5\" class=\"data row3 col5\" >1.897400</td>\n",
       "      <td id=\"T_5d7cd_row3_col6\" class=\"data row3 col6\" >1.080000</td>\n",
       "      <td id=\"T_5d7cd_row3_col7\" class=\"data row3 col7\" >1.722700</td>\n",
       "      <td id=\"T_5d7cd_row3_col8\" class=\"data row3 col8\" >1.897400</td>\n",
       "      <td id=\"T_5d7cd_row3_col9\" class=\"data row3 col9\" >2.653200</td>\n",
       "      <td id=\"T_5d7cd_row3_col10\" class=\"data row3 col10\" >3.430900</td>\n",
       "      <td id=\"T_5d7cd_row3_col11\" class=\"data row3 col11\" >4.244400</td>\n",
       "      <td id=\"T_5d7cd_row3_col12\" class=\"data row3 col12\" >1.080000</td>\n",
       "      <td id=\"T_5d7cd_row3_col13\" class=\"data row3 col13\" >1.407900</td>\n",
       "      <td id=\"T_5d7cd_row3_col14\" class=\"data row3 col14\" >1.978000</td>\n",
       "      <td id=\"T_5d7cd_row3_col15\" class=\"data row3 col15\" >1.751600</td>\n",
       "      <td id=\"T_5d7cd_row3_col16\" class=\"data row3 col16\" >1.960000</td>\n",
       "      <td id=\"T_5d7cd_row3_col17\" class=\"data row3 col17\" >2.524500</td>\n",
       "      <td id=\"T_5d7cd_row3_col18\" class=\"data row3 col18\" >1.080000</td>\n",
       "      <td id=\"T_5d7cd_row3_col19\" class=\"data row3 col19\" >1.897400</td>\n",
       "      <td id=\"T_5d7cd_row3_col20\" class=\"data row3 col20\" >1.080000</td>\n",
       "    </tr>\n",
       "    <tr>\n",
       "      <th id=\"T_5d7cd_level0_row4\" class=\"row_heading level0 row4\" >pm2.5</th>\n",
       "      <td id=\"T_5d7cd_row4_col0\" class=\"data row4 col0\" >10.412000</td>\n",
       "      <td id=\"T_5d7cd_row4_col1\" class=\"data row4 col1\" >13.101100</td>\n",
       "      <td id=\"T_5d7cd_row4_col2\" class=\"data row4 col2\" >12.348300</td>\n",
       "      <td id=\"T_5d7cd_row4_col3\" class=\"data row4 col3\" >10.412000</td>\n",
       "      <td id=\"T_5d7cd_row4_col4\" class=\"data row4 col4\" >10.671400</td>\n",
       "      <td id=\"T_5d7cd_row4_col5\" class=\"data row4 col5\" >11.196400</td>\n",
       "      <td id=\"T_5d7cd_row4_col6\" class=\"data row4 col6\" >10.412000</td>\n",
       "      <td id=\"T_5d7cd_row4_col7\" class=\"data row4 col7\" >10.671400</td>\n",
       "      <td id=\"T_5d7cd_row4_col8\" class=\"data row4 col8\" >11.196400</td>\n",
       "      <td id=\"T_5d7cd_row4_col9\" class=\"data row4 col9\" >14.406100</td>\n",
       "      <td id=\"T_5d7cd_row4_col10\" class=\"data row4 col10\" >17.812500</td>\n",
       "      <td id=\"T_5d7cd_row4_col11\" class=\"data row4 col11\" >21.073700</td>\n",
       "      <td id=\"T_5d7cd_row4_col12\" class=\"data row4 col12\" >10.412000</td>\n",
       "      <td id=\"T_5d7cd_row4_col13\" class=\"data row4 col13\" >10.523300</td>\n",
       "      <td id=\"T_5d7cd_row4_col14\" class=\"data row4 col14\" >51.163300</td>\n",
       "      <td id=\"T_5d7cd_row4_col15\" class=\"data row4 col15\" >10.968100</td>\n",
       "      <td id=\"T_5d7cd_row4_col16\" class=\"data row4 col16\" >nan</td>\n",
       "      <td id=\"T_5d7cd_row4_col17\" class=\"data row4 col17\" >14.262400</td>\n",
       "      <td id=\"T_5d7cd_row4_col18\" class=\"data row4 col18\" >9.627300</td>\n",
       "      <td id=\"T_5d7cd_row4_col19\" class=\"data row4 col19\" >11.196400</td>\n",
       "      <td id=\"T_5d7cd_row4_col20\" class=\"data row4 col20\" >10.412000</td>\n",
       "    </tr>\n",
       "    <tr>\n",
       "      <th id=\"T_5d7cd_level0_row5\" class=\"row_heading level0 row5\" >DEWP</th>\n",
       "      <td id=\"T_5d7cd_row5_col0\" class=\"data row5 col0\" >0.678300</td>\n",
       "      <td id=\"T_5d7cd_row5_col1\" class=\"data row5 col1\" >0.880000</td>\n",
       "      <td id=\"T_5d7cd_row5_col2\" class=\"data row5 col2\" >0.860000</td>\n",
       "      <td id=\"T_5d7cd_row5_col3\" class=\"data row5 col3\" >0.678300</td>\n",
       "      <td id=\"T_5d7cd_row5_col4\" class=\"data row5 col4\" >0.784300</td>\n",
       "      <td id=\"T_5d7cd_row5_col5\" class=\"data row5 col5\" >0.808100</td>\n",
       "      <td id=\"T_5d7cd_row5_col6\" class=\"data row5 col6\" >0.678300</td>\n",
       "      <td id=\"T_5d7cd_row5_col7\" class=\"data row5 col7\" >0.784300</td>\n",
       "      <td id=\"T_5d7cd_row5_col8\" class=\"data row5 col8\" >0.808100</td>\n",
       "      <td id=\"T_5d7cd_row5_col9\" class=\"data row5 col9\" >0.957400</td>\n",
       "      <td id=\"T_5d7cd_row5_col10\" class=\"data row5 col10\" >1.101300</td>\n",
       "      <td id=\"T_5d7cd_row5_col11\" class=\"data row5 col11\" >1.343300</td>\n",
       "      <td id=\"T_5d7cd_row5_col12\" class=\"data row5 col12\" >0.678300</td>\n",
       "      <td id=\"T_5d7cd_row5_col13\" class=\"data row5 col13\" >0.974600</td>\n",
       "      <td id=\"T_5d7cd_row5_col14\" class=\"data row5 col14\" >0.907900</td>\n",
       "      <td id=\"T_5d7cd_row5_col15\" class=\"data row5 col15\" >0.928100</td>\n",
       "      <td id=\"T_5d7cd_row5_col16\" class=\"data row5 col16\" >0.851800</td>\n",
       "      <td id=\"T_5d7cd_row5_col17\" class=\"data row5 col17\" >0.943200</td>\n",
       "      <td id=\"T_5d7cd_row5_col18\" class=\"data row5 col18\" >0.713100</td>\n",
       "      <td id=\"T_5d7cd_row5_col19\" class=\"data row5 col19\" >0.808100</td>\n",
       "      <td id=\"T_5d7cd_row5_col20\" class=\"data row5 col20\" >0.678300</td>\n",
       "    </tr>\n",
       "    <tr>\n",
       "      <th id=\"T_5d7cd_level0_row6\" class=\"row_heading level0 row6\" >TEMP</th>\n",
       "      <td id=\"T_5d7cd_row6_col0\" class=\"data row6 col0\" >0.720000</td>\n",
       "      <td id=\"T_5d7cd_row6_col1\" class=\"data row6 col1\" >1.030000</td>\n",
       "      <td id=\"T_5d7cd_row6_col2\" class=\"data row6 col2\" >1.170000</td>\n",
       "      <td id=\"T_5d7cd_row6_col3\" class=\"data row6 col3\" >0.720000</td>\n",
       "      <td id=\"T_5d7cd_row6_col4\" class=\"data row6 col4\" >0.851300</td>\n",
       "      <td id=\"T_5d7cd_row6_col5\" class=\"data row6 col5\" >0.915100</td>\n",
       "      <td id=\"T_5d7cd_row6_col6\" class=\"data row6 col6\" >0.720000</td>\n",
       "      <td id=\"T_5d7cd_row6_col7\" class=\"data row6 col7\" >0.851300</td>\n",
       "      <td id=\"T_5d7cd_row6_col8\" class=\"data row6 col8\" >0.915100</td>\n",
       "      <td id=\"T_5d7cd_row6_col9\" class=\"data row6 col9\" >1.175200</td>\n",
       "      <td id=\"T_5d7cd_row6_col10\" class=\"data row6 col10\" >1.416400</td>\n",
       "      <td id=\"T_5d7cd_row6_col11\" class=\"data row6 col11\" >1.571000</td>\n",
       "      <td id=\"T_5d7cd_row6_col12\" class=\"data row6 col12\" >0.720000</td>\n",
       "      <td id=\"T_5d7cd_row6_col13\" class=\"data row6 col13\" >1.012600</td>\n",
       "      <td id=\"T_5d7cd_row6_col14\" class=\"data row6 col14\" >1.036900</td>\n",
       "      <td id=\"T_5d7cd_row6_col15\" class=\"data row6 col15\" >1.019800</td>\n",
       "      <td id=\"T_5d7cd_row6_col16\" class=\"data row6 col16\" >1.129300</td>\n",
       "      <td id=\"T_5d7cd_row6_col17\" class=\"data row6 col17\" >1.022000</td>\n",
       "      <td id=\"T_5d7cd_row6_col18\" class=\"data row6 col18\" >0.709500</td>\n",
       "      <td id=\"T_5d7cd_row6_col19\" class=\"data row6 col19\" >0.915100</td>\n",
       "      <td id=\"T_5d7cd_row6_col20\" class=\"data row6 col20\" >0.720000</td>\n",
       "    </tr>\n",
       "    <tr>\n",
       "      <th id=\"T_5d7cd_level0_row7\" class=\"row_heading level0 row7\" >PRES</th>\n",
       "      <td id=\"T_5d7cd_row7_col0\" class=\"data row7 col0\" >0.395000</td>\n",
       "      <td id=\"T_5d7cd_row7_col1\" class=\"data row7 col1\" >0.550000</td>\n",
       "      <td id=\"T_5d7cd_row7_col2\" class=\"data row7 col2\" >0.530000</td>\n",
       "      <td id=\"T_5d7cd_row7_col3\" class=\"data row7 col3\" >0.395000</td>\n",
       "      <td id=\"T_5d7cd_row7_col4\" class=\"data row7 col4\" >0.422700</td>\n",
       "      <td id=\"T_5d7cd_row7_col5\" class=\"data row7 col5\" >0.441800</td>\n",
       "      <td id=\"T_5d7cd_row7_col6\" class=\"data row7 col6\" >0.395000</td>\n",
       "      <td id=\"T_5d7cd_row7_col7\" class=\"data row7 col7\" >0.422700</td>\n",
       "      <td id=\"T_5d7cd_row7_col8\" class=\"data row7 col8\" >0.441800</td>\n",
       "      <td id=\"T_5d7cd_row7_col9\" class=\"data row7 col9\" >0.534500</td>\n",
       "      <td id=\"T_5d7cd_row7_col10\" class=\"data row7 col10\" >0.626500</td>\n",
       "      <td id=\"T_5d7cd_row7_col11\" class=\"data row7 col11\" >0.734800</td>\n",
       "      <td id=\"T_5d7cd_row7_col12\" class=\"data row7 col12\" >0.395000</td>\n",
       "      <td id=\"T_5d7cd_row7_col13\" class=\"data row7 col13\" >0.933700</td>\n",
       "      <td id=\"T_5d7cd_row7_col14\" class=\"data row7 col14\" >0.945600</td>\n",
       "      <td id=\"T_5d7cd_row7_col15\" class=\"data row7 col15\" >0.837300</td>\n",
       "      <td id=\"T_5d7cd_row7_col16\" class=\"data row7 col16\" >0.888200</td>\n",
       "      <td id=\"T_5d7cd_row7_col17\" class=\"data row7 col17\" >0.882000</td>\n",
       "      <td id=\"T_5d7cd_row7_col18\" class=\"data row7 col18\" >0.386500</td>\n",
       "      <td id=\"T_5d7cd_row7_col19\" class=\"data row7 col19\" >0.441800</td>\n",
       "      <td id=\"T_5d7cd_row7_col20\" class=\"data row7 col20\" >0.395000</td>\n",
       "    </tr>\n",
       "    <tr>\n",
       "      <th id=\"T_5d7cd_level0_row8\" class=\"row_heading level0 row8\" >cbwd</th>\n",
       "      <td id=\"T_5d7cd_row8_col0\" class=\"data row8 col0\" >nan</td>\n",
       "      <td id=\"T_5d7cd_row8_col1\" class=\"data row8 col1\" >nan</td>\n",
       "      <td id=\"T_5d7cd_row8_col2\" class=\"data row8 col2\" >nan</td>\n",
       "      <td id=\"T_5d7cd_row8_col3\" class=\"data row8 col3\" >nan</td>\n",
       "      <td id=\"T_5d7cd_row8_col4\" class=\"data row8 col4\" >nan</td>\n",
       "      <td id=\"T_5d7cd_row8_col5\" class=\"data row8 col5\" >nan</td>\n",
       "      <td id=\"T_5d7cd_row8_col6\" class=\"data row8 col6\" >nan</td>\n",
       "      <td id=\"T_5d7cd_row8_col7\" class=\"data row8 col7\" >nan</td>\n",
       "      <td id=\"T_5d7cd_row8_col8\" class=\"data row8 col8\" >nan</td>\n",
       "      <td id=\"T_5d7cd_row8_col9\" class=\"data row8 col9\" >nan</td>\n",
       "      <td id=\"T_5d7cd_row8_col10\" class=\"data row8 col10\" >nan</td>\n",
       "      <td id=\"T_5d7cd_row8_col11\" class=\"data row8 col11\" >nan</td>\n",
       "      <td id=\"T_5d7cd_row8_col12\" class=\"data row8 col12\" >nan</td>\n",
       "      <td id=\"T_5d7cd_row8_col13\" class=\"data row8 col13\" >nan</td>\n",
       "      <td id=\"T_5d7cd_row8_col14\" class=\"data row8 col14\" >nan</td>\n",
       "      <td id=\"T_5d7cd_row8_col15\" class=\"data row8 col15\" >nan</td>\n",
       "      <td id=\"T_5d7cd_row8_col16\" class=\"data row8 col16\" >nan</td>\n",
       "      <td id=\"T_5d7cd_row8_col17\" class=\"data row8 col17\" >nan</td>\n",
       "      <td id=\"T_5d7cd_row8_col18\" class=\"data row8 col18\" >nan</td>\n",
       "      <td id=\"T_5d7cd_row8_col19\" class=\"data row8 col19\" >nan</td>\n",
       "      <td id=\"T_5d7cd_row8_col20\" class=\"data row8 col20\" >nan</td>\n",
       "    </tr>\n",
       "    <tr>\n",
       "      <th id=\"T_5d7cd_level0_row9\" class=\"row_heading level0 row9\" >Iws</th>\n",
       "      <td id=\"T_5d7cd_row9_col0\" class=\"data row9 col0\" >2.972000</td>\n",
       "      <td id=\"T_5d7cd_row9_col1\" class=\"data row9 col1\" >6.240900</td>\n",
       "      <td id=\"T_5d7cd_row9_col2\" class=\"data row9 col2\" >5.646300</td>\n",
       "      <td id=\"T_5d7cd_row9_col3\" class=\"data row9 col3\" >2.972000</td>\n",
       "      <td id=\"T_5d7cd_row9_col4\" class=\"data row9 col4\" >4.337200</td>\n",
       "      <td id=\"T_5d7cd_row9_col5\" class=\"data row9 col5\" >4.754100</td>\n",
       "      <td id=\"T_5d7cd_row9_col6\" class=\"data row9 col6\" >2.972000</td>\n",
       "      <td id=\"T_5d7cd_row9_col7\" class=\"data row9 col7\" >4.337200</td>\n",
       "      <td id=\"T_5d7cd_row9_col8\" class=\"data row9 col8\" >4.754100</td>\n",
       "      <td id=\"T_5d7cd_row9_col9\" class=\"data row9 col9\" >7.128600</td>\n",
       "      <td id=\"T_5d7cd_row9_col10\" class=\"data row9 col10\" >10.803900</td>\n",
       "      <td id=\"T_5d7cd_row9_col11\" class=\"data row9 col11\" >15.938900</td>\n",
       "      <td id=\"T_5d7cd_row9_col12\" class=\"data row9 col12\" >2.972000</td>\n",
       "      <td id=\"T_5d7cd_row9_col13\" class=\"data row9 col13\" >3.208200</td>\n",
       "      <td id=\"T_5d7cd_row9_col14\" class=\"data row9 col14\" >4.191300</td>\n",
       "      <td id=\"T_5d7cd_row9_col15\" class=\"data row9 col15\" >4.885500</td>\n",
       "      <td id=\"T_5d7cd_row9_col16\" class=\"data row9 col16\" >5.705500</td>\n",
       "      <td id=\"T_5d7cd_row9_col17\" class=\"data row9 col17\" >7.024900</td>\n",
       "      <td id=\"T_5d7cd_row9_col18\" class=\"data row9 col18\" >2.909500</td>\n",
       "      <td id=\"T_5d7cd_row9_col19\" class=\"data row9 col19\" >4.754100</td>\n",
       "      <td id=\"T_5d7cd_row9_col20\" class=\"data row9 col20\" >2.972000</td>\n",
       "    </tr>\n",
       "    <tr>\n",
       "      <th id=\"T_5d7cd_level0_row10\" class=\"row_heading level0 row10\" >Is</th>\n",
       "      <td id=\"T_5d7cd_row10_col0\" class=\"data row10 col0\" >0.025000</td>\n",
       "      <td id=\"T_5d7cd_row10_col1\" class=\"data row10 col1\" >0.090000</td>\n",
       "      <td id=\"T_5d7cd_row10_col2\" class=\"data row10 col2\" >0.090000</td>\n",
       "      <td id=\"T_5d7cd_row10_col3\" class=\"data row10 col3\" >0.025000</td>\n",
       "      <td id=\"T_5d7cd_row10_col4\" class=\"data row10 col4\" >0.035200</td>\n",
       "      <td id=\"T_5d7cd_row10_col5\" class=\"data row10 col5\" >0.036400</td>\n",
       "      <td id=\"T_5d7cd_row10_col6\" class=\"data row10 col6\" >0.025000</td>\n",
       "      <td id=\"T_5d7cd_row10_col7\" class=\"data row10 col7\" >0.035200</td>\n",
       "      <td id=\"T_5d7cd_row10_col8\" class=\"data row10 col8\" >0.036400</td>\n",
       "      <td id=\"T_5d7cd_row10_col9\" class=\"data row10 col9\" >0.041300</td>\n",
       "      <td id=\"T_5d7cd_row10_col10\" class=\"data row10 col10\" >0.046300</td>\n",
       "      <td id=\"T_5d7cd_row10_col11\" class=\"data row10 col11\" >0.052400</td>\n",
       "      <td id=\"T_5d7cd_row10_col12\" class=\"data row10 col12\" >0.025000</td>\n",
       "      <td id=\"T_5d7cd_row10_col13\" class=\"data row10 col13\" >0.201100</td>\n",
       "      <td id=\"T_5d7cd_row10_col14\" class=\"data row10 col14\" >0.114000</td>\n",
       "      <td id=\"T_5d7cd_row10_col15\" class=\"data row10 col15\" >0.161000</td>\n",
       "      <td id=\"T_5d7cd_row10_col16\" class=\"data row10 col16\" >0.159800</td>\n",
       "      <td id=\"T_5d7cd_row10_col17\" class=\"data row10 col17\" >0.139300</td>\n",
       "      <td id=\"T_5d7cd_row10_col18\" class=\"data row10 col18\" >0.032500</td>\n",
       "      <td id=\"T_5d7cd_row10_col19\" class=\"data row10 col19\" >0.036400</td>\n",
       "      <td id=\"T_5d7cd_row10_col20\" class=\"data row10 col20\" >0.025000</td>\n",
       "    </tr>\n",
       "    <tr>\n",
       "      <th id=\"T_5d7cd_level0_row11\" class=\"row_heading level0 row11\" >Ir</th>\n",
       "      <td id=\"T_5d7cd_row11_col0\" class=\"data row11 col0\" >0.000000</td>\n",
       "      <td id=\"T_5d7cd_row11_col1\" class=\"data row11 col1\" >0.000000</td>\n",
       "      <td id=\"T_5d7cd_row11_col2\" class=\"data row11 col2\" >0.000000</td>\n",
       "      <td id=\"T_5d7cd_row11_col3\" class=\"data row11 col3\" >0.000000</td>\n",
       "      <td id=\"T_5d7cd_row11_col4\" class=\"data row11 col4\" >0.000000</td>\n",
       "      <td id=\"T_5d7cd_row11_col5\" class=\"data row11 col5\" >0.000000</td>\n",
       "      <td id=\"T_5d7cd_row11_col6\" class=\"data row11 col6\" >0.000000</td>\n",
       "      <td id=\"T_5d7cd_row11_col7\" class=\"data row11 col7\" >0.000000</td>\n",
       "      <td id=\"T_5d7cd_row11_col8\" class=\"data row11 col8\" >0.000000</td>\n",
       "      <td id=\"T_5d7cd_row11_col9\" class=\"data row11 col9\" >0.000000</td>\n",
       "      <td id=\"T_5d7cd_row11_col10\" class=\"data row11 col10\" >0.000000</td>\n",
       "      <td id=\"T_5d7cd_row11_col11\" class=\"data row11 col11\" >0.000000</td>\n",
       "      <td id=\"T_5d7cd_row11_col12\" class=\"data row11 col12\" >0.000000</td>\n",
       "      <td id=\"T_5d7cd_row11_col13\" class=\"data row11 col13\" >0.000000</td>\n",
       "      <td id=\"T_5d7cd_row11_col14\" class=\"data row11 col14\" >0.000000</td>\n",
       "      <td id=\"T_5d7cd_row11_col15\" class=\"data row11 col15\" >0.000000</td>\n",
       "      <td id=\"T_5d7cd_row11_col16\" class=\"data row11 col16\" >0.000000</td>\n",
       "      <td id=\"T_5d7cd_row11_col17\" class=\"data row11 col17\" >0.000000</td>\n",
       "      <td id=\"T_5d7cd_row11_col18\" class=\"data row11 col18\" >0.000000</td>\n",
       "      <td id=\"T_5d7cd_row11_col19\" class=\"data row11 col19\" >0.000000</td>\n",
       "      <td id=\"T_5d7cd_row11_col20\" class=\"data row11 col20\" >0.000000</td>\n",
       "    </tr>\n",
       "  </tbody>\n",
       "</table>\n"
      ],
      "text/plain": [
       "<pandas.io.formats.style.Styler at 0x1f0578735c0>"
      ]
     },
     "execution_count": 8,
     "metadata": {},
     "output_type": "execute_result"
    }
   ],
   "source": [
    "results_df = interpolator.get_evaluation_dataframe()\n",
    "results_df"
   ]
  },
  {
   "cell_type": "code",
   "execution_count": 9,
   "metadata": {},
   "outputs": [
    {
     "data": {
      "text/html": [
       "<style type=\"text/css\">\n",
       "#T_a7d01_row4_col16, #T_a7d01_row8_col0, #T_a7d01_row8_col1, #T_a7d01_row8_col2, #T_a7d01_row8_col3, #T_a7d01_row8_col4, #T_a7d01_row8_col5, #T_a7d01_row8_col6, #T_a7d01_row8_col7, #T_a7d01_row8_col8, #T_a7d01_row8_col9, #T_a7d01_row8_col10, #T_a7d01_row8_col11, #T_a7d01_row8_col12, #T_a7d01_row8_col13, #T_a7d01_row8_col14, #T_a7d01_row8_col15, #T_a7d01_row8_col16, #T_a7d01_row8_col17, #T_a7d01_row8_col18, #T_a7d01_row8_col19, #T_a7d01_row8_col20 {\n",
       "  background-color: #FF4500;\n",
       "}\n",
       "</style>\n",
       "<table id=\"T_a7d01\">\n",
       "  <thead>\n",
       "    <tr>\n",
       "      <th class=\"blank level0\" >&nbsp;</th>\n",
       "      <th id=\"T_a7d01_level0_col0\" class=\"col_heading level0 col0\" >linear</th>\n",
       "      <th id=\"T_a7d01_level0_col1\" class=\"col_heading level0 col1\" >nearest</th>\n",
       "      <th id=\"T_a7d01_level0_col2\" class=\"col_heading level0 col2\" >zero</th>\n",
       "      <th id=\"T_a7d01_level0_col3\" class=\"col_heading level0 col3\" >slinear</th>\n",
       "      <th id=\"T_a7d01_level0_col4\" class=\"col_heading level0 col4\" >quadratic</th>\n",
       "      <th id=\"T_a7d01_level0_col5\" class=\"col_heading level0 col5\" >cubic</th>\n",
       "      <th id=\"T_a7d01_level0_col6\" class=\"col_heading level0 col6\" >polynomial_order_1</th>\n",
       "      <th id=\"T_a7d01_level0_col7\" class=\"col_heading level0 col7\" >polynomial_order_2</th>\n",
       "      <th id=\"T_a7d01_level0_col8\" class=\"col_heading level0 col8\" >polynomial_order_3</th>\n",
       "      <th id=\"T_a7d01_level0_col9\" class=\"col_heading level0 col9\" >polynomial_order_5</th>\n",
       "      <th id=\"T_a7d01_level0_col10\" class=\"col_heading level0 col10\" >polynomial_order_7</th>\n",
       "      <th id=\"T_a7d01_level0_col11\" class=\"col_heading level0 col11\" >polynomial_order_9</th>\n",
       "      <th id=\"T_a7d01_level0_col12\" class=\"col_heading level0 col12\" >piecewise_polynomial</th>\n",
       "      <th id=\"T_a7d01_level0_col13\" class=\"col_heading level0 col13\" >spline_order_1</th>\n",
       "      <th id=\"T_a7d01_level0_col14\" class=\"col_heading level0 col14\" >spline_order_2</th>\n",
       "      <th id=\"T_a7d01_level0_col15\" class=\"col_heading level0 col15\" >spline_order_3</th>\n",
       "      <th id=\"T_a7d01_level0_col16\" class=\"col_heading level0 col16\" >spline_order_4</th>\n",
       "      <th id=\"T_a7d01_level0_col17\" class=\"col_heading level0 col17\" >spline_order_5</th>\n",
       "      <th id=\"T_a7d01_level0_col18\" class=\"col_heading level0 col18\" >akima</th>\n",
       "      <th id=\"T_a7d01_level0_col19\" class=\"col_heading level0 col19\" >cubicspline</th>\n",
       "      <th id=\"T_a7d01_level0_col20\" class=\"col_heading level0 col20\" >from_derivatives</th>\n",
       "    </tr>\n",
       "  </thead>\n",
       "  <tbody>\n",
       "    <tr>\n",
       "      <th id=\"T_a7d01_level0_row0\" class=\"row_heading level0 row0\" >year</th>\n",
       "      <td id=\"T_a7d01_row0_col0\" class=\"data row0 col0\" >True</td>\n",
       "      <td id=\"T_a7d01_row0_col1\" class=\"data row0 col1\" >True</td>\n",
       "      <td id=\"T_a7d01_row0_col2\" class=\"data row0 col2\" >True</td>\n",
       "      <td id=\"T_a7d01_row0_col3\" class=\"data row0 col3\" >True</td>\n",
       "      <td id=\"T_a7d01_row0_col4\" class=\"data row0 col4\" >True</td>\n",
       "      <td id=\"T_a7d01_row0_col5\" class=\"data row0 col5\" >True</td>\n",
       "      <td id=\"T_a7d01_row0_col6\" class=\"data row0 col6\" >True</td>\n",
       "      <td id=\"T_a7d01_row0_col7\" class=\"data row0 col7\" >True</td>\n",
       "      <td id=\"T_a7d01_row0_col8\" class=\"data row0 col8\" >True</td>\n",
       "      <td id=\"T_a7d01_row0_col9\" class=\"data row0 col9\" >True</td>\n",
       "      <td id=\"T_a7d01_row0_col10\" class=\"data row0 col10\" >True</td>\n",
       "      <td id=\"T_a7d01_row0_col11\" class=\"data row0 col11\" >True</td>\n",
       "      <td id=\"T_a7d01_row0_col12\" class=\"data row0 col12\" >True</td>\n",
       "      <td id=\"T_a7d01_row0_col13\" class=\"data row0 col13\" >True</td>\n",
       "      <td id=\"T_a7d01_row0_col14\" class=\"data row0 col14\" >True</td>\n",
       "      <td id=\"T_a7d01_row0_col15\" class=\"data row0 col15\" >True</td>\n",
       "      <td id=\"T_a7d01_row0_col16\" class=\"data row0 col16\" >True</td>\n",
       "      <td id=\"T_a7d01_row0_col17\" class=\"data row0 col17\" >True</td>\n",
       "      <td id=\"T_a7d01_row0_col18\" class=\"data row0 col18\" >True</td>\n",
       "      <td id=\"T_a7d01_row0_col19\" class=\"data row0 col19\" >True</td>\n",
       "      <td id=\"T_a7d01_row0_col20\" class=\"data row0 col20\" >True</td>\n",
       "    </tr>\n",
       "    <tr>\n",
       "      <th id=\"T_a7d01_level0_row1\" class=\"row_heading level0 row1\" >month</th>\n",
       "      <td id=\"T_a7d01_row1_col0\" class=\"data row1 col0\" >True</td>\n",
       "      <td id=\"T_a7d01_row1_col1\" class=\"data row1 col1\" >True</td>\n",
       "      <td id=\"T_a7d01_row1_col2\" class=\"data row1 col2\" >True</td>\n",
       "      <td id=\"T_a7d01_row1_col3\" class=\"data row1 col3\" >True</td>\n",
       "      <td id=\"T_a7d01_row1_col4\" class=\"data row1 col4\" >True</td>\n",
       "      <td id=\"T_a7d01_row1_col5\" class=\"data row1 col5\" >True</td>\n",
       "      <td id=\"T_a7d01_row1_col6\" class=\"data row1 col6\" >True</td>\n",
       "      <td id=\"T_a7d01_row1_col7\" class=\"data row1 col7\" >True</td>\n",
       "      <td id=\"T_a7d01_row1_col8\" class=\"data row1 col8\" >True</td>\n",
       "      <td id=\"T_a7d01_row1_col9\" class=\"data row1 col9\" >True</td>\n",
       "      <td id=\"T_a7d01_row1_col10\" class=\"data row1 col10\" >True</td>\n",
       "      <td id=\"T_a7d01_row1_col11\" class=\"data row1 col11\" >True</td>\n",
       "      <td id=\"T_a7d01_row1_col12\" class=\"data row1 col12\" >True</td>\n",
       "      <td id=\"T_a7d01_row1_col13\" class=\"data row1 col13\" >True</td>\n",
       "      <td id=\"T_a7d01_row1_col14\" class=\"data row1 col14\" >True</td>\n",
       "      <td id=\"T_a7d01_row1_col15\" class=\"data row1 col15\" >True</td>\n",
       "      <td id=\"T_a7d01_row1_col16\" class=\"data row1 col16\" >True</td>\n",
       "      <td id=\"T_a7d01_row1_col17\" class=\"data row1 col17\" >True</td>\n",
       "      <td id=\"T_a7d01_row1_col18\" class=\"data row1 col18\" >True</td>\n",
       "      <td id=\"T_a7d01_row1_col19\" class=\"data row1 col19\" >True</td>\n",
       "      <td id=\"T_a7d01_row1_col20\" class=\"data row1 col20\" >True</td>\n",
       "    </tr>\n",
       "    <tr>\n",
       "      <th id=\"T_a7d01_level0_row2\" class=\"row_heading level0 row2\" >day</th>\n",
       "      <td id=\"T_a7d01_row2_col0\" class=\"data row2 col0\" >True</td>\n",
       "      <td id=\"T_a7d01_row2_col1\" class=\"data row2 col1\" >True</td>\n",
       "      <td id=\"T_a7d01_row2_col2\" class=\"data row2 col2\" >True</td>\n",
       "      <td id=\"T_a7d01_row2_col3\" class=\"data row2 col3\" >True</td>\n",
       "      <td id=\"T_a7d01_row2_col4\" class=\"data row2 col4\" >True</td>\n",
       "      <td id=\"T_a7d01_row2_col5\" class=\"data row2 col5\" >True</td>\n",
       "      <td id=\"T_a7d01_row2_col6\" class=\"data row2 col6\" >True</td>\n",
       "      <td id=\"T_a7d01_row2_col7\" class=\"data row2 col7\" >True</td>\n",
       "      <td id=\"T_a7d01_row2_col8\" class=\"data row2 col8\" >True</td>\n",
       "      <td id=\"T_a7d01_row2_col9\" class=\"data row2 col9\" >True</td>\n",
       "      <td id=\"T_a7d01_row2_col10\" class=\"data row2 col10\" >True</td>\n",
       "      <td id=\"T_a7d01_row2_col11\" class=\"data row2 col11\" >True</td>\n",
       "      <td id=\"T_a7d01_row2_col12\" class=\"data row2 col12\" >True</td>\n",
       "      <td id=\"T_a7d01_row2_col13\" class=\"data row2 col13\" >True</td>\n",
       "      <td id=\"T_a7d01_row2_col14\" class=\"data row2 col14\" >True</td>\n",
       "      <td id=\"T_a7d01_row2_col15\" class=\"data row2 col15\" >True</td>\n",
       "      <td id=\"T_a7d01_row2_col16\" class=\"data row2 col16\" >True</td>\n",
       "      <td id=\"T_a7d01_row2_col17\" class=\"data row2 col17\" >True</td>\n",
       "      <td id=\"T_a7d01_row2_col18\" class=\"data row2 col18\" >True</td>\n",
       "      <td id=\"T_a7d01_row2_col19\" class=\"data row2 col19\" >True</td>\n",
       "      <td id=\"T_a7d01_row2_col20\" class=\"data row2 col20\" >True</td>\n",
       "    </tr>\n",
       "    <tr>\n",
       "      <th id=\"T_a7d01_level0_row3\" class=\"row_heading level0 row3\" >hour</th>\n",
       "      <td id=\"T_a7d01_row3_col0\" class=\"data row3 col0\" >True</td>\n",
       "      <td id=\"T_a7d01_row3_col1\" class=\"data row3 col1\" >True</td>\n",
       "      <td id=\"T_a7d01_row3_col2\" class=\"data row3 col2\" >True</td>\n",
       "      <td id=\"T_a7d01_row3_col3\" class=\"data row3 col3\" >True</td>\n",
       "      <td id=\"T_a7d01_row3_col4\" class=\"data row3 col4\" >True</td>\n",
       "      <td id=\"T_a7d01_row3_col5\" class=\"data row3 col5\" >True</td>\n",
       "      <td id=\"T_a7d01_row3_col6\" class=\"data row3 col6\" >True</td>\n",
       "      <td id=\"T_a7d01_row3_col7\" class=\"data row3 col7\" >True</td>\n",
       "      <td id=\"T_a7d01_row3_col8\" class=\"data row3 col8\" >True</td>\n",
       "      <td id=\"T_a7d01_row3_col9\" class=\"data row3 col9\" >True</td>\n",
       "      <td id=\"T_a7d01_row3_col10\" class=\"data row3 col10\" >True</td>\n",
       "      <td id=\"T_a7d01_row3_col11\" class=\"data row3 col11\" >True</td>\n",
       "      <td id=\"T_a7d01_row3_col12\" class=\"data row3 col12\" >True</td>\n",
       "      <td id=\"T_a7d01_row3_col13\" class=\"data row3 col13\" >True</td>\n",
       "      <td id=\"T_a7d01_row3_col14\" class=\"data row3 col14\" >True</td>\n",
       "      <td id=\"T_a7d01_row3_col15\" class=\"data row3 col15\" >True</td>\n",
       "      <td id=\"T_a7d01_row3_col16\" class=\"data row3 col16\" >True</td>\n",
       "      <td id=\"T_a7d01_row3_col17\" class=\"data row3 col17\" >True</td>\n",
       "      <td id=\"T_a7d01_row3_col18\" class=\"data row3 col18\" >True</td>\n",
       "      <td id=\"T_a7d01_row3_col19\" class=\"data row3 col19\" >True</td>\n",
       "      <td id=\"T_a7d01_row3_col20\" class=\"data row3 col20\" >True</td>\n",
       "    </tr>\n",
       "    <tr>\n",
       "      <th id=\"T_a7d01_level0_row4\" class=\"row_heading level0 row4\" >pm2.5</th>\n",
       "      <td id=\"T_a7d01_row4_col0\" class=\"data row4 col0\" >True</td>\n",
       "      <td id=\"T_a7d01_row4_col1\" class=\"data row4 col1\" >True</td>\n",
       "      <td id=\"T_a7d01_row4_col2\" class=\"data row4 col2\" >True</td>\n",
       "      <td id=\"T_a7d01_row4_col3\" class=\"data row4 col3\" >True</td>\n",
       "      <td id=\"T_a7d01_row4_col4\" class=\"data row4 col4\" >True</td>\n",
       "      <td id=\"T_a7d01_row4_col5\" class=\"data row4 col5\" >True</td>\n",
       "      <td id=\"T_a7d01_row4_col6\" class=\"data row4 col6\" >True</td>\n",
       "      <td id=\"T_a7d01_row4_col7\" class=\"data row4 col7\" >True</td>\n",
       "      <td id=\"T_a7d01_row4_col8\" class=\"data row4 col8\" >True</td>\n",
       "      <td id=\"T_a7d01_row4_col9\" class=\"data row4 col9\" >True</td>\n",
       "      <td id=\"T_a7d01_row4_col10\" class=\"data row4 col10\" >True</td>\n",
       "      <td id=\"T_a7d01_row4_col11\" class=\"data row4 col11\" >True</td>\n",
       "      <td id=\"T_a7d01_row4_col12\" class=\"data row4 col12\" >True</td>\n",
       "      <td id=\"T_a7d01_row4_col13\" class=\"data row4 col13\" >True</td>\n",
       "      <td id=\"T_a7d01_row4_col14\" class=\"data row4 col14\" >True</td>\n",
       "      <td id=\"T_a7d01_row4_col15\" class=\"data row4 col15\" >True</td>\n",
       "      <td id=\"T_a7d01_row4_col16\" class=\"data row4 col16\" >False</td>\n",
       "      <td id=\"T_a7d01_row4_col17\" class=\"data row4 col17\" >True</td>\n",
       "      <td id=\"T_a7d01_row4_col18\" class=\"data row4 col18\" >True</td>\n",
       "      <td id=\"T_a7d01_row4_col19\" class=\"data row4 col19\" >True</td>\n",
       "      <td id=\"T_a7d01_row4_col20\" class=\"data row4 col20\" >True</td>\n",
       "    </tr>\n",
       "    <tr>\n",
       "      <th id=\"T_a7d01_level0_row5\" class=\"row_heading level0 row5\" >DEWP</th>\n",
       "      <td id=\"T_a7d01_row5_col0\" class=\"data row5 col0\" >True</td>\n",
       "      <td id=\"T_a7d01_row5_col1\" class=\"data row5 col1\" >True</td>\n",
       "      <td id=\"T_a7d01_row5_col2\" class=\"data row5 col2\" >True</td>\n",
       "      <td id=\"T_a7d01_row5_col3\" class=\"data row5 col3\" >True</td>\n",
       "      <td id=\"T_a7d01_row5_col4\" class=\"data row5 col4\" >True</td>\n",
       "      <td id=\"T_a7d01_row5_col5\" class=\"data row5 col5\" >True</td>\n",
       "      <td id=\"T_a7d01_row5_col6\" class=\"data row5 col6\" >True</td>\n",
       "      <td id=\"T_a7d01_row5_col7\" class=\"data row5 col7\" >True</td>\n",
       "      <td id=\"T_a7d01_row5_col8\" class=\"data row5 col8\" >True</td>\n",
       "      <td id=\"T_a7d01_row5_col9\" class=\"data row5 col9\" >True</td>\n",
       "      <td id=\"T_a7d01_row5_col10\" class=\"data row5 col10\" >True</td>\n",
       "      <td id=\"T_a7d01_row5_col11\" class=\"data row5 col11\" >True</td>\n",
       "      <td id=\"T_a7d01_row5_col12\" class=\"data row5 col12\" >True</td>\n",
       "      <td id=\"T_a7d01_row5_col13\" class=\"data row5 col13\" >True</td>\n",
       "      <td id=\"T_a7d01_row5_col14\" class=\"data row5 col14\" >True</td>\n",
       "      <td id=\"T_a7d01_row5_col15\" class=\"data row5 col15\" >True</td>\n",
       "      <td id=\"T_a7d01_row5_col16\" class=\"data row5 col16\" >True</td>\n",
       "      <td id=\"T_a7d01_row5_col17\" class=\"data row5 col17\" >True</td>\n",
       "      <td id=\"T_a7d01_row5_col18\" class=\"data row5 col18\" >True</td>\n",
       "      <td id=\"T_a7d01_row5_col19\" class=\"data row5 col19\" >True</td>\n",
       "      <td id=\"T_a7d01_row5_col20\" class=\"data row5 col20\" >True</td>\n",
       "    </tr>\n",
       "    <tr>\n",
       "      <th id=\"T_a7d01_level0_row6\" class=\"row_heading level0 row6\" >TEMP</th>\n",
       "      <td id=\"T_a7d01_row6_col0\" class=\"data row6 col0\" >True</td>\n",
       "      <td id=\"T_a7d01_row6_col1\" class=\"data row6 col1\" >True</td>\n",
       "      <td id=\"T_a7d01_row6_col2\" class=\"data row6 col2\" >True</td>\n",
       "      <td id=\"T_a7d01_row6_col3\" class=\"data row6 col3\" >True</td>\n",
       "      <td id=\"T_a7d01_row6_col4\" class=\"data row6 col4\" >True</td>\n",
       "      <td id=\"T_a7d01_row6_col5\" class=\"data row6 col5\" >True</td>\n",
       "      <td id=\"T_a7d01_row6_col6\" class=\"data row6 col6\" >True</td>\n",
       "      <td id=\"T_a7d01_row6_col7\" class=\"data row6 col7\" >True</td>\n",
       "      <td id=\"T_a7d01_row6_col8\" class=\"data row6 col8\" >True</td>\n",
       "      <td id=\"T_a7d01_row6_col9\" class=\"data row6 col9\" >True</td>\n",
       "      <td id=\"T_a7d01_row6_col10\" class=\"data row6 col10\" >True</td>\n",
       "      <td id=\"T_a7d01_row6_col11\" class=\"data row6 col11\" >True</td>\n",
       "      <td id=\"T_a7d01_row6_col12\" class=\"data row6 col12\" >True</td>\n",
       "      <td id=\"T_a7d01_row6_col13\" class=\"data row6 col13\" >True</td>\n",
       "      <td id=\"T_a7d01_row6_col14\" class=\"data row6 col14\" >True</td>\n",
       "      <td id=\"T_a7d01_row6_col15\" class=\"data row6 col15\" >True</td>\n",
       "      <td id=\"T_a7d01_row6_col16\" class=\"data row6 col16\" >True</td>\n",
       "      <td id=\"T_a7d01_row6_col17\" class=\"data row6 col17\" >True</td>\n",
       "      <td id=\"T_a7d01_row6_col18\" class=\"data row6 col18\" >True</td>\n",
       "      <td id=\"T_a7d01_row6_col19\" class=\"data row6 col19\" >True</td>\n",
       "      <td id=\"T_a7d01_row6_col20\" class=\"data row6 col20\" >True</td>\n",
       "    </tr>\n",
       "    <tr>\n",
       "      <th id=\"T_a7d01_level0_row7\" class=\"row_heading level0 row7\" >PRES</th>\n",
       "      <td id=\"T_a7d01_row7_col0\" class=\"data row7 col0\" >True</td>\n",
       "      <td id=\"T_a7d01_row7_col1\" class=\"data row7 col1\" >True</td>\n",
       "      <td id=\"T_a7d01_row7_col2\" class=\"data row7 col2\" >True</td>\n",
       "      <td id=\"T_a7d01_row7_col3\" class=\"data row7 col3\" >True</td>\n",
       "      <td id=\"T_a7d01_row7_col4\" class=\"data row7 col4\" >True</td>\n",
       "      <td id=\"T_a7d01_row7_col5\" class=\"data row7 col5\" >True</td>\n",
       "      <td id=\"T_a7d01_row7_col6\" class=\"data row7 col6\" >True</td>\n",
       "      <td id=\"T_a7d01_row7_col7\" class=\"data row7 col7\" >True</td>\n",
       "      <td id=\"T_a7d01_row7_col8\" class=\"data row7 col8\" >True</td>\n",
       "      <td id=\"T_a7d01_row7_col9\" class=\"data row7 col9\" >True</td>\n",
       "      <td id=\"T_a7d01_row7_col10\" class=\"data row7 col10\" >True</td>\n",
       "      <td id=\"T_a7d01_row7_col11\" class=\"data row7 col11\" >True</td>\n",
       "      <td id=\"T_a7d01_row7_col12\" class=\"data row7 col12\" >True</td>\n",
       "      <td id=\"T_a7d01_row7_col13\" class=\"data row7 col13\" >True</td>\n",
       "      <td id=\"T_a7d01_row7_col14\" class=\"data row7 col14\" >True</td>\n",
       "      <td id=\"T_a7d01_row7_col15\" class=\"data row7 col15\" >True</td>\n",
       "      <td id=\"T_a7d01_row7_col16\" class=\"data row7 col16\" >True</td>\n",
       "      <td id=\"T_a7d01_row7_col17\" class=\"data row7 col17\" >True</td>\n",
       "      <td id=\"T_a7d01_row7_col18\" class=\"data row7 col18\" >True</td>\n",
       "      <td id=\"T_a7d01_row7_col19\" class=\"data row7 col19\" >True</td>\n",
       "      <td id=\"T_a7d01_row7_col20\" class=\"data row7 col20\" >True</td>\n",
       "    </tr>\n",
       "    <tr>\n",
       "      <th id=\"T_a7d01_level0_row8\" class=\"row_heading level0 row8\" >cbwd</th>\n",
       "      <td id=\"T_a7d01_row8_col0\" class=\"data row8 col0\" >False</td>\n",
       "      <td id=\"T_a7d01_row8_col1\" class=\"data row8 col1\" >False</td>\n",
       "      <td id=\"T_a7d01_row8_col2\" class=\"data row8 col2\" >False</td>\n",
       "      <td id=\"T_a7d01_row8_col3\" class=\"data row8 col3\" >False</td>\n",
       "      <td id=\"T_a7d01_row8_col4\" class=\"data row8 col4\" >False</td>\n",
       "      <td id=\"T_a7d01_row8_col5\" class=\"data row8 col5\" >False</td>\n",
       "      <td id=\"T_a7d01_row8_col6\" class=\"data row8 col6\" >False</td>\n",
       "      <td id=\"T_a7d01_row8_col7\" class=\"data row8 col7\" >False</td>\n",
       "      <td id=\"T_a7d01_row8_col8\" class=\"data row8 col8\" >False</td>\n",
       "      <td id=\"T_a7d01_row8_col9\" class=\"data row8 col9\" >False</td>\n",
       "      <td id=\"T_a7d01_row8_col10\" class=\"data row8 col10\" >False</td>\n",
       "      <td id=\"T_a7d01_row8_col11\" class=\"data row8 col11\" >False</td>\n",
       "      <td id=\"T_a7d01_row8_col12\" class=\"data row8 col12\" >False</td>\n",
       "      <td id=\"T_a7d01_row8_col13\" class=\"data row8 col13\" >False</td>\n",
       "      <td id=\"T_a7d01_row8_col14\" class=\"data row8 col14\" >False</td>\n",
       "      <td id=\"T_a7d01_row8_col15\" class=\"data row8 col15\" >False</td>\n",
       "      <td id=\"T_a7d01_row8_col16\" class=\"data row8 col16\" >False</td>\n",
       "      <td id=\"T_a7d01_row8_col17\" class=\"data row8 col17\" >False</td>\n",
       "      <td id=\"T_a7d01_row8_col18\" class=\"data row8 col18\" >False</td>\n",
       "      <td id=\"T_a7d01_row8_col19\" class=\"data row8 col19\" >False</td>\n",
       "      <td id=\"T_a7d01_row8_col20\" class=\"data row8 col20\" >False</td>\n",
       "    </tr>\n",
       "    <tr>\n",
       "      <th id=\"T_a7d01_level0_row9\" class=\"row_heading level0 row9\" >Iws</th>\n",
       "      <td id=\"T_a7d01_row9_col0\" class=\"data row9 col0\" >True</td>\n",
       "      <td id=\"T_a7d01_row9_col1\" class=\"data row9 col1\" >True</td>\n",
       "      <td id=\"T_a7d01_row9_col2\" class=\"data row9 col2\" >True</td>\n",
       "      <td id=\"T_a7d01_row9_col3\" class=\"data row9 col3\" >True</td>\n",
       "      <td id=\"T_a7d01_row9_col4\" class=\"data row9 col4\" >True</td>\n",
       "      <td id=\"T_a7d01_row9_col5\" class=\"data row9 col5\" >True</td>\n",
       "      <td id=\"T_a7d01_row9_col6\" class=\"data row9 col6\" >True</td>\n",
       "      <td id=\"T_a7d01_row9_col7\" class=\"data row9 col7\" >True</td>\n",
       "      <td id=\"T_a7d01_row9_col8\" class=\"data row9 col8\" >True</td>\n",
       "      <td id=\"T_a7d01_row9_col9\" class=\"data row9 col9\" >True</td>\n",
       "      <td id=\"T_a7d01_row9_col10\" class=\"data row9 col10\" >True</td>\n",
       "      <td id=\"T_a7d01_row9_col11\" class=\"data row9 col11\" >True</td>\n",
       "      <td id=\"T_a7d01_row9_col12\" class=\"data row9 col12\" >True</td>\n",
       "      <td id=\"T_a7d01_row9_col13\" class=\"data row9 col13\" >True</td>\n",
       "      <td id=\"T_a7d01_row9_col14\" class=\"data row9 col14\" >True</td>\n",
       "      <td id=\"T_a7d01_row9_col15\" class=\"data row9 col15\" >True</td>\n",
       "      <td id=\"T_a7d01_row9_col16\" class=\"data row9 col16\" >True</td>\n",
       "      <td id=\"T_a7d01_row9_col17\" class=\"data row9 col17\" >True</td>\n",
       "      <td id=\"T_a7d01_row9_col18\" class=\"data row9 col18\" >True</td>\n",
       "      <td id=\"T_a7d01_row9_col19\" class=\"data row9 col19\" >True</td>\n",
       "      <td id=\"T_a7d01_row9_col20\" class=\"data row9 col20\" >True</td>\n",
       "    </tr>\n",
       "    <tr>\n",
       "      <th id=\"T_a7d01_level0_row10\" class=\"row_heading level0 row10\" >Is</th>\n",
       "      <td id=\"T_a7d01_row10_col0\" class=\"data row10 col0\" >True</td>\n",
       "      <td id=\"T_a7d01_row10_col1\" class=\"data row10 col1\" >True</td>\n",
       "      <td id=\"T_a7d01_row10_col2\" class=\"data row10 col2\" >True</td>\n",
       "      <td id=\"T_a7d01_row10_col3\" class=\"data row10 col3\" >True</td>\n",
       "      <td id=\"T_a7d01_row10_col4\" class=\"data row10 col4\" >True</td>\n",
       "      <td id=\"T_a7d01_row10_col5\" class=\"data row10 col5\" >True</td>\n",
       "      <td id=\"T_a7d01_row10_col6\" class=\"data row10 col6\" >True</td>\n",
       "      <td id=\"T_a7d01_row10_col7\" class=\"data row10 col7\" >True</td>\n",
       "      <td id=\"T_a7d01_row10_col8\" class=\"data row10 col8\" >True</td>\n",
       "      <td id=\"T_a7d01_row10_col9\" class=\"data row10 col9\" >True</td>\n",
       "      <td id=\"T_a7d01_row10_col10\" class=\"data row10 col10\" >True</td>\n",
       "      <td id=\"T_a7d01_row10_col11\" class=\"data row10 col11\" >True</td>\n",
       "      <td id=\"T_a7d01_row10_col12\" class=\"data row10 col12\" >True</td>\n",
       "      <td id=\"T_a7d01_row10_col13\" class=\"data row10 col13\" >True</td>\n",
       "      <td id=\"T_a7d01_row10_col14\" class=\"data row10 col14\" >True</td>\n",
       "      <td id=\"T_a7d01_row10_col15\" class=\"data row10 col15\" >True</td>\n",
       "      <td id=\"T_a7d01_row10_col16\" class=\"data row10 col16\" >True</td>\n",
       "      <td id=\"T_a7d01_row10_col17\" class=\"data row10 col17\" >True</td>\n",
       "      <td id=\"T_a7d01_row10_col18\" class=\"data row10 col18\" >True</td>\n",
       "      <td id=\"T_a7d01_row10_col19\" class=\"data row10 col19\" >True</td>\n",
       "      <td id=\"T_a7d01_row10_col20\" class=\"data row10 col20\" >True</td>\n",
       "    </tr>\n",
       "    <tr>\n",
       "      <th id=\"T_a7d01_level0_row11\" class=\"row_heading level0 row11\" >Ir</th>\n",
       "      <td id=\"T_a7d01_row11_col0\" class=\"data row11 col0\" >True</td>\n",
       "      <td id=\"T_a7d01_row11_col1\" class=\"data row11 col1\" >True</td>\n",
       "      <td id=\"T_a7d01_row11_col2\" class=\"data row11 col2\" >True</td>\n",
       "      <td id=\"T_a7d01_row11_col3\" class=\"data row11 col3\" >True</td>\n",
       "      <td id=\"T_a7d01_row11_col4\" class=\"data row11 col4\" >True</td>\n",
       "      <td id=\"T_a7d01_row11_col5\" class=\"data row11 col5\" >True</td>\n",
       "      <td id=\"T_a7d01_row11_col6\" class=\"data row11 col6\" >True</td>\n",
       "      <td id=\"T_a7d01_row11_col7\" class=\"data row11 col7\" >True</td>\n",
       "      <td id=\"T_a7d01_row11_col8\" class=\"data row11 col8\" >True</td>\n",
       "      <td id=\"T_a7d01_row11_col9\" class=\"data row11 col9\" >True</td>\n",
       "      <td id=\"T_a7d01_row11_col10\" class=\"data row11 col10\" >True</td>\n",
       "      <td id=\"T_a7d01_row11_col11\" class=\"data row11 col11\" >True</td>\n",
       "      <td id=\"T_a7d01_row11_col12\" class=\"data row11 col12\" >True</td>\n",
       "      <td id=\"T_a7d01_row11_col13\" class=\"data row11 col13\" >True</td>\n",
       "      <td id=\"T_a7d01_row11_col14\" class=\"data row11 col14\" >True</td>\n",
       "      <td id=\"T_a7d01_row11_col15\" class=\"data row11 col15\" >True</td>\n",
       "      <td id=\"T_a7d01_row11_col16\" class=\"data row11 col16\" >True</td>\n",
       "      <td id=\"T_a7d01_row11_col17\" class=\"data row11 col17\" >True</td>\n",
       "      <td id=\"T_a7d01_row11_col18\" class=\"data row11 col18\" >True</td>\n",
       "      <td id=\"T_a7d01_row11_col19\" class=\"data row11 col19\" >True</td>\n",
       "      <td id=\"T_a7d01_row11_col20\" class=\"data row11 col20\" >True</td>\n",
       "    </tr>\n",
       "  </tbody>\n",
       "</table>\n"
      ],
      "text/plain": [
       "<pandas.io.formats.style.Styler at 0x1f05544e660>"
      ]
     },
     "execution_count": 9,
     "metadata": {},
     "output_type": "execute_result"
    }
   ],
   "source": [
    "results_df = interpolator.get_method_success_dataframe()\n",
    "results_df"
   ]
  },
  {
   "cell_type": "code",
   "execution_count": 10,
   "metadata": {},
   "outputs": [
    {
     "data": {
      "text/plain": [
       "[('year', 'akima'),\n",
       " ('month', 'akima'),\n",
       " ('day', 'akima'),\n",
       " ('hour', 'akima'),\n",
       " ('pm2.5', 'akima'),\n",
       " ('DEWP', 'from_derivatives'),\n",
       " ('TEMP', 'akima'),\n",
       " ('PRES', 'akima'),\n",
       " ('Iws', 'akima'),\n",
       " ('Is', 'from_derivatives'),\n",
       " ('Ir', 'akima')]"
      ]
     },
     "execution_count": 10,
     "metadata": {},
     "output_type": "execute_result"
    }
   ],
   "source": [
    "results_df = interpolator.get_best()\n",
    "results_df"
   ]
  },
  {
   "cell_type": "code",
   "execution_count": 12,
   "metadata": {},
   "outputs": [
    {
     "name": "stdout",
     "output_type": "stream",
     "text": [
      "\n",
      "➤ Evaluating missing rate: 0.1 ✔\n"
     ]
    },
    {
     "name": "stderr",
     "output_type": "stream",
     "text": [
      "c:\\Users\\richa\\Desktop\\TimeWeaver\\.venv\\Lib\\site-packages\\pandas\\core\\missing.py:604: UserWarning: \n",
      "The maximal number of iterations maxit (set to 20 by the program)\n",
      "allowed for finding a smoothing spline with fp=s has been reached: s\n",
      "too small.\n",
      "There is an approximation returned but the corresponding weighted sum\n",
      "of squared residuals does not satisfy the condition abs(fp-s)/s < tol.\n",
      "  terp = interpolate.UnivariateSpline(x, y, k=order, **kwargs)\n"
     ]
    },
    {
     "name": "stdout",
     "output_type": "stream",
     "text": [
      "\n",
      "➤ Evaluating missing rate: 0.11 ✔\n",
      "\n",
      "➤ Evaluating missing rate: 0.12 ✔\n",
      "\n",
      "➤ Evaluating missing rate: 0.13 ✔\n",
      "\n",
      "➤ Evaluating missing rate: 0.13999999999999999 ✔\n",
      "\n",
      "➤ Evaluating missing rate: 0.14999999999999997 ✔\n",
      "\n",
      "➤ Evaluating missing rate: 0.15999999999999998 ✔\n"
     ]
    },
    {
     "name": "stderr",
     "output_type": "stream",
     "text": [
      "c:\\Users\\richa\\Desktop\\TimeWeaver\\.venv\\Lib\\site-packages\\pandas\\core\\missing.py:604: UserWarning: \n",
      "The maximal number of iterations maxit (set to 20 by the program)\n",
      "allowed for finding a smoothing spline with fp=s has been reached: s\n",
      "too small.\n",
      "There is an approximation returned but the corresponding weighted sum\n",
      "of squared residuals does not satisfy the condition abs(fp-s)/s < tol.\n",
      "  terp = interpolate.UnivariateSpline(x, y, k=order, **kwargs)\n"
     ]
    },
    {
     "name": "stdout",
     "output_type": "stream",
     "text": [
      "\n",
      "➤ Evaluating missing rate: 0.16999999999999998 ✔\n",
      "\n",
      "➤ Evaluating missing rate: 0.17999999999999997 ✔\n"
     ]
    },
    {
     "name": "stderr",
     "output_type": "stream",
     "text": [
      "c:\\Users\\richa\\Desktop\\TimeWeaver\\.venv\\Lib\\site-packages\\pandas\\core\\missing.py:604: UserWarning: \n",
      "The maximal number of iterations maxit (set to 20 by the program)\n",
      "allowed for finding a smoothing spline with fp=s has been reached: s\n",
      "too small.\n",
      "There is an approximation returned but the corresponding weighted sum\n",
      "of squared residuals does not satisfy the condition abs(fp-s)/s < tol.\n",
      "  terp = interpolate.UnivariateSpline(x, y, k=order, **kwargs)\n"
     ]
    },
    {
     "name": "stdout",
     "output_type": "stream",
     "text": [
      "\n",
      "➤ Evaluating missing rate: 0.18999999999999995 ✔\n",
      "\n",
      "➤ Evaluating missing rate: 0.19999999999999996 ✔\n",
      "\n",
      "➤ Evaluating missing rate: 0.20999999999999996 ✔\n",
      "\n",
      "➤ Evaluating missing rate: 0.21999999999999995 ✔\n",
      "\n",
      "➤ Evaluating missing rate: 0.22999999999999995 ✔\n"
     ]
    },
    {
     "name": "stderr",
     "output_type": "stream",
     "text": [
      "c:\\Users\\richa\\Desktop\\TimeWeaver\\.venv\\Lib\\site-packages\\pandas\\core\\missing.py:604: UserWarning: \n",
      "A theoretically impossible result was found during the iteration\n",
      "process for finding a smoothing spline with fp = s: s too small.\n",
      "There is an approximation returned but the corresponding weighted sum\n",
      "of squared residuals does not satisfy the condition abs(fp-s)/s < tol.\n",
      "  terp = interpolate.UnivariateSpline(x, y, k=order, **kwargs)\n"
     ]
    },
    {
     "name": "stdout",
     "output_type": "stream",
     "text": [
      "\n",
      "➤ Evaluating missing rate: 0.23999999999999994 ✔\n",
      "\n",
      "➤ Evaluating missing rate: 0.24999999999999992 ✔\n",
      "\n",
      "➤ Evaluating missing rate: 0.2599999999999999 ✔\n",
      "\n",
      "➤ Evaluating missing rate: 0.2699999999999999 ✔\n",
      "\n",
      "➤ Evaluating missing rate: 0.2799999999999999 ✔\n",
      "\n",
      "➤ Evaluating missing rate: 0.2899999999999999 ✔\n",
      "\n",
      "➤ Evaluating missing rate: 0.29999999999999993 ✔\n",
      "\n",
      "➤ Evaluating missing rate: 0.30999999999999994 ✔\n",
      "\n",
      "➤ Evaluating missing rate: 0.3199999999999999 ✔\n",
      "\n",
      "➤ Evaluating missing rate: 0.32999999999999985 ✔\n",
      "\n",
      "➤ Evaluating missing rate: 0.33999999999999986 ✔\n",
      "\n",
      "➤ Evaluating missing rate: 0.34999999999999987 ✔\n",
      "\n",
      "➤ Evaluating missing rate: 0.3599999999999999 ✔\n",
      "\n",
      "➤ Evaluating missing rate: 0.3699999999999999 ✔\n",
      "\n",
      "➤ Evaluating missing rate: 0.3799999999999999 ✔\n",
      "\n",
      "➤ Evaluating missing rate: 0.3899999999999999 ✔\n",
      "\n",
      "➤ Evaluating missing rate: 0.3999999999999998 ✔\n",
      "\n",
      "➤ Evaluating missing rate: 0.4099999999999998 ✔\n",
      "\n",
      "➤ Evaluating missing rate: 0.4199999999999998 ✔\n",
      "\n",
      "➤ Evaluating missing rate: 0.4299999999999998 ✔\n",
      "\n",
      "➤ Evaluating missing rate: 0.43999999999999984 ✔\n",
      "\n",
      "➤ Evaluating missing rate: 0.44999999999999984 ✔\n",
      "\n",
      "➤ Evaluating missing rate: 0.45999999999999985 ✔\n",
      "\n",
      "➤ Evaluating missing rate: 0.46999999999999986 ✔\n",
      "\n",
      "➤ Evaluating missing rate: 0.47999999999999976 ✔\n",
      "\n",
      "➤ Evaluating missing rate: 0.48999999999999977 ✔\n"
     ]
    },
    {
     "data": {
      "application/vnd.plotly.v1+json": {
       "config": {
        "plotlyServerURL": "https://plot.ly"
       },
       "data": [
        {
         "mode": "lines+markers",
         "name": "linear",
         "type": "scatter",
         "x": [
          0.1,
          0.11,
          0.12,
          0.13,
          0.13999999999999999,
          0.14999999999999997,
          0.15999999999999998,
          0.16999999999999998,
          0.17999999999999997,
          0.18999999999999995,
          0.19999999999999996,
          0.20999999999999996,
          0.21999999999999995,
          0.22999999999999995,
          0.23999999999999994,
          0.24999999999999992,
          0.2599999999999999,
          0.2699999999999999,
          0.2799999999999999,
          0.2899999999999999,
          0.29999999999999993,
          0.30999999999999994,
          0.3199999999999999,
          0.32999999999999985,
          0.33999999999999986,
          0.34999999999999987,
          0.3599999999999999,
          0.3699999999999999,
          0.3799999999999999,
          0.3899999999999999,
          0.3999999999999998,
          0.4099999999999998,
          0.4199999999999998,
          0.4299999999999998,
          0.43999999999999984,
          0.44999999999999984,
          0.45999999999999985,
          0.46999999999999986,
          0.47999999999999976,
          0.48999999999999977
         ],
         "y": [
          0,
          0,
          0,
          0,
          0,
          0,
          0,
          0,
          0,
          0,
          0,
          0,
          0,
          0,
          0,
          0,
          0,
          0,
          0,
          0,
          0,
          0,
          0,
          0,
          0,
          0,
          0,
          0,
          0,
          0,
          0,
          0,
          0,
          0,
          0,
          0,
          0,
          0,
          0,
          0
         ]
        },
        {
         "mode": "lines+markers",
         "name": "nearest",
         "type": "scatter",
         "x": [
          0.1,
          0.11,
          0.12,
          0.13,
          0.13999999999999999,
          0.14999999999999997,
          0.15999999999999998,
          0.16999999999999998,
          0.17999999999999997,
          0.18999999999999995,
          0.19999999999999996,
          0.20999999999999996,
          0.21999999999999995,
          0.22999999999999995,
          0.23999999999999994,
          0.24999999999999992,
          0.2599999999999999,
          0.2699999999999999,
          0.2799999999999999,
          0.2899999999999999,
          0.29999999999999993,
          0.30999999999999994,
          0.3199999999999999,
          0.32999999999999985,
          0.33999999999999986,
          0.34999999999999987,
          0.3599999999999999,
          0.3699999999999999,
          0.3799999999999999,
          0.3899999999999999,
          0.3999999999999998,
          0.4099999999999998,
          0.4199999999999998,
          0.4299999999999998,
          0.43999999999999984,
          0.44999999999999984,
          0.45999999999999985,
          0.46999999999999986,
          0.47999999999999976,
          0.48999999999999977
         ],
         "y": [
          0,
          0,
          0,
          0,
          0,
          0,
          0,
          0,
          0,
          null,
          null,
          null,
          null,
          null,
          null,
          null,
          null,
          null,
          null,
          null,
          null,
          null,
          null,
          null,
          null,
          null,
          null,
          null,
          null,
          null,
          null,
          null,
          null,
          null,
          null,
          null,
          null,
          null,
          null,
          null
         ]
        },
        {
         "mode": "lines+markers",
         "name": "zero",
         "type": "scatter",
         "x": [
          0.1,
          0.11,
          0.12,
          0.13,
          0.13999999999999999,
          0.14999999999999997,
          0.15999999999999998,
          0.16999999999999998,
          0.17999999999999997,
          0.18999999999999995,
          0.19999999999999996,
          0.20999999999999996,
          0.21999999999999995,
          0.22999999999999995,
          0.23999999999999994,
          0.24999999999999992,
          0.2599999999999999,
          0.2699999999999999,
          0.2799999999999999,
          0.2899999999999999,
          0.29999999999999993,
          0.30999999999999994,
          0.3199999999999999,
          0.32999999999999985,
          0.33999999999999986,
          0.34999999999999987,
          0.3599999999999999,
          0.3699999999999999,
          0.3799999999999999,
          0.3899999999999999,
          0.3999999999999998,
          0.4099999999999998,
          0.4199999999999998,
          0.4299999999999998,
          0.43999999999999984,
          0.44999999999999984,
          0.45999999999999985,
          0.46999999999999986,
          0.47999999999999976,
          0.48999999999999977
         ],
         "y": [
          0,
          0,
          0,
          0,
          0,
          0,
          0,
          0,
          0,
          null,
          null,
          null,
          null,
          null,
          null,
          null,
          null,
          null,
          null,
          null,
          null,
          null,
          null,
          null,
          null,
          null,
          null,
          null,
          null,
          null,
          null,
          null,
          null,
          null,
          null,
          null,
          null,
          null,
          null,
          null
         ]
        },
        {
         "mode": "lines+markers",
         "name": "slinear",
         "type": "scatter",
         "x": [
          0.1,
          0.11,
          0.12,
          0.13,
          0.13999999999999999,
          0.14999999999999997,
          0.15999999999999998,
          0.16999999999999998,
          0.17999999999999997,
          0.18999999999999995,
          0.19999999999999996,
          0.20999999999999996,
          0.21999999999999995,
          0.22999999999999995,
          0.23999999999999994,
          0.24999999999999992,
          0.2599999999999999,
          0.2699999999999999,
          0.2799999999999999,
          0.2899999999999999,
          0.29999999999999993,
          0.30999999999999994,
          0.3199999999999999,
          0.32999999999999985,
          0.33999999999999986,
          0.34999999999999987,
          0.3599999999999999,
          0.3699999999999999,
          0.3799999999999999,
          0.3899999999999999,
          0.3999999999999998,
          0.4099999999999998,
          0.4199999999999998,
          0.4299999999999998,
          0.43999999999999984,
          0.44999999999999984,
          0.45999999999999985,
          0.46999999999999986,
          0.47999999999999976,
          0.48999999999999977
         ],
         "y": [
          0,
          0,
          0,
          0,
          0,
          0,
          0,
          0,
          0,
          null,
          null,
          null,
          null,
          null,
          null,
          null,
          null,
          null,
          null,
          null,
          null,
          null,
          null,
          null,
          null,
          null,
          null,
          null,
          null,
          null,
          null,
          null,
          null,
          null,
          null,
          null,
          null,
          null,
          null,
          null
         ]
        },
        {
         "mode": "lines+markers",
         "name": "quadratic",
         "type": "scatter",
         "x": [
          0.1,
          0.11,
          0.12,
          0.13,
          0.13999999999999999,
          0.14999999999999997,
          0.15999999999999998,
          0.16999999999999998,
          0.17999999999999997,
          0.18999999999999995,
          0.19999999999999996,
          0.20999999999999996,
          0.21999999999999995,
          0.22999999999999995,
          0.23999999999999994,
          0.24999999999999992,
          0.2599999999999999,
          0.2699999999999999,
          0.2799999999999999,
          0.2899999999999999,
          0.29999999999999993,
          0.30999999999999994,
          0.3199999999999999,
          0.32999999999999985,
          0.33999999999999986,
          0.34999999999999987,
          0.3599999999999999,
          0.3699999999999999,
          0.3799999999999999,
          0.3899999999999999,
          0.3999999999999998,
          0.4099999999999998,
          0.4199999999999998,
          0.4299999999999998,
          0.43999999999999984,
          0.44999999999999984,
          0.45999999999999985,
          0.46999999999999986,
          0.47999999999999976,
          0.48999999999999977
         ],
         "y": [
          0,
          0,
          0,
          0,
          0,
          0,
          0,
          0,
          0,
          null,
          null,
          null,
          null,
          null,
          null,
          null,
          null,
          null,
          null,
          null,
          null,
          null,
          null,
          null,
          null,
          null,
          null,
          null,
          null,
          null,
          null,
          null,
          null,
          null,
          null,
          null,
          null,
          null,
          null,
          null
         ]
        },
        {
         "mode": "lines+markers",
         "name": "cubic",
         "type": "scatter",
         "x": [
          0.1,
          0.11,
          0.12,
          0.13,
          0.13999999999999999,
          0.14999999999999997,
          0.15999999999999998,
          0.16999999999999998,
          0.17999999999999997,
          0.18999999999999995,
          0.19999999999999996,
          0.20999999999999996,
          0.21999999999999995,
          0.22999999999999995,
          0.23999999999999994,
          0.24999999999999992,
          0.2599999999999999,
          0.2699999999999999,
          0.2799999999999999,
          0.2899999999999999,
          0.29999999999999993,
          0.30999999999999994,
          0.3199999999999999,
          0.32999999999999985,
          0.33999999999999986,
          0.34999999999999987,
          0.3599999999999999,
          0.3699999999999999,
          0.3799999999999999,
          0.3899999999999999,
          0.3999999999999998,
          0.4099999999999998,
          0.4199999999999998,
          0.4299999999999998,
          0.43999999999999984,
          0.44999999999999984,
          0.45999999999999985,
          0.46999999999999986,
          0.47999999999999976,
          0.48999999999999977
         ],
         "y": [
          0,
          0,
          0,
          0,
          0,
          0,
          0,
          0,
          0,
          null,
          null,
          null,
          null,
          null,
          null,
          null,
          null,
          null,
          null,
          null,
          null,
          null,
          null,
          null,
          null,
          null,
          null,
          null,
          null,
          null,
          null,
          null,
          null,
          null,
          null,
          null,
          null,
          null,
          null,
          null
         ]
        },
        {
         "mode": "lines+markers",
         "name": "polynomial_order_1",
         "type": "scatter",
         "x": [
          0.1,
          0.11,
          0.12,
          0.13,
          0.13999999999999999,
          0.14999999999999997,
          0.15999999999999998,
          0.16999999999999998,
          0.17999999999999997,
          0.18999999999999995,
          0.19999999999999996,
          0.20999999999999996,
          0.21999999999999995,
          0.22999999999999995,
          0.23999999999999994,
          0.24999999999999992,
          0.2599999999999999,
          0.2699999999999999,
          0.2799999999999999,
          0.2899999999999999,
          0.29999999999999993,
          0.30999999999999994,
          0.3199999999999999,
          0.32999999999999985,
          0.33999999999999986,
          0.34999999999999987,
          0.3599999999999999,
          0.3699999999999999,
          0.3799999999999999,
          0.3899999999999999,
          0.3999999999999998,
          0.4099999999999998,
          0.4199999999999998,
          0.4299999999999998,
          0.43999999999999984,
          0.44999999999999984,
          0.45999999999999985,
          0.46999999999999986,
          0.47999999999999976,
          0.48999999999999977
         ],
         "y": [
          0,
          0,
          0,
          0,
          0,
          0,
          0,
          0,
          0,
          null,
          null,
          null,
          null,
          null,
          null,
          null,
          null,
          null,
          null,
          null,
          null,
          null,
          null,
          null,
          null,
          null,
          null,
          null,
          null,
          null,
          null,
          null,
          null,
          null,
          null,
          null,
          null,
          null,
          null,
          null
         ]
        },
        {
         "mode": "lines+markers",
         "name": "polynomial_order_2",
         "type": "scatter",
         "x": [
          0.1,
          0.11,
          0.12,
          0.13,
          0.13999999999999999,
          0.14999999999999997,
          0.15999999999999998,
          0.16999999999999998,
          0.17999999999999997,
          0.18999999999999995,
          0.19999999999999996,
          0.20999999999999996,
          0.21999999999999995,
          0.22999999999999995,
          0.23999999999999994,
          0.24999999999999992,
          0.2599999999999999,
          0.2699999999999999,
          0.2799999999999999,
          0.2899999999999999,
          0.29999999999999993,
          0.30999999999999994,
          0.3199999999999999,
          0.32999999999999985,
          0.33999999999999986,
          0.34999999999999987,
          0.3599999999999999,
          0.3699999999999999,
          0.3799999999999999,
          0.3899999999999999,
          0.3999999999999998,
          0.4099999999999998,
          0.4199999999999998,
          0.4299999999999998,
          0.43999999999999984,
          0.44999999999999984,
          0.45999999999999985,
          0.46999999999999986,
          0.47999999999999976,
          0.48999999999999977
         ],
         "y": [
          0,
          0,
          0,
          0,
          0,
          0,
          0,
          0,
          0,
          null,
          null,
          null,
          null,
          null,
          null,
          null,
          null,
          null,
          null,
          null,
          null,
          null,
          null,
          null,
          null,
          null,
          null,
          null,
          null,
          null,
          null,
          null,
          null,
          null,
          null,
          null,
          null,
          null,
          null,
          null
         ]
        },
        {
         "mode": "lines+markers",
         "name": "polynomial_order_3",
         "type": "scatter",
         "x": [
          0.1,
          0.11,
          0.12,
          0.13,
          0.13999999999999999,
          0.14999999999999997,
          0.15999999999999998,
          0.16999999999999998,
          0.17999999999999997,
          0.18999999999999995,
          0.19999999999999996,
          0.20999999999999996,
          0.21999999999999995,
          0.22999999999999995,
          0.23999999999999994,
          0.24999999999999992,
          0.2599999999999999,
          0.2699999999999999,
          0.2799999999999999,
          0.2899999999999999,
          0.29999999999999993,
          0.30999999999999994,
          0.3199999999999999,
          0.32999999999999985,
          0.33999999999999986,
          0.34999999999999987,
          0.3599999999999999,
          0.3699999999999999,
          0.3799999999999999,
          0.3899999999999999,
          0.3999999999999998,
          0.4099999999999998,
          0.4199999999999998,
          0.4299999999999998,
          0.43999999999999984,
          0.44999999999999984,
          0.45999999999999985,
          0.46999999999999986,
          0.47999999999999976,
          0.48999999999999977
         ],
         "y": [
          0,
          0,
          0,
          0,
          0,
          0,
          0,
          0,
          0,
          null,
          null,
          null,
          null,
          null,
          null,
          null,
          null,
          null,
          null,
          null,
          null,
          null,
          null,
          null,
          null,
          null,
          null,
          null,
          null,
          null,
          null,
          null,
          null,
          null,
          null,
          null,
          null,
          null,
          null,
          null
         ]
        },
        {
         "mode": "lines+markers",
         "name": "polynomial_order_5",
         "type": "scatter",
         "x": [
          0.1,
          0.11,
          0.12,
          0.13,
          0.13999999999999999,
          0.14999999999999997,
          0.15999999999999998,
          0.16999999999999998,
          0.17999999999999997,
          0.18999999999999995,
          0.19999999999999996,
          0.20999999999999996,
          0.21999999999999995,
          0.22999999999999995,
          0.23999999999999994,
          0.24999999999999992,
          0.2599999999999999,
          0.2699999999999999,
          0.2799999999999999,
          0.2899999999999999,
          0.29999999999999993,
          0.30999999999999994,
          0.3199999999999999,
          0.32999999999999985,
          0.33999999999999986,
          0.34999999999999987,
          0.3599999999999999,
          0.3699999999999999,
          0.3799999999999999,
          0.3899999999999999,
          0.3999999999999998,
          0.4099999999999998,
          0.4199999999999998,
          0.4299999999999998,
          0.43999999999999984,
          0.44999999999999984,
          0.45999999999999985,
          0.46999999999999986,
          0.47999999999999976,
          0.48999999999999977
         ],
         "y": [
          0,
          0,
          0,
          0,
          0,
          0,
          0,
          0,
          0,
          null,
          null,
          null,
          null,
          null,
          null,
          null,
          null,
          null,
          null,
          null,
          null,
          null,
          null,
          null,
          null,
          null,
          null,
          null,
          null,
          null,
          null,
          null,
          null,
          null,
          null,
          null,
          null,
          null,
          null,
          null
         ]
        },
        {
         "mode": "lines+markers",
         "name": "polynomial_order_7",
         "type": "scatter",
         "x": [
          0.1,
          0.11,
          0.12,
          0.13,
          0.13999999999999999,
          0.14999999999999997,
          0.15999999999999998,
          0.16999999999999998,
          0.17999999999999997,
          0.18999999999999995,
          0.19999999999999996,
          0.20999999999999996,
          0.21999999999999995,
          0.22999999999999995,
          0.23999999999999994,
          0.24999999999999992,
          0.2599999999999999,
          0.2699999999999999,
          0.2799999999999999,
          0.2899999999999999,
          0.29999999999999993,
          0.30999999999999994,
          0.3199999999999999,
          0.32999999999999985,
          0.33999999999999986,
          0.34999999999999987,
          0.3599999999999999,
          0.3699999999999999,
          0.3799999999999999,
          0.3899999999999999,
          0.3999999999999998,
          0.4099999999999998,
          0.4199999999999998,
          0.4299999999999998,
          0.43999999999999984,
          0.44999999999999984,
          0.45999999999999985,
          0.46999999999999986,
          0.47999999999999976,
          0.48999999999999977
         ],
         "y": [
          0,
          0,
          0,
          0,
          0,
          0,
          0,
          0,
          0,
          null,
          null,
          null,
          null,
          null,
          null,
          null,
          null,
          null,
          null,
          null,
          null,
          null,
          null,
          null,
          null,
          null,
          null,
          null,
          null,
          null,
          null,
          null,
          null,
          null,
          null,
          null,
          null,
          null,
          null,
          null
         ]
        },
        {
         "mode": "lines+markers",
         "name": "polynomial_order_9",
         "type": "scatter",
         "x": [
          0.1,
          0.11,
          0.12,
          0.13,
          0.13999999999999999,
          0.14999999999999997,
          0.15999999999999998,
          0.16999999999999998,
          0.17999999999999997,
          0.18999999999999995,
          0.19999999999999996,
          0.20999999999999996,
          0.21999999999999995,
          0.22999999999999995,
          0.23999999999999994,
          0.24999999999999992,
          0.2599999999999999,
          0.2699999999999999,
          0.2799999999999999,
          0.2899999999999999,
          0.29999999999999993,
          0.30999999999999994,
          0.3199999999999999,
          0.32999999999999985,
          0.33999999999999986,
          0.34999999999999987,
          0.3599999999999999,
          0.3699999999999999,
          0.3799999999999999,
          0.3899999999999999,
          0.3999999999999998,
          0.4099999999999998,
          0.4199999999999998,
          0.4299999999999998,
          0.43999999999999984,
          0.44999999999999984,
          0.45999999999999985,
          0.46999999999999986,
          0.47999999999999976,
          0.48999999999999977
         ],
         "y": [
          0,
          0,
          0,
          0,
          0,
          0,
          0,
          0,
          0,
          null,
          null,
          null,
          null,
          null,
          null,
          null,
          null,
          null,
          null,
          null,
          null,
          null,
          null,
          null,
          null,
          null,
          null,
          null,
          null,
          null,
          null,
          null,
          null,
          null,
          null,
          null,
          null,
          null,
          null,
          null
         ]
        },
        {
         "mode": "lines+markers",
         "name": "piecewise_polynomial",
         "type": "scatter",
         "x": [
          0.1,
          0.11,
          0.12,
          0.13,
          0.13999999999999999,
          0.14999999999999997,
          0.15999999999999998,
          0.16999999999999998,
          0.17999999999999997,
          0.18999999999999995,
          0.19999999999999996,
          0.20999999999999996,
          0.21999999999999995,
          0.22999999999999995,
          0.23999999999999994,
          0.24999999999999992,
          0.2599999999999999,
          0.2699999999999999,
          0.2799999999999999,
          0.2899999999999999,
          0.29999999999999993,
          0.30999999999999994,
          0.3199999999999999,
          0.32999999999999985,
          0.33999999999999986,
          0.34999999999999987,
          0.3599999999999999,
          0.3699999999999999,
          0.3799999999999999,
          0.3899999999999999,
          0.3999999999999998,
          0.4099999999999998,
          0.4199999999999998,
          0.4299999999999998,
          0.43999999999999984,
          0.44999999999999984,
          0.45999999999999985,
          0.46999999999999986,
          0.47999999999999976,
          0.48999999999999977
         ],
         "y": [
          0,
          0,
          0,
          0,
          0,
          0,
          0,
          0,
          0,
          null,
          null,
          null,
          null,
          null,
          null,
          null,
          null,
          null,
          null,
          null,
          null,
          null,
          null,
          null,
          null,
          null,
          null,
          null,
          null,
          null,
          null,
          null,
          null,
          null,
          null,
          null,
          null,
          null,
          null,
          null
         ]
        },
        {
         "mode": "lines+markers",
         "name": "spline_order_1",
         "type": "scatter",
         "x": [
          0.1,
          0.11,
          0.12,
          0.13,
          0.13999999999999999,
          0.14999999999999997,
          0.15999999999999998,
          0.16999999999999998,
          0.17999999999999997,
          0.18999999999999995,
          0.19999999999999996,
          0.20999999999999996,
          0.21999999999999995,
          0.22999999999999995,
          0.23999999999999994,
          0.24999999999999992,
          0.2599999999999999,
          0.2699999999999999,
          0.2799999999999999,
          0.2899999999999999,
          0.29999999999999993,
          0.30999999999999994,
          0.3199999999999999,
          0.32999999999999985,
          0.33999999999999986,
          0.34999999999999987,
          0.3599999999999999,
          0.3699999999999999,
          0.3799999999999999,
          0.3899999999999999,
          0.3999999999999998,
          0.4099999999999998,
          0.4199999999999998,
          0.4299999999999998,
          0.43999999999999984,
          0.44999999999999984,
          0.45999999999999985,
          0.46999999999999986,
          0.47999999999999976,
          0.48999999999999977
         ],
         "y": [
          0,
          0,
          0,
          0,
          0,
          0,
          0,
          0,
          0,
          0,
          0,
          0,
          0,
          0,
          0,
          0,
          0,
          0,
          0,
          0,
          0,
          0,
          0,
          0,
          0,
          0,
          0,
          0,
          0,
          0,
          0,
          0,
          0,
          0,
          0,
          0,
          0,
          0,
          0,
          0
         ]
        },
        {
         "mode": "lines+markers",
         "name": "spline_order_2",
         "type": "scatter",
         "x": [
          0.1,
          0.11,
          0.12,
          0.13,
          0.13999999999999999,
          0.14999999999999997,
          0.15999999999999998,
          0.16999999999999998,
          0.17999999999999997,
          0.18999999999999995,
          0.19999999999999996,
          0.20999999999999996,
          0.21999999999999995,
          0.22999999999999995,
          0.23999999999999994,
          0.24999999999999992,
          0.2599999999999999,
          0.2699999999999999,
          0.2799999999999999,
          0.2899999999999999,
          0.29999999999999993,
          0.30999999999999994,
          0.3199999999999999,
          0.32999999999999985,
          0.33999999999999986,
          0.34999999999999987,
          0.3599999999999999,
          0.3699999999999999,
          0.3799999999999999,
          0.3899999999999999,
          0.3999999999999998,
          0.4099999999999998,
          0.4199999999999998,
          0.4299999999999998,
          0.43999999999999984,
          0.44999999999999984,
          0.45999999999999985,
          0.46999999999999986,
          0.47999999999999976,
          0.48999999999999977
         ],
         "y": [
          0,
          0,
          0,
          0,
          0,
          0,
          0,
          0,
          0,
          0,
          0,
          0,
          0,
          0,
          0,
          0,
          0,
          0,
          0,
          0,
          0,
          0,
          0,
          0,
          0,
          0,
          0,
          0,
          0,
          0,
          0,
          0,
          0,
          0,
          0,
          0,
          0,
          0,
          0,
          0
         ]
        },
        {
         "mode": "lines+markers",
         "name": "spline_order_3",
         "type": "scatter",
         "x": [
          0.1,
          0.11,
          0.12,
          0.13,
          0.13999999999999999,
          0.14999999999999997,
          0.15999999999999998,
          0.16999999999999998,
          0.17999999999999997,
          0.18999999999999995,
          0.19999999999999996,
          0.20999999999999996,
          0.21999999999999995,
          0.22999999999999995,
          0.23999999999999994,
          0.24999999999999992,
          0.2599999999999999,
          0.2699999999999999,
          0.2799999999999999,
          0.2899999999999999,
          0.29999999999999993,
          0.30999999999999994,
          0.3199999999999999,
          0.32999999999999985,
          0.33999999999999986,
          0.34999999999999987,
          0.3599999999999999,
          0.3699999999999999,
          0.3799999999999999,
          0.3899999999999999,
          0.3999999999999998,
          0.4099999999999998,
          0.4199999999999998,
          0.4299999999999998,
          0.43999999999999984,
          0.44999999999999984,
          0.45999999999999985,
          0.46999999999999986,
          0.47999999999999976,
          0.48999999999999977
         ],
         "y": [
          0,
          0,
          0,
          0,
          0,
          0,
          0,
          0,
          0,
          0,
          0,
          0,
          0,
          0,
          0,
          0,
          0,
          0,
          0,
          0,
          0,
          0,
          0,
          0,
          0,
          0,
          0,
          0,
          0,
          0,
          0,
          0,
          0,
          0,
          0,
          0,
          0,
          0,
          0,
          0
         ]
        },
        {
         "mode": "lines+markers",
         "name": "spline_order_4",
         "type": "scatter",
         "x": [
          0.1,
          0.11,
          0.12,
          0.13,
          0.13999999999999999,
          0.14999999999999997,
          0.15999999999999998,
          0.16999999999999998,
          0.17999999999999997,
          0.18999999999999995,
          0.19999999999999996,
          0.20999999999999996,
          0.21999999999999995,
          0.22999999999999995,
          0.23999999999999994,
          0.24999999999999992,
          0.2599999999999999,
          0.2699999999999999,
          0.2799999999999999,
          0.2899999999999999,
          0.29999999999999993,
          0.30999999999999994,
          0.3199999999999999,
          0.32999999999999985,
          0.33999999999999986,
          0.34999999999999987,
          0.3599999999999999,
          0.3699999999999999,
          0.3799999999999999,
          0.3899999999999999,
          0.3999999999999998,
          0.4099999999999998,
          0.4199999999999998,
          0.4299999999999998,
          0.43999999999999984,
          0.44999999999999984,
          0.45999999999999985,
          0.46999999999999986,
          0.47999999999999976,
          0.48999999999999977
         ],
         "y": [
          0,
          0,
          0,
          0,
          0,
          0,
          0,
          0,
          0,
          0,
          0,
          0,
          0,
          0,
          0,
          0,
          0,
          0,
          0,
          0,
          0,
          0,
          0,
          0,
          0,
          0,
          0,
          0,
          0,
          0,
          0,
          0,
          0,
          0,
          0,
          0,
          0,
          0,
          0,
          0
         ]
        },
        {
         "mode": "lines+markers",
         "name": "spline_order_5",
         "type": "scatter",
         "x": [
          0.1,
          0.11,
          0.12,
          0.13,
          0.13999999999999999,
          0.14999999999999997,
          0.15999999999999998,
          0.16999999999999998,
          0.17999999999999997,
          0.18999999999999995,
          0.19999999999999996,
          0.20999999999999996,
          0.21999999999999995,
          0.22999999999999995,
          0.23999999999999994,
          0.24999999999999992,
          0.2599999999999999,
          0.2699999999999999,
          0.2799999999999999,
          0.2899999999999999,
          0.29999999999999993,
          0.30999999999999994,
          0.3199999999999999,
          0.32999999999999985,
          0.33999999999999986,
          0.34999999999999987,
          0.3599999999999999,
          0.3699999999999999,
          0.3799999999999999,
          0.3899999999999999,
          0.3999999999999998,
          0.4099999999999998,
          0.4199999999999998,
          0.4299999999999998,
          0.43999999999999984,
          0.44999999999999984,
          0.45999999999999985,
          0.46999999999999986,
          0.47999999999999976,
          0.48999999999999977
         ],
         "y": [
          0,
          0,
          0,
          0,
          0,
          0,
          0,
          0,
          0,
          0,
          0,
          0,
          0,
          0,
          0,
          0,
          0,
          0,
          0,
          0,
          0,
          0,
          0,
          0,
          0,
          0,
          0,
          0,
          0,
          0,
          0,
          0,
          0,
          0,
          0,
          0,
          0,
          0,
          0,
          0
         ]
        },
        {
         "mode": "lines+markers",
         "name": "akima",
         "type": "scatter",
         "x": [
          0.1,
          0.11,
          0.12,
          0.13,
          0.13999999999999999,
          0.14999999999999997,
          0.15999999999999998,
          0.16999999999999998,
          0.17999999999999997,
          0.18999999999999995,
          0.19999999999999996,
          0.20999999999999996,
          0.21999999999999995,
          0.22999999999999995,
          0.23999999999999994,
          0.24999999999999992,
          0.2599999999999999,
          0.2699999999999999,
          0.2799999999999999,
          0.2899999999999999,
          0.29999999999999993,
          0.30999999999999994,
          0.3199999999999999,
          0.32999999999999985,
          0.33999999999999986,
          0.34999999999999987,
          0.3599999999999999,
          0.3699999999999999,
          0.3799999999999999,
          0.3899999999999999,
          0.3999999999999998,
          0.4099999999999998,
          0.4199999999999998,
          0.4299999999999998,
          0.43999999999999984,
          0.44999999999999984,
          0.45999999999999985,
          0.46999999999999986,
          0.47999999999999976,
          0.48999999999999977
         ],
         "y": [
          0,
          0,
          0,
          0,
          0,
          0,
          0,
          0,
          0,
          null,
          null,
          null,
          null,
          null,
          null,
          null,
          null,
          null,
          null,
          null,
          null,
          null,
          null,
          null,
          null,
          null,
          null,
          null,
          null,
          null,
          null,
          null,
          null,
          null,
          null,
          null,
          null,
          null,
          null,
          null
         ]
        },
        {
         "mode": "lines+markers",
         "name": "cubicspline",
         "type": "scatter",
         "x": [
          0.1,
          0.11,
          0.12,
          0.13,
          0.13999999999999999,
          0.14999999999999997,
          0.15999999999999998,
          0.16999999999999998,
          0.17999999999999997,
          0.18999999999999995,
          0.19999999999999996,
          0.20999999999999996,
          0.21999999999999995,
          0.22999999999999995,
          0.23999999999999994,
          0.24999999999999992,
          0.2599999999999999,
          0.2699999999999999,
          0.2799999999999999,
          0.2899999999999999,
          0.29999999999999993,
          0.30999999999999994,
          0.3199999999999999,
          0.32999999999999985,
          0.33999999999999986,
          0.34999999999999987,
          0.3599999999999999,
          0.3699999999999999,
          0.3799999999999999,
          0.3899999999999999,
          0.3999999999999998,
          0.4099999999999998,
          0.4199999999999998,
          0.4299999999999998,
          0.43999999999999984,
          0.44999999999999984,
          0.45999999999999985,
          0.46999999999999986,
          0.47999999999999976,
          0.48999999999999977
         ],
         "y": [
          0,
          0,
          0,
          0,
          0,
          0,
          0,
          0,
          0,
          0,
          0,
          0,
          0,
          0,
          0,
          0,
          0,
          0,
          0,
          0,
          0,
          0,
          0,
          0,
          0,
          0,
          0,
          0,
          0,
          0,
          0,
          0,
          0,
          0,
          0,
          0,
          0,
          0,
          0,
          0
         ]
        },
        {
         "mode": "lines+markers",
         "name": "from_derivatives",
         "type": "scatter",
         "x": [
          0.1,
          0.11,
          0.12,
          0.13,
          0.13999999999999999,
          0.14999999999999997,
          0.15999999999999998,
          0.16999999999999998,
          0.17999999999999997,
          0.18999999999999995,
          0.19999999999999996,
          0.20999999999999996,
          0.21999999999999995,
          0.22999999999999995,
          0.23999999999999994,
          0.24999999999999992,
          0.2599999999999999,
          0.2699999999999999,
          0.2799999999999999,
          0.2899999999999999,
          0.29999999999999993,
          0.30999999999999994,
          0.3199999999999999,
          0.32999999999999985,
          0.33999999999999986,
          0.34999999999999987,
          0.3599999999999999,
          0.3699999999999999,
          0.3799999999999999,
          0.3899999999999999,
          0.3999999999999998,
          0.4099999999999998,
          0.4199999999999998,
          0.4299999999999998,
          0.43999999999999984,
          0.44999999999999984,
          0.45999999999999985,
          0.46999999999999986,
          0.47999999999999976,
          0.48999999999999977
         ],
         "y": [
          0,
          0,
          0,
          0,
          0,
          0,
          0,
          0,
          0,
          null,
          null,
          null,
          null,
          null,
          null,
          null,
          null,
          null,
          null,
          null,
          null,
          null,
          null,
          null,
          null,
          null,
          null,
          null,
          null,
          null,
          null,
          null,
          null,
          null,
          null,
          null,
          null,
          null,
          null,
          null
         ]
        }
       ],
       "layout": {
        "legend": {
         "title": {
          "text": "Method"
         }
        },
        "template": {
         "data": {
          "bar": [
           {
            "error_x": {
             "color": "#2a3f5f"
            },
            "error_y": {
             "color": "#2a3f5f"
            },
            "marker": {
             "line": {
              "color": "#E5ECF6",
              "width": 0.5
             },
             "pattern": {
              "fillmode": "overlay",
              "size": 10,
              "solidity": 0.2
             }
            },
            "type": "bar"
           }
          ],
          "barpolar": [
           {
            "marker": {
             "line": {
              "color": "#E5ECF6",
              "width": 0.5
             },
             "pattern": {
              "fillmode": "overlay",
              "size": 10,
              "solidity": 0.2
             }
            },
            "type": "barpolar"
           }
          ],
          "carpet": [
           {
            "aaxis": {
             "endlinecolor": "#2a3f5f",
             "gridcolor": "white",
             "linecolor": "white",
             "minorgridcolor": "white",
             "startlinecolor": "#2a3f5f"
            },
            "baxis": {
             "endlinecolor": "#2a3f5f",
             "gridcolor": "white",
             "linecolor": "white",
             "minorgridcolor": "white",
             "startlinecolor": "#2a3f5f"
            },
            "type": "carpet"
           }
          ],
          "choropleth": [
           {
            "colorbar": {
             "outlinewidth": 0,
             "ticks": ""
            },
            "type": "choropleth"
           }
          ],
          "contour": [
           {
            "colorbar": {
             "outlinewidth": 0,
             "ticks": ""
            },
            "colorscale": [
             [
              0,
              "#0d0887"
             ],
             [
              0.1111111111111111,
              "#46039f"
             ],
             [
              0.2222222222222222,
              "#7201a8"
             ],
             [
              0.3333333333333333,
              "#9c179e"
             ],
             [
              0.4444444444444444,
              "#bd3786"
             ],
             [
              0.5555555555555556,
              "#d8576b"
             ],
             [
              0.6666666666666666,
              "#ed7953"
             ],
             [
              0.7777777777777778,
              "#fb9f3a"
             ],
             [
              0.8888888888888888,
              "#fdca26"
             ],
             [
              1,
              "#f0f921"
             ]
            ],
            "type": "contour"
           }
          ],
          "contourcarpet": [
           {
            "colorbar": {
             "outlinewidth": 0,
             "ticks": ""
            },
            "type": "contourcarpet"
           }
          ],
          "heatmap": [
           {
            "colorbar": {
             "outlinewidth": 0,
             "ticks": ""
            },
            "colorscale": [
             [
              0,
              "#0d0887"
             ],
             [
              0.1111111111111111,
              "#46039f"
             ],
             [
              0.2222222222222222,
              "#7201a8"
             ],
             [
              0.3333333333333333,
              "#9c179e"
             ],
             [
              0.4444444444444444,
              "#bd3786"
             ],
             [
              0.5555555555555556,
              "#d8576b"
             ],
             [
              0.6666666666666666,
              "#ed7953"
             ],
             [
              0.7777777777777778,
              "#fb9f3a"
             ],
             [
              0.8888888888888888,
              "#fdca26"
             ],
             [
              1,
              "#f0f921"
             ]
            ],
            "type": "heatmap"
           }
          ],
          "heatmapgl": [
           {
            "colorbar": {
             "outlinewidth": 0,
             "ticks": ""
            },
            "colorscale": [
             [
              0,
              "#0d0887"
             ],
             [
              0.1111111111111111,
              "#46039f"
             ],
             [
              0.2222222222222222,
              "#7201a8"
             ],
             [
              0.3333333333333333,
              "#9c179e"
             ],
             [
              0.4444444444444444,
              "#bd3786"
             ],
             [
              0.5555555555555556,
              "#d8576b"
             ],
             [
              0.6666666666666666,
              "#ed7953"
             ],
             [
              0.7777777777777778,
              "#fb9f3a"
             ],
             [
              0.8888888888888888,
              "#fdca26"
             ],
             [
              1,
              "#f0f921"
             ]
            ],
            "type": "heatmapgl"
           }
          ],
          "histogram": [
           {
            "marker": {
             "pattern": {
              "fillmode": "overlay",
              "size": 10,
              "solidity": 0.2
             }
            },
            "type": "histogram"
           }
          ],
          "histogram2d": [
           {
            "colorbar": {
             "outlinewidth": 0,
             "ticks": ""
            },
            "colorscale": [
             [
              0,
              "#0d0887"
             ],
             [
              0.1111111111111111,
              "#46039f"
             ],
             [
              0.2222222222222222,
              "#7201a8"
             ],
             [
              0.3333333333333333,
              "#9c179e"
             ],
             [
              0.4444444444444444,
              "#bd3786"
             ],
             [
              0.5555555555555556,
              "#d8576b"
             ],
             [
              0.6666666666666666,
              "#ed7953"
             ],
             [
              0.7777777777777778,
              "#fb9f3a"
             ],
             [
              0.8888888888888888,
              "#fdca26"
             ],
             [
              1,
              "#f0f921"
             ]
            ],
            "type": "histogram2d"
           }
          ],
          "histogram2dcontour": [
           {
            "colorbar": {
             "outlinewidth": 0,
             "ticks": ""
            },
            "colorscale": [
             [
              0,
              "#0d0887"
             ],
             [
              0.1111111111111111,
              "#46039f"
             ],
             [
              0.2222222222222222,
              "#7201a8"
             ],
             [
              0.3333333333333333,
              "#9c179e"
             ],
             [
              0.4444444444444444,
              "#bd3786"
             ],
             [
              0.5555555555555556,
              "#d8576b"
             ],
             [
              0.6666666666666666,
              "#ed7953"
             ],
             [
              0.7777777777777778,
              "#fb9f3a"
             ],
             [
              0.8888888888888888,
              "#fdca26"
             ],
             [
              1,
              "#f0f921"
             ]
            ],
            "type": "histogram2dcontour"
           }
          ],
          "mesh3d": [
           {
            "colorbar": {
             "outlinewidth": 0,
             "ticks": ""
            },
            "type": "mesh3d"
           }
          ],
          "parcoords": [
           {
            "line": {
             "colorbar": {
              "outlinewidth": 0,
              "ticks": ""
             }
            },
            "type": "parcoords"
           }
          ],
          "pie": [
           {
            "automargin": true,
            "type": "pie"
           }
          ],
          "scatter": [
           {
            "fillpattern": {
             "fillmode": "overlay",
             "size": 10,
             "solidity": 0.2
            },
            "type": "scatter"
           }
          ],
          "scatter3d": [
           {
            "line": {
             "colorbar": {
              "outlinewidth": 0,
              "ticks": ""
             }
            },
            "marker": {
             "colorbar": {
              "outlinewidth": 0,
              "ticks": ""
             }
            },
            "type": "scatter3d"
           }
          ],
          "scattercarpet": [
           {
            "marker": {
             "colorbar": {
              "outlinewidth": 0,
              "ticks": ""
             }
            },
            "type": "scattercarpet"
           }
          ],
          "scattergeo": [
           {
            "marker": {
             "colorbar": {
              "outlinewidth": 0,
              "ticks": ""
             }
            },
            "type": "scattergeo"
           }
          ],
          "scattergl": [
           {
            "marker": {
             "colorbar": {
              "outlinewidth": 0,
              "ticks": ""
             }
            },
            "type": "scattergl"
           }
          ],
          "scattermapbox": [
           {
            "marker": {
             "colorbar": {
              "outlinewidth": 0,
              "ticks": ""
             }
            },
            "type": "scattermapbox"
           }
          ],
          "scatterpolar": [
           {
            "marker": {
             "colorbar": {
              "outlinewidth": 0,
              "ticks": ""
             }
            },
            "type": "scatterpolar"
           }
          ],
          "scatterpolargl": [
           {
            "marker": {
             "colorbar": {
              "outlinewidth": 0,
              "ticks": ""
             }
            },
            "type": "scatterpolargl"
           }
          ],
          "scatterternary": [
           {
            "marker": {
             "colorbar": {
              "outlinewidth": 0,
              "ticks": ""
             }
            },
            "type": "scatterternary"
           }
          ],
          "surface": [
           {
            "colorbar": {
             "outlinewidth": 0,
             "ticks": ""
            },
            "colorscale": [
             [
              0,
              "#0d0887"
             ],
             [
              0.1111111111111111,
              "#46039f"
             ],
             [
              0.2222222222222222,
              "#7201a8"
             ],
             [
              0.3333333333333333,
              "#9c179e"
             ],
             [
              0.4444444444444444,
              "#bd3786"
             ],
             [
              0.5555555555555556,
              "#d8576b"
             ],
             [
              0.6666666666666666,
              "#ed7953"
             ],
             [
              0.7777777777777778,
              "#fb9f3a"
             ],
             [
              0.8888888888888888,
              "#fdca26"
             ],
             [
              1,
              "#f0f921"
             ]
            ],
            "type": "surface"
           }
          ],
          "table": [
           {
            "cells": {
             "fill": {
              "color": "#EBF0F8"
             },
             "line": {
              "color": "white"
             }
            },
            "header": {
             "fill": {
              "color": "#C8D4E3"
             },
             "line": {
              "color": "white"
             }
            },
            "type": "table"
           }
          ]
         },
         "layout": {
          "annotationdefaults": {
           "arrowcolor": "#2a3f5f",
           "arrowhead": 0,
           "arrowwidth": 1
          },
          "autotypenumbers": "strict",
          "coloraxis": {
           "colorbar": {
            "outlinewidth": 0,
            "ticks": ""
           }
          },
          "colorscale": {
           "diverging": [
            [
             0,
             "#8e0152"
            ],
            [
             0.1,
             "#c51b7d"
            ],
            [
             0.2,
             "#de77ae"
            ],
            [
             0.3,
             "#f1b6da"
            ],
            [
             0.4,
             "#fde0ef"
            ],
            [
             0.5,
             "#f7f7f7"
            ],
            [
             0.6,
             "#e6f5d0"
            ],
            [
             0.7,
             "#b8e186"
            ],
            [
             0.8,
             "#7fbc41"
            ],
            [
             0.9,
             "#4d9221"
            ],
            [
             1,
             "#276419"
            ]
           ],
           "sequential": [
            [
             0,
             "#0d0887"
            ],
            [
             0.1111111111111111,
             "#46039f"
            ],
            [
             0.2222222222222222,
             "#7201a8"
            ],
            [
             0.3333333333333333,
             "#9c179e"
            ],
            [
             0.4444444444444444,
             "#bd3786"
            ],
            [
             0.5555555555555556,
             "#d8576b"
            ],
            [
             0.6666666666666666,
             "#ed7953"
            ],
            [
             0.7777777777777778,
             "#fb9f3a"
            ],
            [
             0.8888888888888888,
             "#fdca26"
            ],
            [
             1,
             "#f0f921"
            ]
           ],
           "sequentialminus": [
            [
             0,
             "#0d0887"
            ],
            [
             0.1111111111111111,
             "#46039f"
            ],
            [
             0.2222222222222222,
             "#7201a8"
            ],
            [
             0.3333333333333333,
             "#9c179e"
            ],
            [
             0.4444444444444444,
             "#bd3786"
            ],
            [
             0.5555555555555556,
             "#d8576b"
            ],
            [
             0.6666666666666666,
             "#ed7953"
            ],
            [
             0.7777777777777778,
             "#fb9f3a"
            ],
            [
             0.8888888888888888,
             "#fdca26"
            ],
            [
             1,
             "#f0f921"
            ]
           ]
          },
          "colorway": [
           "#636efa",
           "#EF553B",
           "#00cc96",
           "#ab63fa",
           "#FFA15A",
           "#19d3f3",
           "#FF6692",
           "#B6E880",
           "#FF97FF",
           "#FECB52"
          ],
          "font": {
           "color": "#2a3f5f"
          },
          "geo": {
           "bgcolor": "white",
           "lakecolor": "white",
           "landcolor": "#E5ECF6",
           "showlakes": true,
           "showland": true,
           "subunitcolor": "white"
          },
          "hoverlabel": {
           "align": "left"
          },
          "hovermode": "closest",
          "mapbox": {
           "style": "light"
          },
          "paper_bgcolor": "white",
          "plot_bgcolor": "#E5ECF6",
          "polar": {
           "angularaxis": {
            "gridcolor": "white",
            "linecolor": "white",
            "ticks": ""
           },
           "bgcolor": "#E5ECF6",
           "radialaxis": {
            "gridcolor": "white",
            "linecolor": "white",
            "ticks": ""
           }
          },
          "scene": {
           "xaxis": {
            "backgroundcolor": "#E5ECF6",
            "gridcolor": "white",
            "gridwidth": 2,
            "linecolor": "white",
            "showbackground": true,
            "ticks": "",
            "zerolinecolor": "white"
           },
           "yaxis": {
            "backgroundcolor": "#E5ECF6",
            "gridcolor": "white",
            "gridwidth": 2,
            "linecolor": "white",
            "showbackground": true,
            "ticks": "",
            "zerolinecolor": "white"
           },
           "zaxis": {
            "backgroundcolor": "#E5ECF6",
            "gridcolor": "white",
            "gridwidth": 2,
            "linecolor": "white",
            "showbackground": true,
            "ticks": "",
            "zerolinecolor": "white"
           }
          },
          "shapedefaults": {
           "line": {
            "color": "#2a3f5f"
           }
          },
          "ternary": {
           "aaxis": {
            "gridcolor": "white",
            "linecolor": "white",
            "ticks": ""
           },
           "baxis": {
            "gridcolor": "white",
            "linecolor": "white",
            "ticks": ""
           },
           "bgcolor": "#E5ECF6",
           "caxis": {
            "gridcolor": "white",
            "linecolor": "white",
            "ticks": ""
           }
          },
          "title": {
           "x": 0.05
          },
          "xaxis": {
           "automargin": true,
           "gridcolor": "white",
           "linecolor": "white",
           "ticks": "",
           "title": {
            "standoff": 15
           },
           "zerolinecolor": "white",
           "zerolinewidth": 2
          },
          "yaxis": {
           "automargin": true,
           "gridcolor": "white",
           "linecolor": "white",
           "ticks": "",
           "title": {
            "standoff": 15
           },
           "zerolinecolor": "white",
           "zerolinewidth": 2
          }
         }
        },
        "title": {
         "text": "Performance Development for Feature year"
        },
        "xaxis": {
         "title": {
          "text": "Missing Rate"
         }
        },
        "yaxis": {
         "title": {
          "text": "Difference between original and interpolated data"
         }
        }
       }
      }
     },
     "metadata": {},
     "output_type": "display_data"
    },
    {
     "data": {
      "application/vnd.plotly.v1+json": {
       "config": {
        "plotlyServerURL": "https://plot.ly"
       },
       "data": [
        {
         "mode": "lines+markers",
         "name": "linear",
         "type": "scatter",
         "x": [
          0.1,
          0.11,
          0.12,
          0.13,
          0.13999999999999999,
          0.14999999999999997,
          0.15999999999999998,
          0.16999999999999998,
          0.17999999999999997,
          0.18999999999999995,
          0.19999999999999996,
          0.20999999999999996,
          0.21999999999999995,
          0.22999999999999995,
          0.23999999999999994,
          0.24999999999999992,
          0.2599999999999999,
          0.2699999999999999,
          0.2799999999999999,
          0.2899999999999999,
          0.29999999999999993,
          0.30999999999999994,
          0.3199999999999999,
          0.32999999999999985,
          0.33999999999999986,
          0.34999999999999987,
          0.3599999999999999,
          0.3699999999999999,
          0.3799999999999999,
          0.3899999999999999,
          0.3999999999999998,
          0.4099999999999998,
          0.4199999999999998,
          0.4299999999999998,
          0.43999999999999984,
          0.44999999999999984,
          0.45999999999999985,
          0.46999999999999986,
          0.47999999999999976,
          0.48999999999999977
         ],
         "y": [
          0,
          0,
          0,
          0,
          0,
          0,
          0,
          0,
          0,
          0,
          0,
          0,
          0,
          0,
          0,
          0,
          0,
          0,
          0,
          0,
          0,
          0,
          0,
          0,
          0,
          0,
          0,
          0,
          0,
          0,
          0,
          0,
          0,
          0,
          0,
          0,
          0,
          0,
          0,
          0
         ]
        },
        {
         "mode": "lines+markers",
         "name": "nearest",
         "type": "scatter",
         "x": [
          0.1,
          0.11,
          0.12,
          0.13,
          0.13999999999999999,
          0.14999999999999997,
          0.15999999999999998,
          0.16999999999999998,
          0.17999999999999997,
          0.18999999999999995,
          0.19999999999999996,
          0.20999999999999996,
          0.21999999999999995,
          0.22999999999999995,
          0.23999999999999994,
          0.24999999999999992,
          0.2599999999999999,
          0.2699999999999999,
          0.2799999999999999,
          0.2899999999999999,
          0.29999999999999993,
          0.30999999999999994,
          0.3199999999999999,
          0.32999999999999985,
          0.33999999999999986,
          0.34999999999999987,
          0.3599999999999999,
          0.3699999999999999,
          0.3799999999999999,
          0.3899999999999999,
          0.3999999999999998,
          0.4099999999999998,
          0.4199999999999998,
          0.4299999999999998,
          0.43999999999999984,
          0.44999999999999984,
          0.45999999999999985,
          0.46999999999999986,
          0.47999999999999976,
          0.48999999999999977
         ],
         "y": [
          0,
          0,
          0,
          0,
          0,
          0,
          0,
          0,
          0,
          null,
          null,
          null,
          null,
          null,
          null,
          null,
          null,
          null,
          null,
          null,
          null,
          null,
          null,
          null,
          null,
          null,
          null,
          null,
          null,
          null,
          null,
          null,
          null,
          null,
          null,
          null,
          null,
          null,
          null,
          null
         ]
        },
        {
         "mode": "lines+markers",
         "name": "zero",
         "type": "scatter",
         "x": [
          0.1,
          0.11,
          0.12,
          0.13,
          0.13999999999999999,
          0.14999999999999997,
          0.15999999999999998,
          0.16999999999999998,
          0.17999999999999997,
          0.18999999999999995,
          0.19999999999999996,
          0.20999999999999996,
          0.21999999999999995,
          0.22999999999999995,
          0.23999999999999994,
          0.24999999999999992,
          0.2599999999999999,
          0.2699999999999999,
          0.2799999999999999,
          0.2899999999999999,
          0.29999999999999993,
          0.30999999999999994,
          0.3199999999999999,
          0.32999999999999985,
          0.33999999999999986,
          0.34999999999999987,
          0.3599999999999999,
          0.3699999999999999,
          0.3799999999999999,
          0.3899999999999999,
          0.3999999999999998,
          0.4099999999999998,
          0.4199999999999998,
          0.4299999999999998,
          0.43999999999999984,
          0.44999999999999984,
          0.45999999999999985,
          0.46999999999999986,
          0.47999999999999976,
          0.48999999999999977
         ],
         "y": [
          0,
          0,
          0,
          0,
          0,
          0,
          0,
          0,
          0,
          null,
          null,
          null,
          null,
          null,
          null,
          null,
          null,
          null,
          null,
          null,
          null,
          null,
          null,
          null,
          null,
          null,
          null,
          null,
          null,
          null,
          null,
          null,
          null,
          null,
          null,
          null,
          null,
          null,
          null,
          null
         ]
        },
        {
         "mode": "lines+markers",
         "name": "slinear",
         "type": "scatter",
         "x": [
          0.1,
          0.11,
          0.12,
          0.13,
          0.13999999999999999,
          0.14999999999999997,
          0.15999999999999998,
          0.16999999999999998,
          0.17999999999999997,
          0.18999999999999995,
          0.19999999999999996,
          0.20999999999999996,
          0.21999999999999995,
          0.22999999999999995,
          0.23999999999999994,
          0.24999999999999992,
          0.2599999999999999,
          0.2699999999999999,
          0.2799999999999999,
          0.2899999999999999,
          0.29999999999999993,
          0.30999999999999994,
          0.3199999999999999,
          0.32999999999999985,
          0.33999999999999986,
          0.34999999999999987,
          0.3599999999999999,
          0.3699999999999999,
          0.3799999999999999,
          0.3899999999999999,
          0.3999999999999998,
          0.4099999999999998,
          0.4199999999999998,
          0.4299999999999998,
          0.43999999999999984,
          0.44999999999999984,
          0.45999999999999985,
          0.46999999999999986,
          0.47999999999999976,
          0.48999999999999977
         ],
         "y": [
          0,
          0,
          0,
          0,
          0,
          0,
          0,
          0,
          0,
          null,
          null,
          null,
          null,
          null,
          null,
          null,
          null,
          null,
          null,
          null,
          null,
          null,
          null,
          null,
          null,
          null,
          null,
          null,
          null,
          null,
          null,
          null,
          null,
          null,
          null,
          null,
          null,
          null,
          null,
          null
         ]
        },
        {
         "mode": "lines+markers",
         "name": "quadratic",
         "type": "scatter",
         "x": [
          0.1,
          0.11,
          0.12,
          0.13,
          0.13999999999999999,
          0.14999999999999997,
          0.15999999999999998,
          0.16999999999999998,
          0.17999999999999997,
          0.18999999999999995,
          0.19999999999999996,
          0.20999999999999996,
          0.21999999999999995,
          0.22999999999999995,
          0.23999999999999994,
          0.24999999999999992,
          0.2599999999999999,
          0.2699999999999999,
          0.2799999999999999,
          0.2899999999999999,
          0.29999999999999993,
          0.30999999999999994,
          0.3199999999999999,
          0.32999999999999985,
          0.33999999999999986,
          0.34999999999999987,
          0.3599999999999999,
          0.3699999999999999,
          0.3799999999999999,
          0.3899999999999999,
          0.3999999999999998,
          0.4099999999999998,
          0.4199999999999998,
          0.4299999999999998,
          0.43999999999999984,
          0.44999999999999984,
          0.45999999999999985,
          0.46999999999999986,
          0.47999999999999976,
          0.48999999999999977
         ],
         "y": [
          0.0001,
          0.0001,
          0.0001,
          0.0001,
          0.0001,
          0.0001,
          0.0001,
          0,
          0,
          null,
          null,
          null,
          null,
          null,
          null,
          null,
          null,
          null,
          null,
          null,
          null,
          null,
          null,
          null,
          null,
          null,
          null,
          null,
          null,
          null,
          null,
          null,
          null,
          null,
          null,
          null,
          null,
          null,
          null,
          null
         ]
        },
        {
         "mode": "lines+markers",
         "name": "cubic",
         "type": "scatter",
         "x": [
          0.1,
          0.11,
          0.12,
          0.13,
          0.13999999999999999,
          0.14999999999999997,
          0.15999999999999998,
          0.16999999999999998,
          0.17999999999999997,
          0.18999999999999995,
          0.19999999999999996,
          0.20999999999999996,
          0.21999999999999995,
          0.22999999999999995,
          0.23999999999999994,
          0.24999999999999992,
          0.2599999999999999,
          0.2699999999999999,
          0.2799999999999999,
          0.2899999999999999,
          0.29999999999999993,
          0.30999999999999994,
          0.3199999999999999,
          0.32999999999999985,
          0.33999999999999986,
          0.34999999999999987,
          0.3599999999999999,
          0.3699999999999999,
          0.3799999999999999,
          0.3899999999999999,
          0.3999999999999998,
          0.4099999999999998,
          0.4199999999999998,
          0.4299999999999998,
          0.43999999999999984,
          0.44999999999999984,
          0.45999999999999985,
          0.46999999999999986,
          0.47999999999999976,
          0.48999999999999977
         ],
         "y": [
          0.0003,
          0.0002,
          0.0002,
          0.0002,
          0.0002,
          0.0002,
          0.0002,
          0.0002,
          0.0001,
          null,
          null,
          null,
          null,
          null,
          null,
          null,
          null,
          null,
          null,
          null,
          null,
          null,
          null,
          null,
          null,
          null,
          null,
          null,
          null,
          null,
          null,
          null,
          null,
          null,
          null,
          null,
          null,
          null,
          null,
          null
         ]
        },
        {
         "mode": "lines+markers",
         "name": "polynomial_order_1",
         "type": "scatter",
         "x": [
          0.1,
          0.11,
          0.12,
          0.13,
          0.13999999999999999,
          0.14999999999999997,
          0.15999999999999998,
          0.16999999999999998,
          0.17999999999999997,
          0.18999999999999995,
          0.19999999999999996,
          0.20999999999999996,
          0.21999999999999995,
          0.22999999999999995,
          0.23999999999999994,
          0.24999999999999992,
          0.2599999999999999,
          0.2699999999999999,
          0.2799999999999999,
          0.2899999999999999,
          0.29999999999999993,
          0.30999999999999994,
          0.3199999999999999,
          0.32999999999999985,
          0.33999999999999986,
          0.34999999999999987,
          0.3599999999999999,
          0.3699999999999999,
          0.3799999999999999,
          0.3899999999999999,
          0.3999999999999998,
          0.4099999999999998,
          0.4199999999999998,
          0.4299999999999998,
          0.43999999999999984,
          0.44999999999999984,
          0.45999999999999985,
          0.46999999999999986,
          0.47999999999999976,
          0.48999999999999977
         ],
         "y": [
          0,
          0,
          0,
          0,
          0,
          0,
          0,
          0,
          0,
          null,
          null,
          null,
          null,
          null,
          null,
          null,
          null,
          null,
          null,
          null,
          null,
          null,
          null,
          null,
          null,
          null,
          null,
          null,
          null,
          null,
          null,
          null,
          null,
          null,
          null,
          null,
          null,
          null,
          null,
          null
         ]
        },
        {
         "mode": "lines+markers",
         "name": "polynomial_order_2",
         "type": "scatter",
         "x": [
          0.1,
          0.11,
          0.12,
          0.13,
          0.13999999999999999,
          0.14999999999999997,
          0.15999999999999998,
          0.16999999999999998,
          0.17999999999999997,
          0.18999999999999995,
          0.19999999999999996,
          0.20999999999999996,
          0.21999999999999995,
          0.22999999999999995,
          0.23999999999999994,
          0.24999999999999992,
          0.2599999999999999,
          0.2699999999999999,
          0.2799999999999999,
          0.2899999999999999,
          0.29999999999999993,
          0.30999999999999994,
          0.3199999999999999,
          0.32999999999999985,
          0.33999999999999986,
          0.34999999999999987,
          0.3599999999999999,
          0.3699999999999999,
          0.3799999999999999,
          0.3899999999999999,
          0.3999999999999998,
          0.4099999999999998,
          0.4199999999999998,
          0.4299999999999998,
          0.43999999999999984,
          0.44999999999999984,
          0.45999999999999985,
          0.46999999999999986,
          0.47999999999999976,
          0.48999999999999977
         ],
         "y": [
          0.0001,
          0.0001,
          0.0001,
          0.0001,
          0.0001,
          0.0001,
          0.0001,
          0,
          0,
          null,
          null,
          null,
          null,
          null,
          null,
          null,
          null,
          null,
          null,
          null,
          null,
          null,
          null,
          null,
          null,
          null,
          null,
          null,
          null,
          null,
          null,
          null,
          null,
          null,
          null,
          null,
          null,
          null,
          null,
          null
         ]
        },
        {
         "mode": "lines+markers",
         "name": "polynomial_order_3",
         "type": "scatter",
         "x": [
          0.1,
          0.11,
          0.12,
          0.13,
          0.13999999999999999,
          0.14999999999999997,
          0.15999999999999998,
          0.16999999999999998,
          0.17999999999999997,
          0.18999999999999995,
          0.19999999999999996,
          0.20999999999999996,
          0.21999999999999995,
          0.22999999999999995,
          0.23999999999999994,
          0.24999999999999992,
          0.2599999999999999,
          0.2699999999999999,
          0.2799999999999999,
          0.2899999999999999,
          0.29999999999999993,
          0.30999999999999994,
          0.3199999999999999,
          0.32999999999999985,
          0.33999999999999986,
          0.34999999999999987,
          0.3599999999999999,
          0.3699999999999999,
          0.3799999999999999,
          0.3899999999999999,
          0.3999999999999998,
          0.4099999999999998,
          0.4199999999999998,
          0.4299999999999998,
          0.43999999999999984,
          0.44999999999999984,
          0.45999999999999985,
          0.46999999999999986,
          0.47999999999999976,
          0.48999999999999977
         ],
         "y": [
          0.0003,
          0.0002,
          0.0002,
          0.0002,
          0.0002,
          0.0002,
          0.0002,
          0.0002,
          0.0001,
          null,
          null,
          null,
          null,
          null,
          null,
          null,
          null,
          null,
          null,
          null,
          null,
          null,
          null,
          null,
          null,
          null,
          null,
          null,
          null,
          null,
          null,
          null,
          null,
          null,
          null,
          null,
          null,
          null,
          null,
          null
         ]
        },
        {
         "mode": "lines+markers",
         "name": "polynomial_order_5",
         "type": "scatter",
         "x": [
          0.1,
          0.11,
          0.12,
          0.13,
          0.13999999999999999,
          0.14999999999999997,
          0.15999999999999998,
          0.16999999999999998,
          0.17999999999999997,
          0.18999999999999995,
          0.19999999999999996,
          0.20999999999999996,
          0.21999999999999995,
          0.22999999999999995,
          0.23999999999999994,
          0.24999999999999992,
          0.2599999999999999,
          0.2699999999999999,
          0.2799999999999999,
          0.2899999999999999,
          0.29999999999999993,
          0.30999999999999994,
          0.3199999999999999,
          0.32999999999999985,
          0.33999999999999986,
          0.34999999999999987,
          0.3599999999999999,
          0.3699999999999999,
          0.3799999999999999,
          0.3899999999999999,
          0.3999999999999998,
          0.4099999999999998,
          0.4199999999999998,
          0.4299999999999998,
          0.43999999999999984,
          0.44999999999999984,
          0.45999999999999985,
          0.46999999999999986,
          0.47999999999999976,
          0.48999999999999977
         ],
         "y": [
          0.0016,
          0.0014,
          0.0013,
          0.0012,
          0.0011,
          0.0011,
          0.001,
          0.0009,
          0.0009,
          null,
          null,
          null,
          null,
          null,
          null,
          null,
          null,
          null,
          null,
          null,
          null,
          null,
          null,
          null,
          null,
          null,
          null,
          null,
          null,
          null,
          null,
          null,
          null,
          null,
          null,
          null,
          null,
          null,
          null,
          null
         ]
        },
        {
         "mode": "lines+markers",
         "name": "polynomial_order_7",
         "type": "scatter",
         "x": [
          0.1,
          0.11,
          0.12,
          0.13,
          0.13999999999999999,
          0.14999999999999997,
          0.15999999999999998,
          0.16999999999999998,
          0.17999999999999997,
          0.18999999999999995,
          0.19999999999999996,
          0.20999999999999996,
          0.21999999999999995,
          0.22999999999999995,
          0.23999999999999994,
          0.24999999999999992,
          0.2599999999999999,
          0.2699999999999999,
          0.2799999999999999,
          0.2899999999999999,
          0.29999999999999993,
          0.30999999999999994,
          0.3199999999999999,
          0.32999999999999985,
          0.33999999999999986,
          0.34999999999999987,
          0.3599999999999999,
          0.3699999999999999,
          0.3799999999999999,
          0.3899999999999999,
          0.3999999999999998,
          0.4099999999999998,
          0.4199999999999998,
          0.4299999999999998,
          0.43999999999999984,
          0.44999999999999984,
          0.45999999999999985,
          0.46999999999999986,
          0.47999999999999976,
          0.48999999999999977
         ],
         "y": [
          0.0041,
          0.0038,
          0.0034,
          0.0032,
          0.003,
          0.0028,
          0.0026,
          0.0025,
          0.0025,
          null,
          null,
          null,
          null,
          null,
          null,
          null,
          null,
          null,
          null,
          null,
          null,
          null,
          null,
          null,
          null,
          null,
          null,
          null,
          null,
          null,
          null,
          null,
          null,
          null,
          null,
          null,
          null,
          null,
          null,
          null
         ]
        },
        {
         "mode": "lines+markers",
         "name": "polynomial_order_9",
         "type": "scatter",
         "x": [
          0.1,
          0.11,
          0.12,
          0.13,
          0.13999999999999999,
          0.14999999999999997,
          0.15999999999999998,
          0.16999999999999998,
          0.17999999999999997,
          0.18999999999999995,
          0.19999999999999996,
          0.20999999999999996,
          0.21999999999999995,
          0.22999999999999995,
          0.23999999999999994,
          0.24999999999999992,
          0.2599999999999999,
          0.2699999999999999,
          0.2799999999999999,
          0.2899999999999999,
          0.29999999999999993,
          0.30999999999999994,
          0.3199999999999999,
          0.32999999999999985,
          0.33999999999999986,
          0.34999999999999987,
          0.3599999999999999,
          0.3699999999999999,
          0.3799999999999999,
          0.3899999999999999,
          0.3999999999999998,
          0.4099999999999998,
          0.4199999999999998,
          0.4299999999999998,
          0.43999999999999984,
          0.44999999999999984,
          0.45999999999999985,
          0.46999999999999986,
          0.47999999999999976,
          0.48999999999999977
         ],
         "y": [
          0.0076,
          0.0069,
          0.0063,
          0.0058,
          0.0055,
          0.0052,
          0.0049,
          0.0046,
          0.0046,
          null,
          null,
          null,
          null,
          null,
          null,
          null,
          null,
          null,
          null,
          null,
          null,
          null,
          null,
          null,
          null,
          null,
          null,
          null,
          null,
          null,
          null,
          null,
          null,
          null,
          null,
          null,
          null,
          null,
          null,
          null
         ]
        },
        {
         "mode": "lines+markers",
         "name": "piecewise_polynomial",
         "type": "scatter",
         "x": [
          0.1,
          0.11,
          0.12,
          0.13,
          0.13999999999999999,
          0.14999999999999997,
          0.15999999999999998,
          0.16999999999999998,
          0.17999999999999997,
          0.18999999999999995,
          0.19999999999999996,
          0.20999999999999996,
          0.21999999999999995,
          0.22999999999999995,
          0.23999999999999994,
          0.24999999999999992,
          0.2599999999999999,
          0.2699999999999999,
          0.2799999999999999,
          0.2899999999999999,
          0.29999999999999993,
          0.30999999999999994,
          0.3199999999999999,
          0.32999999999999985,
          0.33999999999999986,
          0.34999999999999987,
          0.3599999999999999,
          0.3699999999999999,
          0.3799999999999999,
          0.3899999999999999,
          0.3999999999999998,
          0.4099999999999998,
          0.4199999999999998,
          0.4299999999999998,
          0.43999999999999984,
          0.44999999999999984,
          0.45999999999999985,
          0.46999999999999986,
          0.47999999999999976,
          0.48999999999999977
         ],
         "y": [
          0,
          0,
          0,
          0,
          0,
          0,
          0,
          0,
          0,
          null,
          null,
          null,
          null,
          null,
          null,
          null,
          null,
          null,
          null,
          null,
          null,
          null,
          null,
          null,
          null,
          null,
          null,
          null,
          null,
          null,
          null,
          null,
          null,
          null,
          null,
          null,
          null,
          null,
          null,
          null
         ]
        },
        {
         "mode": "lines+markers",
         "name": "spline_order_1",
         "type": "scatter",
         "x": [
          0.1,
          0.11,
          0.12,
          0.13,
          0.13999999999999999,
          0.14999999999999997,
          0.15999999999999998,
          0.16999999999999998,
          0.17999999999999997,
          0.18999999999999995,
          0.19999999999999996,
          0.20999999999999996,
          0.21999999999999995,
          0.22999999999999995,
          0.23999999999999994,
          0.24999999999999992,
          0.2599999999999999,
          0.2699999999999999,
          0.2799999999999999,
          0.2899999999999999,
          0.29999999999999993,
          0.30999999999999994,
          0.3199999999999999,
          0.32999999999999985,
          0.33999999999999986,
          0.34999999999999987,
          0.3599999999999999,
          0.3699999999999999,
          0.3799999999999999,
          0.3899999999999999,
          0.3999999999999998,
          0.4099999999999998,
          0.4199999999999998,
          0.4299999999999998,
          0.43999999999999984,
          0.44999999999999984,
          0.45999999999999985,
          0.46999999999999986,
          0.47999999999999976,
          0.48999999999999977
         ],
         "y": [
          0.235,
          0.2396,
          0.2377,
          0.2383,
          0.2446,
          0.241,
          0.2394,
          0.2392,
          0.2416,
          0.243,
          0.2468,
          0.2487,
          0.2482,
          0.2481,
          0.2493,
          0.2467,
          0.2484,
          0.2499,
          0.2515,
          0.2512,
          0.2512,
          0.2496,
          0.2492,
          0.2472,
          0.2491,
          0.2481,
          0.2487,
          0.2453,
          0.2441,
          0.244,
          0.2439,
          0.2447,
          0.2436,
          0.2446,
          0.2441,
          0.2442,
          0.2441,
          0.2448,
          0.2452,
          0.2449
         ]
        },
        {
         "mode": "lines+markers",
         "name": "spline_order_2",
         "type": "scatter",
         "x": [
          0.1,
          0.11,
          0.12,
          0.13,
          0.13999999999999999,
          0.14999999999999997,
          0.15999999999999998,
          0.16999999999999998,
          0.17999999999999997,
          0.18999999999999995,
          0.19999999999999996,
          0.20999999999999996,
          0.21999999999999995,
          0.22999999999999995,
          0.23999999999999994,
          0.24999999999999992,
          0.2599999999999999,
          0.2699999999999999,
          0.2799999999999999,
          0.2899999999999999,
          0.29999999999999993,
          0.30999999999999994,
          0.3199999999999999,
          0.32999999999999985,
          0.33999999999999986,
          0.34999999999999987,
          0.3599999999999999,
          0.3699999999999999,
          0.3799999999999999,
          0.3899999999999999,
          0.3999999999999998,
          0.4099999999999998,
          0.4199999999999998,
          0.4299999999999998,
          0.43999999999999984,
          0.44999999999999984,
          0.45999999999999985,
          0.46999999999999986,
          0.47999999999999976,
          0.48999999999999977
         ],
         "y": [
          0.1478,
          0.1518,
          0.1441,
          0.1431,
          0.1467,
          0.1425,
          0.1439,
          0.1431,
          0.1453,
          0.1489,
          0.1531,
          0.1537,
          0.1512,
          0.1508,
          0.1519,
          0.1494,
          0.1503,
          0.1514,
          0.1516,
          0.1517,
          0.154,
          0.1522,
          0.1506,
          0.1478,
          0.1493,
          0.1486,
          0.1493,
          0.1486,
          0.1479,
          0.1462,
          0.1466,
          0.1458,
          0.1457,
          0.1465,
          0.146,
          0.1464,
          0.1455,
          0.1452,
          0.1457,
          0.1453
         ]
        },
        {
         "mode": "lines+markers",
         "name": "spline_order_3",
         "type": "scatter",
         "x": [
          0.1,
          0.11,
          0.12,
          0.13,
          0.13999999999999999,
          0.14999999999999997,
          0.15999999999999998,
          0.16999999999999998,
          0.17999999999999997,
          0.18999999999999995,
          0.19999999999999996,
          0.20999999999999996,
          0.21999999999999995,
          0.22999999999999995,
          0.23999999999999994,
          0.24999999999999992,
          0.2599999999999999,
          0.2699999999999999,
          0.2799999999999999,
          0.2899999999999999,
          0.29999999999999993,
          0.30999999999999994,
          0.3199999999999999,
          0.32999999999999985,
          0.33999999999999986,
          0.34999999999999987,
          0.3599999999999999,
          0.3699999999999999,
          0.3799999999999999,
          0.3899999999999999,
          0.3999999999999998,
          0.4099999999999998,
          0.4199999999999998,
          0.4299999999999998,
          0.43999999999999984,
          0.44999999999999984,
          0.45999999999999985,
          0.46999999999999986,
          0.47999999999999976,
          0.48999999999999977
         ],
         "y": [
          0.1372,
          0.1415,
          0.1338,
          0.1333,
          0.1368,
          0.1323,
          0.1336,
          0.1333,
          0.1357,
          0.1396,
          0.1435,
          0.1443,
          0.1419,
          0.1412,
          0.142,
          0.1391,
          0.1402,
          0.1412,
          0.1413,
          0.1412,
          0.1435,
          0.1412,
          0.1395,
          0.1365,
          0.1375,
          0.1364,
          0.1369,
          0.1356,
          0.1349,
          0.133,
          0.1334,
          0.1331,
          0.1327,
          0.1337,
          0.1328,
          0.1338,
          0.1331,
          0.1325,
          0.1338,
          0.1338
         ]
        },
        {
         "mode": "lines+markers",
         "name": "spline_order_4",
         "type": "scatter",
         "x": [
          0.1,
          0.11,
          0.12,
          0.13,
          0.13999999999999999,
          0.14999999999999997,
          0.15999999999999998,
          0.16999999999999998,
          0.17999999999999997,
          0.18999999999999995,
          0.19999999999999996,
          0.20999999999999996,
          0.21999999999999995,
          0.22999999999999995,
          0.23999999999999994,
          0.24999999999999992,
          0.2599999999999999,
          0.2699999999999999,
          0.2799999999999999,
          0.2899999999999999,
          0.29999999999999993,
          0.30999999999999994,
          0.3199999999999999,
          0.32999999999999985,
          0.33999999999999986,
          0.34999999999999987,
          0.3599999999999999,
          0.3699999999999999,
          0.3799999999999999,
          0.3899999999999999,
          0.3999999999999998,
          0.4099999999999998,
          0.4199999999999998,
          0.4299999999999998,
          0.43999999999999984,
          0.44999999999999984,
          0.45999999999999985,
          0.46999999999999986,
          0.47999999999999976,
          0.48999999999999977
         ],
         "y": [
          0.1152,
          0.1172,
          0.1131,
          0.1118,
          0.1159,
          0.1127,
          0.1131,
          0.1126,
          0.1152,
          0.119,
          0.1234,
          0.1242,
          0.1216,
          0.1203,
          0.1217,
          0.121,
          0.122,
          0.1241,
          0.1248,
          0.1247,
          0.1263,
          0.1252,
          0.1241,
          0.122,
          0.1236,
          0.124,
          0.124,
          0.1232,
          0.1227,
          0.1215,
          0.1214,
          0.1213,
          0.121,
          0.1223,
          0.1215,
          0.122,
          0.1216,
          0.1216,
          0.1219,
          0.1222
         ]
        },
        {
         "mode": "lines+markers",
         "name": "spline_order_5",
         "type": "scatter",
         "x": [
          0.1,
          0.11,
          0.12,
          0.13,
          0.13999999999999999,
          0.14999999999999997,
          0.15999999999999998,
          0.16999999999999998,
          0.17999999999999997,
          0.18999999999999995,
          0.19999999999999996,
          0.20999999999999996,
          0.21999999999999995,
          0.22999999999999995,
          0.23999999999999994,
          0.24999999999999992,
          0.2599999999999999,
          0.2699999999999999,
          0.2799999999999999,
          0.2899999999999999,
          0.29999999999999993,
          0.30999999999999994,
          0.3199999999999999,
          0.32999999999999985,
          0.33999999999999986,
          0.34999999999999987,
          0.3599999999999999,
          0.3699999999999999,
          0.3799999999999999,
          0.3899999999999999,
          0.3999999999999998,
          0.4099999999999998,
          0.4199999999999998,
          0.4299999999999998,
          0.43999999999999984,
          0.44999999999999984,
          0.45999999999999985,
          0.46999999999999986,
          0.47999999999999976,
          0.48999999999999977
         ],
         "y": [
          0.0971,
          0.0989,
          0.0952,
          0.0945,
          0.097,
          0.0934,
          0.0928,
          0.0923,
          0.0945,
          0.0998,
          0.1018,
          0.1014,
          0.0999,
          0.0981,
          0.0992,
          0.0984,
          0.099,
          0.1002,
          0.1004,
          0.0991,
          0.1012,
          0.1,
          0.0996,
          0.0985,
          0.0992,
          0.0992,
          0.0992,
          0.0975,
          0.0975,
          0.0968,
          0.0968,
          0.0958,
          0.0947,
          0.095,
          0.0951,
          0.0949,
          0.0949,
          0.0952,
          0.0958,
          0.0956
         ]
        },
        {
         "mode": "lines+markers",
         "name": "akima",
         "type": "scatter",
         "x": [
          0.1,
          0.11,
          0.12,
          0.13,
          0.13999999999999999,
          0.14999999999999997,
          0.15999999999999998,
          0.16999999999999998,
          0.17999999999999997,
          0.18999999999999995,
          0.19999999999999996,
          0.20999999999999996,
          0.21999999999999995,
          0.22999999999999995,
          0.23999999999999994,
          0.24999999999999992,
          0.2599999999999999,
          0.2699999999999999,
          0.2799999999999999,
          0.2899999999999999,
          0.29999999999999993,
          0.30999999999999994,
          0.3199999999999999,
          0.32999999999999985,
          0.33999999999999986,
          0.34999999999999987,
          0.3599999999999999,
          0.3699999999999999,
          0.3799999999999999,
          0.3899999999999999,
          0.3999999999999998,
          0.4099999999999998,
          0.4199999999999998,
          0.4299999999999998,
          0.43999999999999984,
          0.44999999999999984,
          0.45999999999999985,
          0.46999999999999986,
          0.47999999999999976,
          0.48999999999999977
         ],
         "y": [
          0,
          0,
          0,
          0,
          0,
          0,
          0,
          0,
          0,
          null,
          null,
          null,
          null,
          null,
          null,
          null,
          null,
          null,
          null,
          null,
          null,
          null,
          null,
          null,
          null,
          null,
          null,
          null,
          null,
          null,
          null,
          null,
          null,
          null,
          null,
          null,
          null,
          null,
          null,
          null
         ]
        },
        {
         "mode": "lines+markers",
         "name": "cubicspline",
         "type": "scatter",
         "x": [
          0.1,
          0.11,
          0.12,
          0.13,
          0.13999999999999999,
          0.14999999999999997,
          0.15999999999999998,
          0.16999999999999998,
          0.17999999999999997,
          0.18999999999999995,
          0.19999999999999996,
          0.20999999999999996,
          0.21999999999999995,
          0.22999999999999995,
          0.23999999999999994,
          0.24999999999999992,
          0.2599999999999999,
          0.2699999999999999,
          0.2799999999999999,
          0.2899999999999999,
          0.29999999999999993,
          0.30999999999999994,
          0.3199999999999999,
          0.32999999999999985,
          0.33999999999999986,
          0.34999999999999987,
          0.3599999999999999,
          0.3699999999999999,
          0.3799999999999999,
          0.3899999999999999,
          0.3999999999999998,
          0.4099999999999998,
          0.4199999999999998,
          0.4299999999999998,
          0.43999999999999984,
          0.44999999999999984,
          0.45999999999999985,
          0.46999999999999986,
          0.47999999999999976,
          0.48999999999999977
         ],
         "y": [
          0.0003,
          0.0002,
          0.0002,
          0.0002,
          0.0002,
          0.0002,
          0.0002,
          0.0002,
          0.0001,
          0.0001,
          0.0001,
          0.0001,
          0.0001,
          0.0001,
          0.0001,
          0.0001,
          0.0001,
          0.001,
          0.001,
          0.0009,
          0.0025,
          0.0024,
          0.0023,
          0.0023,
          0.0027,
          0.003,
          0.0029,
          0.0028,
          0.0027,
          0.0027,
          0.0026,
          0.0025,
          0.0025,
          0.0028,
          0.0027,
          0.0027,
          0.0026,
          0.0026,
          0.0025,
          0.0026
         ]
        },
        {
         "mode": "lines+markers",
         "name": "from_derivatives",
         "type": "scatter",
         "x": [
          0.1,
          0.11,
          0.12,
          0.13,
          0.13999999999999999,
          0.14999999999999997,
          0.15999999999999998,
          0.16999999999999998,
          0.17999999999999997,
          0.18999999999999995,
          0.19999999999999996,
          0.20999999999999996,
          0.21999999999999995,
          0.22999999999999995,
          0.23999999999999994,
          0.24999999999999992,
          0.2599999999999999,
          0.2699999999999999,
          0.2799999999999999,
          0.2899999999999999,
          0.29999999999999993,
          0.30999999999999994,
          0.3199999999999999,
          0.32999999999999985,
          0.33999999999999986,
          0.34999999999999987,
          0.3599999999999999,
          0.3699999999999999,
          0.3799999999999999,
          0.3899999999999999,
          0.3999999999999998,
          0.4099999999999998,
          0.4199999999999998,
          0.4299999999999998,
          0.43999999999999984,
          0.44999999999999984,
          0.45999999999999985,
          0.46999999999999986,
          0.47999999999999976,
          0.48999999999999977
         ],
         "y": [
          0,
          0,
          0,
          0,
          0,
          0,
          0,
          0,
          0,
          null,
          null,
          null,
          null,
          null,
          null,
          null,
          null,
          null,
          null,
          null,
          null,
          null,
          null,
          null,
          null,
          null,
          null,
          null,
          null,
          null,
          null,
          null,
          null,
          null,
          null,
          null,
          null,
          null,
          null,
          null
         ]
        }
       ],
       "layout": {
        "legend": {
         "title": {
          "text": "Method"
         }
        },
        "template": {
         "data": {
          "bar": [
           {
            "error_x": {
             "color": "#2a3f5f"
            },
            "error_y": {
             "color": "#2a3f5f"
            },
            "marker": {
             "line": {
              "color": "#E5ECF6",
              "width": 0.5
             },
             "pattern": {
              "fillmode": "overlay",
              "size": 10,
              "solidity": 0.2
             }
            },
            "type": "bar"
           }
          ],
          "barpolar": [
           {
            "marker": {
             "line": {
              "color": "#E5ECF6",
              "width": 0.5
             },
             "pattern": {
              "fillmode": "overlay",
              "size": 10,
              "solidity": 0.2
             }
            },
            "type": "barpolar"
           }
          ],
          "carpet": [
           {
            "aaxis": {
             "endlinecolor": "#2a3f5f",
             "gridcolor": "white",
             "linecolor": "white",
             "minorgridcolor": "white",
             "startlinecolor": "#2a3f5f"
            },
            "baxis": {
             "endlinecolor": "#2a3f5f",
             "gridcolor": "white",
             "linecolor": "white",
             "minorgridcolor": "white",
             "startlinecolor": "#2a3f5f"
            },
            "type": "carpet"
           }
          ],
          "choropleth": [
           {
            "colorbar": {
             "outlinewidth": 0,
             "ticks": ""
            },
            "type": "choropleth"
           }
          ],
          "contour": [
           {
            "colorbar": {
             "outlinewidth": 0,
             "ticks": ""
            },
            "colorscale": [
             [
              0,
              "#0d0887"
             ],
             [
              0.1111111111111111,
              "#46039f"
             ],
             [
              0.2222222222222222,
              "#7201a8"
             ],
             [
              0.3333333333333333,
              "#9c179e"
             ],
             [
              0.4444444444444444,
              "#bd3786"
             ],
             [
              0.5555555555555556,
              "#d8576b"
             ],
             [
              0.6666666666666666,
              "#ed7953"
             ],
             [
              0.7777777777777778,
              "#fb9f3a"
             ],
             [
              0.8888888888888888,
              "#fdca26"
             ],
             [
              1,
              "#f0f921"
             ]
            ],
            "type": "contour"
           }
          ],
          "contourcarpet": [
           {
            "colorbar": {
             "outlinewidth": 0,
             "ticks": ""
            },
            "type": "contourcarpet"
           }
          ],
          "heatmap": [
           {
            "colorbar": {
             "outlinewidth": 0,
             "ticks": ""
            },
            "colorscale": [
             [
              0,
              "#0d0887"
             ],
             [
              0.1111111111111111,
              "#46039f"
             ],
             [
              0.2222222222222222,
              "#7201a8"
             ],
             [
              0.3333333333333333,
              "#9c179e"
             ],
             [
              0.4444444444444444,
              "#bd3786"
             ],
             [
              0.5555555555555556,
              "#d8576b"
             ],
             [
              0.6666666666666666,
              "#ed7953"
             ],
             [
              0.7777777777777778,
              "#fb9f3a"
             ],
             [
              0.8888888888888888,
              "#fdca26"
             ],
             [
              1,
              "#f0f921"
             ]
            ],
            "type": "heatmap"
           }
          ],
          "heatmapgl": [
           {
            "colorbar": {
             "outlinewidth": 0,
             "ticks": ""
            },
            "colorscale": [
             [
              0,
              "#0d0887"
             ],
             [
              0.1111111111111111,
              "#46039f"
             ],
             [
              0.2222222222222222,
              "#7201a8"
             ],
             [
              0.3333333333333333,
              "#9c179e"
             ],
             [
              0.4444444444444444,
              "#bd3786"
             ],
             [
              0.5555555555555556,
              "#d8576b"
             ],
             [
              0.6666666666666666,
              "#ed7953"
             ],
             [
              0.7777777777777778,
              "#fb9f3a"
             ],
             [
              0.8888888888888888,
              "#fdca26"
             ],
             [
              1,
              "#f0f921"
             ]
            ],
            "type": "heatmapgl"
           }
          ],
          "histogram": [
           {
            "marker": {
             "pattern": {
              "fillmode": "overlay",
              "size": 10,
              "solidity": 0.2
             }
            },
            "type": "histogram"
           }
          ],
          "histogram2d": [
           {
            "colorbar": {
             "outlinewidth": 0,
             "ticks": ""
            },
            "colorscale": [
             [
              0,
              "#0d0887"
             ],
             [
              0.1111111111111111,
              "#46039f"
             ],
             [
              0.2222222222222222,
              "#7201a8"
             ],
             [
              0.3333333333333333,
              "#9c179e"
             ],
             [
              0.4444444444444444,
              "#bd3786"
             ],
             [
              0.5555555555555556,
              "#d8576b"
             ],
             [
              0.6666666666666666,
              "#ed7953"
             ],
             [
              0.7777777777777778,
              "#fb9f3a"
             ],
             [
              0.8888888888888888,
              "#fdca26"
             ],
             [
              1,
              "#f0f921"
             ]
            ],
            "type": "histogram2d"
           }
          ],
          "histogram2dcontour": [
           {
            "colorbar": {
             "outlinewidth": 0,
             "ticks": ""
            },
            "colorscale": [
             [
              0,
              "#0d0887"
             ],
             [
              0.1111111111111111,
              "#46039f"
             ],
             [
              0.2222222222222222,
              "#7201a8"
             ],
             [
              0.3333333333333333,
              "#9c179e"
             ],
             [
              0.4444444444444444,
              "#bd3786"
             ],
             [
              0.5555555555555556,
              "#d8576b"
             ],
             [
              0.6666666666666666,
              "#ed7953"
             ],
             [
              0.7777777777777778,
              "#fb9f3a"
             ],
             [
              0.8888888888888888,
              "#fdca26"
             ],
             [
              1,
              "#f0f921"
             ]
            ],
            "type": "histogram2dcontour"
           }
          ],
          "mesh3d": [
           {
            "colorbar": {
             "outlinewidth": 0,
             "ticks": ""
            },
            "type": "mesh3d"
           }
          ],
          "parcoords": [
           {
            "line": {
             "colorbar": {
              "outlinewidth": 0,
              "ticks": ""
             }
            },
            "type": "parcoords"
           }
          ],
          "pie": [
           {
            "automargin": true,
            "type": "pie"
           }
          ],
          "scatter": [
           {
            "fillpattern": {
             "fillmode": "overlay",
             "size": 10,
             "solidity": 0.2
            },
            "type": "scatter"
           }
          ],
          "scatter3d": [
           {
            "line": {
             "colorbar": {
              "outlinewidth": 0,
              "ticks": ""
             }
            },
            "marker": {
             "colorbar": {
              "outlinewidth": 0,
              "ticks": ""
             }
            },
            "type": "scatter3d"
           }
          ],
          "scattercarpet": [
           {
            "marker": {
             "colorbar": {
              "outlinewidth": 0,
              "ticks": ""
             }
            },
            "type": "scattercarpet"
           }
          ],
          "scattergeo": [
           {
            "marker": {
             "colorbar": {
              "outlinewidth": 0,
              "ticks": ""
             }
            },
            "type": "scattergeo"
           }
          ],
          "scattergl": [
           {
            "marker": {
             "colorbar": {
              "outlinewidth": 0,
              "ticks": ""
             }
            },
            "type": "scattergl"
           }
          ],
          "scattermapbox": [
           {
            "marker": {
             "colorbar": {
              "outlinewidth": 0,
              "ticks": ""
             }
            },
            "type": "scattermapbox"
           }
          ],
          "scatterpolar": [
           {
            "marker": {
             "colorbar": {
              "outlinewidth": 0,
              "ticks": ""
             }
            },
            "type": "scatterpolar"
           }
          ],
          "scatterpolargl": [
           {
            "marker": {
             "colorbar": {
              "outlinewidth": 0,
              "ticks": ""
             }
            },
            "type": "scatterpolargl"
           }
          ],
          "scatterternary": [
           {
            "marker": {
             "colorbar": {
              "outlinewidth": 0,
              "ticks": ""
             }
            },
            "type": "scatterternary"
           }
          ],
          "surface": [
           {
            "colorbar": {
             "outlinewidth": 0,
             "ticks": ""
            },
            "colorscale": [
             [
              0,
              "#0d0887"
             ],
             [
              0.1111111111111111,
              "#46039f"
             ],
             [
              0.2222222222222222,
              "#7201a8"
             ],
             [
              0.3333333333333333,
              "#9c179e"
             ],
             [
              0.4444444444444444,
              "#bd3786"
             ],
             [
              0.5555555555555556,
              "#d8576b"
             ],
             [
              0.6666666666666666,
              "#ed7953"
             ],
             [
              0.7777777777777778,
              "#fb9f3a"
             ],
             [
              0.8888888888888888,
              "#fdca26"
             ],
             [
              1,
              "#f0f921"
             ]
            ],
            "type": "surface"
           }
          ],
          "table": [
           {
            "cells": {
             "fill": {
              "color": "#EBF0F8"
             },
             "line": {
              "color": "white"
             }
            },
            "header": {
             "fill": {
              "color": "#C8D4E3"
             },
             "line": {
              "color": "white"
             }
            },
            "type": "table"
           }
          ]
         },
         "layout": {
          "annotationdefaults": {
           "arrowcolor": "#2a3f5f",
           "arrowhead": 0,
           "arrowwidth": 1
          },
          "autotypenumbers": "strict",
          "coloraxis": {
           "colorbar": {
            "outlinewidth": 0,
            "ticks": ""
           }
          },
          "colorscale": {
           "diverging": [
            [
             0,
             "#8e0152"
            ],
            [
             0.1,
             "#c51b7d"
            ],
            [
             0.2,
             "#de77ae"
            ],
            [
             0.3,
             "#f1b6da"
            ],
            [
             0.4,
             "#fde0ef"
            ],
            [
             0.5,
             "#f7f7f7"
            ],
            [
             0.6,
             "#e6f5d0"
            ],
            [
             0.7,
             "#b8e186"
            ],
            [
             0.8,
             "#7fbc41"
            ],
            [
             0.9,
             "#4d9221"
            ],
            [
             1,
             "#276419"
            ]
           ],
           "sequential": [
            [
             0,
             "#0d0887"
            ],
            [
             0.1111111111111111,
             "#46039f"
            ],
            [
             0.2222222222222222,
             "#7201a8"
            ],
            [
             0.3333333333333333,
             "#9c179e"
            ],
            [
             0.4444444444444444,
             "#bd3786"
            ],
            [
             0.5555555555555556,
             "#d8576b"
            ],
            [
             0.6666666666666666,
             "#ed7953"
            ],
            [
             0.7777777777777778,
             "#fb9f3a"
            ],
            [
             0.8888888888888888,
             "#fdca26"
            ],
            [
             1,
             "#f0f921"
            ]
           ],
           "sequentialminus": [
            [
             0,
             "#0d0887"
            ],
            [
             0.1111111111111111,
             "#46039f"
            ],
            [
             0.2222222222222222,
             "#7201a8"
            ],
            [
             0.3333333333333333,
             "#9c179e"
            ],
            [
             0.4444444444444444,
             "#bd3786"
            ],
            [
             0.5555555555555556,
             "#d8576b"
            ],
            [
             0.6666666666666666,
             "#ed7953"
            ],
            [
             0.7777777777777778,
             "#fb9f3a"
            ],
            [
             0.8888888888888888,
             "#fdca26"
            ],
            [
             1,
             "#f0f921"
            ]
           ]
          },
          "colorway": [
           "#636efa",
           "#EF553B",
           "#00cc96",
           "#ab63fa",
           "#FFA15A",
           "#19d3f3",
           "#FF6692",
           "#B6E880",
           "#FF97FF",
           "#FECB52"
          ],
          "font": {
           "color": "#2a3f5f"
          },
          "geo": {
           "bgcolor": "white",
           "lakecolor": "white",
           "landcolor": "#E5ECF6",
           "showlakes": true,
           "showland": true,
           "subunitcolor": "white"
          },
          "hoverlabel": {
           "align": "left"
          },
          "hovermode": "closest",
          "mapbox": {
           "style": "light"
          },
          "paper_bgcolor": "white",
          "plot_bgcolor": "#E5ECF6",
          "polar": {
           "angularaxis": {
            "gridcolor": "white",
            "linecolor": "white",
            "ticks": ""
           },
           "bgcolor": "#E5ECF6",
           "radialaxis": {
            "gridcolor": "white",
            "linecolor": "white",
            "ticks": ""
           }
          },
          "scene": {
           "xaxis": {
            "backgroundcolor": "#E5ECF6",
            "gridcolor": "white",
            "gridwidth": 2,
            "linecolor": "white",
            "showbackground": true,
            "ticks": "",
            "zerolinecolor": "white"
           },
           "yaxis": {
            "backgroundcolor": "#E5ECF6",
            "gridcolor": "white",
            "gridwidth": 2,
            "linecolor": "white",
            "showbackground": true,
            "ticks": "",
            "zerolinecolor": "white"
           },
           "zaxis": {
            "backgroundcolor": "#E5ECF6",
            "gridcolor": "white",
            "gridwidth": 2,
            "linecolor": "white",
            "showbackground": true,
            "ticks": "",
            "zerolinecolor": "white"
           }
          },
          "shapedefaults": {
           "line": {
            "color": "#2a3f5f"
           }
          },
          "ternary": {
           "aaxis": {
            "gridcolor": "white",
            "linecolor": "white",
            "ticks": ""
           },
           "baxis": {
            "gridcolor": "white",
            "linecolor": "white",
            "ticks": ""
           },
           "bgcolor": "#E5ECF6",
           "caxis": {
            "gridcolor": "white",
            "linecolor": "white",
            "ticks": ""
           }
          },
          "title": {
           "x": 0.05
          },
          "xaxis": {
           "automargin": true,
           "gridcolor": "white",
           "linecolor": "white",
           "ticks": "",
           "title": {
            "standoff": 15
           },
           "zerolinecolor": "white",
           "zerolinewidth": 2
          },
          "yaxis": {
           "automargin": true,
           "gridcolor": "white",
           "linecolor": "white",
           "ticks": "",
           "title": {
            "standoff": 15
           },
           "zerolinecolor": "white",
           "zerolinewidth": 2
          }
         }
        },
        "title": {
         "text": "Performance Development for Feature month"
        },
        "xaxis": {
         "title": {
          "text": "Missing Rate"
         }
        },
        "yaxis": {
         "title": {
          "text": "Difference between original and interpolated data"
         }
        }
       }
      }
     },
     "metadata": {},
     "output_type": "display_data"
    },
    {
     "data": {
      "application/vnd.plotly.v1+json": {
       "config": {
        "plotlyServerURL": "https://plot.ly"
       },
       "data": [
        {
         "mode": "lines+markers",
         "name": "linear",
         "type": "scatter",
         "x": [
          0.1,
          0.11,
          0.12,
          0.13,
          0.13999999999999999,
          0.14999999999999997,
          0.15999999999999998,
          0.16999999999999998,
          0.17999999999999997,
          0.18999999999999995,
          0.19999999999999996,
          0.20999999999999996,
          0.21999999999999995,
          0.22999999999999995,
          0.23999999999999994,
          0.24999999999999992,
          0.2599999999999999,
          0.2699999999999999,
          0.2799999999999999,
          0.2899999999999999,
          0.29999999999999993,
          0.30999999999999994,
          0.3199999999999999,
          0.32999999999999985,
          0.33999999999999986,
          0.34999999999999987,
          0.3599999999999999,
          0.3699999999999999,
          0.3799999999999999,
          0.3899999999999999,
          0.3999999999999998,
          0.4099999999999998,
          0.4199999999999998,
          0.4299999999999998,
          0.43999999999999984,
          0.44999999999999984,
          0.45999999999999985,
          0.46999999999999986,
          0.47999999999999976,
          0.48999999999999977
         ],
         "y": [
          0.045,
          0.0409,
          0.0375,
          0.0346,
          0.036,
          0.0436,
          0.044,
          0.0444,
          0.0456,
          0.0538,
          0.0561,
          0.0534,
          0.051,
          0.0488,
          0.0488,
          0.0469,
          0.047,
          0.0452,
          0.0436,
          0.0456,
          0.0491,
          0.0507,
          0.0522,
          0.0595,
          0.0607,
          0.0604,
          0.0647,
          0.0635,
          0.0629,
          0.0618,
          0.0613,
          0.0623,
          0.0668,
          0.0652,
          0.0706,
          0.069,
          0.0711,
          0.0696,
          0.0702,
          0.0688
         ]
        },
        {
         "mode": "lines+markers",
         "name": "nearest",
         "type": "scatter",
         "x": [
          0.1,
          0.11,
          0.12,
          0.13,
          0.13999999999999999,
          0.14999999999999997,
          0.15999999999999998,
          0.16999999999999998,
          0.17999999999999997,
          0.18999999999999995,
          0.19999999999999996,
          0.20999999999999996,
          0.21999999999999995,
          0.22999999999999995,
          0.23999999999999994,
          0.24999999999999992,
          0.2599999999999999,
          0.2699999999999999,
          0.2799999999999999,
          0.2899999999999999,
          0.29999999999999993,
          0.30999999999999994,
          0.3199999999999999,
          0.32999999999999985,
          0.33999999999999986,
          0.34999999999999987,
          0.3599999999999999,
          0.3699999999999999,
          0.3799999999999999,
          0.3899999999999999,
          0.3999999999999998,
          0.4099999999999998,
          0.4199999999999998,
          0.4299999999999998,
          0.43999999999999984,
          0.44999999999999984,
          0.45999999999999985,
          0.46999999999999986,
          0.47999999999999976,
          0.48999999999999977
         ],
         "y": [
          0.07,
          0.0636,
          0.0583,
          0.0538,
          0.0504,
          0.0604,
          0.0566,
          0.0592,
          0.0615,
          null,
          null,
          null,
          null,
          null,
          null,
          null,
          null,
          null,
          null,
          null,
          null,
          null,
          null,
          null,
          null,
          null,
          null,
          null,
          null,
          null,
          null,
          null,
          null,
          null,
          null,
          null,
          null,
          null,
          null,
          null
         ]
        },
        {
         "mode": "lines+markers",
         "name": "zero",
         "type": "scatter",
         "x": [
          0.1,
          0.11,
          0.12,
          0.13,
          0.13999999999999999,
          0.14999999999999997,
          0.15999999999999998,
          0.16999999999999998,
          0.17999999999999997,
          0.18999999999999995,
          0.19999999999999996,
          0.20999999999999996,
          0.21999999999999995,
          0.22999999999999995,
          0.23999999999999994,
          0.24999999999999992,
          0.2599999999999999,
          0.2699999999999999,
          0.2799999999999999,
          0.2899999999999999,
          0.29999999999999993,
          0.30999999999999994,
          0.3199999999999999,
          0.32999999999999985,
          0.33999999999999986,
          0.34999999999999987,
          0.3599999999999999,
          0.3699999999999999,
          0.3799999999999999,
          0.3899999999999999,
          0.3999999999999998,
          0.4099999999999998,
          0.4199999999999998,
          0.4299999999999998,
          0.43999999999999984,
          0.44999999999999984,
          0.45999999999999985,
          0.46999999999999986,
          0.47999999999999976,
          0.48999999999999977
         ],
         "y": [
          0.06,
          0.0545,
          0.05,
          0.0462,
          0.0576,
          0.0738,
          0.0755,
          0.0769,
          0.0838,
          null,
          null,
          null,
          null,
          null,
          null,
          null,
          null,
          null,
          null,
          null,
          null,
          null,
          null,
          null,
          null,
          null,
          null,
          null,
          null,
          null,
          null,
          null,
          null,
          null,
          null,
          null,
          null,
          null,
          null,
          null
         ]
        },
        {
         "mode": "lines+markers",
         "name": "slinear",
         "type": "scatter",
         "x": [
          0.1,
          0.11,
          0.12,
          0.13,
          0.13999999999999999,
          0.14999999999999997,
          0.15999999999999998,
          0.16999999999999998,
          0.17999999999999997,
          0.18999999999999995,
          0.19999999999999996,
          0.20999999999999996,
          0.21999999999999995,
          0.22999999999999995,
          0.23999999999999994,
          0.24999999999999992,
          0.2599999999999999,
          0.2699999999999999,
          0.2799999999999999,
          0.2899999999999999,
          0.29999999999999993,
          0.30999999999999994,
          0.3199999999999999,
          0.32999999999999985,
          0.33999999999999986,
          0.34999999999999987,
          0.3599999999999999,
          0.3699999999999999,
          0.3799999999999999,
          0.3899999999999999,
          0.3999999999999998,
          0.4099999999999998,
          0.4199999999999998,
          0.4299999999999998,
          0.43999999999999984,
          0.44999999999999984,
          0.45999999999999985,
          0.46999999999999986,
          0.47999999999999976,
          0.48999999999999977
         ],
         "y": [
          0.045,
          0.0409,
          0.0375,
          0.0346,
          0.036,
          0.0436,
          0.044,
          0.0444,
          0.0456,
          null,
          null,
          null,
          null,
          null,
          null,
          null,
          null,
          null,
          null,
          null,
          null,
          null,
          null,
          null,
          null,
          null,
          null,
          null,
          null,
          null,
          null,
          null,
          null,
          null,
          null,
          null,
          null,
          null,
          null,
          null
         ]
        },
        {
         "mode": "lines+markers",
         "name": "quadratic",
         "type": "scatter",
         "x": [
          0.1,
          0.11,
          0.12,
          0.13,
          0.13999999999999999,
          0.14999999999999997,
          0.15999999999999998,
          0.16999999999999998,
          0.17999999999999997,
          0.18999999999999995,
          0.19999999999999996,
          0.20999999999999996,
          0.21999999999999995,
          0.22999999999999995,
          0.23999999999999994,
          0.24999999999999992,
          0.2599999999999999,
          0.2699999999999999,
          0.2799999999999999,
          0.2899999999999999,
          0.29999999999999993,
          0.30999999999999994,
          0.3199999999999999,
          0.32999999999999985,
          0.33999999999999986,
          0.34999999999999987,
          0.3599999999999999,
          0.3699999999999999,
          0.3799999999999999,
          0.3899999999999999,
          0.3999999999999998,
          0.4099999999999998,
          0.4199999999999998,
          0.4299999999999998,
          0.43999999999999984,
          0.44999999999999984,
          0.45999999999999985,
          0.46999999999999986,
          0.47999999999999976,
          0.48999999999999977
         ],
         "y": [
          0.0741,
          0.0839,
          0.0851,
          0.0789,
          0.078,
          0.0773,
          0.0766,
          0.0747,
          0.0756,
          null,
          null,
          null,
          null,
          null,
          null,
          null,
          null,
          null,
          null,
          null,
          null,
          null,
          null,
          null,
          null,
          null,
          null,
          null,
          null,
          null,
          null,
          null,
          null,
          null,
          null,
          null,
          null,
          null,
          null,
          null
         ]
        },
        {
         "mode": "lines+markers",
         "name": "cubic",
         "type": "scatter",
         "x": [
          0.1,
          0.11,
          0.12,
          0.13,
          0.13999999999999999,
          0.14999999999999997,
          0.15999999999999998,
          0.16999999999999998,
          0.17999999999999997,
          0.18999999999999995,
          0.19999999999999996,
          0.20999999999999996,
          0.21999999999999995,
          0.22999999999999995,
          0.23999999999999994,
          0.24999999999999992,
          0.2599999999999999,
          0.2699999999999999,
          0.2799999999999999,
          0.2899999999999999,
          0.29999999999999993,
          0.30999999999999994,
          0.3199999999999999,
          0.32999999999999985,
          0.33999999999999986,
          0.34999999999999987,
          0.3599999999999999,
          0.3699999999999999,
          0.3799999999999999,
          0.3899999999999999,
          0.3999999999999998,
          0.4099999999999998,
          0.4199999999999998,
          0.4299999999999998,
          0.43999999999999984,
          0.44999999999999984,
          0.45999999999999985,
          0.46999999999999986,
          0.47999999999999976,
          0.48999999999999977
         ],
         "y": [
          0.0865,
          0.097,
          0.0978,
          0.0911,
          0.0903,
          0.0882,
          0.0877,
          0.0855,
          0.0863,
          null,
          null,
          null,
          null,
          null,
          null,
          null,
          null,
          null,
          null,
          null,
          null,
          null,
          null,
          null,
          null,
          null,
          null,
          null,
          null,
          null,
          null,
          null,
          null,
          null,
          null,
          null,
          null,
          null,
          null,
          null
         ]
        },
        {
         "mode": "lines+markers",
         "name": "polynomial_order_1",
         "type": "scatter",
         "x": [
          0.1,
          0.11,
          0.12,
          0.13,
          0.13999999999999999,
          0.14999999999999997,
          0.15999999999999998,
          0.16999999999999998,
          0.17999999999999997,
          0.18999999999999995,
          0.19999999999999996,
          0.20999999999999996,
          0.21999999999999995,
          0.22999999999999995,
          0.23999999999999994,
          0.24999999999999992,
          0.2599999999999999,
          0.2699999999999999,
          0.2799999999999999,
          0.2899999999999999,
          0.29999999999999993,
          0.30999999999999994,
          0.3199999999999999,
          0.32999999999999985,
          0.33999999999999986,
          0.34999999999999987,
          0.3599999999999999,
          0.3699999999999999,
          0.3799999999999999,
          0.3899999999999999,
          0.3999999999999998,
          0.4099999999999998,
          0.4199999999999998,
          0.4299999999999998,
          0.43999999999999984,
          0.44999999999999984,
          0.45999999999999985,
          0.46999999999999986,
          0.47999999999999976,
          0.48999999999999977
         ],
         "y": [
          0.045,
          0.0409,
          0.0375,
          0.0346,
          0.036,
          0.0436,
          0.044,
          0.0444,
          0.0456,
          null,
          null,
          null,
          null,
          null,
          null,
          null,
          null,
          null,
          null,
          null,
          null,
          null,
          null,
          null,
          null,
          null,
          null,
          null,
          null,
          null,
          null,
          null,
          null,
          null,
          null,
          null,
          null,
          null,
          null,
          null
         ]
        },
        {
         "mode": "lines+markers",
         "name": "polynomial_order_2",
         "type": "scatter",
         "x": [
          0.1,
          0.11,
          0.12,
          0.13,
          0.13999999999999999,
          0.14999999999999997,
          0.15999999999999998,
          0.16999999999999998,
          0.17999999999999997,
          0.18999999999999995,
          0.19999999999999996,
          0.20999999999999996,
          0.21999999999999995,
          0.22999999999999995,
          0.23999999999999994,
          0.24999999999999992,
          0.2599999999999999,
          0.2699999999999999,
          0.2799999999999999,
          0.2899999999999999,
          0.29999999999999993,
          0.30999999999999994,
          0.3199999999999999,
          0.32999999999999985,
          0.33999999999999986,
          0.34999999999999987,
          0.3599999999999999,
          0.3699999999999999,
          0.3799999999999999,
          0.3899999999999999,
          0.3999999999999998,
          0.4099999999999998,
          0.4199999999999998,
          0.4299999999999998,
          0.43999999999999984,
          0.44999999999999984,
          0.45999999999999985,
          0.46999999999999986,
          0.47999999999999976,
          0.48999999999999977
         ],
         "y": [
          0.0741,
          0.0839,
          0.0851,
          0.0789,
          0.078,
          0.0773,
          0.0766,
          0.0747,
          0.0756,
          null,
          null,
          null,
          null,
          null,
          null,
          null,
          null,
          null,
          null,
          null,
          null,
          null,
          null,
          null,
          null,
          null,
          null,
          null,
          null,
          null,
          null,
          null,
          null,
          null,
          null,
          null,
          null,
          null,
          null,
          null
         ]
        },
        {
         "mode": "lines+markers",
         "name": "polynomial_order_3",
         "type": "scatter",
         "x": [
          0.1,
          0.11,
          0.12,
          0.13,
          0.13999999999999999,
          0.14999999999999997,
          0.15999999999999998,
          0.16999999999999998,
          0.17999999999999997,
          0.18999999999999995,
          0.19999999999999996,
          0.20999999999999996,
          0.21999999999999995,
          0.22999999999999995,
          0.23999999999999994,
          0.24999999999999992,
          0.2599999999999999,
          0.2699999999999999,
          0.2799999999999999,
          0.2899999999999999,
          0.29999999999999993,
          0.30999999999999994,
          0.3199999999999999,
          0.32999999999999985,
          0.33999999999999986,
          0.34999999999999987,
          0.3599999999999999,
          0.3699999999999999,
          0.3799999999999999,
          0.3899999999999999,
          0.3999999999999998,
          0.4099999999999998,
          0.4199999999999998,
          0.4299999999999998,
          0.43999999999999984,
          0.44999999999999984,
          0.45999999999999985,
          0.46999999999999986,
          0.47999999999999976,
          0.48999999999999977
         ],
         "y": [
          0.0865,
          0.097,
          0.0978,
          0.0911,
          0.0903,
          0.0882,
          0.0877,
          0.0855,
          0.0863,
          null,
          null,
          null,
          null,
          null,
          null,
          null,
          null,
          null,
          null,
          null,
          null,
          null,
          null,
          null,
          null,
          null,
          null,
          null,
          null,
          null,
          null,
          null,
          null,
          null,
          null,
          null,
          null,
          null,
          null,
          null
         ]
        },
        {
         "mode": "lines+markers",
         "name": "polynomial_order_5",
         "type": "scatter",
         "x": [
          0.1,
          0.11,
          0.12,
          0.13,
          0.13999999999999999,
          0.14999999999999997,
          0.15999999999999998,
          0.16999999999999998,
          0.17999999999999997,
          0.18999999999999995,
          0.19999999999999996,
          0.20999999999999996,
          0.21999999999999995,
          0.22999999999999995,
          0.23999999999999994,
          0.24999999999999992,
          0.2599999999999999,
          0.2699999999999999,
          0.2799999999999999,
          0.2899999999999999,
          0.29999999999999993,
          0.30999999999999994,
          0.3199999999999999,
          0.32999999999999985,
          0.33999999999999986,
          0.34999999999999987,
          0.3599999999999999,
          0.3699999999999999,
          0.3799999999999999,
          0.3899999999999999,
          0.3999999999999998,
          0.4099999999999998,
          0.4199999999999998,
          0.4299999999999998,
          0.43999999999999984,
          0.44999999999999984,
          0.45999999999999985,
          0.46999999999999986,
          0.47999999999999976,
          0.48999999999999977
         ],
         "y": [
          0.1565,
          0.1745,
          0.1714,
          0.1612,
          0.1582,
          0.1499,
          0.1493,
          0.1449,
          0.1423,
          null,
          null,
          null,
          null,
          null,
          null,
          null,
          null,
          null,
          null,
          null,
          null,
          null,
          null,
          null,
          null,
          null,
          null,
          null,
          null,
          null,
          null,
          null,
          null,
          null,
          null,
          null,
          null,
          null,
          null,
          null
         ]
        },
        {
         "mode": "lines+markers",
         "name": "polynomial_order_7",
         "type": "scatter",
         "x": [
          0.1,
          0.11,
          0.12,
          0.13,
          0.13999999999999999,
          0.14999999999999997,
          0.15999999999999998,
          0.16999999999999998,
          0.17999999999999997,
          0.18999999999999995,
          0.19999999999999996,
          0.20999999999999996,
          0.21999999999999995,
          0.22999999999999995,
          0.23999999999999994,
          0.24999999999999992,
          0.2599999999999999,
          0.2699999999999999,
          0.2799999999999999,
          0.2899999999999999,
          0.29999999999999993,
          0.30999999999999994,
          0.3199999999999999,
          0.32999999999999985,
          0.33999999999999986,
          0.34999999999999987,
          0.3599999999999999,
          0.3699999999999999,
          0.3799999999999999,
          0.3899999999999999,
          0.3999999999999998,
          0.4099999999999998,
          0.4199999999999998,
          0.4299999999999998,
          0.43999999999999984,
          0.44999999999999984,
          0.45999999999999985,
          0.46999999999999986,
          0.47999999999999976,
          0.48999999999999977
         ],
         "y": [
          0.2629,
          0.2844,
          0.2733,
          0.2587,
          0.2551,
          0.2407,
          0.2391,
          0.231,
          0.2248,
          null,
          null,
          null,
          null,
          null,
          null,
          null,
          null,
          null,
          null,
          null,
          null,
          null,
          null,
          null,
          null,
          null,
          null,
          null,
          null,
          null,
          null,
          null,
          null,
          null,
          null,
          null,
          null,
          null,
          null,
          null
         ]
        },
        {
         "mode": "lines+markers",
         "name": "polynomial_order_9",
         "type": "scatter",
         "x": [
          0.1,
          0.11,
          0.12,
          0.13,
          0.13999999999999999,
          0.14999999999999997,
          0.15999999999999998,
          0.16999999999999998,
          0.17999999999999997,
          0.18999999999999995,
          0.19999999999999996,
          0.20999999999999996,
          0.21999999999999995,
          0.22999999999999995,
          0.23999999999999994,
          0.24999999999999992,
          0.2599999999999999,
          0.2699999999999999,
          0.2799999999999999,
          0.2899999999999999,
          0.29999999999999993,
          0.30999999999999994,
          0.3199999999999999,
          0.32999999999999985,
          0.33999999999999986,
          0.34999999999999987,
          0.3599999999999999,
          0.3699999999999999,
          0.3799999999999999,
          0.3899999999999999,
          0.3999999999999998,
          0.4099999999999998,
          0.4199999999999998,
          0.4299999999999998,
          0.43999999999999984,
          0.44999999999999984,
          0.45999999999999985,
          0.46999999999999986,
          0.47999999999999976,
          0.48999999999999977
         ],
         "y": [
          0.3964,
          0.4186,
          0.3971,
          0.3781,
          0.3779,
          0.3571,
          0.3536,
          0.3414,
          0.3346,
          null,
          null,
          null,
          null,
          null,
          null,
          null,
          null,
          null,
          null,
          null,
          null,
          null,
          null,
          null,
          null,
          null,
          null,
          null,
          null,
          null,
          null,
          null,
          null,
          null,
          null,
          null,
          null,
          null,
          null,
          null
         ]
        },
        {
         "mode": "lines+markers",
         "name": "piecewise_polynomial",
         "type": "scatter",
         "x": [
          0.1,
          0.11,
          0.12,
          0.13,
          0.13999999999999999,
          0.14999999999999997,
          0.15999999999999998,
          0.16999999999999998,
          0.17999999999999997,
          0.18999999999999995,
          0.19999999999999996,
          0.20999999999999996,
          0.21999999999999995,
          0.22999999999999995,
          0.23999999999999994,
          0.24999999999999992,
          0.2599999999999999,
          0.2699999999999999,
          0.2799999999999999,
          0.2899999999999999,
          0.29999999999999993,
          0.30999999999999994,
          0.3199999999999999,
          0.32999999999999985,
          0.33999999999999986,
          0.34999999999999987,
          0.3599999999999999,
          0.3699999999999999,
          0.3799999999999999,
          0.3899999999999999,
          0.3999999999999998,
          0.4099999999999998,
          0.4199999999999998,
          0.4299999999999998,
          0.43999999999999984,
          0.44999999999999984,
          0.45999999999999985,
          0.46999999999999986,
          0.47999999999999976,
          0.48999999999999977
         ],
         "y": [
          0.045,
          0.0409,
          0.0375,
          0.0346,
          0.036,
          0.0436,
          0.044,
          0.0444,
          0.0456,
          null,
          null,
          null,
          null,
          null,
          null,
          null,
          null,
          null,
          null,
          null,
          null,
          null,
          null,
          null,
          null,
          null,
          null,
          null,
          null,
          null,
          null,
          null,
          null,
          null,
          null,
          null,
          null,
          null,
          null,
          null
         ]
        },
        {
         "mode": "lines+markers",
         "name": "spline_order_1",
         "type": "scatter",
         "x": [
          0.1,
          0.11,
          0.12,
          0.13,
          0.13999999999999999,
          0.14999999999999997,
          0.15999999999999998,
          0.16999999999999998,
          0.17999999999999997,
          0.18999999999999995,
          0.19999999999999996,
          0.20999999999999996,
          0.21999999999999995,
          0.22999999999999995,
          0.23999999999999994,
          0.24999999999999992,
          0.2599999999999999,
          0.2699999999999999,
          0.2799999999999999,
          0.2899999999999999,
          0.29999999999999993,
          0.30999999999999994,
          0.3199999999999999,
          0.32999999999999985,
          0.33999999999999986,
          0.34999999999999987,
          0.3599999999999999,
          0.3699999999999999,
          0.3799999999999999,
          0.3899999999999999,
          0.3999999999999998,
          0.4099999999999998,
          0.4199999999999998,
          0.4299999999999998,
          0.43999999999999984,
          0.44999999999999984,
          0.45999999999999985,
          0.46999999999999986,
          0.47999999999999976,
          0.48999999999999977
         ],
         "y": [
          0.3826,
          0.4155,
          0.3316,
          0.3786,
          0.3565,
          0.3087,
          0.3325,
          0.3396,
          0.3571,
          0.3753,
          0.316,
          0.3129,
          0.2961,
          0.3011,
          0.3084,
          0.3621,
          0.3177,
          0.3722,
          0.3653,
          0.3324,
          0.3756,
          0.3736,
          0.3756,
          0.3672,
          0.3896,
          0.4032,
          0.381,
          0.3874,
          0.3839,
          0.3624,
          0.3741,
          0.39,
          0.3694,
          0.3865,
          0.3554,
          0.3574,
          0.3762,
          0.3686,
          0.3493,
          0.3487
         ]
        },
        {
         "mode": "lines+markers",
         "name": "spline_order_2",
         "type": "scatter",
         "x": [
          0.1,
          0.11,
          0.12,
          0.13,
          0.13999999999999999,
          0.14999999999999997,
          0.15999999999999998,
          0.16999999999999998,
          0.17999999999999997,
          0.18999999999999995,
          0.19999999999999996,
          0.20999999999999996,
          0.21999999999999995,
          0.22999999999999995,
          0.23999999999999994,
          0.24999999999999992,
          0.2599999999999999,
          0.2699999999999999,
          0.2799999999999999,
          0.2899999999999999,
          0.29999999999999993,
          0.30999999999999994,
          0.3199999999999999,
          0.32999999999999985,
          0.33999999999999986,
          0.34999999999999987,
          0.3599999999999999,
          0.3699999999999999,
          0.3799999999999999,
          0.3899999999999999,
          0.3999999999999998,
          0.4099999999999998,
          0.4199999999999998,
          0.4299999999999998,
          0.43999999999999984,
          0.44999999999999984,
          0.45999999999999985,
          0.46999999999999986,
          0.47999999999999976,
          0.48999999999999977
         ],
         "y": [
          0.3777,
          0.3407,
          0.3469,
          0.3215,
          0.3254,
          0.3106,
          0.318,
          0.3115,
          0.3211,
          0.3169,
          0.318,
          0.3139,
          0.357,
          0.3193,
          0.3116,
          0.2988,
          0.2961,
          0.3336,
          0.3429,
          0.3665,
          0.3761,
          0.375,
          0.3561,
          0.3667,
          0.3735,
          0.3819,
          0.4001,
          0.3625,
          0.3541,
          0.3507,
          0.3613,
          0.3935,
          0.3764,
          0.4046,
          0.3762,
          0.35,
          0.3933,
          0.3862,
          0.3373,
          0.3453
         ]
        },
        {
         "mode": "lines+markers",
         "name": "spline_order_3",
         "type": "scatter",
         "x": [
          0.1,
          0.11,
          0.12,
          0.13,
          0.13999999999999999,
          0.14999999999999997,
          0.15999999999999998,
          0.16999999999999998,
          0.17999999999999997,
          0.18999999999999995,
          0.19999999999999996,
          0.20999999999999996,
          0.21999999999999995,
          0.22999999999999995,
          0.23999999999999994,
          0.24999999999999992,
          0.2599999999999999,
          0.2699999999999999,
          0.2799999999999999,
          0.2899999999999999,
          0.29999999999999993,
          0.30999999999999994,
          0.3199999999999999,
          0.32999999999999985,
          0.33999999999999986,
          0.34999999999999987,
          0.3599999999999999,
          0.3699999999999999,
          0.3799999999999999,
          0.3899999999999999,
          0.3999999999999998,
          0.4099999999999998,
          0.4199999999999998,
          0.4299999999999998,
          0.43999999999999984,
          0.44999999999999984,
          0.45999999999999985,
          0.46999999999999986,
          0.47999999999999976,
          0.48999999999999977
         ],
         "y": [
          0.4218,
          0.371,
          0.3881,
          0.3468,
          0.3498,
          0.3437,
          0.3427,
          0.3363,
          0.3518,
          0.3484,
          0.305,
          0.3042,
          0.3506,
          0.3032,
          0.3188,
          0.3111,
          0.2886,
          0.3316,
          0.3541,
          0.3712,
          0.4017,
          0.397,
          0.4002,
          0.386,
          0.4081,
          0.3872,
          0.3927,
          0.3959,
          0.3867,
          0.3629,
          0.368,
          0.3713,
          0.3777,
          0.3604,
          0.3929,
          0.3507,
          0.3522,
          0.3678,
          0.3467,
          0.364
         ]
        },
        {
         "mode": "lines+markers",
         "name": "spline_order_4",
         "type": "scatter",
         "x": [
          0.1,
          0.11,
          0.12,
          0.13,
          0.13999999999999999,
          0.14999999999999997,
          0.15999999999999998,
          0.16999999999999998,
          0.17999999999999997,
          0.18999999999999995,
          0.19999999999999996,
          0.20999999999999996,
          0.21999999999999995,
          0.22999999999999995,
          0.23999999999999994,
          0.24999999999999992,
          0.2599999999999999,
          0.2699999999999999,
          0.2799999999999999,
          0.2899999999999999,
          0.29999999999999993,
          0.30999999999999994,
          0.3199999999999999,
          0.32999999999999985,
          0.33999999999999986,
          0.34999999999999987,
          0.3599999999999999,
          0.3699999999999999,
          0.3799999999999999,
          0.3899999999999999,
          0.3999999999999998,
          0.4099999999999998,
          0.4199999999999998,
          0.4299999999999998,
          0.43999999999999984,
          0.44999999999999984,
          0.45999999999999985,
          0.46999999999999986,
          0.47999999999999976,
          0.48999999999999977
         ],
         "y": [
          0.3515,
          0.322,
          0.325,
          0.3094,
          0.3223,
          0.3125,
          0.3073,
          0.301,
          0.3272,
          0.3196,
          0.3181,
          0.3141,
          0.3282,
          0.312,
          0.3081,
          0.3106,
          0.2975,
          0.335,
          0.3429,
          0.3562,
          0.3873,
          0.3919,
          0.3815,
          0.385,
          0.4013,
          0.403,
          0.3815,
          0.3959,
          0.3895,
          0.3794,
          0.3932,
          0.3728,
          0.3668,
          0.3715,
          0.3678,
          0.3553,
          0.3628,
          0.3559,
          0.3536,
          0.3679
         ]
        },
        {
         "mode": "lines+markers",
         "name": "spline_order_5",
         "type": "scatter",
         "x": [
          0.1,
          0.11,
          0.12,
          0.13,
          0.13999999999999999,
          0.14999999999999997,
          0.15999999999999998,
          0.16999999999999998,
          0.17999999999999997,
          0.18999999999999995,
          0.19999999999999996,
          0.20999999999999996,
          0.21999999999999995,
          0.22999999999999995,
          0.23999999999999994,
          0.24999999999999992,
          0.2599999999999999,
          0.2699999999999999,
          0.2799999999999999,
          0.2899999999999999,
          0.29999999999999993,
          0.30999999999999994,
          0.3199999999999999,
          0.32999999999999985,
          0.33999999999999986,
          0.34999999999999987,
          0.3599999999999999,
          0.3699999999999999,
          0.3799999999999999,
          0.3899999999999999,
          0.3999999999999998,
          0.4099999999999998,
          0.4199999999999998,
          0.4299999999999998,
          0.43999999999999984,
          0.44999999999999984,
          0.45999999999999985,
          0.46999999999999986,
          0.47999999999999976,
          0.48999999999999977
         ],
         "y": [
          0.3553,
          0.375,
          0.3261,
          0.3544,
          0.3381,
          0.3158,
          0.3227,
          0.3563,
          0.3364,
          0.3346,
          0.3332,
          0.3279,
          0.3254,
          0.3203,
          0.3181,
          0.3092,
          0.3135,
          0.3505,
          0.3496,
          0.3911,
          0.4173,
          0.4338,
          0.3984,
          0.4201,
          0.4169,
          0.41,
          0.3977,
          0.3919,
          0.3934,
          0.3784,
          0.3769,
          0.3563,
          0.3596,
          0.367,
          0.3682,
          0.3817,
          0.3616,
          0.358,
          0.3682,
          0.359
         ]
        },
        {
         "mode": "lines+markers",
         "name": "akima",
         "type": "scatter",
         "x": [
          0.1,
          0.11,
          0.12,
          0.13,
          0.13999999999999999,
          0.14999999999999997,
          0.15999999999999998,
          0.16999999999999998,
          0.17999999999999997,
          0.18999999999999995,
          0.19999999999999996,
          0.20999999999999996,
          0.21999999999999995,
          0.22999999999999995,
          0.23999999999999994,
          0.24999999999999992,
          0.2599999999999999,
          0.2699999999999999,
          0.2799999999999999,
          0.2899999999999999,
          0.29999999999999993,
          0.30999999999999994,
          0.3199999999999999,
          0.32999999999999985,
          0.33999999999999986,
          0.34999999999999987,
          0.3599999999999999,
          0.3699999999999999,
          0.3799999999999999,
          0.3899999999999999,
          0.3999999999999998,
          0.4099999999999998,
          0.4199999999999998,
          0.4299999999999998,
          0.43999999999999984,
          0.44999999999999984,
          0.45999999999999985,
          0.46999999999999986,
          0.47999999999999976,
          0.48999999999999977
         ],
         "y": [
          0.045,
          0.0409,
          0.0375,
          0.0346,
          0.0346,
          0.0424,
          0.0428,
          0.0433,
          0.0437,
          null,
          null,
          null,
          null,
          null,
          null,
          null,
          null,
          null,
          null,
          null,
          null,
          null,
          null,
          null,
          null,
          null,
          null,
          null,
          null,
          null,
          null,
          null,
          null,
          null,
          null,
          null,
          null,
          null,
          null,
          null
         ]
        },
        {
         "mode": "lines+markers",
         "name": "cubicspline",
         "type": "scatter",
         "x": [
          0.1,
          0.11,
          0.12,
          0.13,
          0.13999999999999999,
          0.14999999999999997,
          0.15999999999999998,
          0.16999999999999998,
          0.17999999999999997,
          0.18999999999999995,
          0.19999999999999996,
          0.20999999999999996,
          0.21999999999999995,
          0.22999999999999995,
          0.23999999999999994,
          0.24999999999999992,
          0.2599999999999999,
          0.2699999999999999,
          0.2799999999999999,
          0.2899999999999999,
          0.29999999999999993,
          0.30999999999999994,
          0.3199999999999999,
          0.32999999999999985,
          0.33999999999999986,
          0.34999999999999987,
          0.3599999999999999,
          0.3699999999999999,
          0.3799999999999999,
          0.3899999999999999,
          0.3999999999999998,
          0.4099999999999998,
          0.4199999999999998,
          0.4299999999999998,
          0.43999999999999984,
          0.44999999999999984,
          0.45999999999999985,
          0.46999999999999986,
          0.47999999999999976,
          0.48999999999999977
         ],
         "y": [
          0.0865,
          0.097,
          0.0978,
          0.0911,
          0.0903,
          0.0882,
          0.0877,
          0.0855,
          0.0863,
          0.0891,
          0.0893,
          0.0885,
          0.0848,
          0.0828,
          0.0835,
          0.0833,
          0.0852,
          0.1161,
          0.1131,
          0.1146,
          0.1616,
          0.1599,
          0.1604,
          0.1628,
          0.1767,
          0.1846,
          0.1811,
          0.1792,
          0.1782,
          0.1764,
          0.1761,
          0.1777,
          0.1794,
          0.1875,
          0.191,
          0.1922,
          0.1911,
          0.1913,
          0.1926,
          0.1976
         ]
        },
        {
         "mode": "lines+markers",
         "name": "from_derivatives",
         "type": "scatter",
         "x": [
          0.1,
          0.11,
          0.12,
          0.13,
          0.13999999999999999,
          0.14999999999999997,
          0.15999999999999998,
          0.16999999999999998,
          0.17999999999999997,
          0.18999999999999995,
          0.19999999999999996,
          0.20999999999999996,
          0.21999999999999995,
          0.22999999999999995,
          0.23999999999999994,
          0.24999999999999992,
          0.2599999999999999,
          0.2699999999999999,
          0.2799999999999999,
          0.2899999999999999,
          0.29999999999999993,
          0.30999999999999994,
          0.3199999999999999,
          0.32999999999999985,
          0.33999999999999986,
          0.34999999999999987,
          0.3599999999999999,
          0.3699999999999999,
          0.3799999999999999,
          0.3899999999999999,
          0.3999999999999998,
          0.4099999999999998,
          0.4199999999999998,
          0.4299999999999998,
          0.43999999999999984,
          0.44999999999999984,
          0.45999999999999985,
          0.46999999999999986,
          0.47999999999999976,
          0.48999999999999977
         ],
         "y": [
          0.045,
          0.0409,
          0.0375,
          0.0346,
          0.036,
          0.0436,
          0.044,
          0.0444,
          0.0456,
          null,
          null,
          null,
          null,
          null,
          null,
          null,
          null,
          null,
          null,
          null,
          null,
          null,
          null,
          null,
          null,
          null,
          null,
          null,
          null,
          null,
          null,
          null,
          null,
          null,
          null,
          null,
          null,
          null,
          null,
          null
         ]
        }
       ],
       "layout": {
        "legend": {
         "title": {
          "text": "Method"
         }
        },
        "template": {
         "data": {
          "bar": [
           {
            "error_x": {
             "color": "#2a3f5f"
            },
            "error_y": {
             "color": "#2a3f5f"
            },
            "marker": {
             "line": {
              "color": "#E5ECF6",
              "width": 0.5
             },
             "pattern": {
              "fillmode": "overlay",
              "size": 10,
              "solidity": 0.2
             }
            },
            "type": "bar"
           }
          ],
          "barpolar": [
           {
            "marker": {
             "line": {
              "color": "#E5ECF6",
              "width": 0.5
             },
             "pattern": {
              "fillmode": "overlay",
              "size": 10,
              "solidity": 0.2
             }
            },
            "type": "barpolar"
           }
          ],
          "carpet": [
           {
            "aaxis": {
             "endlinecolor": "#2a3f5f",
             "gridcolor": "white",
             "linecolor": "white",
             "minorgridcolor": "white",
             "startlinecolor": "#2a3f5f"
            },
            "baxis": {
             "endlinecolor": "#2a3f5f",
             "gridcolor": "white",
             "linecolor": "white",
             "minorgridcolor": "white",
             "startlinecolor": "#2a3f5f"
            },
            "type": "carpet"
           }
          ],
          "choropleth": [
           {
            "colorbar": {
             "outlinewidth": 0,
             "ticks": ""
            },
            "type": "choropleth"
           }
          ],
          "contour": [
           {
            "colorbar": {
             "outlinewidth": 0,
             "ticks": ""
            },
            "colorscale": [
             [
              0,
              "#0d0887"
             ],
             [
              0.1111111111111111,
              "#46039f"
             ],
             [
              0.2222222222222222,
              "#7201a8"
             ],
             [
              0.3333333333333333,
              "#9c179e"
             ],
             [
              0.4444444444444444,
              "#bd3786"
             ],
             [
              0.5555555555555556,
              "#d8576b"
             ],
             [
              0.6666666666666666,
              "#ed7953"
             ],
             [
              0.7777777777777778,
              "#fb9f3a"
             ],
             [
              0.8888888888888888,
              "#fdca26"
             ],
             [
              1,
              "#f0f921"
             ]
            ],
            "type": "contour"
           }
          ],
          "contourcarpet": [
           {
            "colorbar": {
             "outlinewidth": 0,
             "ticks": ""
            },
            "type": "contourcarpet"
           }
          ],
          "heatmap": [
           {
            "colorbar": {
             "outlinewidth": 0,
             "ticks": ""
            },
            "colorscale": [
             [
              0,
              "#0d0887"
             ],
             [
              0.1111111111111111,
              "#46039f"
             ],
             [
              0.2222222222222222,
              "#7201a8"
             ],
             [
              0.3333333333333333,
              "#9c179e"
             ],
             [
              0.4444444444444444,
              "#bd3786"
             ],
             [
              0.5555555555555556,
              "#d8576b"
             ],
             [
              0.6666666666666666,
              "#ed7953"
             ],
             [
              0.7777777777777778,
              "#fb9f3a"
             ],
             [
              0.8888888888888888,
              "#fdca26"
             ],
             [
              1,
              "#f0f921"
             ]
            ],
            "type": "heatmap"
           }
          ],
          "heatmapgl": [
           {
            "colorbar": {
             "outlinewidth": 0,
             "ticks": ""
            },
            "colorscale": [
             [
              0,
              "#0d0887"
             ],
             [
              0.1111111111111111,
              "#46039f"
             ],
             [
              0.2222222222222222,
              "#7201a8"
             ],
             [
              0.3333333333333333,
              "#9c179e"
             ],
             [
              0.4444444444444444,
              "#bd3786"
             ],
             [
              0.5555555555555556,
              "#d8576b"
             ],
             [
              0.6666666666666666,
              "#ed7953"
             ],
             [
              0.7777777777777778,
              "#fb9f3a"
             ],
             [
              0.8888888888888888,
              "#fdca26"
             ],
             [
              1,
              "#f0f921"
             ]
            ],
            "type": "heatmapgl"
           }
          ],
          "histogram": [
           {
            "marker": {
             "pattern": {
              "fillmode": "overlay",
              "size": 10,
              "solidity": 0.2
             }
            },
            "type": "histogram"
           }
          ],
          "histogram2d": [
           {
            "colorbar": {
             "outlinewidth": 0,
             "ticks": ""
            },
            "colorscale": [
             [
              0,
              "#0d0887"
             ],
             [
              0.1111111111111111,
              "#46039f"
             ],
             [
              0.2222222222222222,
              "#7201a8"
             ],
             [
              0.3333333333333333,
              "#9c179e"
             ],
             [
              0.4444444444444444,
              "#bd3786"
             ],
             [
              0.5555555555555556,
              "#d8576b"
             ],
             [
              0.6666666666666666,
              "#ed7953"
             ],
             [
              0.7777777777777778,
              "#fb9f3a"
             ],
             [
              0.8888888888888888,
              "#fdca26"
             ],
             [
              1,
              "#f0f921"
             ]
            ],
            "type": "histogram2d"
           }
          ],
          "histogram2dcontour": [
           {
            "colorbar": {
             "outlinewidth": 0,
             "ticks": ""
            },
            "colorscale": [
             [
              0,
              "#0d0887"
             ],
             [
              0.1111111111111111,
              "#46039f"
             ],
             [
              0.2222222222222222,
              "#7201a8"
             ],
             [
              0.3333333333333333,
              "#9c179e"
             ],
             [
              0.4444444444444444,
              "#bd3786"
             ],
             [
              0.5555555555555556,
              "#d8576b"
             ],
             [
              0.6666666666666666,
              "#ed7953"
             ],
             [
              0.7777777777777778,
              "#fb9f3a"
             ],
             [
              0.8888888888888888,
              "#fdca26"
             ],
             [
              1,
              "#f0f921"
             ]
            ],
            "type": "histogram2dcontour"
           }
          ],
          "mesh3d": [
           {
            "colorbar": {
             "outlinewidth": 0,
             "ticks": ""
            },
            "type": "mesh3d"
           }
          ],
          "parcoords": [
           {
            "line": {
             "colorbar": {
              "outlinewidth": 0,
              "ticks": ""
             }
            },
            "type": "parcoords"
           }
          ],
          "pie": [
           {
            "automargin": true,
            "type": "pie"
           }
          ],
          "scatter": [
           {
            "fillpattern": {
             "fillmode": "overlay",
             "size": 10,
             "solidity": 0.2
            },
            "type": "scatter"
           }
          ],
          "scatter3d": [
           {
            "line": {
             "colorbar": {
              "outlinewidth": 0,
              "ticks": ""
             }
            },
            "marker": {
             "colorbar": {
              "outlinewidth": 0,
              "ticks": ""
             }
            },
            "type": "scatter3d"
           }
          ],
          "scattercarpet": [
           {
            "marker": {
             "colorbar": {
              "outlinewidth": 0,
              "ticks": ""
             }
            },
            "type": "scattercarpet"
           }
          ],
          "scattergeo": [
           {
            "marker": {
             "colorbar": {
              "outlinewidth": 0,
              "ticks": ""
             }
            },
            "type": "scattergeo"
           }
          ],
          "scattergl": [
           {
            "marker": {
             "colorbar": {
              "outlinewidth": 0,
              "ticks": ""
             }
            },
            "type": "scattergl"
           }
          ],
          "scattermapbox": [
           {
            "marker": {
             "colorbar": {
              "outlinewidth": 0,
              "ticks": ""
             }
            },
            "type": "scattermapbox"
           }
          ],
          "scatterpolar": [
           {
            "marker": {
             "colorbar": {
              "outlinewidth": 0,
              "ticks": ""
             }
            },
            "type": "scatterpolar"
           }
          ],
          "scatterpolargl": [
           {
            "marker": {
             "colorbar": {
              "outlinewidth": 0,
              "ticks": ""
             }
            },
            "type": "scatterpolargl"
           }
          ],
          "scatterternary": [
           {
            "marker": {
             "colorbar": {
              "outlinewidth": 0,
              "ticks": ""
             }
            },
            "type": "scatterternary"
           }
          ],
          "surface": [
           {
            "colorbar": {
             "outlinewidth": 0,
             "ticks": ""
            },
            "colorscale": [
             [
              0,
              "#0d0887"
             ],
             [
              0.1111111111111111,
              "#46039f"
             ],
             [
              0.2222222222222222,
              "#7201a8"
             ],
             [
              0.3333333333333333,
              "#9c179e"
             ],
             [
              0.4444444444444444,
              "#bd3786"
             ],
             [
              0.5555555555555556,
              "#d8576b"
             ],
             [
              0.6666666666666666,
              "#ed7953"
             ],
             [
              0.7777777777777778,
              "#fb9f3a"
             ],
             [
              0.8888888888888888,
              "#fdca26"
             ],
             [
              1,
              "#f0f921"
             ]
            ],
            "type": "surface"
           }
          ],
          "table": [
           {
            "cells": {
             "fill": {
              "color": "#EBF0F8"
             },
             "line": {
              "color": "white"
             }
            },
            "header": {
             "fill": {
              "color": "#C8D4E3"
             },
             "line": {
              "color": "white"
             }
            },
            "type": "table"
           }
          ]
         },
         "layout": {
          "annotationdefaults": {
           "arrowcolor": "#2a3f5f",
           "arrowhead": 0,
           "arrowwidth": 1
          },
          "autotypenumbers": "strict",
          "coloraxis": {
           "colorbar": {
            "outlinewidth": 0,
            "ticks": ""
           }
          },
          "colorscale": {
           "diverging": [
            [
             0,
             "#8e0152"
            ],
            [
             0.1,
             "#c51b7d"
            ],
            [
             0.2,
             "#de77ae"
            ],
            [
             0.3,
             "#f1b6da"
            ],
            [
             0.4,
             "#fde0ef"
            ],
            [
             0.5,
             "#f7f7f7"
            ],
            [
             0.6,
             "#e6f5d0"
            ],
            [
             0.7,
             "#b8e186"
            ],
            [
             0.8,
             "#7fbc41"
            ],
            [
             0.9,
             "#4d9221"
            ],
            [
             1,
             "#276419"
            ]
           ],
           "sequential": [
            [
             0,
             "#0d0887"
            ],
            [
             0.1111111111111111,
             "#46039f"
            ],
            [
             0.2222222222222222,
             "#7201a8"
            ],
            [
             0.3333333333333333,
             "#9c179e"
            ],
            [
             0.4444444444444444,
             "#bd3786"
            ],
            [
             0.5555555555555556,
             "#d8576b"
            ],
            [
             0.6666666666666666,
             "#ed7953"
            ],
            [
             0.7777777777777778,
             "#fb9f3a"
            ],
            [
             0.8888888888888888,
             "#fdca26"
            ],
            [
             1,
             "#f0f921"
            ]
           ],
           "sequentialminus": [
            [
             0,
             "#0d0887"
            ],
            [
             0.1111111111111111,
             "#46039f"
            ],
            [
             0.2222222222222222,
             "#7201a8"
            ],
            [
             0.3333333333333333,
             "#9c179e"
            ],
            [
             0.4444444444444444,
             "#bd3786"
            ],
            [
             0.5555555555555556,
             "#d8576b"
            ],
            [
             0.6666666666666666,
             "#ed7953"
            ],
            [
             0.7777777777777778,
             "#fb9f3a"
            ],
            [
             0.8888888888888888,
             "#fdca26"
            ],
            [
             1,
             "#f0f921"
            ]
           ]
          },
          "colorway": [
           "#636efa",
           "#EF553B",
           "#00cc96",
           "#ab63fa",
           "#FFA15A",
           "#19d3f3",
           "#FF6692",
           "#B6E880",
           "#FF97FF",
           "#FECB52"
          ],
          "font": {
           "color": "#2a3f5f"
          },
          "geo": {
           "bgcolor": "white",
           "lakecolor": "white",
           "landcolor": "#E5ECF6",
           "showlakes": true,
           "showland": true,
           "subunitcolor": "white"
          },
          "hoverlabel": {
           "align": "left"
          },
          "hovermode": "closest",
          "mapbox": {
           "style": "light"
          },
          "paper_bgcolor": "white",
          "plot_bgcolor": "#E5ECF6",
          "polar": {
           "angularaxis": {
            "gridcolor": "white",
            "linecolor": "white",
            "ticks": ""
           },
           "bgcolor": "#E5ECF6",
           "radialaxis": {
            "gridcolor": "white",
            "linecolor": "white",
            "ticks": ""
           }
          },
          "scene": {
           "xaxis": {
            "backgroundcolor": "#E5ECF6",
            "gridcolor": "white",
            "gridwidth": 2,
            "linecolor": "white",
            "showbackground": true,
            "ticks": "",
            "zerolinecolor": "white"
           },
           "yaxis": {
            "backgroundcolor": "#E5ECF6",
            "gridcolor": "white",
            "gridwidth": 2,
            "linecolor": "white",
            "showbackground": true,
            "ticks": "",
            "zerolinecolor": "white"
           },
           "zaxis": {
            "backgroundcolor": "#E5ECF6",
            "gridcolor": "white",
            "gridwidth": 2,
            "linecolor": "white",
            "showbackground": true,
            "ticks": "",
            "zerolinecolor": "white"
           }
          },
          "shapedefaults": {
           "line": {
            "color": "#2a3f5f"
           }
          },
          "ternary": {
           "aaxis": {
            "gridcolor": "white",
            "linecolor": "white",
            "ticks": ""
           },
           "baxis": {
            "gridcolor": "white",
            "linecolor": "white",
            "ticks": ""
           },
           "bgcolor": "#E5ECF6",
           "caxis": {
            "gridcolor": "white",
            "linecolor": "white",
            "ticks": ""
           }
          },
          "title": {
           "x": 0.05
          },
          "xaxis": {
           "automargin": true,
           "gridcolor": "white",
           "linecolor": "white",
           "ticks": "",
           "title": {
            "standoff": 15
           },
           "zerolinecolor": "white",
           "zerolinewidth": 2
          },
          "yaxis": {
           "automargin": true,
           "gridcolor": "white",
           "linecolor": "white",
           "ticks": "",
           "title": {
            "standoff": 15
           },
           "zerolinecolor": "white",
           "zerolinewidth": 2
          }
         }
        },
        "title": {
         "text": "Performance Development for Feature day"
        },
        "xaxis": {
         "title": {
          "text": "Missing Rate"
         }
        },
        "yaxis": {
         "title": {
          "text": "Difference between original and interpolated data"
         }
        }
       }
      }
     },
     "metadata": {},
     "output_type": "display_data"
    },
    {
     "data": {
      "application/vnd.plotly.v1+json": {
       "config": {
        "plotlyServerURL": "https://plot.ly"
       },
       "data": [
        {
         "mode": "lines+markers",
         "name": "linear",
         "type": "scatter",
         "x": [
          0.1,
          0.11,
          0.12,
          0.13,
          0.13999999999999999,
          0.14999999999999997,
          0.15999999999999998,
          0.16999999999999998,
          0.17999999999999997,
          0.18999999999999995,
          0.19999999999999996,
          0.20999999999999996,
          0.21999999999999995,
          0.22999999999999995,
          0.23999999999999994,
          0.24999999999999992,
          0.2599999999999999,
          0.2699999999999999,
          0.2799999999999999,
          0.2899999999999999,
          0.29999999999999993,
          0.30999999999999994,
          0.3199999999999999,
          0.32999999999999985,
          0.33999999999999986,
          0.34999999999999987,
          0.3599999999999999,
          0.3699999999999999,
          0.3799999999999999,
          0.3899999999999999,
          0.3999999999999998,
          0.4099999999999998,
          0.4199999999999998,
          0.4299999999999998,
          0.43999999999999984,
          0.44999999999999984,
          0.45999999999999985,
          0.46999999999999986,
          0.47999999999999976,
          0.48999999999999977
         ],
         "y": [
          1.08,
          0.9818,
          0.9,
          0.8308,
          0.8633,
          1.047,
          1.0566,
          1.0651,
          1.095,
          1.2963,
          1.3518,
          1.2871,
          1.2283,
          1.1747,
          1.1757,
          1.1285,
          1.1313,
          1.0892,
          1.0502,
          1.0969,
          1.1873,
          1.2265,
          1.2633,
          1.4365,
          1.4649,
          1.4573,
          1.5616,
          1.5322,
          1.5172,
          1.4905,
          1.4792,
          1.5017,
          1.6104,
          1.5729,
          1.7011,
          1.6632,
          1.7136,
          1.6771,
          1.6922,
          1.6576
         ]
        },
        {
         "mode": "lines+markers",
         "name": "nearest",
         "type": "scatter",
         "x": [
          0.1,
          0.11,
          0.12,
          0.13,
          0.13999999999999999,
          0.14999999999999997,
          0.15999999999999998,
          0.16999999999999998,
          0.17999999999999997,
          0.18999999999999995,
          0.19999999999999996,
          0.20999999999999996,
          0.21999999999999995,
          0.22999999999999995,
          0.23999999999999994,
          0.24999999999999992,
          0.2599999999999999,
          0.2699999999999999,
          0.2799999999999999,
          0.2899999999999999,
          0.29999999999999993,
          0.30999999999999994,
          0.3199999999999999,
          0.32999999999999985,
          0.33999999999999986,
          0.34999999999999987,
          0.3599999999999999,
          0.3699999999999999,
          0.3799999999999999,
          0.3899999999999999,
          0.3999999999999998,
          0.4099999999999998,
          0.4199999999999998,
          0.4299999999999998,
          0.43999999999999984,
          0.44999999999999984,
          0.45999999999999985,
          0.46999999999999986,
          0.47999999999999976,
          0.48999999999999977
         ],
         "y": [
          2.54,
          2.4182,
          2.3,
          2.2,
          2.1439,
          2.3557,
          2.2767,
          2.3314,
          2.3799,
          null,
          null,
          null,
          null,
          null,
          null,
          null,
          null,
          null,
          null,
          null,
          null,
          null,
          null,
          null,
          null,
          null,
          null,
          null,
          null,
          null,
          null,
          null,
          null,
          null,
          null,
          null,
          null,
          null,
          null,
          null
         ]
        },
        {
         "mode": "lines+markers",
         "name": "zero",
         "type": "scatter",
         "x": [
          0.1,
          0.11,
          0.12,
          0.13,
          0.13999999999999999,
          0.14999999999999997,
          0.15999999999999998,
          0.16999999999999998,
          0.17999999999999997,
          0.18999999999999995,
          0.19999999999999996,
          0.20999999999999996,
          0.21999999999999995,
          0.22999999999999995,
          0.23999999999999994,
          0.24999999999999992,
          0.2599999999999999,
          0.2699999999999999,
          0.2799999999999999,
          0.2899999999999999,
          0.29999999999999993,
          0.30999999999999994,
          0.3199999999999999,
          0.32999999999999985,
          0.33999999999999986,
          0.34999999999999987,
          0.3599999999999999,
          0.3699999999999999,
          0.3799999999999999,
          0.3899999999999999,
          0.3999999999999998,
          0.4099999999999998,
          0.4199999999999998,
          0.4299999999999998,
          0.43999999999999984,
          0.44999999999999984,
          0.45999999999999985,
          0.46999999999999986,
          0.47999999999999976,
          0.48999999999999977
         ],
         "y": [
          2.44,
          2.3909,
          2.2917,
          2.1923,
          2.4532,
          2.7919,
          2.8428,
          2.8817,
          3.0279,
          null,
          null,
          null,
          null,
          null,
          null,
          null,
          null,
          null,
          null,
          null,
          null,
          null,
          null,
          null,
          null,
          null,
          null,
          null,
          null,
          null,
          null,
          null,
          null,
          null,
          null,
          null,
          null,
          null,
          null,
          null
         ]
        },
        {
         "mode": "lines+markers",
         "name": "slinear",
         "type": "scatter",
         "x": [
          0.1,
          0.11,
          0.12,
          0.13,
          0.13999999999999999,
          0.14999999999999997,
          0.15999999999999998,
          0.16999999999999998,
          0.17999999999999997,
          0.18999999999999995,
          0.19999999999999996,
          0.20999999999999996,
          0.21999999999999995,
          0.22999999999999995,
          0.23999999999999994,
          0.24999999999999992,
          0.2599999999999999,
          0.2699999999999999,
          0.2799999999999999,
          0.2899999999999999,
          0.29999999999999993,
          0.30999999999999994,
          0.3199999999999999,
          0.32999999999999985,
          0.33999999999999986,
          0.34999999999999987,
          0.3599999999999999,
          0.3699999999999999,
          0.3799999999999999,
          0.3899999999999999,
          0.3999999999999998,
          0.4099999999999998,
          0.4199999999999998,
          0.4299999999999998,
          0.43999999999999984,
          0.44999999999999984,
          0.45999999999999985,
          0.46999999999999986,
          0.47999999999999976,
          0.48999999999999977
         ],
         "y": [
          1.08,
          0.9818,
          0.9,
          0.8308,
          0.8633,
          1.047,
          1.0566,
          1.0651,
          1.095,
          null,
          null,
          null,
          null,
          null,
          null,
          null,
          null,
          null,
          null,
          null,
          null,
          null,
          null,
          null,
          null,
          null,
          null,
          null,
          null,
          null,
          null,
          null,
          null,
          null,
          null,
          null,
          null,
          null,
          null,
          null
         ]
        },
        {
         "mode": "lines+markers",
         "name": "quadratic",
         "type": "scatter",
         "x": [
          0.1,
          0.11,
          0.12,
          0.13,
          0.13999999999999999,
          0.14999999999999997,
          0.15999999999999998,
          0.16999999999999998,
          0.17999999999999997,
          0.18999999999999995,
          0.19999999999999996,
          0.20999999999999996,
          0.21999999999999995,
          0.22999999999999995,
          0.23999999999999994,
          0.24999999999999992,
          0.2599999999999999,
          0.2699999999999999,
          0.2799999999999999,
          0.2899999999999999,
          0.29999999999999993,
          0.30999999999999994,
          0.3199999999999999,
          0.32999999999999985,
          0.33999999999999986,
          0.34999999999999987,
          0.3599999999999999,
          0.3699999999999999,
          0.3799999999999999,
          0.3899999999999999,
          0.3999999999999998,
          0.4099999999999998,
          0.4199999999999998,
          0.4299999999999998,
          0.43999999999999984,
          0.44999999999999984,
          0.45999999999999985,
          0.46999999999999986,
          0.47999999999999976,
          0.48999999999999977
         ],
         "y": [
          1.7227,
          1.9624,
          1.9958,
          1.8508,
          1.8315,
          1.8176,
          1.804,
          1.7601,
          1.7825,
          null,
          null,
          null,
          null,
          null,
          null,
          null,
          null,
          null,
          null,
          null,
          null,
          null,
          null,
          null,
          null,
          null,
          null,
          null,
          null,
          null,
          null,
          null,
          null,
          null,
          null,
          null,
          null,
          null,
          null,
          null
         ]
        },
        {
         "mode": "lines+markers",
         "name": "cubic",
         "type": "scatter",
         "x": [
          0.1,
          0.11,
          0.12,
          0.13,
          0.13999999999999999,
          0.14999999999999997,
          0.15999999999999998,
          0.16999999999999998,
          0.17999999999999997,
          0.18999999999999995,
          0.19999999999999996,
          0.20999999999999996,
          0.21999999999999995,
          0.22999999999999995,
          0.23999999999999994,
          0.24999999999999992,
          0.2599999999999999,
          0.2699999999999999,
          0.2799999999999999,
          0.2899999999999999,
          0.29999999999999993,
          0.30999999999999994,
          0.3199999999999999,
          0.32999999999999985,
          0.33999999999999986,
          0.34999999999999987,
          0.3599999999999999,
          0.3699999999999999,
          0.3799999999999999,
          0.3899999999999999,
          0.3999999999999998,
          0.4099999999999998,
          0.4199999999999998,
          0.4299999999999998,
          0.43999999999999984,
          0.44999999999999984,
          0.45999999999999985,
          0.46999999999999986,
          0.47999999999999976,
          0.48999999999999977
         ],
         "y": [
          1.8974,
          2.1654,
          2.1996,
          2.0481,
          2.038,
          1.9981,
          1.992,
          1.947,
          1.971,
          null,
          null,
          null,
          null,
          null,
          null,
          null,
          null,
          null,
          null,
          null,
          null,
          null,
          null,
          null,
          null,
          null,
          null,
          null,
          null,
          null,
          null,
          null,
          null,
          null,
          null,
          null,
          null,
          null,
          null,
          null
         ]
        },
        {
         "mode": "lines+markers",
         "name": "polynomial_order_1",
         "type": "scatter",
         "x": [
          0.1,
          0.11,
          0.12,
          0.13,
          0.13999999999999999,
          0.14999999999999997,
          0.15999999999999998,
          0.16999999999999998,
          0.17999999999999997,
          0.18999999999999995,
          0.19999999999999996,
          0.20999999999999996,
          0.21999999999999995,
          0.22999999999999995,
          0.23999999999999994,
          0.24999999999999992,
          0.2599999999999999,
          0.2699999999999999,
          0.2799999999999999,
          0.2899999999999999,
          0.29999999999999993,
          0.30999999999999994,
          0.3199999999999999,
          0.32999999999999985,
          0.33999999999999986,
          0.34999999999999987,
          0.3599999999999999,
          0.3699999999999999,
          0.3799999999999999,
          0.3899999999999999,
          0.3999999999999998,
          0.4099999999999998,
          0.4199999999999998,
          0.4299999999999998,
          0.43999999999999984,
          0.44999999999999984,
          0.45999999999999985,
          0.46999999999999986,
          0.47999999999999976,
          0.48999999999999977
         ],
         "y": [
          1.08,
          0.9818,
          0.9,
          0.8308,
          0.8633,
          1.047,
          1.0566,
          1.0651,
          1.095,
          null,
          null,
          null,
          null,
          null,
          null,
          null,
          null,
          null,
          null,
          null,
          null,
          null,
          null,
          null,
          null,
          null,
          null,
          null,
          null,
          null,
          null,
          null,
          null,
          null,
          null,
          null,
          null,
          null,
          null,
          null
         ]
        },
        {
         "mode": "lines+markers",
         "name": "polynomial_order_2",
         "type": "scatter",
         "x": [
          0.1,
          0.11,
          0.12,
          0.13,
          0.13999999999999999,
          0.14999999999999997,
          0.15999999999999998,
          0.16999999999999998,
          0.17999999999999997,
          0.18999999999999995,
          0.19999999999999996,
          0.20999999999999996,
          0.21999999999999995,
          0.22999999999999995,
          0.23999999999999994,
          0.24999999999999992,
          0.2599999999999999,
          0.2699999999999999,
          0.2799999999999999,
          0.2899999999999999,
          0.29999999999999993,
          0.30999999999999994,
          0.3199999999999999,
          0.32999999999999985,
          0.33999999999999986,
          0.34999999999999987,
          0.3599999999999999,
          0.3699999999999999,
          0.3799999999999999,
          0.3899999999999999,
          0.3999999999999998,
          0.4099999999999998,
          0.4199999999999998,
          0.4299999999999998,
          0.43999999999999984,
          0.44999999999999984,
          0.45999999999999985,
          0.46999999999999986,
          0.47999999999999976,
          0.48999999999999977
         ],
         "y": [
          1.7227,
          1.9624,
          1.9958,
          1.8508,
          1.8315,
          1.8176,
          1.804,
          1.7601,
          1.7825,
          null,
          null,
          null,
          null,
          null,
          null,
          null,
          null,
          null,
          null,
          null,
          null,
          null,
          null,
          null,
          null,
          null,
          null,
          null,
          null,
          null,
          null,
          null,
          null,
          null,
          null,
          null,
          null,
          null,
          null,
          null
         ]
        },
        {
         "mode": "lines+markers",
         "name": "polynomial_order_3",
         "type": "scatter",
         "x": [
          0.1,
          0.11,
          0.12,
          0.13,
          0.13999999999999999,
          0.14999999999999997,
          0.15999999999999998,
          0.16999999999999998,
          0.17999999999999997,
          0.18999999999999995,
          0.19999999999999996,
          0.20999999999999996,
          0.21999999999999995,
          0.22999999999999995,
          0.23999999999999994,
          0.24999999999999992,
          0.2599999999999999,
          0.2699999999999999,
          0.2799999999999999,
          0.2899999999999999,
          0.29999999999999993,
          0.30999999999999994,
          0.3199999999999999,
          0.32999999999999985,
          0.33999999999999986,
          0.34999999999999987,
          0.3599999999999999,
          0.3699999999999999,
          0.3799999999999999,
          0.3899999999999999,
          0.3999999999999998,
          0.4099999999999998,
          0.4199999999999998,
          0.4299999999999998,
          0.43999999999999984,
          0.44999999999999984,
          0.45999999999999985,
          0.46999999999999986,
          0.47999999999999976,
          0.48999999999999977
         ],
         "y": [
          1.8974,
          2.1654,
          2.1996,
          2.0481,
          2.038,
          1.9981,
          1.992,
          1.947,
          1.971,
          null,
          null,
          null,
          null,
          null,
          null,
          null,
          null,
          null,
          null,
          null,
          null,
          null,
          null,
          null,
          null,
          null,
          null,
          null,
          null,
          null,
          null,
          null,
          null,
          null,
          null,
          null,
          null,
          null,
          null,
          null
         ]
        },
        {
         "mode": "lines+markers",
         "name": "polynomial_order_5",
         "type": "scatter",
         "x": [
          0.1,
          0.11,
          0.12,
          0.13,
          0.13999999999999999,
          0.14999999999999997,
          0.15999999999999998,
          0.16999999999999998,
          0.17999999999999997,
          0.18999999999999995,
          0.19999999999999996,
          0.20999999999999996,
          0.21999999999999995,
          0.22999999999999995,
          0.23999999999999994,
          0.24999999999999992,
          0.2599999999999999,
          0.2699999999999999,
          0.2799999999999999,
          0.2899999999999999,
          0.29999999999999993,
          0.30999999999999994,
          0.3199999999999999,
          0.32999999999999985,
          0.33999999999999986,
          0.34999999999999987,
          0.3599999999999999,
          0.3699999999999999,
          0.3799999999999999,
          0.3899999999999999,
          0.3999999999999998,
          0.4099999999999998,
          0.4199999999999998,
          0.4299999999999998,
          0.43999999999999984,
          0.44999999999999984,
          0.45999999999999985,
          0.46999999999999986,
          0.47999999999999976,
          0.48999999999999977
         ],
         "y": [
          2.6532,
          3.1859,
          3.1952,
          3.0198,
          3.0012,
          2.8552,
          2.8881,
          2.8229,
          2.7804,
          null,
          null,
          null,
          null,
          null,
          null,
          null,
          null,
          null,
          null,
          null,
          null,
          null,
          null,
          null,
          null,
          null,
          null,
          null,
          null,
          null,
          null,
          null,
          null,
          null,
          null,
          null,
          null,
          null,
          null,
          null
         ]
        },
        {
         "mode": "lines+markers",
         "name": "polynomial_order_7",
         "type": "scatter",
         "x": [
          0.1,
          0.11,
          0.12,
          0.13,
          0.13999999999999999,
          0.14999999999999997,
          0.15999999999999998,
          0.16999999999999998,
          0.17999999999999997,
          0.18999999999999995,
          0.19999999999999996,
          0.20999999999999996,
          0.21999999999999995,
          0.22999999999999995,
          0.23999999999999994,
          0.24999999999999992,
          0.2599999999999999,
          0.2699999999999999,
          0.2799999999999999,
          0.2899999999999999,
          0.29999999999999993,
          0.30999999999999994,
          0.3199999999999999,
          0.32999999999999985,
          0.33999999999999986,
          0.34999999999999987,
          0.3599999999999999,
          0.3699999999999999,
          0.3799999999999999,
          0.3899999999999999,
          0.3999999999999998,
          0.4099999999999998,
          0.4199999999999998,
          0.4299999999999998,
          0.43999999999999984,
          0.44999999999999984,
          0.45999999999999985,
          0.46999999999999986,
          0.47999999999999976,
          0.48999999999999977
         ],
         "y": [
          3.4309,
          4.2092,
          4.1593,
          3.994,
          4.0332,
          3.828,
          3.9123,
          3.8244,
          3.684,
          null,
          null,
          null,
          null,
          null,
          null,
          null,
          null,
          null,
          null,
          null,
          null,
          null,
          null,
          null,
          null,
          null,
          null,
          null,
          null,
          null,
          null,
          null,
          null,
          null,
          null,
          null,
          null,
          null,
          null,
          null
         ]
        },
        {
         "mode": "lines+markers",
         "name": "polynomial_order_9",
         "type": "scatter",
         "x": [
          0.1,
          0.11,
          0.12,
          0.13,
          0.13999999999999999,
          0.14999999999999997,
          0.15999999999999998,
          0.16999999999999998,
          0.17999999999999997,
          0.18999999999999995,
          0.19999999999999996,
          0.20999999999999996,
          0.21999999999999995,
          0.22999999999999995,
          0.23999999999999994,
          0.24999999999999992,
          0.2599999999999999,
          0.2699999999999999,
          0.2799999999999999,
          0.2899999999999999,
          0.29999999999999993,
          0.30999999999999994,
          0.3199999999999999,
          0.32999999999999985,
          0.33999999999999986,
          0.34999999999999987,
          0.3599999999999999,
          0.3699999999999999,
          0.3799999999999999,
          0.3899999999999999,
          0.3999999999999998,
          0.4099999999999998,
          0.4199999999999998,
          0.4299999999999998,
          0.43999999999999984,
          0.44999999999999984,
          0.45999999999999985,
          0.46999999999999986,
          0.47999999999999976,
          0.48999999999999977
         ],
         "y": [
          4.2444,
          5.2546,
          5.1396,
          5.0196,
          5.225,
          4.9818,
          5.1193,
          5.0259,
          4.7947,
          null,
          null,
          null,
          null,
          null,
          null,
          null,
          null,
          null,
          null,
          null,
          null,
          null,
          null,
          null,
          null,
          null,
          null,
          null,
          null,
          null,
          null,
          null,
          null,
          null,
          null,
          null,
          null,
          null,
          null,
          null
         ]
        },
        {
         "mode": "lines+markers",
         "name": "piecewise_polynomial",
         "type": "scatter",
         "x": [
          0.1,
          0.11,
          0.12,
          0.13,
          0.13999999999999999,
          0.14999999999999997,
          0.15999999999999998,
          0.16999999999999998,
          0.17999999999999997,
          0.18999999999999995,
          0.19999999999999996,
          0.20999999999999996,
          0.21999999999999995,
          0.22999999999999995,
          0.23999999999999994,
          0.24999999999999992,
          0.2599999999999999,
          0.2699999999999999,
          0.2799999999999999,
          0.2899999999999999,
          0.29999999999999993,
          0.30999999999999994,
          0.3199999999999999,
          0.32999999999999985,
          0.33999999999999986,
          0.34999999999999987,
          0.3599999999999999,
          0.3699999999999999,
          0.3799999999999999,
          0.3899999999999999,
          0.3999999999999998,
          0.4099999999999998,
          0.4199999999999998,
          0.4299999999999998,
          0.43999999999999984,
          0.44999999999999984,
          0.45999999999999985,
          0.46999999999999986,
          0.47999999999999976,
          0.48999999999999977
         ],
         "y": [
          1.08,
          0.9818,
          0.9,
          0.8308,
          0.8633,
          1.047,
          1.0566,
          1.0651,
          1.095,
          null,
          null,
          null,
          null,
          null,
          null,
          null,
          null,
          null,
          null,
          null,
          null,
          null,
          null,
          null,
          null,
          null,
          null,
          null,
          null,
          null,
          null,
          null,
          null,
          null,
          null,
          null,
          null,
          null,
          null,
          null
         ]
        },
        {
         "mode": "lines+markers",
         "name": "spline_order_1",
         "type": "scatter",
         "x": [
          0.1,
          0.11,
          0.12,
          0.13,
          0.13999999999999999,
          0.14999999999999997,
          0.15999999999999998,
          0.16999999999999998,
          0.17999999999999997,
          0.18999999999999995,
          0.19999999999999996,
          0.20999999999999996,
          0.21999999999999995,
          0.22999999999999995,
          0.23999999999999994,
          0.24999999999999992,
          0.2599999999999999,
          0.2699999999999999,
          0.2799999999999999,
          0.2899999999999999,
          0.29999999999999993,
          0.30999999999999994,
          0.3199999999999999,
          0.32999999999999985,
          0.33999999999999986,
          0.34999999999999987,
          0.3599999999999999,
          0.3699999999999999,
          0.3799999999999999,
          0.3899999999999999,
          0.3999999999999998,
          0.4099999999999998,
          0.4199999999999998,
          0.4299999999999998,
          0.43999999999999984,
          0.44999999999999984,
          0.45999999999999985,
          0.46999999999999986,
          0.47999999999999976,
          0.48999999999999977
         ],
         "y": [
          1.4079,
          1.1393,
          1.1327,
          1.049,
          0.9697,
          1.2575,
          1.4796,
          1.4331,
          1.3669,
          1.5862,
          1.6767,
          1.522,
          1.4868,
          1.5011,
          1.4181,
          1.3822,
          1.3659,
          1.3893,
          1.3108,
          1.3151,
          1.4905,
          1.509,
          1.5047,
          1.7105,
          1.7014,
          1.7638,
          1.8208,
          1.8563,
          1.7716,
          1.7433,
          1.7376,
          1.8373,
          1.8516,
          1.9289,
          2.0038,
          2.0236,
          1.9703,
          1.9831,
          1.991,
          2.0814
         ]
        },
        {
         "mode": "lines+markers",
         "name": "spline_order_2",
         "type": "scatter",
         "x": [
          0.1,
          0.11,
          0.12,
          0.13,
          0.13999999999999999,
          0.14999999999999997,
          0.15999999999999998,
          0.16999999999999998,
          0.17999999999999997,
          0.18999999999999995,
          0.19999999999999996,
          0.20999999999999996,
          0.21999999999999995,
          0.22999999999999995,
          0.23999999999999994,
          0.24999999999999992,
          0.2599999999999999,
          0.2699999999999999,
          0.2799999999999999,
          0.2899999999999999,
          0.29999999999999993,
          0.30999999999999994,
          0.3199999999999999,
          0.32999999999999985,
          0.33999999999999986,
          0.34999999999999987,
          0.3599999999999999,
          0.3699999999999999,
          0.3799999999999999,
          0.3899999999999999,
          0.3999999999999998,
          0.4099999999999998,
          0.4199999999999998,
          0.4299999999999998,
          0.43999999999999984,
          0.44999999999999984,
          0.45999999999999985,
          0.46999999999999986,
          0.47999999999999976,
          0.48999999999999977
         ],
         "y": [
          1.978,
          2.023,
          2.6804,
          2.177,
          2.1193,
          2.2033,
          2.7833,
          2.224,
          2.328,
          2.0587,
          2.4964,
          2.5915,
          3.0001,
          2.5058,
          2.8724,
          4.5621,
          3.9905,
          4.1378,
          4.7882,
          4.5674,
          3.5089,
          3.6819,
          3.6297,
          3.3088,
          3.6313,
          3.8803,
          3.6818,
          3.8756,
          3.9171,
          4.2084,
          4.3499,
          4.2859,
          3.9238,
          4.2998,
          4.5962,
          5.2247,
          4.5572,
          4.3312,
          4.722,
          5.7111
         ]
        },
        {
         "mode": "lines+markers",
         "name": "spline_order_3",
         "type": "scatter",
         "x": [
          0.1,
          0.11,
          0.12,
          0.13,
          0.13999999999999999,
          0.14999999999999997,
          0.15999999999999998,
          0.16999999999999998,
          0.17999999999999997,
          0.18999999999999995,
          0.19999999999999996,
          0.20999999999999996,
          0.21999999999999995,
          0.22999999999999995,
          0.23999999999999994,
          0.24999999999999992,
          0.2599999999999999,
          0.2699999999999999,
          0.2799999999999999,
          0.2899999999999999,
          0.29999999999999993,
          0.30999999999999994,
          0.3199999999999999,
          0.32999999999999985,
          0.33999999999999986,
          0.34999999999999987,
          0.3599999999999999,
          0.3699999999999999,
          0.3799999999999999,
          0.3899999999999999,
          0.3999999999999998,
          0.4099999999999998,
          0.4199999999999998,
          0.4299999999999998,
          0.43999999999999984,
          0.44999999999999984,
          0.45999999999999985,
          0.46999999999999986,
          0.47999999999999976,
          0.48999999999999977
         ],
         "y": [
          1.7516,
          2.0128,
          1.946,
          1.9041,
          2.1508,
          2.0967,
          1.9923,
          1.8355,
          1.9695,
          2.0768,
          1.9896,
          2.0169,
          1.9762,
          1.8808,
          2.1167,
          1.9036,
          1.9495,
          2.0267,
          1.9702,
          2.0999,
          2.1956,
          2.2433,
          2.2359,
          2.3396,
          2.4238,
          2.4654,
          2.4742,
          2.4064,
          2.5126,
          2.464,
          2.4599,
          2.5594,
          2.7056,
          2.7691,
          2.7572,
          2.8791,
          2.9274,
          2.9318,
          3.1381,
          3.0365
         ]
        },
        {
         "mode": "lines+markers",
         "name": "spline_order_4",
         "type": "scatter",
         "x": [
          0.1,
          0.11,
          0.12,
          0.13,
          0.13999999999999999,
          0.14999999999999997,
          0.15999999999999998,
          0.16999999999999998,
          0.17999999999999997,
          0.18999999999999995,
          0.19999999999999996,
          0.20999999999999996,
          0.21999999999999995,
          0.22999999999999995,
          0.23999999999999994,
          0.24999999999999992,
          0.2599999999999999,
          0.2699999999999999,
          0.2799999999999999,
          0.2899999999999999,
          0.29999999999999993,
          0.30999999999999994,
          0.3199999999999999,
          0.32999999999999985,
          0.33999999999999986,
          0.34999999999999987,
          0.3599999999999999,
          0.3699999999999999,
          0.3799999999999999,
          0.3899999999999999,
          0.3999999999999998,
          0.4099999999999998,
          0.4199999999999998,
          0.4299999999999998,
          0.43999999999999984,
          0.44999999999999984,
          0.45999999999999985,
          0.46999999999999986,
          0.47999999999999976,
          0.48999999999999977
         ],
         "y": [
          1.96,
          2.3778,
          2.8046,
          2.0625,
          2.3759,
          2.2615,
          2.4224,
          2.7779,
          2.2087,
          2.0095,
          2.3128,
          2.4301,
          4.1195,
          25672483.7152,
          2.4886,
          6.0634,
          5.4717,
          5.5382,
          6.3685,
          5.5676,
          5.1718,
          4.9079,
          5.1632,
          5.2191,
          5.0996,
          5.1543,
          4.7173,
          4.8685,
          3.1249,
          5.3947,
          5.8009,
          6.1226,
          3.4496,
          4.7474,
          5.1345,
          5.0096,
          4.9376,
          4.5031,
          4.4484,
          5.3555
         ]
        },
        {
         "mode": "lines+markers",
         "name": "spline_order_5",
         "type": "scatter",
         "x": [
          0.1,
          0.11,
          0.12,
          0.13,
          0.13999999999999999,
          0.14999999999999997,
          0.15999999999999998,
          0.16999999999999998,
          0.17999999999999997,
          0.18999999999999995,
          0.19999999999999996,
          0.20999999999999996,
          0.21999999999999995,
          0.22999999999999995,
          0.23999999999999994,
          0.24999999999999992,
          0.2599999999999999,
          0.2699999999999999,
          0.2799999999999999,
          0.2899999999999999,
          0.29999999999999993,
          0.30999999999999994,
          0.3199999999999999,
          0.32999999999999985,
          0.33999999999999986,
          0.34999999999999987,
          0.3599999999999999,
          0.3699999999999999,
          0.3799999999999999,
          0.3899999999999999,
          0.3999999999999998,
          0.4099999999999998,
          0.4199999999999998,
          0.4299999999999998,
          0.43999999999999984,
          0.44999999999999984,
          0.45999999999999985,
          0.46999999999999986,
          0.47999999999999976,
          0.48999999999999977
         ],
         "y": [
          2.5245,
          2.6997,
          2.7888,
          2.7429,
          2.7328,
          2.4847,
          2.6038,
          2.5587,
          2.6509,
          2.7608,
          2.4829,
          2.6544,
          2.5679,
          2.5643,
          2.61,
          4.3953,
          4.8707,
          5.6048,
          4.8054,
          4.9606,
          33.183,
          31.9001,
          32.2761,
          10.5289,
          27.6835,
          32.8401,
          5.7531,
          7.1087,
          7.0199,
          6.9161,
          6.9376,
          7.0166,
          3.9919,
          3.6589,
          3.6933,
          3.74,
          3.6292,
          3.9003,
          3.8758,
          3.8442
         ]
        },
        {
         "mode": "lines+markers",
         "name": "akima",
         "type": "scatter",
         "x": [
          0.1,
          0.11,
          0.12,
          0.13,
          0.13999999999999999,
          0.14999999999999997,
          0.15999999999999998,
          0.16999999999999998,
          0.17999999999999997,
          0.18999999999999995,
          0.19999999999999996,
          0.20999999999999996,
          0.21999999999999995,
          0.22999999999999995,
          0.23999999999999994,
          0.24999999999999992,
          0.2599999999999999,
          0.2699999999999999,
          0.2799999999999999,
          0.2899999999999999,
          0.29999999999999993,
          0.30999999999999994,
          0.3199999999999999,
          0.32999999999999985,
          0.33999999999999986,
          0.34999999999999987,
          0.3599999999999999,
          0.3699999999999999,
          0.3799999999999999,
          0.3899999999999999,
          0.3999999999999998,
          0.4099999999999998,
          0.4199999999999998,
          0.4299999999999998,
          0.43999999999999984,
          0.44999999999999984,
          0.45999999999999985,
          0.46999999999999986,
          0.47999999999999976,
          0.48999999999999977
         ],
         "y": [
          1.08,
          0.9818,
          0.9,
          0.8308,
          0.8309,
          1.0168,
          1.0283,
          1.0385,
          1.05,
          null,
          null,
          null,
          null,
          null,
          null,
          null,
          null,
          null,
          null,
          null,
          null,
          null,
          null,
          null,
          null,
          null,
          null,
          null,
          null,
          null,
          null,
          null,
          null,
          null,
          null,
          null,
          null,
          null,
          null,
          null
         ]
        },
        {
         "mode": "lines+markers",
         "name": "cubicspline",
         "type": "scatter",
         "x": [
          0.1,
          0.11,
          0.12,
          0.13,
          0.13999999999999999,
          0.14999999999999997,
          0.15999999999999998,
          0.16999999999999998,
          0.17999999999999997,
          0.18999999999999995,
          0.19999999999999996,
          0.20999999999999996,
          0.21999999999999995,
          0.22999999999999995,
          0.23999999999999994,
          0.24999999999999992,
          0.2599999999999999,
          0.2699999999999999,
          0.2799999999999999,
          0.2899999999999999,
          0.29999999999999993,
          0.30999999999999994,
          0.3199999999999999,
          0.32999999999999985,
          0.33999999999999986,
          0.34999999999999987,
          0.3599999999999999,
          0.3699999999999999,
          0.3799999999999999,
          0.3899999999999999,
          0.3999999999999998,
          0.4099999999999998,
          0.4199999999999998,
          0.4299999999999998,
          0.43999999999999984,
          0.44999999999999984,
          0.45999999999999985,
          0.46999999999999986,
          0.47999999999999976,
          0.48999999999999977
         ],
         "y": [
          1.8974,
          2.1654,
          2.1996,
          2.0481,
          2.038,
          1.9981,
          1.992,
          1.947,
          1.971,
          2.044,
          2.0524,
          2.039,
          1.9528,
          1.909,
          1.9272,
          1.9239,
          1.974,
          2.0788,
          2.034,
          2.0926,
          2.1473,
          2.1624,
          2.2287,
          2.3336,
          2.3612,
          2.37,
          2.3434,
          2.351,
          2.3795,
          2.3848,
          2.4236,
          2.5067,
          2.5899,
          2.5526,
          2.6796,
          2.7513,
          2.7643,
          2.8093,
          2.8781,
          2.9109
         ]
        },
        {
         "mode": "lines+markers",
         "name": "from_derivatives",
         "type": "scatter",
         "x": [
          0.1,
          0.11,
          0.12,
          0.13,
          0.13999999999999999,
          0.14999999999999997,
          0.15999999999999998,
          0.16999999999999998,
          0.17999999999999997,
          0.18999999999999995,
          0.19999999999999996,
          0.20999999999999996,
          0.21999999999999995,
          0.22999999999999995,
          0.23999999999999994,
          0.24999999999999992,
          0.2599999999999999,
          0.2699999999999999,
          0.2799999999999999,
          0.2899999999999999,
          0.29999999999999993,
          0.30999999999999994,
          0.3199999999999999,
          0.32999999999999985,
          0.33999999999999986,
          0.34999999999999987,
          0.3599999999999999,
          0.3699999999999999,
          0.3799999999999999,
          0.3899999999999999,
          0.3999999999999998,
          0.4099999999999998,
          0.4199999999999998,
          0.4299999999999998,
          0.43999999999999984,
          0.44999999999999984,
          0.45999999999999985,
          0.46999999999999986,
          0.47999999999999976,
          0.48999999999999977
         ],
         "y": [
          1.08,
          0.9818,
          0.9,
          0.8308,
          0.8633,
          1.047,
          1.0566,
          1.0651,
          1.095,
          null,
          null,
          null,
          null,
          null,
          null,
          null,
          null,
          null,
          null,
          null,
          null,
          null,
          null,
          null,
          null,
          null,
          null,
          null,
          null,
          null,
          null,
          null,
          null,
          null,
          null,
          null,
          null,
          null,
          null,
          null
         ]
        }
       ],
       "layout": {
        "legend": {
         "title": {
          "text": "Method"
         }
        },
        "template": {
         "data": {
          "bar": [
           {
            "error_x": {
             "color": "#2a3f5f"
            },
            "error_y": {
             "color": "#2a3f5f"
            },
            "marker": {
             "line": {
              "color": "#E5ECF6",
              "width": 0.5
             },
             "pattern": {
              "fillmode": "overlay",
              "size": 10,
              "solidity": 0.2
             }
            },
            "type": "bar"
           }
          ],
          "barpolar": [
           {
            "marker": {
             "line": {
              "color": "#E5ECF6",
              "width": 0.5
             },
             "pattern": {
              "fillmode": "overlay",
              "size": 10,
              "solidity": 0.2
             }
            },
            "type": "barpolar"
           }
          ],
          "carpet": [
           {
            "aaxis": {
             "endlinecolor": "#2a3f5f",
             "gridcolor": "white",
             "linecolor": "white",
             "minorgridcolor": "white",
             "startlinecolor": "#2a3f5f"
            },
            "baxis": {
             "endlinecolor": "#2a3f5f",
             "gridcolor": "white",
             "linecolor": "white",
             "minorgridcolor": "white",
             "startlinecolor": "#2a3f5f"
            },
            "type": "carpet"
           }
          ],
          "choropleth": [
           {
            "colorbar": {
             "outlinewidth": 0,
             "ticks": ""
            },
            "type": "choropleth"
           }
          ],
          "contour": [
           {
            "colorbar": {
             "outlinewidth": 0,
             "ticks": ""
            },
            "colorscale": [
             [
              0,
              "#0d0887"
             ],
             [
              0.1111111111111111,
              "#46039f"
             ],
             [
              0.2222222222222222,
              "#7201a8"
             ],
             [
              0.3333333333333333,
              "#9c179e"
             ],
             [
              0.4444444444444444,
              "#bd3786"
             ],
             [
              0.5555555555555556,
              "#d8576b"
             ],
             [
              0.6666666666666666,
              "#ed7953"
             ],
             [
              0.7777777777777778,
              "#fb9f3a"
             ],
             [
              0.8888888888888888,
              "#fdca26"
             ],
             [
              1,
              "#f0f921"
             ]
            ],
            "type": "contour"
           }
          ],
          "contourcarpet": [
           {
            "colorbar": {
             "outlinewidth": 0,
             "ticks": ""
            },
            "type": "contourcarpet"
           }
          ],
          "heatmap": [
           {
            "colorbar": {
             "outlinewidth": 0,
             "ticks": ""
            },
            "colorscale": [
             [
              0,
              "#0d0887"
             ],
             [
              0.1111111111111111,
              "#46039f"
             ],
             [
              0.2222222222222222,
              "#7201a8"
             ],
             [
              0.3333333333333333,
              "#9c179e"
             ],
             [
              0.4444444444444444,
              "#bd3786"
             ],
             [
              0.5555555555555556,
              "#d8576b"
             ],
             [
              0.6666666666666666,
              "#ed7953"
             ],
             [
              0.7777777777777778,
              "#fb9f3a"
             ],
             [
              0.8888888888888888,
              "#fdca26"
             ],
             [
              1,
              "#f0f921"
             ]
            ],
            "type": "heatmap"
           }
          ],
          "heatmapgl": [
           {
            "colorbar": {
             "outlinewidth": 0,
             "ticks": ""
            },
            "colorscale": [
             [
              0,
              "#0d0887"
             ],
             [
              0.1111111111111111,
              "#46039f"
             ],
             [
              0.2222222222222222,
              "#7201a8"
             ],
             [
              0.3333333333333333,
              "#9c179e"
             ],
             [
              0.4444444444444444,
              "#bd3786"
             ],
             [
              0.5555555555555556,
              "#d8576b"
             ],
             [
              0.6666666666666666,
              "#ed7953"
             ],
             [
              0.7777777777777778,
              "#fb9f3a"
             ],
             [
              0.8888888888888888,
              "#fdca26"
             ],
             [
              1,
              "#f0f921"
             ]
            ],
            "type": "heatmapgl"
           }
          ],
          "histogram": [
           {
            "marker": {
             "pattern": {
              "fillmode": "overlay",
              "size": 10,
              "solidity": 0.2
             }
            },
            "type": "histogram"
           }
          ],
          "histogram2d": [
           {
            "colorbar": {
             "outlinewidth": 0,
             "ticks": ""
            },
            "colorscale": [
             [
              0,
              "#0d0887"
             ],
             [
              0.1111111111111111,
              "#46039f"
             ],
             [
              0.2222222222222222,
              "#7201a8"
             ],
             [
              0.3333333333333333,
              "#9c179e"
             ],
             [
              0.4444444444444444,
              "#bd3786"
             ],
             [
              0.5555555555555556,
              "#d8576b"
             ],
             [
              0.6666666666666666,
              "#ed7953"
             ],
             [
              0.7777777777777778,
              "#fb9f3a"
             ],
             [
              0.8888888888888888,
              "#fdca26"
             ],
             [
              1,
              "#f0f921"
             ]
            ],
            "type": "histogram2d"
           }
          ],
          "histogram2dcontour": [
           {
            "colorbar": {
             "outlinewidth": 0,
             "ticks": ""
            },
            "colorscale": [
             [
              0,
              "#0d0887"
             ],
             [
              0.1111111111111111,
              "#46039f"
             ],
             [
              0.2222222222222222,
              "#7201a8"
             ],
             [
              0.3333333333333333,
              "#9c179e"
             ],
             [
              0.4444444444444444,
              "#bd3786"
             ],
             [
              0.5555555555555556,
              "#d8576b"
             ],
             [
              0.6666666666666666,
              "#ed7953"
             ],
             [
              0.7777777777777778,
              "#fb9f3a"
             ],
             [
              0.8888888888888888,
              "#fdca26"
             ],
             [
              1,
              "#f0f921"
             ]
            ],
            "type": "histogram2dcontour"
           }
          ],
          "mesh3d": [
           {
            "colorbar": {
             "outlinewidth": 0,
             "ticks": ""
            },
            "type": "mesh3d"
           }
          ],
          "parcoords": [
           {
            "line": {
             "colorbar": {
              "outlinewidth": 0,
              "ticks": ""
             }
            },
            "type": "parcoords"
           }
          ],
          "pie": [
           {
            "automargin": true,
            "type": "pie"
           }
          ],
          "scatter": [
           {
            "fillpattern": {
             "fillmode": "overlay",
             "size": 10,
             "solidity": 0.2
            },
            "type": "scatter"
           }
          ],
          "scatter3d": [
           {
            "line": {
             "colorbar": {
              "outlinewidth": 0,
              "ticks": ""
             }
            },
            "marker": {
             "colorbar": {
              "outlinewidth": 0,
              "ticks": ""
             }
            },
            "type": "scatter3d"
           }
          ],
          "scattercarpet": [
           {
            "marker": {
             "colorbar": {
              "outlinewidth": 0,
              "ticks": ""
             }
            },
            "type": "scattercarpet"
           }
          ],
          "scattergeo": [
           {
            "marker": {
             "colorbar": {
              "outlinewidth": 0,
              "ticks": ""
             }
            },
            "type": "scattergeo"
           }
          ],
          "scattergl": [
           {
            "marker": {
             "colorbar": {
              "outlinewidth": 0,
              "ticks": ""
             }
            },
            "type": "scattergl"
           }
          ],
          "scattermapbox": [
           {
            "marker": {
             "colorbar": {
              "outlinewidth": 0,
              "ticks": ""
             }
            },
            "type": "scattermapbox"
           }
          ],
          "scatterpolar": [
           {
            "marker": {
             "colorbar": {
              "outlinewidth": 0,
              "ticks": ""
             }
            },
            "type": "scatterpolar"
           }
          ],
          "scatterpolargl": [
           {
            "marker": {
             "colorbar": {
              "outlinewidth": 0,
              "ticks": ""
             }
            },
            "type": "scatterpolargl"
           }
          ],
          "scatterternary": [
           {
            "marker": {
             "colorbar": {
              "outlinewidth": 0,
              "ticks": ""
             }
            },
            "type": "scatterternary"
           }
          ],
          "surface": [
           {
            "colorbar": {
             "outlinewidth": 0,
             "ticks": ""
            },
            "colorscale": [
             [
              0,
              "#0d0887"
             ],
             [
              0.1111111111111111,
              "#46039f"
             ],
             [
              0.2222222222222222,
              "#7201a8"
             ],
             [
              0.3333333333333333,
              "#9c179e"
             ],
             [
              0.4444444444444444,
              "#bd3786"
             ],
             [
              0.5555555555555556,
              "#d8576b"
             ],
             [
              0.6666666666666666,
              "#ed7953"
             ],
             [
              0.7777777777777778,
              "#fb9f3a"
             ],
             [
              0.8888888888888888,
              "#fdca26"
             ],
             [
              1,
              "#f0f921"
             ]
            ],
            "type": "surface"
           }
          ],
          "table": [
           {
            "cells": {
             "fill": {
              "color": "#EBF0F8"
             },
             "line": {
              "color": "white"
             }
            },
            "header": {
             "fill": {
              "color": "#C8D4E3"
             },
             "line": {
              "color": "white"
             }
            },
            "type": "table"
           }
          ]
         },
         "layout": {
          "annotationdefaults": {
           "arrowcolor": "#2a3f5f",
           "arrowhead": 0,
           "arrowwidth": 1
          },
          "autotypenumbers": "strict",
          "coloraxis": {
           "colorbar": {
            "outlinewidth": 0,
            "ticks": ""
           }
          },
          "colorscale": {
           "diverging": [
            [
             0,
             "#8e0152"
            ],
            [
             0.1,
             "#c51b7d"
            ],
            [
             0.2,
             "#de77ae"
            ],
            [
             0.3,
             "#f1b6da"
            ],
            [
             0.4,
             "#fde0ef"
            ],
            [
             0.5,
             "#f7f7f7"
            ],
            [
             0.6,
             "#e6f5d0"
            ],
            [
             0.7,
             "#b8e186"
            ],
            [
             0.8,
             "#7fbc41"
            ],
            [
             0.9,
             "#4d9221"
            ],
            [
             1,
             "#276419"
            ]
           ],
           "sequential": [
            [
             0,
             "#0d0887"
            ],
            [
             0.1111111111111111,
             "#46039f"
            ],
            [
             0.2222222222222222,
             "#7201a8"
            ],
            [
             0.3333333333333333,
             "#9c179e"
            ],
            [
             0.4444444444444444,
             "#bd3786"
            ],
            [
             0.5555555555555556,
             "#d8576b"
            ],
            [
             0.6666666666666666,
             "#ed7953"
            ],
            [
             0.7777777777777778,
             "#fb9f3a"
            ],
            [
             0.8888888888888888,
             "#fdca26"
            ],
            [
             1,
             "#f0f921"
            ]
           ],
           "sequentialminus": [
            [
             0,
             "#0d0887"
            ],
            [
             0.1111111111111111,
             "#46039f"
            ],
            [
             0.2222222222222222,
             "#7201a8"
            ],
            [
             0.3333333333333333,
             "#9c179e"
            ],
            [
             0.4444444444444444,
             "#bd3786"
            ],
            [
             0.5555555555555556,
             "#d8576b"
            ],
            [
             0.6666666666666666,
             "#ed7953"
            ],
            [
             0.7777777777777778,
             "#fb9f3a"
            ],
            [
             0.8888888888888888,
             "#fdca26"
            ],
            [
             1,
             "#f0f921"
            ]
           ]
          },
          "colorway": [
           "#636efa",
           "#EF553B",
           "#00cc96",
           "#ab63fa",
           "#FFA15A",
           "#19d3f3",
           "#FF6692",
           "#B6E880",
           "#FF97FF",
           "#FECB52"
          ],
          "font": {
           "color": "#2a3f5f"
          },
          "geo": {
           "bgcolor": "white",
           "lakecolor": "white",
           "landcolor": "#E5ECF6",
           "showlakes": true,
           "showland": true,
           "subunitcolor": "white"
          },
          "hoverlabel": {
           "align": "left"
          },
          "hovermode": "closest",
          "mapbox": {
           "style": "light"
          },
          "paper_bgcolor": "white",
          "plot_bgcolor": "#E5ECF6",
          "polar": {
           "angularaxis": {
            "gridcolor": "white",
            "linecolor": "white",
            "ticks": ""
           },
           "bgcolor": "#E5ECF6",
           "radialaxis": {
            "gridcolor": "white",
            "linecolor": "white",
            "ticks": ""
           }
          },
          "scene": {
           "xaxis": {
            "backgroundcolor": "#E5ECF6",
            "gridcolor": "white",
            "gridwidth": 2,
            "linecolor": "white",
            "showbackground": true,
            "ticks": "",
            "zerolinecolor": "white"
           },
           "yaxis": {
            "backgroundcolor": "#E5ECF6",
            "gridcolor": "white",
            "gridwidth": 2,
            "linecolor": "white",
            "showbackground": true,
            "ticks": "",
            "zerolinecolor": "white"
           },
           "zaxis": {
            "backgroundcolor": "#E5ECF6",
            "gridcolor": "white",
            "gridwidth": 2,
            "linecolor": "white",
            "showbackground": true,
            "ticks": "",
            "zerolinecolor": "white"
           }
          },
          "shapedefaults": {
           "line": {
            "color": "#2a3f5f"
           }
          },
          "ternary": {
           "aaxis": {
            "gridcolor": "white",
            "linecolor": "white",
            "ticks": ""
           },
           "baxis": {
            "gridcolor": "white",
            "linecolor": "white",
            "ticks": ""
           },
           "bgcolor": "#E5ECF6",
           "caxis": {
            "gridcolor": "white",
            "linecolor": "white",
            "ticks": ""
           }
          },
          "title": {
           "x": 0.05
          },
          "xaxis": {
           "automargin": true,
           "gridcolor": "white",
           "linecolor": "white",
           "ticks": "",
           "title": {
            "standoff": 15
           },
           "zerolinecolor": "white",
           "zerolinewidth": 2
          },
          "yaxis": {
           "automargin": true,
           "gridcolor": "white",
           "linecolor": "white",
           "ticks": "",
           "title": {
            "standoff": 15
           },
           "zerolinecolor": "white",
           "zerolinewidth": 2
          }
         }
        },
        "title": {
         "text": "Performance Development for Feature hour"
        },
        "xaxis": {
         "title": {
          "text": "Missing Rate"
         }
        },
        "yaxis": {
         "title": {
          "text": "Difference between original and interpolated data"
         }
        }
       }
      }
     },
     "metadata": {},
     "output_type": "display_data"
    },
    {
     "data": {
      "application/vnd.plotly.v1+json": {
       "config": {
        "plotlyServerURL": "https://plot.ly"
       },
       "data": [
        {
         "mode": "lines+markers",
         "name": "linear",
         "type": "scatter",
         "x": [
          0.1,
          0.11,
          0.12,
          0.13,
          0.13999999999999999,
          0.14999999999999997,
          0.15999999999999998,
          0.16999999999999998,
          0.17999999999999997,
          0.18999999999999995,
          0.19999999999999996,
          0.20999999999999996,
          0.21999999999999995,
          0.22999999999999995,
          0.23999999999999994,
          0.24999999999999992,
          0.2599999999999999,
          0.2699999999999999,
          0.2799999999999999,
          0.2899999999999999,
          0.29999999999999993,
          0.30999999999999994,
          0.3199999999999999,
          0.32999999999999985,
          0.33999999999999986,
          0.34999999999999987,
          0.3599999999999999,
          0.3699999999999999,
          0.3799999999999999,
          0.3899999999999999,
          0.3999999999999998,
          0.4099999999999998,
          0.4199999999999998,
          0.4299999999999998,
          0.43999999999999984,
          0.44999999999999984,
          0.45999999999999985,
          0.46999999999999986,
          0.47999999999999976,
          0.48999999999999977
         ],
         "y": [
          10.412,
          12.1953,
          11.7741,
          11.7701,
          14.0799,
          14.0727,
          13.5571,
          13.1217,
          13.1605,
          13.814,
          13.5884,
          13.1675,
          12.8002,
          12.7472,
          12.5445,
          12.4786,
          12.2147,
          12.5163,
          12.4429,
          12.6231,
          12.4349,
          12.5766,
          12.6358,
          12.5541,
          12.5321,
          12.484,
          12.4678,
          12.4891,
          12.5792,
          12.405,
          12.265,
          12.3223,
          12.164,
          12.0024,
          11.8386,
          11.9443,
          12.1184,
          12.2977,
          12.6385,
          12.7922
         ]
        },
        {
         "mode": "lines+markers",
         "name": "nearest",
         "type": "scatter",
         "x": [
          0.1,
          0.11,
          0.12,
          0.13,
          0.13999999999999999,
          0.14999999999999997,
          0.15999999999999998,
          0.16999999999999998,
          0.17999999999999997,
          0.18999999999999995,
          0.19999999999999996,
          0.20999999999999996,
          0.21999999999999995,
          0.22999999999999995,
          0.23999999999999994,
          0.24999999999999992,
          0.2599999999999999,
          0.2699999999999999,
          0.2799999999999999,
          0.2899999999999999,
          0.29999999999999993,
          0.30999999999999994,
          0.3199999999999999,
          0.32999999999999985,
          0.33999999999999986,
          0.34999999999999987,
          0.3599999999999999,
          0.3699999999999999,
          0.3799999999999999,
          0.3899999999999999,
          0.3999999999999998,
          0.4099999999999998,
          0.4199999999999998,
          0.4299999999999998,
          0.43999999999999984,
          0.44999999999999984,
          0.45999999999999985,
          0.46999999999999986,
          0.47999999999999976,
          0.48999999999999977
         ],
         "y": [
          13.1011,
          14.697,
          14.3178,
          14.7586,
          16.3821,
          16.0451,
          15.6853,
          15.0855,
          14.9691,
          null,
          null,
          null,
          null,
          null,
          null,
          null,
          null,
          null,
          null,
          null,
          null,
          null,
          null,
          null,
          null,
          null,
          null,
          null,
          null,
          null,
          null,
          null,
          null,
          null,
          null,
          null,
          null,
          null,
          null,
          null
         ]
        },
        {
         "mode": "lines+markers",
         "name": "zero",
         "type": "scatter",
         "x": [
          0.1,
          0.11,
          0.12,
          0.13,
          0.13999999999999999,
          0.14999999999999997,
          0.15999999999999998,
          0.16999999999999998,
          0.17999999999999997,
          0.18999999999999995,
          0.19999999999999996,
          0.20999999999999996,
          0.21999999999999995,
          0.22999999999999995,
          0.23999999999999994,
          0.24999999999999992,
          0.2599999999999999,
          0.2699999999999999,
          0.2799999999999999,
          0.2899999999999999,
          0.29999999999999993,
          0.30999999999999994,
          0.3199999999999999,
          0.32999999999999985,
          0.33999999999999986,
          0.34999999999999987,
          0.3599999999999999,
          0.3699999999999999,
          0.3799999999999999,
          0.3899999999999999,
          0.3999999999999998,
          0.4099999999999998,
          0.4199999999999998,
          0.4299999999999998,
          0.43999999999999984,
          0.44999999999999984,
          0.45999999999999985,
          0.46999999999999986,
          0.47999999999999976,
          0.48999999999999977
         ],
         "y": [
          12.3483,
          12.2929,
          12.215,
          12.819,
          12.935,
          13.0376,
          13.1538,
          12.6447,
          12.4383,
          null,
          null,
          null,
          null,
          null,
          null,
          null,
          null,
          null,
          null,
          null,
          null,
          null,
          null,
          null,
          null,
          null,
          null,
          null,
          null,
          null,
          null,
          null,
          null,
          null,
          null,
          null,
          null,
          null,
          null,
          null
         ]
        },
        {
         "mode": "lines+markers",
         "name": "slinear",
         "type": "scatter",
         "x": [
          0.1,
          0.11,
          0.12,
          0.13,
          0.13999999999999999,
          0.14999999999999997,
          0.15999999999999998,
          0.16999999999999998,
          0.17999999999999997,
          0.18999999999999995,
          0.19999999999999996,
          0.20999999999999996,
          0.21999999999999995,
          0.22999999999999995,
          0.23999999999999994,
          0.24999999999999992,
          0.2599999999999999,
          0.2699999999999999,
          0.2799999999999999,
          0.2899999999999999,
          0.29999999999999993,
          0.30999999999999994,
          0.3199999999999999,
          0.32999999999999985,
          0.33999999999999986,
          0.34999999999999987,
          0.3599999999999999,
          0.3699999999999999,
          0.3799999999999999,
          0.3899999999999999,
          0.3999999999999998,
          0.4099999999999998,
          0.4199999999999998,
          0.4299999999999998,
          0.43999999999999984,
          0.44999999999999984,
          0.45999999999999985,
          0.46999999999999986,
          0.47999999999999976,
          0.48999999999999977
         ],
         "y": [
          10.412,
          12.1953,
          11.7741,
          11.7701,
          14.0799,
          14.0727,
          13.5571,
          13.1217,
          13.1605,
          null,
          null,
          null,
          null,
          null,
          null,
          null,
          null,
          null,
          null,
          null,
          null,
          null,
          null,
          null,
          null,
          null,
          null,
          null,
          null,
          null,
          null,
          null,
          null,
          null,
          null,
          null,
          null,
          null,
          null,
          null
         ]
        },
        {
         "mode": "lines+markers",
         "name": "quadratic",
         "type": "scatter",
         "x": [
          0.1,
          0.11,
          0.12,
          0.13,
          0.13999999999999999,
          0.14999999999999997,
          0.15999999999999998,
          0.16999999999999998,
          0.17999999999999997,
          0.18999999999999995,
          0.19999999999999996,
          0.20999999999999996,
          0.21999999999999995,
          0.22999999999999995,
          0.23999999999999994,
          0.24999999999999992,
          0.2599999999999999,
          0.2699999999999999,
          0.2799999999999999,
          0.2899999999999999,
          0.29999999999999993,
          0.30999999999999994,
          0.3199999999999999,
          0.32999999999999985,
          0.33999999999999986,
          0.34999999999999987,
          0.3599999999999999,
          0.3699999999999999,
          0.3799999999999999,
          0.3899999999999999,
          0.3999999999999998,
          0.4099999999999998,
          0.4199999999999998,
          0.4299999999999998,
          0.43999999999999984,
          0.44999999999999984,
          0.45999999999999985,
          0.46999999999999986,
          0.47999999999999976,
          0.48999999999999977
         ],
         "y": [
          10.6714,
          12.7051,
          12.1203,
          12.1136,
          14.5809,
          14.5364,
          13.9759,
          13.499,
          13.7628,
          null,
          null,
          null,
          null,
          null,
          null,
          null,
          null,
          null,
          null,
          null,
          null,
          null,
          null,
          null,
          null,
          null,
          null,
          null,
          null,
          null,
          null,
          null,
          null,
          null,
          null,
          null,
          null,
          null,
          null,
          null
         ]
        },
        {
         "mode": "lines+markers",
         "name": "cubic",
         "type": "scatter",
         "x": [
          0.1,
          0.11,
          0.12,
          0.13,
          0.13999999999999999,
          0.14999999999999997,
          0.15999999999999998,
          0.16999999999999998,
          0.17999999999999997,
          0.18999999999999995,
          0.19999999999999996,
          0.20999999999999996,
          0.21999999999999995,
          0.22999999999999995,
          0.23999999999999994,
          0.24999999999999992,
          0.2599999999999999,
          0.2699999999999999,
          0.2799999999999999,
          0.2899999999999999,
          0.29999999999999993,
          0.30999999999999994,
          0.3199999999999999,
          0.32999999999999985,
          0.33999999999999986,
          0.34999999999999987,
          0.3599999999999999,
          0.3699999999999999,
          0.3799999999999999,
          0.3899999999999999,
          0.3999999999999998,
          0.4099999999999998,
          0.4199999999999998,
          0.4299999999999998,
          0.43999999999999984,
          0.44999999999999984,
          0.45999999999999985,
          0.46999999999999986,
          0.47999999999999976,
          0.48999999999999977
         ],
         "y": [
          11.1964,
          12.9981,
          12.3685,
          12.3757,
          14.7153,
          14.7823,
          14.2121,
          13.7189,
          13.9961,
          null,
          null,
          null,
          null,
          null,
          null,
          null,
          null,
          null,
          null,
          null,
          null,
          null,
          null,
          null,
          null,
          null,
          null,
          null,
          null,
          null,
          null,
          null,
          null,
          null,
          null,
          null,
          null,
          null,
          null,
          null
         ]
        },
        {
         "mode": "lines+markers",
         "name": "polynomial_order_1",
         "type": "scatter",
         "x": [
          0.1,
          0.11,
          0.12,
          0.13,
          0.13999999999999999,
          0.14999999999999997,
          0.15999999999999998,
          0.16999999999999998,
          0.17999999999999997,
          0.18999999999999995,
          0.19999999999999996,
          0.20999999999999996,
          0.21999999999999995,
          0.22999999999999995,
          0.23999999999999994,
          0.24999999999999992,
          0.2599999999999999,
          0.2699999999999999,
          0.2799999999999999,
          0.2899999999999999,
          0.29999999999999993,
          0.30999999999999994,
          0.3199999999999999,
          0.32999999999999985,
          0.33999999999999986,
          0.34999999999999987,
          0.3599999999999999,
          0.3699999999999999,
          0.3799999999999999,
          0.3899999999999999,
          0.3999999999999998,
          0.4099999999999998,
          0.4199999999999998,
          0.4299999999999998,
          0.43999999999999984,
          0.44999999999999984,
          0.45999999999999985,
          0.46999999999999986,
          0.47999999999999976,
          0.48999999999999977
         ],
         "y": [
          10.412,
          12.1953,
          11.7741,
          11.7701,
          14.0799,
          14.0727,
          13.5571,
          13.1217,
          13.1605,
          null,
          null,
          null,
          null,
          null,
          null,
          null,
          null,
          null,
          null,
          null,
          null,
          null,
          null,
          null,
          null,
          null,
          null,
          null,
          null,
          null,
          null,
          null,
          null,
          null,
          null,
          null,
          null,
          null,
          null,
          null
         ]
        },
        {
         "mode": "lines+markers",
         "name": "polynomial_order_2",
         "type": "scatter",
         "x": [
          0.1,
          0.11,
          0.12,
          0.13,
          0.13999999999999999,
          0.14999999999999997,
          0.15999999999999998,
          0.16999999999999998,
          0.17999999999999997,
          0.18999999999999995,
          0.19999999999999996,
          0.20999999999999996,
          0.21999999999999995,
          0.22999999999999995,
          0.23999999999999994,
          0.24999999999999992,
          0.2599999999999999,
          0.2699999999999999,
          0.2799999999999999,
          0.2899999999999999,
          0.29999999999999993,
          0.30999999999999994,
          0.3199999999999999,
          0.32999999999999985,
          0.33999999999999986,
          0.34999999999999987,
          0.3599999999999999,
          0.3699999999999999,
          0.3799999999999999,
          0.3899999999999999,
          0.3999999999999998,
          0.4099999999999998,
          0.4199999999999998,
          0.4299999999999998,
          0.43999999999999984,
          0.44999999999999984,
          0.45999999999999985,
          0.46999999999999986,
          0.47999999999999976,
          0.48999999999999977
         ],
         "y": [
          10.6714,
          12.7051,
          12.1203,
          12.1136,
          14.5809,
          14.5364,
          13.9759,
          13.499,
          13.7628,
          null,
          null,
          null,
          null,
          null,
          null,
          null,
          null,
          null,
          null,
          null,
          null,
          null,
          null,
          null,
          null,
          null,
          null,
          null,
          null,
          null,
          null,
          null,
          null,
          null,
          null,
          null,
          null,
          null,
          null,
          null
         ]
        },
        {
         "mode": "lines+markers",
         "name": "polynomial_order_3",
         "type": "scatter",
         "x": [
          0.1,
          0.11,
          0.12,
          0.13,
          0.13999999999999999,
          0.14999999999999997,
          0.15999999999999998,
          0.16999999999999998,
          0.17999999999999997,
          0.18999999999999995,
          0.19999999999999996,
          0.20999999999999996,
          0.21999999999999995,
          0.22999999999999995,
          0.23999999999999994,
          0.24999999999999992,
          0.2599999999999999,
          0.2699999999999999,
          0.2799999999999999,
          0.2899999999999999,
          0.29999999999999993,
          0.30999999999999994,
          0.3199999999999999,
          0.32999999999999985,
          0.33999999999999986,
          0.34999999999999987,
          0.3599999999999999,
          0.3699999999999999,
          0.3799999999999999,
          0.3899999999999999,
          0.3999999999999998,
          0.4099999999999998,
          0.4199999999999998,
          0.4299999999999998,
          0.43999999999999984,
          0.44999999999999984,
          0.45999999999999985,
          0.46999999999999986,
          0.47999999999999976,
          0.48999999999999977
         ],
         "y": [
          11.1964,
          12.9981,
          12.3685,
          12.3757,
          14.7153,
          14.7823,
          14.2121,
          13.7189,
          13.9961,
          null,
          null,
          null,
          null,
          null,
          null,
          null,
          null,
          null,
          null,
          null,
          null,
          null,
          null,
          null,
          null,
          null,
          null,
          null,
          null,
          null,
          null,
          null,
          null,
          null,
          null,
          null,
          null,
          null,
          null,
          null
         ]
        },
        {
         "mode": "lines+markers",
         "name": "polynomial_order_5",
         "type": "scatter",
         "x": [
          0.1,
          0.11,
          0.12,
          0.13,
          0.13999999999999999,
          0.14999999999999997,
          0.15999999999999998,
          0.16999999999999998,
          0.17999999999999997,
          0.18999999999999995,
          0.19999999999999996,
          0.20999999999999996,
          0.21999999999999995,
          0.22999999999999995,
          0.23999999999999994,
          0.24999999999999992,
          0.2599999999999999,
          0.2699999999999999,
          0.2799999999999999,
          0.2899999999999999,
          0.29999999999999993,
          0.30999999999999994,
          0.3199999999999999,
          0.32999999999999985,
          0.33999999999999986,
          0.34999999999999987,
          0.3599999999999999,
          0.3699999999999999,
          0.3799999999999999,
          0.3899999999999999,
          0.3999999999999998,
          0.4099999999999998,
          0.4199999999999998,
          0.4299999999999998,
          0.43999999999999984,
          0.44999999999999984,
          0.45999999999999985,
          0.46999999999999986,
          0.47999999999999976,
          0.48999999999999977
         ],
         "y": [
          14.4061,
          16.1779,
          15.198,
          15.1716,
          16.4987,
          16.9972,
          16.4095,
          15.7269,
          15.7573,
          null,
          null,
          null,
          null,
          null,
          null,
          null,
          null,
          null,
          null,
          null,
          null,
          null,
          null,
          null,
          null,
          null,
          null,
          null,
          null,
          null,
          null,
          null,
          null,
          null,
          null,
          null,
          null,
          null,
          null,
          null
         ]
        },
        {
         "mode": "lines+markers",
         "name": "polynomial_order_7",
         "type": "scatter",
         "x": [
          0.1,
          0.11,
          0.12,
          0.13,
          0.13999999999999999,
          0.14999999999999997,
          0.15999999999999998,
          0.16999999999999998,
          0.17999999999999997,
          0.18999999999999995,
          0.19999999999999996,
          0.20999999999999996,
          0.21999999999999995,
          0.22999999999999995,
          0.23999999999999994,
          0.24999999999999992,
          0.2599999999999999,
          0.2699999999999999,
          0.2799999999999999,
          0.2899999999999999,
          0.29999999999999993,
          0.30999999999999994,
          0.3199999999999999,
          0.32999999999999985,
          0.33999999999999986,
          0.34999999999999987,
          0.3599999999999999,
          0.3699999999999999,
          0.3799999999999999,
          0.3899999999999999,
          0.3999999999999998,
          0.4099999999999998,
          0.4199999999999998,
          0.4299999999999998,
          0.43999999999999984,
          0.44999999999999984,
          0.45999999999999985,
          0.46999999999999986,
          0.47999999999999976,
          0.48999999999999977
         ],
         "y": [
          17.8125,
          19.9886,
          18.7105,
          18.8168,
          19.5935,
          20.5294,
          19.918,
          18.9324,
          18.5854,
          null,
          null,
          null,
          null,
          null,
          null,
          null,
          null,
          null,
          null,
          null,
          null,
          null,
          null,
          null,
          null,
          null,
          null,
          null,
          null,
          null,
          null,
          null,
          null,
          null,
          null,
          null,
          null,
          null,
          null,
          null
         ]
        },
        {
         "mode": "lines+markers",
         "name": "polynomial_order_9",
         "type": "scatter",
         "x": [
          0.1,
          0.11,
          0.12,
          0.13,
          0.13999999999999999,
          0.14999999999999997,
          0.15999999999999998,
          0.16999999999999998,
          0.17999999999999997,
          0.18999999999999995,
          0.19999999999999996,
          0.20999999999999996,
          0.21999999999999995,
          0.22999999999999995,
          0.23999999999999994,
          0.24999999999999992,
          0.2599999999999999,
          0.2699999999999999,
          0.2799999999999999,
          0.2899999999999999,
          0.29999999999999993,
          0.30999999999999994,
          0.3199999999999999,
          0.32999999999999985,
          0.33999999999999986,
          0.34999999999999987,
          0.3599999999999999,
          0.3699999999999999,
          0.3799999999999999,
          0.3899999999999999,
          0.3999999999999998,
          0.4099999999999998,
          0.4199999999999998,
          0.4299999999999998,
          0.43999999999999984,
          0.44999999999999984,
          0.45999999999999985,
          0.46999999999999986,
          0.47999999999999976,
          0.48999999999999977
         ],
         "y": [
          21.0737,
          23.7205,
          22.1349,
          22.726,
          23.3086,
          24.8349,
          24.0248,
          22.918,
          21.9784,
          null,
          null,
          null,
          null,
          null,
          null,
          null,
          null,
          null,
          null,
          null,
          null,
          null,
          null,
          null,
          null,
          null,
          null,
          null,
          null,
          null,
          null,
          null,
          null,
          null,
          null,
          null,
          null,
          null,
          null,
          null
         ]
        },
        {
         "mode": "lines+markers",
         "name": "piecewise_polynomial",
         "type": "scatter",
         "x": [
          0.1,
          0.11,
          0.12,
          0.13,
          0.13999999999999999,
          0.14999999999999997,
          0.15999999999999998,
          0.16999999999999998,
          0.17999999999999997,
          0.18999999999999995,
          0.19999999999999996,
          0.20999999999999996,
          0.21999999999999995,
          0.22999999999999995,
          0.23999999999999994,
          0.24999999999999992,
          0.2599999999999999,
          0.2699999999999999,
          0.2799999999999999,
          0.2899999999999999,
          0.29999999999999993,
          0.30999999999999994,
          0.3199999999999999,
          0.32999999999999985,
          0.33999999999999986,
          0.34999999999999987,
          0.3599999999999999,
          0.3699999999999999,
          0.3799999999999999,
          0.3899999999999999,
          0.3999999999999998,
          0.4099999999999998,
          0.4199999999999998,
          0.4299999999999998,
          0.43999999999999984,
          0.44999999999999984,
          0.45999999999999985,
          0.46999999999999986,
          0.47999999999999976,
          0.48999999999999977
         ],
         "y": [
          10.412,
          12.1953,
          11.7741,
          11.7701,
          14.0799,
          14.0727,
          13.5571,
          13.1217,
          13.1605,
          null,
          null,
          null,
          null,
          null,
          null,
          null,
          null,
          null,
          null,
          null,
          null,
          null,
          null,
          null,
          null,
          null,
          null,
          null,
          null,
          null,
          null,
          null,
          null,
          null,
          null,
          null,
          null,
          null,
          null,
          null
         ]
        },
        {
         "mode": "lines+markers",
         "name": "spline_order_1",
         "type": "scatter",
         "x": [
          0.1,
          0.11,
          0.12,
          0.13,
          0.13999999999999999,
          0.14999999999999997,
          0.15999999999999998,
          0.16999999999999998,
          0.17999999999999997,
          0.18999999999999995,
          0.19999999999999996,
          0.20999999999999996,
          0.21999999999999995,
          0.22999999999999995,
          0.23999999999999994,
          0.24999999999999992,
          0.2599999999999999,
          0.2699999999999999,
          0.2799999999999999,
          0.2899999999999999,
          0.29999999999999993,
          0.30999999999999994,
          0.3199999999999999,
          0.32999999999999985,
          0.33999999999999986,
          0.34999999999999987,
          0.3599999999999999,
          0.3699999999999999,
          0.3799999999999999,
          0.3899999999999999,
          0.3999999999999998,
          0.4099999999999998,
          0.4199999999999998,
          0.4299999999999998,
          0.43999999999999984,
          0.44999999999999984,
          0.45999999999999985,
          0.46999999999999986,
          0.47999999999999976,
          0.48999999999999977
         ],
         "y": [
          10.5233,
          12.2422,
          11.8401,
          11.8889,
          14.1338,
          14.1363,
          13.5961,
          13.1665,
          13.2306,
          13.8722,
          13.5907,
          13.2113,
          12.8335,
          12.7857,
          12.6089,
          12.5125,
          12.2709,
          12.5701,
          12.472,
          12.6314,
          12.5009,
          12.6642,
          12.6385,
          12.6214,
          12.5657,
          12.4957,
          12.5258,
          12.5704,
          12.5967,
          12.4581,
          12.3674,
          12.3688,
          12.2267,
          12.0211,
          11.8738,
          11.9806,
          12.14,
          12.3087,
          12.643,
          12.9009
         ]
        },
        {
         "mode": "lines+markers",
         "name": "spline_order_2",
         "type": "scatter",
         "x": [
          0.1,
          0.11,
          0.12,
          0.13,
          0.13999999999999999,
          0.14999999999999997,
          0.15999999999999998,
          0.16999999999999998,
          0.17999999999999997,
          0.18999999999999995,
          0.19999999999999996,
          0.20999999999999996,
          0.21999999999999995,
          0.22999999999999995,
          0.23999999999999994,
          0.24999999999999992,
          0.2599999999999999,
          0.2699999999999999,
          0.2799999999999999,
          0.2899999999999999,
          0.29999999999999993,
          0.30999999999999994,
          0.3199999999999999,
          0.32999999999999985,
          0.33999999999999986,
          0.34999999999999987,
          0.3599999999999999,
          0.3699999999999999,
          0.3799999999999999,
          0.3899999999999999,
          0.3999999999999998,
          0.4099999999999998,
          0.4199999999999998,
          0.4299999999999998,
          0.43999999999999984,
          0.44999999999999984,
          0.45999999999999985,
          0.46999999999999986,
          0.47999999999999976,
          0.48999999999999977
         ],
         "y": [
          51.1633,
          59.8543,
          78.1629,
          54.1076,
          45.1422,
          44.7156,
          35.2447,
          42.2487,
          40.7327,
          44.878,
          57.199,
          62.6267,
          70.6886,
          86.6214,
          66.8527,
          41.8206,
          51.1027,
          39.1172,
          34.3857,
          40.5104,
          38.0156,
          53.1288,
          45.5572,
          43.5561,
          52.1415,
          56.5801,
          83.0884,
          49.3552,
          33.8424,
          50.9965,
          38.6865,
          129.2186,
          128.7738,
          37.6668,
          44.4111,
          64.4737,
          49.9458,
          56.4715,
          43.8312,
          61.2486
         ]
        },
        {
         "mode": "lines+markers",
         "name": "spline_order_3",
         "type": "scatter",
         "x": [
          0.1,
          0.11,
          0.12,
          0.13,
          0.13999999999999999,
          0.14999999999999997,
          0.15999999999999998,
          0.16999999999999998,
          0.17999999999999997,
          0.18999999999999995,
          0.19999999999999996,
          0.20999999999999996,
          0.21999999999999995,
          0.22999999999999995,
          0.23999999999999994,
          0.24999999999999992,
          0.2599999999999999,
          0.2699999999999999,
          0.2799999999999999,
          0.2899999999999999,
          0.29999999999999993,
          0.30999999999999994,
          0.3199999999999999,
          0.32999999999999985,
          0.33999999999999986,
          0.34999999999999987,
          0.3599999999999999,
          0.3699999999999999,
          0.3799999999999999,
          0.3899999999999999,
          0.3999999999999998,
          0.4099999999999998,
          0.4199999999999998,
          0.4299999999999998,
          0.43999999999999984,
          0.44999999999999984,
          0.45999999999999985,
          0.46999999999999986,
          0.47999999999999976,
          0.48999999999999977
         ],
         "y": [
          10.9681,
          12.7552,
          12.1676,
          12.1752,
          14.6703,
          14.6565,
          14.176,
          13.7858,
          14.0444,
          15.0626,
          14.6384,
          14.4541,
          14.436,
          14.3309,
          14.1996,
          13.9113,
          13.6338,
          13.753,
          13.6856,
          13.6652,
          13.9271,
          13.8652,
          13.9748,
          13.8404,
          13.6823,
          13.6215,
          13.4648,
          12.1081,
          12.344,
          12.3469,
          12.4452,
          12.6915,
          13.1989,
          12.9959,
          12.5263,
          12.5929,
          12.7327,
          13.1832,
          13.6842,
          13.5068
         ]
        },
        {
         "mode": "lines+markers",
         "name": "spline_order_4",
         "type": "scatter",
         "x": [
          0.1,
          0.11,
          0.12,
          0.13,
          0.13999999999999999,
          0.14999999999999997,
          0.15999999999999998,
          0.16999999999999998,
          0.17999999999999997,
          0.18999999999999995,
          0.19999999999999996,
          0.20999999999999996,
          0.21999999999999995,
          0.22999999999999995,
          0.23999999999999994,
          0.24999999999999992,
          0.2599999999999999,
          0.2699999999999999,
          0.2799999999999999,
          0.2899999999999999,
          0.29999999999999993,
          0.30999999999999994,
          0.3199999999999999,
          0.32999999999999985,
          0.33999999999999986,
          0.34999999999999987,
          0.3599999999999999,
          0.3699999999999999,
          0.3799999999999999,
          0.3899999999999999,
          0.3999999999999998,
          0.4099999999999998,
          0.4199999999999998,
          0.4299999999999998,
          0.43999999999999984,
          0.44999999999999984,
          0.45999999999999985,
          0.46999999999999986,
          0.47999999999999976,
          0.48999999999999977
         ],
         "y": [
          null,
          67.262,
          61.1492,
          55.3604,
          44.1499,
          44.6,
          null,
          45.6208,
          null,
          51.1265,
          72.8995,
          64.2226,
          69.6748,
          91.1332,
          70.2117,
          48.8037,
          48.4464,
          40.7169,
          44.5358,
          54.0655,
          67.8558,
          114.3198,
          69.2653,
          66.4477,
          71.1969,
          58.8384,
          87.4875,
          69.4356,
          32.6479,
          63.8468,
          50.38,
          146.5272,
          15.1411,
          40.345,
          50.5786,
          70.4117,
          57.1148,
          15.4932,
          54.8649,
          94.2409
         ]
        },
        {
         "mode": "lines+markers",
         "name": "spline_order_5",
         "type": "scatter",
         "x": [
          0.1,
          0.11,
          0.12,
          0.13,
          0.13999999999999999,
          0.14999999999999997,
          0.15999999999999998,
          0.16999999999999998,
          0.17999999999999997,
          0.18999999999999995,
          0.19999999999999996,
          0.20999999999999996,
          0.21999999999999995,
          0.22999999999999995,
          0.23999999999999994,
          0.24999999999999992,
          0.2599999999999999,
          0.2699999999999999,
          0.2799999999999999,
          0.2899999999999999,
          0.29999999999999993,
          0.30999999999999994,
          0.3199999999999999,
          0.32999999999999985,
          0.33999999999999986,
          0.34999999999999987,
          0.3599999999999999,
          0.3699999999999999,
          0.3799999999999999,
          0.3899999999999999,
          0.3999999999999998,
          0.4099999999999998,
          0.4199999999999998,
          0.4299999999999998,
          0.43999999999999984,
          0.44999999999999984,
          0.45999999999999985,
          0.46999999999999986,
          0.47999999999999976,
          0.48999999999999977
         ],
         "y": [
          14.2624,
          16.2566,
          15.2549,
          14.9417,
          16.2251,
          16.4798,
          15.922,
          15.4049,
          15.3453,
          18.6798,
          18.1198,
          18.0902,
          17.6716,
          17.3769,
          17.2529,
          17.2402,
          16.861,
          16.8685,
          16.7164,
          17.3854,
          17.2591,
          17.524,
          17.8206,
          17.2427,
          16.6338,
          16.5529,
          16.8841,
          15.1546,
          15.5966,
          15.8472,
          16.2103,
          16.6233,
          17.0705,
          17.0553,
          16.4434,
          16.5074,
          16.1505,
          16.5938,
          16.7875,
          16.0801
         ]
        },
        {
         "mode": "lines+markers",
         "name": "akima",
         "type": "scatter",
         "x": [
          0.1,
          0.11,
          0.12,
          0.13,
          0.13999999999999999,
          0.14999999999999997,
          0.15999999999999998,
          0.16999999999999998,
          0.17999999999999997,
          0.18999999999999995,
          0.19999999999999996,
          0.20999999999999996,
          0.21999999999999995,
          0.22999999999999995,
          0.23999999999999994,
          0.24999999999999992,
          0.2599999999999999,
          0.2699999999999999,
          0.2799999999999999,
          0.2899999999999999,
          0.29999999999999993,
          0.30999999999999994,
          0.3199999999999999,
          0.32999999999999985,
          0.33999999999999986,
          0.34999999999999987,
          0.3599999999999999,
          0.3699999999999999,
          0.3799999999999999,
          0.3899999999999999,
          0.3999999999999998,
          0.4099999999999998,
          0.4199999999999998,
          0.4299999999999998,
          0.43999999999999984,
          0.44999999999999984,
          0.45999999999999985,
          0.46999999999999986,
          0.47999999999999976,
          0.48999999999999977
         ],
         "y": [
          9.6273,
          11.8646,
          11.3729,
          11.3499,
          13.729,
          13.7143,
          13.3129,
          12.8811,
          13.1453,
          null,
          null,
          null,
          null,
          null,
          null,
          null,
          null,
          null,
          null,
          null,
          null,
          null,
          null,
          null,
          null,
          null,
          null,
          null,
          null,
          null,
          null,
          null,
          null,
          null,
          null,
          null,
          null,
          null,
          null,
          null
         ]
        },
        {
         "mode": "lines+markers",
         "name": "cubicspline",
         "type": "scatter",
         "x": [
          0.1,
          0.11,
          0.12,
          0.13,
          0.13999999999999999,
          0.14999999999999997,
          0.15999999999999998,
          0.16999999999999998,
          0.17999999999999997,
          0.18999999999999995,
          0.19999999999999996,
          0.20999999999999996,
          0.21999999999999995,
          0.22999999999999995,
          0.23999999999999994,
          0.24999999999999992,
          0.2599999999999999,
          0.2699999999999999,
          0.2799999999999999,
          0.2899999999999999,
          0.29999999999999993,
          0.30999999999999994,
          0.3199999999999999,
          0.32999999999999985,
          0.33999999999999986,
          0.34999999999999987,
          0.3599999999999999,
          0.3699999999999999,
          0.3799999999999999,
          0.3899999999999999,
          0.3999999999999998,
          0.4099999999999998,
          0.4199999999999998,
          0.4299999999999998,
          0.43999999999999984,
          0.44999999999999984,
          0.45999999999999985,
          0.46999999999999986,
          0.47999999999999976,
          0.48999999999999977
         ],
         "y": [
          11.1964,
          12.9981,
          12.3685,
          12.3757,
          14.7153,
          14.7823,
          14.2121,
          13.7189,
          13.9961,
          15.1047,
          14.7153,
          14.5993,
          14.297,
          14.1393,
          14.2274,
          14.1436,
          13.7869,
          14.006,
          13.8215,
          13.8507,
          13.8016,
          13.694,
          13.7824,
          13.6754,
          13.5692,
          13.589,
          13.3559,
          12.3148,
          12.5681,
          12.602,
          12.6209,
          13.0218,
          13.0475,
          12.9354,
          12.6635,
          12.6804,
          12.8327,
          13.3659,
          13.7394,
          13.7149
         ]
        },
        {
         "mode": "lines+markers",
         "name": "from_derivatives",
         "type": "scatter",
         "x": [
          0.1,
          0.11,
          0.12,
          0.13,
          0.13999999999999999,
          0.14999999999999997,
          0.15999999999999998,
          0.16999999999999998,
          0.17999999999999997,
          0.18999999999999995,
          0.19999999999999996,
          0.20999999999999996,
          0.21999999999999995,
          0.22999999999999995,
          0.23999999999999994,
          0.24999999999999992,
          0.2599999999999999,
          0.2699999999999999,
          0.2799999999999999,
          0.2899999999999999,
          0.29999999999999993,
          0.30999999999999994,
          0.3199999999999999,
          0.32999999999999985,
          0.33999999999999986,
          0.34999999999999987,
          0.3599999999999999,
          0.3699999999999999,
          0.3799999999999999,
          0.3899999999999999,
          0.3999999999999998,
          0.4099999999999998,
          0.4199999999999998,
          0.4299999999999998,
          0.43999999999999984,
          0.44999999999999984,
          0.45999999999999985,
          0.46999999999999986,
          0.47999999999999976,
          0.48999999999999977
         ],
         "y": [
          10.412,
          12.1953,
          11.7741,
          11.7701,
          14.0799,
          14.0727,
          13.5571,
          13.1217,
          13.1605,
          null,
          null,
          null,
          null,
          null,
          null,
          null,
          null,
          null,
          null,
          null,
          null,
          null,
          null,
          null,
          null,
          null,
          null,
          null,
          null,
          null,
          null,
          null,
          null,
          null,
          null,
          null,
          null,
          null,
          null,
          null
         ]
        }
       ],
       "layout": {
        "legend": {
         "title": {
          "text": "Method"
         }
        },
        "template": {
         "data": {
          "bar": [
           {
            "error_x": {
             "color": "#2a3f5f"
            },
            "error_y": {
             "color": "#2a3f5f"
            },
            "marker": {
             "line": {
              "color": "#E5ECF6",
              "width": 0.5
             },
             "pattern": {
              "fillmode": "overlay",
              "size": 10,
              "solidity": 0.2
             }
            },
            "type": "bar"
           }
          ],
          "barpolar": [
           {
            "marker": {
             "line": {
              "color": "#E5ECF6",
              "width": 0.5
             },
             "pattern": {
              "fillmode": "overlay",
              "size": 10,
              "solidity": 0.2
             }
            },
            "type": "barpolar"
           }
          ],
          "carpet": [
           {
            "aaxis": {
             "endlinecolor": "#2a3f5f",
             "gridcolor": "white",
             "linecolor": "white",
             "minorgridcolor": "white",
             "startlinecolor": "#2a3f5f"
            },
            "baxis": {
             "endlinecolor": "#2a3f5f",
             "gridcolor": "white",
             "linecolor": "white",
             "minorgridcolor": "white",
             "startlinecolor": "#2a3f5f"
            },
            "type": "carpet"
           }
          ],
          "choropleth": [
           {
            "colorbar": {
             "outlinewidth": 0,
             "ticks": ""
            },
            "type": "choropleth"
           }
          ],
          "contour": [
           {
            "colorbar": {
             "outlinewidth": 0,
             "ticks": ""
            },
            "colorscale": [
             [
              0,
              "#0d0887"
             ],
             [
              0.1111111111111111,
              "#46039f"
             ],
             [
              0.2222222222222222,
              "#7201a8"
             ],
             [
              0.3333333333333333,
              "#9c179e"
             ],
             [
              0.4444444444444444,
              "#bd3786"
             ],
             [
              0.5555555555555556,
              "#d8576b"
             ],
             [
              0.6666666666666666,
              "#ed7953"
             ],
             [
              0.7777777777777778,
              "#fb9f3a"
             ],
             [
              0.8888888888888888,
              "#fdca26"
             ],
             [
              1,
              "#f0f921"
             ]
            ],
            "type": "contour"
           }
          ],
          "contourcarpet": [
           {
            "colorbar": {
             "outlinewidth": 0,
             "ticks": ""
            },
            "type": "contourcarpet"
           }
          ],
          "heatmap": [
           {
            "colorbar": {
             "outlinewidth": 0,
             "ticks": ""
            },
            "colorscale": [
             [
              0,
              "#0d0887"
             ],
             [
              0.1111111111111111,
              "#46039f"
             ],
             [
              0.2222222222222222,
              "#7201a8"
             ],
             [
              0.3333333333333333,
              "#9c179e"
             ],
             [
              0.4444444444444444,
              "#bd3786"
             ],
             [
              0.5555555555555556,
              "#d8576b"
             ],
             [
              0.6666666666666666,
              "#ed7953"
             ],
             [
              0.7777777777777778,
              "#fb9f3a"
             ],
             [
              0.8888888888888888,
              "#fdca26"
             ],
             [
              1,
              "#f0f921"
             ]
            ],
            "type": "heatmap"
           }
          ],
          "heatmapgl": [
           {
            "colorbar": {
             "outlinewidth": 0,
             "ticks": ""
            },
            "colorscale": [
             [
              0,
              "#0d0887"
             ],
             [
              0.1111111111111111,
              "#46039f"
             ],
             [
              0.2222222222222222,
              "#7201a8"
             ],
             [
              0.3333333333333333,
              "#9c179e"
             ],
             [
              0.4444444444444444,
              "#bd3786"
             ],
             [
              0.5555555555555556,
              "#d8576b"
             ],
             [
              0.6666666666666666,
              "#ed7953"
             ],
             [
              0.7777777777777778,
              "#fb9f3a"
             ],
             [
              0.8888888888888888,
              "#fdca26"
             ],
             [
              1,
              "#f0f921"
             ]
            ],
            "type": "heatmapgl"
           }
          ],
          "histogram": [
           {
            "marker": {
             "pattern": {
              "fillmode": "overlay",
              "size": 10,
              "solidity": 0.2
             }
            },
            "type": "histogram"
           }
          ],
          "histogram2d": [
           {
            "colorbar": {
             "outlinewidth": 0,
             "ticks": ""
            },
            "colorscale": [
             [
              0,
              "#0d0887"
             ],
             [
              0.1111111111111111,
              "#46039f"
             ],
             [
              0.2222222222222222,
              "#7201a8"
             ],
             [
              0.3333333333333333,
              "#9c179e"
             ],
             [
              0.4444444444444444,
              "#bd3786"
             ],
             [
              0.5555555555555556,
              "#d8576b"
             ],
             [
              0.6666666666666666,
              "#ed7953"
             ],
             [
              0.7777777777777778,
              "#fb9f3a"
             ],
             [
              0.8888888888888888,
              "#fdca26"
             ],
             [
              1,
              "#f0f921"
             ]
            ],
            "type": "histogram2d"
           }
          ],
          "histogram2dcontour": [
           {
            "colorbar": {
             "outlinewidth": 0,
             "ticks": ""
            },
            "colorscale": [
             [
              0,
              "#0d0887"
             ],
             [
              0.1111111111111111,
              "#46039f"
             ],
             [
              0.2222222222222222,
              "#7201a8"
             ],
             [
              0.3333333333333333,
              "#9c179e"
             ],
             [
              0.4444444444444444,
              "#bd3786"
             ],
             [
              0.5555555555555556,
              "#d8576b"
             ],
             [
              0.6666666666666666,
              "#ed7953"
             ],
             [
              0.7777777777777778,
              "#fb9f3a"
             ],
             [
              0.8888888888888888,
              "#fdca26"
             ],
             [
              1,
              "#f0f921"
             ]
            ],
            "type": "histogram2dcontour"
           }
          ],
          "mesh3d": [
           {
            "colorbar": {
             "outlinewidth": 0,
             "ticks": ""
            },
            "type": "mesh3d"
           }
          ],
          "parcoords": [
           {
            "line": {
             "colorbar": {
              "outlinewidth": 0,
              "ticks": ""
             }
            },
            "type": "parcoords"
           }
          ],
          "pie": [
           {
            "automargin": true,
            "type": "pie"
           }
          ],
          "scatter": [
           {
            "fillpattern": {
             "fillmode": "overlay",
             "size": 10,
             "solidity": 0.2
            },
            "type": "scatter"
           }
          ],
          "scatter3d": [
           {
            "line": {
             "colorbar": {
              "outlinewidth": 0,
              "ticks": ""
             }
            },
            "marker": {
             "colorbar": {
              "outlinewidth": 0,
              "ticks": ""
             }
            },
            "type": "scatter3d"
           }
          ],
          "scattercarpet": [
           {
            "marker": {
             "colorbar": {
              "outlinewidth": 0,
              "ticks": ""
             }
            },
            "type": "scattercarpet"
           }
          ],
          "scattergeo": [
           {
            "marker": {
             "colorbar": {
              "outlinewidth": 0,
              "ticks": ""
             }
            },
            "type": "scattergeo"
           }
          ],
          "scattergl": [
           {
            "marker": {
             "colorbar": {
              "outlinewidth": 0,
              "ticks": ""
             }
            },
            "type": "scattergl"
           }
          ],
          "scattermapbox": [
           {
            "marker": {
             "colorbar": {
              "outlinewidth": 0,
              "ticks": ""
             }
            },
            "type": "scattermapbox"
           }
          ],
          "scatterpolar": [
           {
            "marker": {
             "colorbar": {
              "outlinewidth": 0,
              "ticks": ""
             }
            },
            "type": "scatterpolar"
           }
          ],
          "scatterpolargl": [
           {
            "marker": {
             "colorbar": {
              "outlinewidth": 0,
              "ticks": ""
             }
            },
            "type": "scatterpolargl"
           }
          ],
          "scatterternary": [
           {
            "marker": {
             "colorbar": {
              "outlinewidth": 0,
              "ticks": ""
             }
            },
            "type": "scatterternary"
           }
          ],
          "surface": [
           {
            "colorbar": {
             "outlinewidth": 0,
             "ticks": ""
            },
            "colorscale": [
             [
              0,
              "#0d0887"
             ],
             [
              0.1111111111111111,
              "#46039f"
             ],
             [
              0.2222222222222222,
              "#7201a8"
             ],
             [
              0.3333333333333333,
              "#9c179e"
             ],
             [
              0.4444444444444444,
              "#bd3786"
             ],
             [
              0.5555555555555556,
              "#d8576b"
             ],
             [
              0.6666666666666666,
              "#ed7953"
             ],
             [
              0.7777777777777778,
              "#fb9f3a"
             ],
             [
              0.8888888888888888,
              "#fdca26"
             ],
             [
              1,
              "#f0f921"
             ]
            ],
            "type": "surface"
           }
          ],
          "table": [
           {
            "cells": {
             "fill": {
              "color": "#EBF0F8"
             },
             "line": {
              "color": "white"
             }
            },
            "header": {
             "fill": {
              "color": "#C8D4E3"
             },
             "line": {
              "color": "white"
             }
            },
            "type": "table"
           }
          ]
         },
         "layout": {
          "annotationdefaults": {
           "arrowcolor": "#2a3f5f",
           "arrowhead": 0,
           "arrowwidth": 1
          },
          "autotypenumbers": "strict",
          "coloraxis": {
           "colorbar": {
            "outlinewidth": 0,
            "ticks": ""
           }
          },
          "colorscale": {
           "diverging": [
            [
             0,
             "#8e0152"
            ],
            [
             0.1,
             "#c51b7d"
            ],
            [
             0.2,
             "#de77ae"
            ],
            [
             0.3,
             "#f1b6da"
            ],
            [
             0.4,
             "#fde0ef"
            ],
            [
             0.5,
             "#f7f7f7"
            ],
            [
             0.6,
             "#e6f5d0"
            ],
            [
             0.7,
             "#b8e186"
            ],
            [
             0.8,
             "#7fbc41"
            ],
            [
             0.9,
             "#4d9221"
            ],
            [
             1,
             "#276419"
            ]
           ],
           "sequential": [
            [
             0,
             "#0d0887"
            ],
            [
             0.1111111111111111,
             "#46039f"
            ],
            [
             0.2222222222222222,
             "#7201a8"
            ],
            [
             0.3333333333333333,
             "#9c179e"
            ],
            [
             0.4444444444444444,
             "#bd3786"
            ],
            [
             0.5555555555555556,
             "#d8576b"
            ],
            [
             0.6666666666666666,
             "#ed7953"
            ],
            [
             0.7777777777777778,
             "#fb9f3a"
            ],
            [
             0.8888888888888888,
             "#fdca26"
            ],
            [
             1,
             "#f0f921"
            ]
           ],
           "sequentialminus": [
            [
             0,
             "#0d0887"
            ],
            [
             0.1111111111111111,
             "#46039f"
            ],
            [
             0.2222222222222222,
             "#7201a8"
            ],
            [
             0.3333333333333333,
             "#9c179e"
            ],
            [
             0.4444444444444444,
             "#bd3786"
            ],
            [
             0.5555555555555556,
             "#d8576b"
            ],
            [
             0.6666666666666666,
             "#ed7953"
            ],
            [
             0.7777777777777778,
             "#fb9f3a"
            ],
            [
             0.8888888888888888,
             "#fdca26"
            ],
            [
             1,
             "#f0f921"
            ]
           ]
          },
          "colorway": [
           "#636efa",
           "#EF553B",
           "#00cc96",
           "#ab63fa",
           "#FFA15A",
           "#19d3f3",
           "#FF6692",
           "#B6E880",
           "#FF97FF",
           "#FECB52"
          ],
          "font": {
           "color": "#2a3f5f"
          },
          "geo": {
           "bgcolor": "white",
           "lakecolor": "white",
           "landcolor": "#E5ECF6",
           "showlakes": true,
           "showland": true,
           "subunitcolor": "white"
          },
          "hoverlabel": {
           "align": "left"
          },
          "hovermode": "closest",
          "mapbox": {
           "style": "light"
          },
          "paper_bgcolor": "white",
          "plot_bgcolor": "#E5ECF6",
          "polar": {
           "angularaxis": {
            "gridcolor": "white",
            "linecolor": "white",
            "ticks": ""
           },
           "bgcolor": "#E5ECF6",
           "radialaxis": {
            "gridcolor": "white",
            "linecolor": "white",
            "ticks": ""
           }
          },
          "scene": {
           "xaxis": {
            "backgroundcolor": "#E5ECF6",
            "gridcolor": "white",
            "gridwidth": 2,
            "linecolor": "white",
            "showbackground": true,
            "ticks": "",
            "zerolinecolor": "white"
           },
           "yaxis": {
            "backgroundcolor": "#E5ECF6",
            "gridcolor": "white",
            "gridwidth": 2,
            "linecolor": "white",
            "showbackground": true,
            "ticks": "",
            "zerolinecolor": "white"
           },
           "zaxis": {
            "backgroundcolor": "#E5ECF6",
            "gridcolor": "white",
            "gridwidth": 2,
            "linecolor": "white",
            "showbackground": true,
            "ticks": "",
            "zerolinecolor": "white"
           }
          },
          "shapedefaults": {
           "line": {
            "color": "#2a3f5f"
           }
          },
          "ternary": {
           "aaxis": {
            "gridcolor": "white",
            "linecolor": "white",
            "ticks": ""
           },
           "baxis": {
            "gridcolor": "white",
            "linecolor": "white",
            "ticks": ""
           },
           "bgcolor": "#E5ECF6",
           "caxis": {
            "gridcolor": "white",
            "linecolor": "white",
            "ticks": ""
           }
          },
          "title": {
           "x": 0.05
          },
          "xaxis": {
           "automargin": true,
           "gridcolor": "white",
           "linecolor": "white",
           "ticks": "",
           "title": {
            "standoff": 15
           },
           "zerolinecolor": "white",
           "zerolinewidth": 2
          },
          "yaxis": {
           "automargin": true,
           "gridcolor": "white",
           "linecolor": "white",
           "ticks": "",
           "title": {
            "standoff": 15
           },
           "zerolinecolor": "white",
           "zerolinewidth": 2
          }
         }
        },
        "title": {
         "text": "Performance Development for Feature pm2.5"
        },
        "xaxis": {
         "title": {
          "text": "Missing Rate"
         }
        },
        "yaxis": {
         "title": {
          "text": "Difference between original and interpolated data"
         }
        }
       }
      }
     },
     "metadata": {},
     "output_type": "display_data"
    },
    {
     "data": {
      "application/vnd.plotly.v1+json": {
       "config": {
        "plotlyServerURL": "https://plot.ly"
       },
       "data": [
        {
         "mode": "lines+markers",
         "name": "linear",
         "type": "scatter",
         "x": [
          0.1,
          0.11,
          0.12,
          0.13,
          0.13999999999999999,
          0.14999999999999997,
          0.15999999999999998,
          0.16999999999999998,
          0.17999999999999997,
          0.18999999999999995,
          0.19999999999999996,
          0.20999999999999996,
          0.21999999999999995,
          0.22999999999999995,
          0.23999999999999994,
          0.24999999999999992,
          0.2599999999999999,
          0.2699999999999999,
          0.2799999999999999,
          0.2899999999999999,
          0.29999999999999993,
          0.30999999999999994,
          0.3199999999999999,
          0.32999999999999985,
          0.33999999999999986,
          0.34999999999999987,
          0.3599999999999999,
          0.3699999999999999,
          0.3799999999999999,
          0.3899999999999999,
          0.3999999999999998,
          0.4099999999999998,
          0.4199999999999998,
          0.4299999999999998,
          0.43999999999999984,
          0.44999999999999984,
          0.45999999999999985,
          0.46999999999999986,
          0.47999999999999976,
          0.48999999999999977
         ],
         "y": [
          0.6783,
          0.6758,
          0.6736,
          0.6756,
          0.6794,
          0.6562,
          0.6652,
          0.6495,
          0.6439,
          0.6337,
          0.6345,
          0.6344,
          0.6283,
          0.6132,
          0.6232,
          0.6222,
          0.6341,
          0.6496,
          0.643,
          0.6732,
          0.6725,
          0.6674,
          0.67,
          0.6603,
          0.6541,
          0.664,
          0.6859,
          0.6788,
          0.6728,
          0.6836,
          0.6915,
          0.6942,
          0.6866,
          0.6789,
          0.6856,
          0.6895,
          0.6997,
          0.7051,
          0.7131,
          0.708
         ]
        },
        {
         "mode": "lines+markers",
         "name": "nearest",
         "type": "scatter",
         "x": [
          0.1,
          0.11,
          0.12,
          0.13,
          0.13999999999999999,
          0.14999999999999997,
          0.15999999999999998,
          0.16999999999999998,
          0.17999999999999997,
          0.18999999999999995,
          0.19999999999999996,
          0.20999999999999996,
          0.21999999999999995,
          0.22999999999999995,
          0.23999999999999994,
          0.24999999999999992,
          0.2599999999999999,
          0.2699999999999999,
          0.2799999999999999,
          0.2899999999999999,
          0.29999999999999993,
          0.30999999999999994,
          0.3199999999999999,
          0.32999999999999985,
          0.33999999999999986,
          0.34999999999999987,
          0.3599999999999999,
          0.3699999999999999,
          0.3799999999999999,
          0.3899999999999999,
          0.3999999999999998,
          0.4099999999999998,
          0.4199999999999998,
          0.4299999999999998,
          0.43999999999999984,
          0.44999999999999984,
          0.45999999999999985,
          0.46999999999999986,
          0.47999999999999976,
          0.48999999999999977
         ],
         "y": [
          0.88,
          0.8909,
          0.875,
          0.9154,
          0.9137,
          0.8859,
          0.8931,
          0.8994,
          0.8771,
          null,
          null,
          null,
          null,
          null,
          null,
          null,
          null,
          null,
          null,
          null,
          null,
          null,
          null,
          null,
          null,
          null,
          null,
          null,
          null,
          null,
          null,
          null,
          null,
          null,
          null,
          null,
          null,
          null,
          null,
          null
         ]
        },
        {
         "mode": "lines+markers",
         "name": "zero",
         "type": "scatter",
         "x": [
          0.1,
          0.11,
          0.12,
          0.13,
          0.13999999999999999,
          0.14999999999999997,
          0.15999999999999998,
          0.16999999999999998,
          0.17999999999999997,
          0.18999999999999995,
          0.19999999999999996,
          0.20999999999999996,
          0.21999999999999995,
          0.22999999999999995,
          0.23999999999999994,
          0.24999999999999992,
          0.2599999999999999,
          0.2699999999999999,
          0.2799999999999999,
          0.2899999999999999,
          0.29999999999999993,
          0.30999999999999994,
          0.3199999999999999,
          0.32999999999999985,
          0.33999999999999986,
          0.34999999999999987,
          0.3599999999999999,
          0.3699999999999999,
          0.3799999999999999,
          0.3899999999999999,
          0.3999999999999998,
          0.4099999999999998,
          0.4199999999999998,
          0.4299999999999998,
          0.43999999999999984,
          0.44999999999999984,
          0.45999999999999985,
          0.46999999999999986,
          0.47999999999999976,
          0.48999999999999977
         ],
         "y": [
          0.86,
          0.9273,
          0.925,
          0.9615,
          0.9424,
          0.8993,
          0.8931,
          0.8876,
          0.9274,
          null,
          null,
          null,
          null,
          null,
          null,
          null,
          null,
          null,
          null,
          null,
          null,
          null,
          null,
          null,
          null,
          null,
          null,
          null,
          null,
          null,
          null,
          null,
          null,
          null,
          null,
          null,
          null,
          null,
          null,
          null
         ]
        },
        {
         "mode": "lines+markers",
         "name": "slinear",
         "type": "scatter",
         "x": [
          0.1,
          0.11,
          0.12,
          0.13,
          0.13999999999999999,
          0.14999999999999997,
          0.15999999999999998,
          0.16999999999999998,
          0.17999999999999997,
          0.18999999999999995,
          0.19999999999999996,
          0.20999999999999996,
          0.21999999999999995,
          0.22999999999999995,
          0.23999999999999994,
          0.24999999999999992,
          0.2599999999999999,
          0.2699999999999999,
          0.2799999999999999,
          0.2899999999999999,
          0.29999999999999993,
          0.30999999999999994,
          0.3199999999999999,
          0.32999999999999985,
          0.33999999999999986,
          0.34999999999999987,
          0.3599999999999999,
          0.3699999999999999,
          0.3799999999999999,
          0.3899999999999999,
          0.3999999999999998,
          0.4099999999999998,
          0.4199999999999998,
          0.4299999999999998,
          0.43999999999999984,
          0.44999999999999984,
          0.45999999999999985,
          0.46999999999999986,
          0.47999999999999976,
          0.48999999999999977
         ],
         "y": [
          0.6783,
          0.6758,
          0.6736,
          0.6756,
          0.6794,
          0.6562,
          0.6652,
          0.6495,
          0.6439,
          null,
          null,
          null,
          null,
          null,
          null,
          null,
          null,
          null,
          null,
          null,
          null,
          null,
          null,
          null,
          null,
          null,
          null,
          null,
          null,
          null,
          null,
          null,
          null,
          null,
          null,
          null,
          null,
          null,
          null,
          null
         ]
        },
        {
         "mode": "lines+markers",
         "name": "quadratic",
         "type": "scatter",
         "x": [
          0.1,
          0.11,
          0.12,
          0.13,
          0.13999999999999999,
          0.14999999999999997,
          0.15999999999999998,
          0.16999999999999998,
          0.17999999999999997,
          0.18999999999999995,
          0.19999999999999996,
          0.20999999999999996,
          0.21999999999999995,
          0.22999999999999995,
          0.23999999999999994,
          0.24999999999999992,
          0.2599999999999999,
          0.2699999999999999,
          0.2799999999999999,
          0.2899999999999999,
          0.29999999999999993,
          0.30999999999999994,
          0.3199999999999999,
          0.32999999999999985,
          0.33999999999999986,
          0.34999999999999987,
          0.3599999999999999,
          0.3699999999999999,
          0.3799999999999999,
          0.3899999999999999,
          0.3999999999999998,
          0.4099999999999998,
          0.4199999999999998,
          0.4299999999999998,
          0.43999999999999984,
          0.44999999999999984,
          0.45999999999999985,
          0.46999999999999986,
          0.47999999999999976,
          0.48999999999999977
         ],
         "y": [
          0.7843,
          0.7816,
          0.7807,
          0.7721,
          0.7768,
          0.7503,
          0.7723,
          0.7499,
          0.7557,
          null,
          null,
          null,
          null,
          null,
          null,
          null,
          null,
          null,
          null,
          null,
          null,
          null,
          null,
          null,
          null,
          null,
          null,
          null,
          null,
          null,
          null,
          null,
          null,
          null,
          null,
          null,
          null,
          null,
          null,
          null
         ]
        },
        {
         "mode": "lines+markers",
         "name": "cubic",
         "type": "scatter",
         "x": [
          0.1,
          0.11,
          0.12,
          0.13,
          0.13999999999999999,
          0.14999999999999997,
          0.15999999999999998,
          0.16999999999999998,
          0.17999999999999997,
          0.18999999999999995,
          0.19999999999999996,
          0.20999999999999996,
          0.21999999999999995,
          0.22999999999999995,
          0.23999999999999994,
          0.24999999999999992,
          0.2599999999999999,
          0.2699999999999999,
          0.2799999999999999,
          0.2899999999999999,
          0.29999999999999993,
          0.30999999999999994,
          0.3199999999999999,
          0.32999999999999985,
          0.33999999999999986,
          0.34999999999999987,
          0.3599999999999999,
          0.3699999999999999,
          0.3799999999999999,
          0.3899999999999999,
          0.3999999999999998,
          0.4099999999999998,
          0.4199999999999998,
          0.4299999999999998,
          0.43999999999999984,
          0.44999999999999984,
          0.45999999999999985,
          0.46999999999999986,
          0.47999999999999976,
          0.48999999999999977
         ],
         "y": [
          0.8081,
          0.8097,
          0.8083,
          0.7959,
          0.8057,
          0.7818,
          0.8016,
          0.7761,
          0.7818,
          null,
          null,
          null,
          null,
          null,
          null,
          null,
          null,
          null,
          null,
          null,
          null,
          null,
          null,
          null,
          null,
          null,
          null,
          null,
          null,
          null,
          null,
          null,
          null,
          null,
          null,
          null,
          null,
          null,
          null,
          null
         ]
        },
        {
         "mode": "lines+markers",
         "name": "polynomial_order_1",
         "type": "scatter",
         "x": [
          0.1,
          0.11,
          0.12,
          0.13,
          0.13999999999999999,
          0.14999999999999997,
          0.15999999999999998,
          0.16999999999999998,
          0.17999999999999997,
          0.18999999999999995,
          0.19999999999999996,
          0.20999999999999996,
          0.21999999999999995,
          0.22999999999999995,
          0.23999999999999994,
          0.24999999999999992,
          0.2599999999999999,
          0.2699999999999999,
          0.2799999999999999,
          0.2899999999999999,
          0.29999999999999993,
          0.30999999999999994,
          0.3199999999999999,
          0.32999999999999985,
          0.33999999999999986,
          0.34999999999999987,
          0.3599999999999999,
          0.3699999999999999,
          0.3799999999999999,
          0.3899999999999999,
          0.3999999999999998,
          0.4099999999999998,
          0.4199999999999998,
          0.4299999999999998,
          0.43999999999999984,
          0.44999999999999984,
          0.45999999999999985,
          0.46999999999999986,
          0.47999999999999976,
          0.48999999999999977
         ],
         "y": [
          0.6783,
          0.6758,
          0.6736,
          0.6756,
          0.6794,
          0.6562,
          0.6652,
          0.6495,
          0.6439,
          null,
          null,
          null,
          null,
          null,
          null,
          null,
          null,
          null,
          null,
          null,
          null,
          null,
          null,
          null,
          null,
          null,
          null,
          null,
          null,
          null,
          null,
          null,
          null,
          null,
          null,
          null,
          null,
          null,
          null,
          null
         ]
        },
        {
         "mode": "lines+markers",
         "name": "polynomial_order_2",
         "type": "scatter",
         "x": [
          0.1,
          0.11,
          0.12,
          0.13,
          0.13999999999999999,
          0.14999999999999997,
          0.15999999999999998,
          0.16999999999999998,
          0.17999999999999997,
          0.18999999999999995,
          0.19999999999999996,
          0.20999999999999996,
          0.21999999999999995,
          0.22999999999999995,
          0.23999999999999994,
          0.24999999999999992,
          0.2599999999999999,
          0.2699999999999999,
          0.2799999999999999,
          0.2899999999999999,
          0.29999999999999993,
          0.30999999999999994,
          0.3199999999999999,
          0.32999999999999985,
          0.33999999999999986,
          0.34999999999999987,
          0.3599999999999999,
          0.3699999999999999,
          0.3799999999999999,
          0.3899999999999999,
          0.3999999999999998,
          0.4099999999999998,
          0.4199999999999998,
          0.4299999999999998,
          0.43999999999999984,
          0.44999999999999984,
          0.45999999999999985,
          0.46999999999999986,
          0.47999999999999976,
          0.48999999999999977
         ],
         "y": [
          0.7843,
          0.7816,
          0.7807,
          0.7721,
          0.7768,
          0.7503,
          0.7723,
          0.7499,
          0.7557,
          null,
          null,
          null,
          null,
          null,
          null,
          null,
          null,
          null,
          null,
          null,
          null,
          null,
          null,
          null,
          null,
          null,
          null,
          null,
          null,
          null,
          null,
          null,
          null,
          null,
          null,
          null,
          null,
          null,
          null,
          null
         ]
        },
        {
         "mode": "lines+markers",
         "name": "polynomial_order_3",
         "type": "scatter",
         "x": [
          0.1,
          0.11,
          0.12,
          0.13,
          0.13999999999999999,
          0.14999999999999997,
          0.15999999999999998,
          0.16999999999999998,
          0.17999999999999997,
          0.18999999999999995,
          0.19999999999999996,
          0.20999999999999996,
          0.21999999999999995,
          0.22999999999999995,
          0.23999999999999994,
          0.24999999999999992,
          0.2599999999999999,
          0.2699999999999999,
          0.2799999999999999,
          0.2899999999999999,
          0.29999999999999993,
          0.30999999999999994,
          0.3199999999999999,
          0.32999999999999985,
          0.33999999999999986,
          0.34999999999999987,
          0.3599999999999999,
          0.3699999999999999,
          0.3799999999999999,
          0.3899999999999999,
          0.3999999999999998,
          0.4099999999999998,
          0.4199999999999998,
          0.4299999999999998,
          0.43999999999999984,
          0.44999999999999984,
          0.45999999999999985,
          0.46999999999999986,
          0.47999999999999976,
          0.48999999999999977
         ],
         "y": [
          0.8081,
          0.8097,
          0.8083,
          0.7959,
          0.8057,
          0.7818,
          0.8016,
          0.7761,
          0.7818,
          null,
          null,
          null,
          null,
          null,
          null,
          null,
          null,
          null,
          null,
          null,
          null,
          null,
          null,
          null,
          null,
          null,
          null,
          null,
          null,
          null,
          null,
          null,
          null,
          null,
          null,
          null,
          null,
          null,
          null,
          null
         ]
        },
        {
         "mode": "lines+markers",
         "name": "polynomial_order_5",
         "type": "scatter",
         "x": [
          0.1,
          0.11,
          0.12,
          0.13,
          0.13999999999999999,
          0.14999999999999997,
          0.15999999999999998,
          0.16999999999999998,
          0.17999999999999997,
          0.18999999999999995,
          0.19999999999999996,
          0.20999999999999996,
          0.21999999999999995,
          0.22999999999999995,
          0.23999999999999994,
          0.24999999999999992,
          0.2599999999999999,
          0.2699999999999999,
          0.2799999999999999,
          0.2899999999999999,
          0.29999999999999993,
          0.30999999999999994,
          0.3199999999999999,
          0.32999999999999985,
          0.33999999999999986,
          0.34999999999999987,
          0.3599999999999999,
          0.3699999999999999,
          0.3799999999999999,
          0.3899999999999999,
          0.3999999999999998,
          0.4099999999999998,
          0.4199999999999998,
          0.4299999999999998,
          0.43999999999999984,
          0.44999999999999984,
          0.45999999999999985,
          0.46999999999999986,
          0.47999999999999976,
          0.48999999999999977
         ],
         "y": [
          0.9574,
          0.9595,
          0.9488,
          0.9179,
          0.9345,
          0.9209,
          0.9377,
          0.9093,
          0.9094,
          null,
          null,
          null,
          null,
          null,
          null,
          null,
          null,
          null,
          null,
          null,
          null,
          null,
          null,
          null,
          null,
          null,
          null,
          null,
          null,
          null,
          null,
          null,
          null,
          null,
          null,
          null,
          null,
          null,
          null,
          null
         ]
        },
        {
         "mode": "lines+markers",
         "name": "polynomial_order_7",
         "type": "scatter",
         "x": [
          0.1,
          0.11,
          0.12,
          0.13,
          0.13999999999999999,
          0.14999999999999997,
          0.15999999999999998,
          0.16999999999999998,
          0.17999999999999997,
          0.18999999999999995,
          0.19999999999999996,
          0.20999999999999996,
          0.21999999999999995,
          0.22999999999999995,
          0.23999999999999994,
          0.24999999999999992,
          0.2599999999999999,
          0.2699999999999999,
          0.2799999999999999,
          0.2899999999999999,
          0.29999999999999993,
          0.30999999999999994,
          0.3199999999999999,
          0.32999999999999985,
          0.33999999999999986,
          0.34999999999999987,
          0.3599999999999999,
          0.3699999999999999,
          0.3799999999999999,
          0.3899999999999999,
          0.3999999999999998,
          0.4099999999999998,
          0.4199999999999998,
          0.4299999999999998,
          0.43999999999999984,
          0.44999999999999984,
          0.45999999999999985,
          0.46999999999999986,
          0.47999999999999976,
          0.48999999999999977
         ],
         "y": [
          1.1013,
          1.1071,
          1.0866,
          1.0402,
          1.0861,
          1.0822,
          1.092,
          1.0831,
          1.0638,
          null,
          null,
          null,
          null,
          null,
          null,
          null,
          null,
          null,
          null,
          null,
          null,
          null,
          null,
          null,
          null,
          null,
          null,
          null,
          null,
          null,
          null,
          null,
          null,
          null,
          null,
          null,
          null,
          null,
          null,
          null
         ]
        },
        {
         "mode": "lines+markers",
         "name": "polynomial_order_9",
         "type": "scatter",
         "x": [
          0.1,
          0.11,
          0.12,
          0.13,
          0.13999999999999999,
          0.14999999999999997,
          0.15999999999999998,
          0.16999999999999998,
          0.17999999999999997,
          0.18999999999999995,
          0.19999999999999996,
          0.20999999999999996,
          0.21999999999999995,
          0.22999999999999995,
          0.23999999999999994,
          0.24999999999999992,
          0.2599999999999999,
          0.2699999999999999,
          0.2799999999999999,
          0.2899999999999999,
          0.29999999999999993,
          0.30999999999999994,
          0.3199999999999999,
          0.32999999999999985,
          0.33999999999999986,
          0.34999999999999987,
          0.3599999999999999,
          0.3699999999999999,
          0.3799999999999999,
          0.3899999999999999,
          0.3999999999999998,
          0.4099999999999998,
          0.4199999999999998,
          0.4299999999999998,
          0.43999999999999984,
          0.44999999999999984,
          0.45999999999999985,
          0.46999999999999986,
          0.47999999999999976,
          0.48999999999999977
         ],
         "y": [
          1.3433,
          1.3634,
          1.3322,
          1.2797,
          1.3212,
          1.3171,
          1.3036,
          1.3248,
          1.2888,
          null,
          null,
          null,
          null,
          null,
          null,
          null,
          null,
          null,
          null,
          null,
          null,
          null,
          null,
          null,
          null,
          null,
          null,
          null,
          null,
          null,
          null,
          null,
          null,
          null,
          null,
          null,
          null,
          null,
          null,
          null
         ]
        },
        {
         "mode": "lines+markers",
         "name": "piecewise_polynomial",
         "type": "scatter",
         "x": [
          0.1,
          0.11,
          0.12,
          0.13,
          0.13999999999999999,
          0.14999999999999997,
          0.15999999999999998,
          0.16999999999999998,
          0.17999999999999997,
          0.18999999999999995,
          0.19999999999999996,
          0.20999999999999996,
          0.21999999999999995,
          0.22999999999999995,
          0.23999999999999994,
          0.24999999999999992,
          0.2599999999999999,
          0.2699999999999999,
          0.2799999999999999,
          0.2899999999999999,
          0.29999999999999993,
          0.30999999999999994,
          0.3199999999999999,
          0.32999999999999985,
          0.33999999999999986,
          0.34999999999999987,
          0.3599999999999999,
          0.3699999999999999,
          0.3799999999999999,
          0.3899999999999999,
          0.3999999999999998,
          0.4099999999999998,
          0.4199999999999998,
          0.4299999999999998,
          0.43999999999999984,
          0.44999999999999984,
          0.45999999999999985,
          0.46999999999999986,
          0.47999999999999976,
          0.48999999999999977
         ],
         "y": [
          0.6783,
          0.6758,
          0.6736,
          0.6756,
          0.6794,
          0.6562,
          0.6652,
          0.6495,
          0.6439,
          null,
          null,
          null,
          null,
          null,
          null,
          null,
          null,
          null,
          null,
          null,
          null,
          null,
          null,
          null,
          null,
          null,
          null,
          null,
          null,
          null,
          null,
          null,
          null,
          null,
          null,
          null,
          null,
          null,
          null,
          null
         ]
        },
        {
         "mode": "lines+markers",
         "name": "spline_order_1",
         "type": "scatter",
         "x": [
          0.1,
          0.11,
          0.12,
          0.13,
          0.13999999999999999,
          0.14999999999999997,
          0.15999999999999998,
          0.16999999999999998,
          0.17999999999999997,
          0.18999999999999995,
          0.19999999999999996,
          0.20999999999999996,
          0.21999999999999995,
          0.22999999999999995,
          0.23999999999999994,
          0.24999999999999992,
          0.2599999999999999,
          0.2699999999999999,
          0.2799999999999999,
          0.2899999999999999,
          0.29999999999999993,
          0.30999999999999994,
          0.3199999999999999,
          0.32999999999999985,
          0.33999999999999986,
          0.34999999999999987,
          0.3599999999999999,
          0.3699999999999999,
          0.3799999999999999,
          0.3899999999999999,
          0.3999999999999998,
          0.4099999999999998,
          0.4199999999999998,
          0.4299999999999998,
          0.43999999999999984,
          0.44999999999999984,
          0.45999999999999985,
          0.46999999999999986,
          0.47999999999999976,
          0.48999999999999977
         ],
         "y": [
          0.9746,
          0.9705,
          0.9761,
          1.0041,
          1.0413,
          0.9745,
          1.0938,
          1.0044,
          0.9325,
          0.9755,
          0.9952,
          0.9507,
          0.9517,
          0.9084,
          0.9274,
          0.9217,
          0.916,
          0.9451,
          0.934,
          0.9744,
          0.9569,
          0.925,
          0.9714,
          0.9801,
          0.9582,
          0.9859,
          0.993,
          1.0069,
          0.9837,
          0.9756,
          0.9797,
          0.9521,
          0.9546,
          0.9286,
          0.9533,
          0.9389,
          0.9558,
          0.9692,
          0.9683,
          0.9637
         ]
        },
        {
         "mode": "lines+markers",
         "name": "spline_order_2",
         "type": "scatter",
         "x": [
          0.1,
          0.11,
          0.12,
          0.13,
          0.13999999999999999,
          0.14999999999999997,
          0.15999999999999998,
          0.16999999999999998,
          0.17999999999999997,
          0.18999999999999995,
          0.19999999999999996,
          0.20999999999999996,
          0.21999999999999995,
          0.22999999999999995,
          0.23999999999999994,
          0.24999999999999992,
          0.2599999999999999,
          0.2699999999999999,
          0.2799999999999999,
          0.2899999999999999,
          0.29999999999999993,
          0.30999999999999994,
          0.3199999999999999,
          0.32999999999999985,
          0.33999999999999986,
          0.34999999999999987,
          0.3599999999999999,
          0.3699999999999999,
          0.3799999999999999,
          0.3899999999999999,
          0.3999999999999998,
          0.4099999999999998,
          0.4199999999999998,
          0.4299999999999998,
          0.43999999999999984,
          0.44999999999999984,
          0.45999999999999985,
          0.46999999999999986,
          0.47999999999999976,
          0.48999999999999977
         ],
         "y": [
          0.9079,
          1.0134,
          0.9526,
          0.9964,
          0.9223,
          0.8932,
          0.9255,
          0.9547,
          0.9671,
          0.9661,
          0.9264,
          0.9683,
          0.9717,
          0.9524,
          0.9482,
          0.9639,
          0.9273,
          0.9643,
          0.9512,
          0.982,
          0.9487,
          0.9619,
          0.9796,
          0.9458,
          0.9401,
          0.9307,
          0.9581,
          0.9983,
          0.9405,
          0.9396,
          1.0132,
          0.9223,
          0.9808,
          0.9767,
          0.9513,
          0.942,
          0.9453,
          1.0208,
          1.0303,
          1.0118
         ]
        },
        {
         "mode": "lines+markers",
         "name": "spline_order_3",
         "type": "scatter",
         "x": [
          0.1,
          0.11,
          0.12,
          0.13,
          0.13999999999999999,
          0.14999999999999997,
          0.15999999999999998,
          0.16999999999999998,
          0.17999999999999997,
          0.18999999999999995,
          0.19999999999999996,
          0.20999999999999996,
          0.21999999999999995,
          0.22999999999999995,
          0.23999999999999994,
          0.24999999999999992,
          0.2599999999999999,
          0.2699999999999999,
          0.2799999999999999,
          0.2899999999999999,
          0.29999999999999993,
          0.30999999999999994,
          0.3199999999999999,
          0.32999999999999985,
          0.33999999999999986,
          0.34999999999999987,
          0.3599999999999999,
          0.3699999999999999,
          0.3799999999999999,
          0.3899999999999999,
          0.3999999999999998,
          0.4099999999999998,
          0.4199999999999998,
          0.4299999999999998,
          0.43999999999999984,
          0.44999999999999984,
          0.45999999999999985,
          0.46999999999999986,
          0.47999999999999976,
          0.48999999999999977
         ],
         "y": [
          0.9281,
          0.9307,
          1.0178,
          0.9598,
          0.9845,
          0.9629,
          1.0055,
          0.9328,
          0.8916,
          0.968,
          0.9007,
          0.8667,
          0.9684,
          0.845,
          0.8866,
          0.912,
          0.8704,
          0.8903,
          0.8587,
          0.9613,
          0.9696,
          0.9614,
          0.982,
          0.9315,
          0.9688,
          1.0231,
          0.9804,
          0.986,
          1.0035,
          1.0018,
          0.9551,
          1.0135,
          0.9403,
          0.9464,
          1.02,
          0.9869,
          1.0032,
          0.9898,
          1.0012,
          0.9581
         ]
        },
        {
         "mode": "lines+markers",
         "name": "spline_order_4",
         "type": "scatter",
         "x": [
          0.1,
          0.11,
          0.12,
          0.13,
          0.13999999999999999,
          0.14999999999999997,
          0.15999999999999998,
          0.16999999999999998,
          0.17999999999999997,
          0.18999999999999995,
          0.19999999999999996,
          0.20999999999999996,
          0.21999999999999995,
          0.22999999999999995,
          0.23999999999999994,
          0.24999999999999992,
          0.2599999999999999,
          0.2699999999999999,
          0.2799999999999999,
          0.2899999999999999,
          0.29999999999999993,
          0.30999999999999994,
          0.3199999999999999,
          0.32999999999999985,
          0.33999999999999986,
          0.34999999999999987,
          0.3599999999999999,
          0.3699999999999999,
          0.3799999999999999,
          0.3899999999999999,
          0.3999999999999998,
          0.4099999999999998,
          0.4199999999999998,
          0.4299999999999998,
          0.43999999999999984,
          0.44999999999999984,
          0.45999999999999985,
          0.46999999999999986,
          0.47999999999999976,
          0.48999999999999977
         ],
         "y": [
          0.8518,
          0.9845,
          0.868,
          0.9027,
          0.8513,
          0.8669,
          0.8816,
          0.9354,
          0.9258,
          0.9063,
          0.9445,
          0.9626,
          0.9205,
          0.8469,
          0.8528,
          0.863,
          0.904,
          0.8913,
          0.9295,
          0.9615,
          0.9628,
          0.9454,
          0.9477,
          0.9421,
          0.9395,
          1.0092,
          1.0158,
          0.982,
          0.9986,
          0.9374,
          0.9357,
          0.8792,
          0.9507,
          0.8993,
          0.9584,
          0.9484,
          0.9513,
          0.975,
          1.0005,
          0.9693
         ]
        },
        {
         "mode": "lines+markers",
         "name": "spline_order_5",
         "type": "scatter",
         "x": [
          0.1,
          0.11,
          0.12,
          0.13,
          0.13999999999999999,
          0.14999999999999997,
          0.15999999999999998,
          0.16999999999999998,
          0.17999999999999997,
          0.18999999999999995,
          0.19999999999999996,
          0.20999999999999996,
          0.21999999999999995,
          0.22999999999999995,
          0.23999999999999994,
          0.24999999999999992,
          0.2599999999999999,
          0.2699999999999999,
          0.2799999999999999,
          0.2899999999999999,
          0.29999999999999993,
          0.30999999999999994,
          0.3199999999999999,
          0.32999999999999985,
          0.33999999999999986,
          0.34999999999999987,
          0.3599999999999999,
          0.3699999999999999,
          0.3799999999999999,
          0.3899999999999999,
          0.3999999999999998,
          0.4099999999999998,
          0.4199999999999998,
          0.4299999999999998,
          0.43999999999999984,
          0.44999999999999984,
          0.45999999999999985,
          0.46999999999999986,
          0.47999999999999976,
          0.48999999999999977
         ],
         "y": [
          0.9432,
          0.907,
          0.9589,
          0.927,
          0.9231,
          1.0154,
          0.9554,
          0.9115,
          0.8928,
          0.887,
          0.9219,
          0.8859,
          0.9322,
          0.8668,
          0.8886,
          0.8884,
          0.872,
          0.9402,
          0.9313,
          0.9046,
          0.9074,
          0.9545,
          0.9442,
          0.9138,
          0.9262,
          0.9551,
          0.9782,
          0.9185,
          0.9545,
          1.0288,
          0.9481,
          0.9201,
          0.8899,
          0.9332,
          0.9396,
          0.9619,
          1.0255,
          1.035,
          1.024,
          0.9463
         ]
        },
        {
         "mode": "lines+markers",
         "name": "akima",
         "type": "scatter",
         "x": [
          0.1,
          0.11,
          0.12,
          0.13,
          0.13999999999999999,
          0.14999999999999997,
          0.15999999999999998,
          0.16999999999999998,
          0.17999999999999997,
          0.18999999999999995,
          0.19999999999999996,
          0.20999999999999996,
          0.21999999999999995,
          0.22999999999999995,
          0.23999999999999994,
          0.24999999999999992,
          0.2599999999999999,
          0.2699999999999999,
          0.2799999999999999,
          0.2899999999999999,
          0.29999999999999993,
          0.30999999999999994,
          0.3199999999999999,
          0.32999999999999985,
          0.33999999999999986,
          0.34999999999999987,
          0.3599999999999999,
          0.3699999999999999,
          0.3799999999999999,
          0.3899999999999999,
          0.3999999999999998,
          0.4099999999999998,
          0.4199999999999998,
          0.4299999999999998,
          0.43999999999999984,
          0.44999999999999984,
          0.45999999999999985,
          0.46999999999999986,
          0.47999999999999976,
          0.48999999999999977
         ],
         "y": [
          0.7131,
          0.7095,
          0.7122,
          0.7104,
          0.7165,
          0.682,
          0.6918,
          0.6768,
          0.6783,
          null,
          null,
          null,
          null,
          null,
          null,
          null,
          null,
          null,
          null,
          null,
          null,
          null,
          null,
          null,
          null,
          null,
          null,
          null,
          null,
          null,
          null,
          null,
          null,
          null,
          null,
          null,
          null,
          null,
          null,
          null
         ]
        },
        {
         "mode": "lines+markers",
         "name": "cubicspline",
         "type": "scatter",
         "x": [
          0.1,
          0.11,
          0.12,
          0.13,
          0.13999999999999999,
          0.14999999999999997,
          0.15999999999999998,
          0.16999999999999998,
          0.17999999999999997,
          0.18999999999999995,
          0.19999999999999996,
          0.20999999999999996,
          0.21999999999999995,
          0.22999999999999995,
          0.23999999999999994,
          0.24999999999999992,
          0.2599999999999999,
          0.2699999999999999,
          0.2799999999999999,
          0.2899999999999999,
          0.29999999999999993,
          0.30999999999999994,
          0.3199999999999999,
          0.32999999999999985,
          0.33999999999999986,
          0.34999999999999987,
          0.3599999999999999,
          0.3699999999999999,
          0.3799999999999999,
          0.3899999999999999,
          0.3999999999999998,
          0.4099999999999998,
          0.4199999999999998,
          0.4299999999999998,
          0.43999999999999984,
          0.44999999999999984,
          0.45999999999999985,
          0.46999999999999986,
          0.47999999999999976,
          0.48999999999999977
         ],
         "y": [
          0.8081,
          0.8097,
          0.8083,
          0.7959,
          0.8057,
          0.7818,
          0.8016,
          0.7761,
          0.7818,
          0.7846,
          0.7861,
          0.7823,
          0.771,
          0.7572,
          0.7576,
          0.7699,
          0.7686,
          0.7726,
          0.7656,
          0.7768,
          0.7958,
          0.793,
          0.7867,
          0.7911,
          0.775,
          0.7871,
          0.827,
          0.815,
          0.8104,
          0.8134,
          0.8417,
          0.8491,
          0.8544,
          0.855,
          0.844,
          0.8407,
          0.8685,
          0.8707,
          0.8798,
          0.8736
         ]
        },
        {
         "mode": "lines+markers",
         "name": "from_derivatives",
         "type": "scatter",
         "x": [
          0.1,
          0.11,
          0.12,
          0.13,
          0.13999999999999999,
          0.14999999999999997,
          0.15999999999999998,
          0.16999999999999998,
          0.17999999999999997,
          0.18999999999999995,
          0.19999999999999996,
          0.20999999999999996,
          0.21999999999999995,
          0.22999999999999995,
          0.23999999999999994,
          0.24999999999999992,
          0.2599999999999999,
          0.2699999999999999,
          0.2799999999999999,
          0.2899999999999999,
          0.29999999999999993,
          0.30999999999999994,
          0.3199999999999999,
          0.32999999999999985,
          0.33999999999999986,
          0.34999999999999987,
          0.3599999999999999,
          0.3699999999999999,
          0.3799999999999999,
          0.3899999999999999,
          0.3999999999999998,
          0.4099999999999998,
          0.4199999999999998,
          0.4299999999999998,
          0.43999999999999984,
          0.44999999999999984,
          0.45999999999999985,
          0.46999999999999986,
          0.47999999999999976,
          0.48999999999999977
         ],
         "y": [
          0.6783,
          0.6758,
          0.6736,
          0.6756,
          0.6794,
          0.6562,
          0.6652,
          0.6495,
          0.6439,
          null,
          null,
          null,
          null,
          null,
          null,
          null,
          null,
          null,
          null,
          null,
          null,
          null,
          null,
          null,
          null,
          null,
          null,
          null,
          null,
          null,
          null,
          null,
          null,
          null,
          null,
          null,
          null,
          null,
          null,
          null
         ]
        }
       ],
       "layout": {
        "legend": {
         "title": {
          "text": "Method"
         }
        },
        "template": {
         "data": {
          "bar": [
           {
            "error_x": {
             "color": "#2a3f5f"
            },
            "error_y": {
             "color": "#2a3f5f"
            },
            "marker": {
             "line": {
              "color": "#E5ECF6",
              "width": 0.5
             },
             "pattern": {
              "fillmode": "overlay",
              "size": 10,
              "solidity": 0.2
             }
            },
            "type": "bar"
           }
          ],
          "barpolar": [
           {
            "marker": {
             "line": {
              "color": "#E5ECF6",
              "width": 0.5
             },
             "pattern": {
              "fillmode": "overlay",
              "size": 10,
              "solidity": 0.2
             }
            },
            "type": "barpolar"
           }
          ],
          "carpet": [
           {
            "aaxis": {
             "endlinecolor": "#2a3f5f",
             "gridcolor": "white",
             "linecolor": "white",
             "minorgridcolor": "white",
             "startlinecolor": "#2a3f5f"
            },
            "baxis": {
             "endlinecolor": "#2a3f5f",
             "gridcolor": "white",
             "linecolor": "white",
             "minorgridcolor": "white",
             "startlinecolor": "#2a3f5f"
            },
            "type": "carpet"
           }
          ],
          "choropleth": [
           {
            "colorbar": {
             "outlinewidth": 0,
             "ticks": ""
            },
            "type": "choropleth"
           }
          ],
          "contour": [
           {
            "colorbar": {
             "outlinewidth": 0,
             "ticks": ""
            },
            "colorscale": [
             [
              0,
              "#0d0887"
             ],
             [
              0.1111111111111111,
              "#46039f"
             ],
             [
              0.2222222222222222,
              "#7201a8"
             ],
             [
              0.3333333333333333,
              "#9c179e"
             ],
             [
              0.4444444444444444,
              "#bd3786"
             ],
             [
              0.5555555555555556,
              "#d8576b"
             ],
             [
              0.6666666666666666,
              "#ed7953"
             ],
             [
              0.7777777777777778,
              "#fb9f3a"
             ],
             [
              0.8888888888888888,
              "#fdca26"
             ],
             [
              1,
              "#f0f921"
             ]
            ],
            "type": "contour"
           }
          ],
          "contourcarpet": [
           {
            "colorbar": {
             "outlinewidth": 0,
             "ticks": ""
            },
            "type": "contourcarpet"
           }
          ],
          "heatmap": [
           {
            "colorbar": {
             "outlinewidth": 0,
             "ticks": ""
            },
            "colorscale": [
             [
              0,
              "#0d0887"
             ],
             [
              0.1111111111111111,
              "#46039f"
             ],
             [
              0.2222222222222222,
              "#7201a8"
             ],
             [
              0.3333333333333333,
              "#9c179e"
             ],
             [
              0.4444444444444444,
              "#bd3786"
             ],
             [
              0.5555555555555556,
              "#d8576b"
             ],
             [
              0.6666666666666666,
              "#ed7953"
             ],
             [
              0.7777777777777778,
              "#fb9f3a"
             ],
             [
              0.8888888888888888,
              "#fdca26"
             ],
             [
              1,
              "#f0f921"
             ]
            ],
            "type": "heatmap"
           }
          ],
          "heatmapgl": [
           {
            "colorbar": {
             "outlinewidth": 0,
             "ticks": ""
            },
            "colorscale": [
             [
              0,
              "#0d0887"
             ],
             [
              0.1111111111111111,
              "#46039f"
             ],
             [
              0.2222222222222222,
              "#7201a8"
             ],
             [
              0.3333333333333333,
              "#9c179e"
             ],
             [
              0.4444444444444444,
              "#bd3786"
             ],
             [
              0.5555555555555556,
              "#d8576b"
             ],
             [
              0.6666666666666666,
              "#ed7953"
             ],
             [
              0.7777777777777778,
              "#fb9f3a"
             ],
             [
              0.8888888888888888,
              "#fdca26"
             ],
             [
              1,
              "#f0f921"
             ]
            ],
            "type": "heatmapgl"
           }
          ],
          "histogram": [
           {
            "marker": {
             "pattern": {
              "fillmode": "overlay",
              "size": 10,
              "solidity": 0.2
             }
            },
            "type": "histogram"
           }
          ],
          "histogram2d": [
           {
            "colorbar": {
             "outlinewidth": 0,
             "ticks": ""
            },
            "colorscale": [
             [
              0,
              "#0d0887"
             ],
             [
              0.1111111111111111,
              "#46039f"
             ],
             [
              0.2222222222222222,
              "#7201a8"
             ],
             [
              0.3333333333333333,
              "#9c179e"
             ],
             [
              0.4444444444444444,
              "#bd3786"
             ],
             [
              0.5555555555555556,
              "#d8576b"
             ],
             [
              0.6666666666666666,
              "#ed7953"
             ],
             [
              0.7777777777777778,
              "#fb9f3a"
             ],
             [
              0.8888888888888888,
              "#fdca26"
             ],
             [
              1,
              "#f0f921"
             ]
            ],
            "type": "histogram2d"
           }
          ],
          "histogram2dcontour": [
           {
            "colorbar": {
             "outlinewidth": 0,
             "ticks": ""
            },
            "colorscale": [
             [
              0,
              "#0d0887"
             ],
             [
              0.1111111111111111,
              "#46039f"
             ],
             [
              0.2222222222222222,
              "#7201a8"
             ],
             [
              0.3333333333333333,
              "#9c179e"
             ],
             [
              0.4444444444444444,
              "#bd3786"
             ],
             [
              0.5555555555555556,
              "#d8576b"
             ],
             [
              0.6666666666666666,
              "#ed7953"
             ],
             [
              0.7777777777777778,
              "#fb9f3a"
             ],
             [
              0.8888888888888888,
              "#fdca26"
             ],
             [
              1,
              "#f0f921"
             ]
            ],
            "type": "histogram2dcontour"
           }
          ],
          "mesh3d": [
           {
            "colorbar": {
             "outlinewidth": 0,
             "ticks": ""
            },
            "type": "mesh3d"
           }
          ],
          "parcoords": [
           {
            "line": {
             "colorbar": {
              "outlinewidth": 0,
              "ticks": ""
             }
            },
            "type": "parcoords"
           }
          ],
          "pie": [
           {
            "automargin": true,
            "type": "pie"
           }
          ],
          "scatter": [
           {
            "fillpattern": {
             "fillmode": "overlay",
             "size": 10,
             "solidity": 0.2
            },
            "type": "scatter"
           }
          ],
          "scatter3d": [
           {
            "line": {
             "colorbar": {
              "outlinewidth": 0,
              "ticks": ""
             }
            },
            "marker": {
             "colorbar": {
              "outlinewidth": 0,
              "ticks": ""
             }
            },
            "type": "scatter3d"
           }
          ],
          "scattercarpet": [
           {
            "marker": {
             "colorbar": {
              "outlinewidth": 0,
              "ticks": ""
             }
            },
            "type": "scattercarpet"
           }
          ],
          "scattergeo": [
           {
            "marker": {
             "colorbar": {
              "outlinewidth": 0,
              "ticks": ""
             }
            },
            "type": "scattergeo"
           }
          ],
          "scattergl": [
           {
            "marker": {
             "colorbar": {
              "outlinewidth": 0,
              "ticks": ""
             }
            },
            "type": "scattergl"
           }
          ],
          "scattermapbox": [
           {
            "marker": {
             "colorbar": {
              "outlinewidth": 0,
              "ticks": ""
             }
            },
            "type": "scattermapbox"
           }
          ],
          "scatterpolar": [
           {
            "marker": {
             "colorbar": {
              "outlinewidth": 0,
              "ticks": ""
             }
            },
            "type": "scatterpolar"
           }
          ],
          "scatterpolargl": [
           {
            "marker": {
             "colorbar": {
              "outlinewidth": 0,
              "ticks": ""
             }
            },
            "type": "scatterpolargl"
           }
          ],
          "scatterternary": [
           {
            "marker": {
             "colorbar": {
              "outlinewidth": 0,
              "ticks": ""
             }
            },
            "type": "scatterternary"
           }
          ],
          "surface": [
           {
            "colorbar": {
             "outlinewidth": 0,
             "ticks": ""
            },
            "colorscale": [
             [
              0,
              "#0d0887"
             ],
             [
              0.1111111111111111,
              "#46039f"
             ],
             [
              0.2222222222222222,
              "#7201a8"
             ],
             [
              0.3333333333333333,
              "#9c179e"
             ],
             [
              0.4444444444444444,
              "#bd3786"
             ],
             [
              0.5555555555555556,
              "#d8576b"
             ],
             [
              0.6666666666666666,
              "#ed7953"
             ],
             [
              0.7777777777777778,
              "#fb9f3a"
             ],
             [
              0.8888888888888888,
              "#fdca26"
             ],
             [
              1,
              "#f0f921"
             ]
            ],
            "type": "surface"
           }
          ],
          "table": [
           {
            "cells": {
             "fill": {
              "color": "#EBF0F8"
             },
             "line": {
              "color": "white"
             }
            },
            "header": {
             "fill": {
              "color": "#C8D4E3"
             },
             "line": {
              "color": "white"
             }
            },
            "type": "table"
           }
          ]
         },
         "layout": {
          "annotationdefaults": {
           "arrowcolor": "#2a3f5f",
           "arrowhead": 0,
           "arrowwidth": 1
          },
          "autotypenumbers": "strict",
          "coloraxis": {
           "colorbar": {
            "outlinewidth": 0,
            "ticks": ""
           }
          },
          "colorscale": {
           "diverging": [
            [
             0,
             "#8e0152"
            ],
            [
             0.1,
             "#c51b7d"
            ],
            [
             0.2,
             "#de77ae"
            ],
            [
             0.3,
             "#f1b6da"
            ],
            [
             0.4,
             "#fde0ef"
            ],
            [
             0.5,
             "#f7f7f7"
            ],
            [
             0.6,
             "#e6f5d0"
            ],
            [
             0.7,
             "#b8e186"
            ],
            [
             0.8,
             "#7fbc41"
            ],
            [
             0.9,
             "#4d9221"
            ],
            [
             1,
             "#276419"
            ]
           ],
           "sequential": [
            [
             0,
             "#0d0887"
            ],
            [
             0.1111111111111111,
             "#46039f"
            ],
            [
             0.2222222222222222,
             "#7201a8"
            ],
            [
             0.3333333333333333,
             "#9c179e"
            ],
            [
             0.4444444444444444,
             "#bd3786"
            ],
            [
             0.5555555555555556,
             "#d8576b"
            ],
            [
             0.6666666666666666,
             "#ed7953"
            ],
            [
             0.7777777777777778,
             "#fb9f3a"
            ],
            [
             0.8888888888888888,
             "#fdca26"
            ],
            [
             1,
             "#f0f921"
            ]
           ],
           "sequentialminus": [
            [
             0,
             "#0d0887"
            ],
            [
             0.1111111111111111,
             "#46039f"
            ],
            [
             0.2222222222222222,
             "#7201a8"
            ],
            [
             0.3333333333333333,
             "#9c179e"
            ],
            [
             0.4444444444444444,
             "#bd3786"
            ],
            [
             0.5555555555555556,
             "#d8576b"
            ],
            [
             0.6666666666666666,
             "#ed7953"
            ],
            [
             0.7777777777777778,
             "#fb9f3a"
            ],
            [
             0.8888888888888888,
             "#fdca26"
            ],
            [
             1,
             "#f0f921"
            ]
           ]
          },
          "colorway": [
           "#636efa",
           "#EF553B",
           "#00cc96",
           "#ab63fa",
           "#FFA15A",
           "#19d3f3",
           "#FF6692",
           "#B6E880",
           "#FF97FF",
           "#FECB52"
          ],
          "font": {
           "color": "#2a3f5f"
          },
          "geo": {
           "bgcolor": "white",
           "lakecolor": "white",
           "landcolor": "#E5ECF6",
           "showlakes": true,
           "showland": true,
           "subunitcolor": "white"
          },
          "hoverlabel": {
           "align": "left"
          },
          "hovermode": "closest",
          "mapbox": {
           "style": "light"
          },
          "paper_bgcolor": "white",
          "plot_bgcolor": "#E5ECF6",
          "polar": {
           "angularaxis": {
            "gridcolor": "white",
            "linecolor": "white",
            "ticks": ""
           },
           "bgcolor": "#E5ECF6",
           "radialaxis": {
            "gridcolor": "white",
            "linecolor": "white",
            "ticks": ""
           }
          },
          "scene": {
           "xaxis": {
            "backgroundcolor": "#E5ECF6",
            "gridcolor": "white",
            "gridwidth": 2,
            "linecolor": "white",
            "showbackground": true,
            "ticks": "",
            "zerolinecolor": "white"
           },
           "yaxis": {
            "backgroundcolor": "#E5ECF6",
            "gridcolor": "white",
            "gridwidth": 2,
            "linecolor": "white",
            "showbackground": true,
            "ticks": "",
            "zerolinecolor": "white"
           },
           "zaxis": {
            "backgroundcolor": "#E5ECF6",
            "gridcolor": "white",
            "gridwidth": 2,
            "linecolor": "white",
            "showbackground": true,
            "ticks": "",
            "zerolinecolor": "white"
           }
          },
          "shapedefaults": {
           "line": {
            "color": "#2a3f5f"
           }
          },
          "ternary": {
           "aaxis": {
            "gridcolor": "white",
            "linecolor": "white",
            "ticks": ""
           },
           "baxis": {
            "gridcolor": "white",
            "linecolor": "white",
            "ticks": ""
           },
           "bgcolor": "#E5ECF6",
           "caxis": {
            "gridcolor": "white",
            "linecolor": "white",
            "ticks": ""
           }
          },
          "title": {
           "x": 0.05
          },
          "xaxis": {
           "automargin": true,
           "gridcolor": "white",
           "linecolor": "white",
           "ticks": "",
           "title": {
            "standoff": 15
           },
           "zerolinecolor": "white",
           "zerolinewidth": 2
          },
          "yaxis": {
           "automargin": true,
           "gridcolor": "white",
           "linecolor": "white",
           "ticks": "",
           "title": {
            "standoff": 15
           },
           "zerolinecolor": "white",
           "zerolinewidth": 2
          }
         }
        },
        "title": {
         "text": "Performance Development for Feature DEWP"
        },
        "xaxis": {
         "title": {
          "text": "Missing Rate"
         }
        },
        "yaxis": {
         "title": {
          "text": "Difference between original and interpolated data"
         }
        }
       }
      }
     },
     "metadata": {},
     "output_type": "display_data"
    },
    {
     "data": {
      "application/vnd.plotly.v1+json": {
       "config": {
        "plotlyServerURL": "https://plot.ly"
       },
       "data": [
        {
         "mode": "lines+markers",
         "name": "linear",
         "type": "scatter",
         "x": [
          0.1,
          0.11,
          0.12,
          0.13,
          0.13999999999999999,
          0.14999999999999997,
          0.15999999999999998,
          0.16999999999999998,
          0.17999999999999997,
          0.18999999999999995,
          0.19999999999999996,
          0.20999999999999996,
          0.21999999999999995,
          0.22999999999999995,
          0.23999999999999994,
          0.24999999999999992,
          0.2599999999999999,
          0.2699999999999999,
          0.2799999999999999,
          0.2899999999999999,
          0.29999999999999993,
          0.30999999999999994,
          0.3199999999999999,
          0.32999999999999985,
          0.33999999999999986,
          0.34999999999999987,
          0.3599999999999999,
          0.3699999999999999,
          0.3799999999999999,
          0.3899999999999999,
          0.3999999999999998,
          0.4099999999999998,
          0.4199999999999998,
          0.4299999999999998,
          0.43999999999999984,
          0.44999999999999984,
          0.45999999999999985,
          0.46999999999999986,
          0.47999999999999976,
          0.48999999999999977
         ],
         "y": [
          0.72,
          0.7303,
          0.7278,
          0.7256,
          0.7686,
          0.7584,
          0.7243,
          0.7298,
          0.7393,
          0.7593,
          0.7797,
          0.7663,
          0.7435,
          0.7394,
          0.7503,
          0.7637,
          0.7539,
          0.7426,
          0.7411,
          0.7581,
          0.7573,
          0.7463,
          0.7412,
          0.7414,
          0.7402,
          0.7418,
          0.7332,
          0.7336,
          0.7191,
          0.7145,
          0.733,
          0.7429,
          0.7417,
          0.7391,
          0.7337,
          0.7341,
          0.7356,
          0.7399,
          0.752,
          0.7513
         ]
        },
        {
         "mode": "lines+markers",
         "name": "nearest",
         "type": "scatter",
         "x": [
          0.1,
          0.11,
          0.12,
          0.13,
          0.13999999999999999,
          0.14999999999999997,
          0.15999999999999998,
          0.16999999999999998,
          0.17999999999999997,
          0.18999999999999995,
          0.19999999999999996,
          0.20999999999999996,
          0.21999999999999995,
          0.22999999999999995,
          0.23999999999999994,
          0.24999999999999992,
          0.2599999999999999,
          0.2699999999999999,
          0.2799999999999999,
          0.2899999999999999,
          0.29999999999999993,
          0.30999999999999994,
          0.3199999999999999,
          0.32999999999999985,
          0.33999999999999986,
          0.34999999999999987,
          0.3599999999999999,
          0.3699999999999999,
          0.3799999999999999,
          0.3899999999999999,
          0.3999999999999998,
          0.4099999999999998,
          0.4199999999999998,
          0.4299999999999998,
          0.43999999999999984,
          0.44999999999999984,
          0.45999999999999985,
          0.46999999999999986,
          0.47999999999999976,
          0.48999999999999977
         ],
         "y": [
          1.03,
          1.0545,
          1.0667,
          1.0385,
          1.0647,
          1.0336,
          1,
          0.9822,
          0.9888,
          null,
          null,
          null,
          null,
          null,
          null,
          null,
          null,
          null,
          null,
          null,
          null,
          null,
          null,
          null,
          null,
          null,
          null,
          null,
          null,
          null,
          null,
          null,
          null,
          null,
          null,
          null,
          null,
          null,
          null,
          null
         ]
        },
        {
         "mode": "lines+markers",
         "name": "zero",
         "type": "scatter",
         "x": [
          0.1,
          0.11,
          0.12,
          0.13,
          0.13999999999999999,
          0.14999999999999997,
          0.15999999999999998,
          0.16999999999999998,
          0.17999999999999997,
          0.18999999999999995,
          0.19999999999999996,
          0.20999999999999996,
          0.21999999999999995,
          0.22999999999999995,
          0.23999999999999994,
          0.24999999999999992,
          0.2599999999999999,
          0.2699999999999999,
          0.2799999999999999,
          0.2899999999999999,
          0.29999999999999993,
          0.30999999999999994,
          0.3199999999999999,
          0.32999999999999985,
          0.33999999999999986,
          0.34999999999999987,
          0.3599999999999999,
          0.3699999999999999,
          0.3799999999999999,
          0.3899999999999999,
          0.3999999999999998,
          0.4099999999999998,
          0.4199999999999998,
          0.4299999999999998,
          0.43999999999999984,
          0.44999999999999984,
          0.45999999999999985,
          0.46999999999999986,
          0.47999999999999976,
          0.48999999999999977
         ],
         "y": [
          1.17,
          1.2,
          1.1917,
          1.1538,
          1.2158,
          1.1812,
          1.1384,
          1.1302,
          1.1564,
          null,
          null,
          null,
          null,
          null,
          null,
          null,
          null,
          null,
          null,
          null,
          null,
          null,
          null,
          null,
          null,
          null,
          null,
          null,
          null,
          null,
          null,
          null,
          null,
          null,
          null,
          null,
          null,
          null,
          null,
          null
         ]
        },
        {
         "mode": "lines+markers",
         "name": "slinear",
         "type": "scatter",
         "x": [
          0.1,
          0.11,
          0.12,
          0.13,
          0.13999999999999999,
          0.14999999999999997,
          0.15999999999999998,
          0.16999999999999998,
          0.17999999999999997,
          0.18999999999999995,
          0.19999999999999996,
          0.20999999999999996,
          0.21999999999999995,
          0.22999999999999995,
          0.23999999999999994,
          0.24999999999999992,
          0.2599999999999999,
          0.2699999999999999,
          0.2799999999999999,
          0.2899999999999999,
          0.29999999999999993,
          0.30999999999999994,
          0.3199999999999999,
          0.32999999999999985,
          0.33999999999999986,
          0.34999999999999987,
          0.3599999999999999,
          0.3699999999999999,
          0.3799999999999999,
          0.3899999999999999,
          0.3999999999999998,
          0.4099999999999998,
          0.4199999999999998,
          0.4299999999999998,
          0.43999999999999984,
          0.44999999999999984,
          0.45999999999999985,
          0.46999999999999986,
          0.47999999999999976,
          0.48999999999999977
         ],
         "y": [
          0.72,
          0.7303,
          0.7278,
          0.7256,
          0.7686,
          0.7584,
          0.7243,
          0.7298,
          0.7393,
          null,
          null,
          null,
          null,
          null,
          null,
          null,
          null,
          null,
          null,
          null,
          null,
          null,
          null,
          null,
          null,
          null,
          null,
          null,
          null,
          null,
          null,
          null,
          null,
          null,
          null,
          null,
          null,
          null,
          null,
          null
         ]
        },
        {
         "mode": "lines+markers",
         "name": "quadratic",
         "type": "scatter",
         "x": [
          0.1,
          0.11,
          0.12,
          0.13,
          0.13999999999999999,
          0.14999999999999997,
          0.15999999999999998,
          0.16999999999999998,
          0.17999999999999997,
          0.18999999999999995,
          0.19999999999999996,
          0.20999999999999996,
          0.21999999999999995,
          0.22999999999999995,
          0.23999999999999994,
          0.24999999999999992,
          0.2599999999999999,
          0.2699999999999999,
          0.2799999999999999,
          0.2899999999999999,
          0.29999999999999993,
          0.30999999999999994,
          0.3199999999999999,
          0.32999999999999985,
          0.33999999999999986,
          0.34999999999999987,
          0.3599999999999999,
          0.3699999999999999,
          0.3799999999999999,
          0.3899999999999999,
          0.3999999999999998,
          0.4099999999999998,
          0.4199999999999998,
          0.4299999999999998,
          0.43999999999999984,
          0.44999999999999984,
          0.45999999999999985,
          0.46999999999999986,
          0.47999999999999976,
          0.48999999999999977
         ],
         "y": [
          0.8513,
          0.8676,
          0.864,
          0.8663,
          0.9245,
          0.8842,
          0.8687,
          0.8569,
          0.8569,
          null,
          null,
          null,
          null,
          null,
          null,
          null,
          null,
          null,
          null,
          null,
          null,
          null,
          null,
          null,
          null,
          null,
          null,
          null,
          null,
          null,
          null,
          null,
          null,
          null,
          null,
          null,
          null,
          null,
          null,
          null
         ]
        },
        {
         "mode": "lines+markers",
         "name": "cubic",
         "type": "scatter",
         "x": [
          0.1,
          0.11,
          0.12,
          0.13,
          0.13999999999999999,
          0.14999999999999997,
          0.15999999999999998,
          0.16999999999999998,
          0.17999999999999997,
          0.18999999999999995,
          0.19999999999999996,
          0.20999999999999996,
          0.21999999999999995,
          0.22999999999999995,
          0.23999999999999994,
          0.24999999999999992,
          0.2599999999999999,
          0.2699999999999999,
          0.2799999999999999,
          0.2899999999999999,
          0.29999999999999993,
          0.30999999999999994,
          0.3199999999999999,
          0.32999999999999985,
          0.33999999999999986,
          0.34999999999999987,
          0.3599999999999999,
          0.3699999999999999,
          0.3799999999999999,
          0.3899999999999999,
          0.3999999999999998,
          0.4099999999999998,
          0.4199999999999998,
          0.4299999999999998,
          0.43999999999999984,
          0.44999999999999984,
          0.45999999999999985,
          0.46999999999999986,
          0.47999999999999976,
          0.48999999999999977
         ],
         "y": [
          0.9151,
          0.9265,
          0.9224,
          0.9216,
          0.9779,
          0.9334,
          0.9136,
          0.898,
          0.9019,
          null,
          null,
          null,
          null,
          null,
          null,
          null,
          null,
          null,
          null,
          null,
          null,
          null,
          null,
          null,
          null,
          null,
          null,
          null,
          null,
          null,
          null,
          null,
          null,
          null,
          null,
          null,
          null,
          null,
          null,
          null
         ]
        },
        {
         "mode": "lines+markers",
         "name": "polynomial_order_1",
         "type": "scatter",
         "x": [
          0.1,
          0.11,
          0.12,
          0.13,
          0.13999999999999999,
          0.14999999999999997,
          0.15999999999999998,
          0.16999999999999998,
          0.17999999999999997,
          0.18999999999999995,
          0.19999999999999996,
          0.20999999999999996,
          0.21999999999999995,
          0.22999999999999995,
          0.23999999999999994,
          0.24999999999999992,
          0.2599999999999999,
          0.2699999999999999,
          0.2799999999999999,
          0.2899999999999999,
          0.29999999999999993,
          0.30999999999999994,
          0.3199999999999999,
          0.32999999999999985,
          0.33999999999999986,
          0.34999999999999987,
          0.3599999999999999,
          0.3699999999999999,
          0.3799999999999999,
          0.3899999999999999,
          0.3999999999999998,
          0.4099999999999998,
          0.4199999999999998,
          0.4299999999999998,
          0.43999999999999984,
          0.44999999999999984,
          0.45999999999999985,
          0.46999999999999986,
          0.47999999999999976,
          0.48999999999999977
         ],
         "y": [
          0.72,
          0.7303,
          0.7278,
          0.7256,
          0.7686,
          0.7584,
          0.7243,
          0.7298,
          0.7393,
          null,
          null,
          null,
          null,
          null,
          null,
          null,
          null,
          null,
          null,
          null,
          null,
          null,
          null,
          null,
          null,
          null,
          null,
          null,
          null,
          null,
          null,
          null,
          null,
          null,
          null,
          null,
          null,
          null,
          null,
          null
         ]
        },
        {
         "mode": "lines+markers",
         "name": "polynomial_order_2",
         "type": "scatter",
         "x": [
          0.1,
          0.11,
          0.12,
          0.13,
          0.13999999999999999,
          0.14999999999999997,
          0.15999999999999998,
          0.16999999999999998,
          0.17999999999999997,
          0.18999999999999995,
          0.19999999999999996,
          0.20999999999999996,
          0.21999999999999995,
          0.22999999999999995,
          0.23999999999999994,
          0.24999999999999992,
          0.2599999999999999,
          0.2699999999999999,
          0.2799999999999999,
          0.2899999999999999,
          0.29999999999999993,
          0.30999999999999994,
          0.3199999999999999,
          0.32999999999999985,
          0.33999999999999986,
          0.34999999999999987,
          0.3599999999999999,
          0.3699999999999999,
          0.3799999999999999,
          0.3899999999999999,
          0.3999999999999998,
          0.4099999999999998,
          0.4199999999999998,
          0.4299999999999998,
          0.43999999999999984,
          0.44999999999999984,
          0.45999999999999985,
          0.46999999999999986,
          0.47999999999999976,
          0.48999999999999977
         ],
         "y": [
          0.8513,
          0.8676,
          0.864,
          0.8663,
          0.9245,
          0.8842,
          0.8687,
          0.8569,
          0.8569,
          null,
          null,
          null,
          null,
          null,
          null,
          null,
          null,
          null,
          null,
          null,
          null,
          null,
          null,
          null,
          null,
          null,
          null,
          null,
          null,
          null,
          null,
          null,
          null,
          null,
          null,
          null,
          null,
          null,
          null,
          null
         ]
        },
        {
         "mode": "lines+markers",
         "name": "polynomial_order_3",
         "type": "scatter",
         "x": [
          0.1,
          0.11,
          0.12,
          0.13,
          0.13999999999999999,
          0.14999999999999997,
          0.15999999999999998,
          0.16999999999999998,
          0.17999999999999997,
          0.18999999999999995,
          0.19999999999999996,
          0.20999999999999996,
          0.21999999999999995,
          0.22999999999999995,
          0.23999999999999994,
          0.24999999999999992,
          0.2599999999999999,
          0.2699999999999999,
          0.2799999999999999,
          0.2899999999999999,
          0.29999999999999993,
          0.30999999999999994,
          0.3199999999999999,
          0.32999999999999985,
          0.33999999999999986,
          0.34999999999999987,
          0.3599999999999999,
          0.3699999999999999,
          0.3799999999999999,
          0.3899999999999999,
          0.3999999999999998,
          0.4099999999999998,
          0.4199999999999998,
          0.4299999999999998,
          0.43999999999999984,
          0.44999999999999984,
          0.45999999999999985,
          0.46999999999999986,
          0.47999999999999976,
          0.48999999999999977
         ],
         "y": [
          0.9151,
          0.9265,
          0.9224,
          0.9216,
          0.9779,
          0.9334,
          0.9136,
          0.898,
          0.9019,
          null,
          null,
          null,
          null,
          null,
          null,
          null,
          null,
          null,
          null,
          null,
          null,
          null,
          null,
          null,
          null,
          null,
          null,
          null,
          null,
          null,
          null,
          null,
          null,
          null,
          null,
          null,
          null,
          null,
          null,
          null
         ]
        },
        {
         "mode": "lines+markers",
         "name": "polynomial_order_5",
         "type": "scatter",
         "x": [
          0.1,
          0.11,
          0.12,
          0.13,
          0.13999999999999999,
          0.14999999999999997,
          0.15999999999999998,
          0.16999999999999998,
          0.17999999999999997,
          0.18999999999999995,
          0.19999999999999996,
          0.20999999999999996,
          0.21999999999999995,
          0.22999999999999995,
          0.23999999999999994,
          0.24999999999999992,
          0.2599999999999999,
          0.2699999999999999,
          0.2799999999999999,
          0.2899999999999999,
          0.29999999999999993,
          0.30999999999999994,
          0.3199999999999999,
          0.32999999999999985,
          0.33999999999999986,
          0.34999999999999987,
          0.3599999999999999,
          0.3699999999999999,
          0.3799999999999999,
          0.3899999999999999,
          0.3999999999999998,
          0.4099999999999998,
          0.4199999999999998,
          0.4299999999999998,
          0.43999999999999984,
          0.44999999999999984,
          0.45999999999999985,
          0.46999999999999986,
          0.47999999999999976,
          0.48999999999999977
         ],
         "y": [
          1.1752,
          1.176,
          1.1656,
          1.1468,
          1.2068,
          1.1447,
          1.1281,
          1.1055,
          1.1153,
          null,
          null,
          null,
          null,
          null,
          null,
          null,
          null,
          null,
          null,
          null,
          null,
          null,
          null,
          null,
          null,
          null,
          null,
          null,
          null,
          null,
          null,
          null,
          null,
          null,
          null,
          null,
          null,
          null,
          null,
          null
         ]
        },
        {
         "mode": "lines+markers",
         "name": "polynomial_order_7",
         "type": "scatter",
         "x": [
          0.1,
          0.11,
          0.12,
          0.13,
          0.13999999999999999,
          0.14999999999999997,
          0.15999999999999998,
          0.16999999999999998,
          0.17999999999999997,
          0.18999999999999995,
          0.19999999999999996,
          0.20999999999999996,
          0.21999999999999995,
          0.22999999999999995,
          0.23999999999999994,
          0.24999999999999992,
          0.2599999999999999,
          0.2699999999999999,
          0.2799999999999999,
          0.2899999999999999,
          0.29999999999999993,
          0.30999999999999994,
          0.3199999999999999,
          0.32999999999999985,
          0.33999999999999986,
          0.34999999999999987,
          0.3599999999999999,
          0.3699999999999999,
          0.3799999999999999,
          0.3899999999999999,
          0.3999999999999998,
          0.4099999999999998,
          0.4199999999999998,
          0.4299999999999998,
          0.43999999999999984,
          0.44999999999999984,
          0.45999999999999985,
          0.46999999999999986,
          0.47999999999999976,
          0.48999999999999977
         ],
         "y": [
          1.4164,
          1.423,
          1.3918,
          1.3441,
          1.4152,
          1.3635,
          1.3355,
          1.3088,
          1.3203,
          null,
          null,
          null,
          null,
          null,
          null,
          null,
          null,
          null,
          null,
          null,
          null,
          null,
          null,
          null,
          null,
          null,
          null,
          null,
          null,
          null,
          null,
          null,
          null,
          null,
          null,
          null,
          null,
          null,
          null,
          null
         ]
        },
        {
         "mode": "lines+markers",
         "name": "polynomial_order_9",
         "type": "scatter",
         "x": [
          0.1,
          0.11,
          0.12,
          0.13,
          0.13999999999999999,
          0.14999999999999997,
          0.15999999999999998,
          0.16999999999999998,
          0.17999999999999997,
          0.18999999999999995,
          0.19999999999999996,
          0.20999999999999996,
          0.21999999999999995,
          0.22999999999999995,
          0.23999999999999994,
          0.24999999999999992,
          0.2599999999999999,
          0.2699999999999999,
          0.2799999999999999,
          0.2899999999999999,
          0.29999999999999993,
          0.30999999999999994,
          0.3199999999999999,
          0.32999999999999985,
          0.33999999999999986,
          0.34999999999999987,
          0.3599999999999999,
          0.3699999999999999,
          0.3799999999999999,
          0.3899999999999999,
          0.3999999999999998,
          0.4099999999999998,
          0.4199999999999998,
          0.4299999999999998,
          0.43999999999999984,
          0.44999999999999984,
          0.45999999999999985,
          0.46999999999999986,
          0.47999999999999976,
          0.48999999999999977
         ],
         "y": [
          1.571,
          1.6221,
          1.5623,
          1.4938,
          1.7191,
          1.6985,
          1.6338,
          1.6108,
          1.6132,
          null,
          null,
          null,
          null,
          null,
          null,
          null,
          null,
          null,
          null,
          null,
          null,
          null,
          null,
          null,
          null,
          null,
          null,
          null,
          null,
          null,
          null,
          null,
          null,
          null,
          null,
          null,
          null,
          null,
          null,
          null
         ]
        },
        {
         "mode": "lines+markers",
         "name": "piecewise_polynomial",
         "type": "scatter",
         "x": [
          0.1,
          0.11,
          0.12,
          0.13,
          0.13999999999999999,
          0.14999999999999997,
          0.15999999999999998,
          0.16999999999999998,
          0.17999999999999997,
          0.18999999999999995,
          0.19999999999999996,
          0.20999999999999996,
          0.21999999999999995,
          0.22999999999999995,
          0.23999999999999994,
          0.24999999999999992,
          0.2599999999999999,
          0.2699999999999999,
          0.2799999999999999,
          0.2899999999999999,
          0.29999999999999993,
          0.30999999999999994,
          0.3199999999999999,
          0.32999999999999985,
          0.33999999999999986,
          0.34999999999999987,
          0.3599999999999999,
          0.3699999999999999,
          0.3799999999999999,
          0.3899999999999999,
          0.3999999999999998,
          0.4099999999999998,
          0.4199999999999998,
          0.4299999999999998,
          0.43999999999999984,
          0.44999999999999984,
          0.45999999999999985,
          0.46999999999999986,
          0.47999999999999976,
          0.48999999999999977
         ],
         "y": [
          0.72,
          0.7303,
          0.7278,
          0.7256,
          0.7686,
          0.7584,
          0.7243,
          0.7298,
          0.7393,
          null,
          null,
          null,
          null,
          null,
          null,
          null,
          null,
          null,
          null,
          null,
          null,
          null,
          null,
          null,
          null,
          null,
          null,
          null,
          null,
          null,
          null,
          null,
          null,
          null,
          null,
          null,
          null,
          null,
          null,
          null
         ]
        },
        {
         "mode": "lines+markers",
         "name": "spline_order_1",
         "type": "scatter",
         "x": [
          0.1,
          0.11,
          0.12,
          0.13,
          0.13999999999999999,
          0.14999999999999997,
          0.15999999999999998,
          0.16999999999999998,
          0.17999999999999997,
          0.18999999999999995,
          0.19999999999999996,
          0.20999999999999996,
          0.21999999999999995,
          0.22999999999999995,
          0.23999999999999994,
          0.24999999999999992,
          0.2599999999999999,
          0.2699999999999999,
          0.2799999999999999,
          0.2899999999999999,
          0.29999999999999993,
          0.30999999999999994,
          0.3199999999999999,
          0.32999999999999985,
          0.33999999999999986,
          0.34999999999999987,
          0.3599999999999999,
          0.3699999999999999,
          0.3799999999999999,
          0.3899999999999999,
          0.3999999999999998,
          0.4099999999999998,
          0.4199999999999998,
          0.4299999999999998,
          0.43999999999999984,
          0.44999999999999984,
          0.45999999999999985,
          0.46999999999999986,
          0.47999999999999976,
          0.48999999999999977
         ],
         "y": [
          1.0126,
          1.0481,
          0.9918,
          1.0391,
          1.0169,
          1.0364,
          1.0109,
          1.1494,
          1.0774,
          1.0661,
          1.0999,
          1.0825,
          1.0862,
          1.094,
          1.0974,
          1.1131,
          1.093,
          1.0997,
          1.096,
          1.1113,
          1.0617,
          1.1576,
          1.1051,
          1.0475,
          1.0699,
          1.118,
          1.0337,
          1.0657,
          1.0758,
          1.0689,
          1.0837,
          1.0548,
          1.0167,
          1.0313,
          1.0612,
          1.0308,
          1.0412,
          1.0608,
          1.1088,
          1.1098
         ]
        },
        {
         "mode": "lines+markers",
         "name": "spline_order_2",
         "type": "scatter",
         "x": [
          0.1,
          0.11,
          0.12,
          0.13,
          0.13999999999999999,
          0.14999999999999997,
          0.15999999999999998,
          0.16999999999999998,
          0.17999999999999997,
          0.18999999999999995,
          0.19999999999999996,
          0.20999999999999996,
          0.21999999999999995,
          0.22999999999999995,
          0.23999999999999994,
          0.24999999999999992,
          0.2599999999999999,
          0.2699999999999999,
          0.2799999999999999,
          0.2899999999999999,
          0.29999999999999993,
          0.30999999999999994,
          0.3199999999999999,
          0.32999999999999985,
          0.33999999999999986,
          0.34999999999999987,
          0.3599999999999999,
          0.3699999999999999,
          0.3799999999999999,
          0.3899999999999999,
          0.3999999999999998,
          0.4099999999999998,
          0.4199999999999998,
          0.4299999999999998,
          0.43999999999999984,
          0.44999999999999984,
          0.45999999999999985,
          0.46999999999999986,
          0.47999999999999976,
          0.48999999999999977
         ],
         "y": [
          1.0369,
          0.9505,
          0.9999,
          1.0677,
          1.1019,
          1.0784,
          1.0419,
          1.0736,
          1.0551,
          1.0735,
          1.1018,
          1.13,
          1.1089,
          1.0913,
          1.0395,
          1.0969,
          1.1369,
          1.0659,
          1.0874,
          1.1272,
          1.1491,
          1.0963,
          1.0273,
          1.0854,
          1.0733,
          1.0589,
          1.1936,
          1.0259,
          1.0509,
          1.0053,
          1.0724,
          1.0267,
          1.1233,
          1.0509,
          1.071,
          1.0594,
          1.066,
          1.0151,
          1.0921,
          1.0641
         ]
        },
        {
         "mode": "lines+markers",
         "name": "spline_order_3",
         "type": "scatter",
         "x": [
          0.1,
          0.11,
          0.12,
          0.13,
          0.13999999999999999,
          0.14999999999999997,
          0.15999999999999998,
          0.16999999999999998,
          0.17999999999999997,
          0.18999999999999995,
          0.19999999999999996,
          0.20999999999999996,
          0.21999999999999995,
          0.22999999999999995,
          0.23999999999999994,
          0.24999999999999992,
          0.2599999999999999,
          0.2699999999999999,
          0.2799999999999999,
          0.2899999999999999,
          0.29999999999999993,
          0.30999999999999994,
          0.3199999999999999,
          0.32999999999999985,
          0.33999999999999986,
          0.34999999999999987,
          0.3599999999999999,
          0.3699999999999999,
          0.3799999999999999,
          0.3899999999999999,
          0.3999999999999998,
          0.4099999999999998,
          0.4199999999999998,
          0.4299999999999998,
          0.43999999999999984,
          0.44999999999999984,
          0.45999999999999985,
          0.46999999999999986,
          0.47999999999999976,
          0.48999999999999977
         ],
         "y": [
          1.0198,
          1.0395,
          0.9587,
          1.0646,
          0.9815,
          1.0066,
          1.002,
          1.0583,
          1.1066,
          1.0475,
          1.1488,
          1.1246,
          0.9821,
          1.0709,
          1.0467,
          1.0332,
          1.0736,
          1.0447,
          1.0934,
          1.0426,
          1.0911,
          1.015,
          1.0279,
          1.003,
          1.0216,
          1.0107,
          0.9696,
          1.0523,
          1.0036,
          1.0216,
          0.9886,
          0.9988,
          0.9804,
          1.0454,
          1.0237,
          1.0445,
          1.0723,
          1.0364,
          1.0972,
          1.0281
         ]
        },
        {
         "mode": "lines+markers",
         "name": "spline_order_4",
         "type": "scatter",
         "x": [
          0.1,
          0.11,
          0.12,
          0.13,
          0.13999999999999999,
          0.14999999999999997,
          0.15999999999999998,
          0.16999999999999998,
          0.17999999999999997,
          0.18999999999999995,
          0.19999999999999996,
          0.20999999999999996,
          0.21999999999999995,
          0.22999999999999995,
          0.23999999999999994,
          0.24999999999999992,
          0.2599999999999999,
          0.2699999999999999,
          0.2799999999999999,
          0.2899999999999999,
          0.29999999999999993,
          0.30999999999999994,
          0.3199999999999999,
          0.32999999999999985,
          0.33999999999999986,
          0.34999999999999987,
          0.3599999999999999,
          0.3699999999999999,
          0.3799999999999999,
          0.3899999999999999,
          0.3999999999999998,
          0.4099999999999998,
          0.4199999999999998,
          0.4299999999999998,
          0.43999999999999984,
          0.44999999999999984,
          0.45999999999999985,
          0.46999999999999986,
          0.47999999999999976,
          0.48999999999999977
         ],
         "y": [
          1.1293,
          0.96,
          0.9755,
          1.0744,
          1.1949,
          1.0315,
          1.0173,
          1.0958,
          1.0352,
          1.0745,
          1.1073,
          1.0274,
          1.0453,
          1.0829,
          1.1044,
          1.0516,
          1.1088,
          1.1012,
          1.0935,
          1.0659,
          1.1135,
          1.0989,
          1.0505,
          1.0574,
          1.067,
          1.0981,
          1.1361,
          1.0254,
          0.9891,
          0.987,
          1.0593,
          1.0404,
          1.0622,
          1.061,
          1.0597,
          1.0245,
          1.0292,
          1.0438,
          1.0358,
          1.096
         ]
        },
        {
         "mode": "lines+markers",
         "name": "spline_order_5",
         "type": "scatter",
         "x": [
          0.1,
          0.11,
          0.12,
          0.13,
          0.13999999999999999,
          0.14999999999999997,
          0.15999999999999998,
          0.16999999999999998,
          0.17999999999999997,
          0.18999999999999995,
          0.19999999999999996,
          0.20999999999999996,
          0.21999999999999995,
          0.22999999999999995,
          0.23999999999999994,
          0.24999999999999992,
          0.2599999999999999,
          0.2699999999999999,
          0.2799999999999999,
          0.2899999999999999,
          0.29999999999999993,
          0.30999999999999994,
          0.3199999999999999,
          0.32999999999999985,
          0.33999999999999986,
          0.34999999999999987,
          0.3599999999999999,
          0.3699999999999999,
          0.3799999999999999,
          0.3899999999999999,
          0.3999999999999998,
          0.4099999999999998,
          0.4199999999999998,
          0.4299999999999998,
          0.43999999999999984,
          0.44999999999999984,
          0.45999999999999985,
          0.46999999999999986,
          0.47999999999999976,
          0.48999999999999977
         ],
         "y": [
          1.022,
          1.057,
          1.0447,
          0.9885,
          0.9881,
          0.9891,
          0.9987,
          1.054,
          1.0436,
          1.0815,
          1.1364,
          1.0992,
          1.0918,
          1.0209,
          1.0047,
          1.0338,
          1.0818,
          1.0632,
          1.0424,
          1.066,
          1.0382,
          1.0682,
          1.0244,
          1.0299,
          1.0645,
          1.0096,
          0.9938,
          1.0537,
          1.0203,
          0.9845,
          1.077,
          1.0136,
          1.0232,
          1.0527,
          1.0489,
          1.0518,
          1.0394,
          1.0651,
          1.0669,
          1.0637
         ]
        },
        {
         "mode": "lines+markers",
         "name": "akima",
         "type": "scatter",
         "x": [
          0.1,
          0.11,
          0.12,
          0.13,
          0.13999999999999999,
          0.14999999999999997,
          0.15999999999999998,
          0.16999999999999998,
          0.17999999999999997,
          0.18999999999999995,
          0.19999999999999996,
          0.20999999999999996,
          0.21999999999999995,
          0.22999999999999995,
          0.23999999999999994,
          0.24999999999999992,
          0.2599999999999999,
          0.2699999999999999,
          0.2799999999999999,
          0.2899999999999999,
          0.29999999999999993,
          0.30999999999999994,
          0.3199999999999999,
          0.32999999999999985,
          0.33999999999999986,
          0.34999999999999987,
          0.3599999999999999,
          0.3699999999999999,
          0.3799999999999999,
          0.3899999999999999,
          0.3999999999999998,
          0.4099999999999998,
          0.4199999999999998,
          0.4299999999999998,
          0.43999999999999984,
          0.44999999999999984,
          0.45999999999999985,
          0.46999999999999986,
          0.47999999999999976,
          0.48999999999999977
         ],
         "y": [
          0.7095,
          0.7258,
          0.7228,
          0.7203,
          0.7701,
          0.7467,
          0.7276,
          0.7264,
          0.7319,
          null,
          null,
          null,
          null,
          null,
          null,
          null,
          null,
          null,
          null,
          null,
          null,
          null,
          null,
          null,
          null,
          null,
          null,
          null,
          null,
          null,
          null,
          null,
          null,
          null,
          null,
          null,
          null,
          null,
          null,
          null
         ]
        },
        {
         "mode": "lines+markers",
         "name": "cubicspline",
         "type": "scatter",
         "x": [
          0.1,
          0.11,
          0.12,
          0.13,
          0.13999999999999999,
          0.14999999999999997,
          0.15999999999999998,
          0.16999999999999998,
          0.17999999999999997,
          0.18999999999999995,
          0.19999999999999996,
          0.20999999999999996,
          0.21999999999999995,
          0.22999999999999995,
          0.23999999999999994,
          0.24999999999999992,
          0.2599999999999999,
          0.2699999999999999,
          0.2799999999999999,
          0.2899999999999999,
          0.29999999999999993,
          0.30999999999999994,
          0.3199999999999999,
          0.32999999999999985,
          0.33999999999999986,
          0.34999999999999987,
          0.3599999999999999,
          0.3699999999999999,
          0.3799999999999999,
          0.3899999999999999,
          0.3999999999999998,
          0.4099999999999998,
          0.4199999999999998,
          0.4299999999999998,
          0.43999999999999984,
          0.44999999999999984,
          0.45999999999999985,
          0.46999999999999986,
          0.47999999999999976,
          0.48999999999999977
         ],
         "y": [
          0.9151,
          0.9265,
          0.9224,
          0.9216,
          0.9779,
          0.9334,
          0.9136,
          0.898,
          0.9019,
          0.9372,
          0.9417,
          0.9175,
          0.893,
          0.8848,
          0.888,
          0.887,
          0.8653,
          0.8689,
          0.8752,
          0.8983,
          0.8984,
          0.8997,
          0.8824,
          0.8802,
          0.874,
          0.863,
          0.8647,
          0.8575,
          0.8442,
          0.8435,
          0.8886,
          0.899,
          0.9004,
          0.9248,
          0.929,
          0.917,
          0.9353,
          0.9327,
          0.9327,
          0.934
         ]
        },
        {
         "mode": "lines+markers",
         "name": "from_derivatives",
         "type": "scatter",
         "x": [
          0.1,
          0.11,
          0.12,
          0.13,
          0.13999999999999999,
          0.14999999999999997,
          0.15999999999999998,
          0.16999999999999998,
          0.17999999999999997,
          0.18999999999999995,
          0.19999999999999996,
          0.20999999999999996,
          0.21999999999999995,
          0.22999999999999995,
          0.23999999999999994,
          0.24999999999999992,
          0.2599999999999999,
          0.2699999999999999,
          0.2799999999999999,
          0.2899999999999999,
          0.29999999999999993,
          0.30999999999999994,
          0.3199999999999999,
          0.32999999999999985,
          0.33999999999999986,
          0.34999999999999987,
          0.3599999999999999,
          0.3699999999999999,
          0.3799999999999999,
          0.3899999999999999,
          0.3999999999999998,
          0.4099999999999998,
          0.4199999999999998,
          0.4299999999999998,
          0.43999999999999984,
          0.44999999999999984,
          0.45999999999999985,
          0.46999999999999986,
          0.47999999999999976,
          0.48999999999999977
         ],
         "y": [
          0.72,
          0.7303,
          0.7278,
          0.7256,
          0.7686,
          0.7584,
          0.7243,
          0.7298,
          0.7393,
          null,
          null,
          null,
          null,
          null,
          null,
          null,
          null,
          null,
          null,
          null,
          null,
          null,
          null,
          null,
          null,
          null,
          null,
          null,
          null,
          null,
          null,
          null,
          null,
          null,
          null,
          null,
          null,
          null,
          null,
          null
         ]
        }
       ],
       "layout": {
        "legend": {
         "title": {
          "text": "Method"
         }
        },
        "template": {
         "data": {
          "bar": [
           {
            "error_x": {
             "color": "#2a3f5f"
            },
            "error_y": {
             "color": "#2a3f5f"
            },
            "marker": {
             "line": {
              "color": "#E5ECF6",
              "width": 0.5
             },
             "pattern": {
              "fillmode": "overlay",
              "size": 10,
              "solidity": 0.2
             }
            },
            "type": "bar"
           }
          ],
          "barpolar": [
           {
            "marker": {
             "line": {
              "color": "#E5ECF6",
              "width": 0.5
             },
             "pattern": {
              "fillmode": "overlay",
              "size": 10,
              "solidity": 0.2
             }
            },
            "type": "barpolar"
           }
          ],
          "carpet": [
           {
            "aaxis": {
             "endlinecolor": "#2a3f5f",
             "gridcolor": "white",
             "linecolor": "white",
             "minorgridcolor": "white",
             "startlinecolor": "#2a3f5f"
            },
            "baxis": {
             "endlinecolor": "#2a3f5f",
             "gridcolor": "white",
             "linecolor": "white",
             "minorgridcolor": "white",
             "startlinecolor": "#2a3f5f"
            },
            "type": "carpet"
           }
          ],
          "choropleth": [
           {
            "colorbar": {
             "outlinewidth": 0,
             "ticks": ""
            },
            "type": "choropleth"
           }
          ],
          "contour": [
           {
            "colorbar": {
             "outlinewidth": 0,
             "ticks": ""
            },
            "colorscale": [
             [
              0,
              "#0d0887"
             ],
             [
              0.1111111111111111,
              "#46039f"
             ],
             [
              0.2222222222222222,
              "#7201a8"
             ],
             [
              0.3333333333333333,
              "#9c179e"
             ],
             [
              0.4444444444444444,
              "#bd3786"
             ],
             [
              0.5555555555555556,
              "#d8576b"
             ],
             [
              0.6666666666666666,
              "#ed7953"
             ],
             [
              0.7777777777777778,
              "#fb9f3a"
             ],
             [
              0.8888888888888888,
              "#fdca26"
             ],
             [
              1,
              "#f0f921"
             ]
            ],
            "type": "contour"
           }
          ],
          "contourcarpet": [
           {
            "colorbar": {
             "outlinewidth": 0,
             "ticks": ""
            },
            "type": "contourcarpet"
           }
          ],
          "heatmap": [
           {
            "colorbar": {
             "outlinewidth": 0,
             "ticks": ""
            },
            "colorscale": [
             [
              0,
              "#0d0887"
             ],
             [
              0.1111111111111111,
              "#46039f"
             ],
             [
              0.2222222222222222,
              "#7201a8"
             ],
             [
              0.3333333333333333,
              "#9c179e"
             ],
             [
              0.4444444444444444,
              "#bd3786"
             ],
             [
              0.5555555555555556,
              "#d8576b"
             ],
             [
              0.6666666666666666,
              "#ed7953"
             ],
             [
              0.7777777777777778,
              "#fb9f3a"
             ],
             [
              0.8888888888888888,
              "#fdca26"
             ],
             [
              1,
              "#f0f921"
             ]
            ],
            "type": "heatmap"
           }
          ],
          "heatmapgl": [
           {
            "colorbar": {
             "outlinewidth": 0,
             "ticks": ""
            },
            "colorscale": [
             [
              0,
              "#0d0887"
             ],
             [
              0.1111111111111111,
              "#46039f"
             ],
             [
              0.2222222222222222,
              "#7201a8"
             ],
             [
              0.3333333333333333,
              "#9c179e"
             ],
             [
              0.4444444444444444,
              "#bd3786"
             ],
             [
              0.5555555555555556,
              "#d8576b"
             ],
             [
              0.6666666666666666,
              "#ed7953"
             ],
             [
              0.7777777777777778,
              "#fb9f3a"
             ],
             [
              0.8888888888888888,
              "#fdca26"
             ],
             [
              1,
              "#f0f921"
             ]
            ],
            "type": "heatmapgl"
           }
          ],
          "histogram": [
           {
            "marker": {
             "pattern": {
              "fillmode": "overlay",
              "size": 10,
              "solidity": 0.2
             }
            },
            "type": "histogram"
           }
          ],
          "histogram2d": [
           {
            "colorbar": {
             "outlinewidth": 0,
             "ticks": ""
            },
            "colorscale": [
             [
              0,
              "#0d0887"
             ],
             [
              0.1111111111111111,
              "#46039f"
             ],
             [
              0.2222222222222222,
              "#7201a8"
             ],
             [
              0.3333333333333333,
              "#9c179e"
             ],
             [
              0.4444444444444444,
              "#bd3786"
             ],
             [
              0.5555555555555556,
              "#d8576b"
             ],
             [
              0.6666666666666666,
              "#ed7953"
             ],
             [
              0.7777777777777778,
              "#fb9f3a"
             ],
             [
              0.8888888888888888,
              "#fdca26"
             ],
             [
              1,
              "#f0f921"
             ]
            ],
            "type": "histogram2d"
           }
          ],
          "histogram2dcontour": [
           {
            "colorbar": {
             "outlinewidth": 0,
             "ticks": ""
            },
            "colorscale": [
             [
              0,
              "#0d0887"
             ],
             [
              0.1111111111111111,
              "#46039f"
             ],
             [
              0.2222222222222222,
              "#7201a8"
             ],
             [
              0.3333333333333333,
              "#9c179e"
             ],
             [
              0.4444444444444444,
              "#bd3786"
             ],
             [
              0.5555555555555556,
              "#d8576b"
             ],
             [
              0.6666666666666666,
              "#ed7953"
             ],
             [
              0.7777777777777778,
              "#fb9f3a"
             ],
             [
              0.8888888888888888,
              "#fdca26"
             ],
             [
              1,
              "#f0f921"
             ]
            ],
            "type": "histogram2dcontour"
           }
          ],
          "mesh3d": [
           {
            "colorbar": {
             "outlinewidth": 0,
             "ticks": ""
            },
            "type": "mesh3d"
           }
          ],
          "parcoords": [
           {
            "line": {
             "colorbar": {
              "outlinewidth": 0,
              "ticks": ""
             }
            },
            "type": "parcoords"
           }
          ],
          "pie": [
           {
            "automargin": true,
            "type": "pie"
           }
          ],
          "scatter": [
           {
            "fillpattern": {
             "fillmode": "overlay",
             "size": 10,
             "solidity": 0.2
            },
            "type": "scatter"
           }
          ],
          "scatter3d": [
           {
            "line": {
             "colorbar": {
              "outlinewidth": 0,
              "ticks": ""
             }
            },
            "marker": {
             "colorbar": {
              "outlinewidth": 0,
              "ticks": ""
             }
            },
            "type": "scatter3d"
           }
          ],
          "scattercarpet": [
           {
            "marker": {
             "colorbar": {
              "outlinewidth": 0,
              "ticks": ""
             }
            },
            "type": "scattercarpet"
           }
          ],
          "scattergeo": [
           {
            "marker": {
             "colorbar": {
              "outlinewidth": 0,
              "ticks": ""
             }
            },
            "type": "scattergeo"
           }
          ],
          "scattergl": [
           {
            "marker": {
             "colorbar": {
              "outlinewidth": 0,
              "ticks": ""
             }
            },
            "type": "scattergl"
           }
          ],
          "scattermapbox": [
           {
            "marker": {
             "colorbar": {
              "outlinewidth": 0,
              "ticks": ""
             }
            },
            "type": "scattermapbox"
           }
          ],
          "scatterpolar": [
           {
            "marker": {
             "colorbar": {
              "outlinewidth": 0,
              "ticks": ""
             }
            },
            "type": "scatterpolar"
           }
          ],
          "scatterpolargl": [
           {
            "marker": {
             "colorbar": {
              "outlinewidth": 0,
              "ticks": ""
             }
            },
            "type": "scatterpolargl"
           }
          ],
          "scatterternary": [
           {
            "marker": {
             "colorbar": {
              "outlinewidth": 0,
              "ticks": ""
             }
            },
            "type": "scatterternary"
           }
          ],
          "surface": [
           {
            "colorbar": {
             "outlinewidth": 0,
             "ticks": ""
            },
            "colorscale": [
             [
              0,
              "#0d0887"
             ],
             [
              0.1111111111111111,
              "#46039f"
             ],
             [
              0.2222222222222222,
              "#7201a8"
             ],
             [
              0.3333333333333333,
              "#9c179e"
             ],
             [
              0.4444444444444444,
              "#bd3786"
             ],
             [
              0.5555555555555556,
              "#d8576b"
             ],
             [
              0.6666666666666666,
              "#ed7953"
             ],
             [
              0.7777777777777778,
              "#fb9f3a"
             ],
             [
              0.8888888888888888,
              "#fdca26"
             ],
             [
              1,
              "#f0f921"
             ]
            ],
            "type": "surface"
           }
          ],
          "table": [
           {
            "cells": {
             "fill": {
              "color": "#EBF0F8"
             },
             "line": {
              "color": "white"
             }
            },
            "header": {
             "fill": {
              "color": "#C8D4E3"
             },
             "line": {
              "color": "white"
             }
            },
            "type": "table"
           }
          ]
         },
         "layout": {
          "annotationdefaults": {
           "arrowcolor": "#2a3f5f",
           "arrowhead": 0,
           "arrowwidth": 1
          },
          "autotypenumbers": "strict",
          "coloraxis": {
           "colorbar": {
            "outlinewidth": 0,
            "ticks": ""
           }
          },
          "colorscale": {
           "diverging": [
            [
             0,
             "#8e0152"
            ],
            [
             0.1,
             "#c51b7d"
            ],
            [
             0.2,
             "#de77ae"
            ],
            [
             0.3,
             "#f1b6da"
            ],
            [
             0.4,
             "#fde0ef"
            ],
            [
             0.5,
             "#f7f7f7"
            ],
            [
             0.6,
             "#e6f5d0"
            ],
            [
             0.7,
             "#b8e186"
            ],
            [
             0.8,
             "#7fbc41"
            ],
            [
             0.9,
             "#4d9221"
            ],
            [
             1,
             "#276419"
            ]
           ],
           "sequential": [
            [
             0,
             "#0d0887"
            ],
            [
             0.1111111111111111,
             "#46039f"
            ],
            [
             0.2222222222222222,
             "#7201a8"
            ],
            [
             0.3333333333333333,
             "#9c179e"
            ],
            [
             0.4444444444444444,
             "#bd3786"
            ],
            [
             0.5555555555555556,
             "#d8576b"
            ],
            [
             0.6666666666666666,
             "#ed7953"
            ],
            [
             0.7777777777777778,
             "#fb9f3a"
            ],
            [
             0.8888888888888888,
             "#fdca26"
            ],
            [
             1,
             "#f0f921"
            ]
           ],
           "sequentialminus": [
            [
             0,
             "#0d0887"
            ],
            [
             0.1111111111111111,
             "#46039f"
            ],
            [
             0.2222222222222222,
             "#7201a8"
            ],
            [
             0.3333333333333333,
             "#9c179e"
            ],
            [
             0.4444444444444444,
             "#bd3786"
            ],
            [
             0.5555555555555556,
             "#d8576b"
            ],
            [
             0.6666666666666666,
             "#ed7953"
            ],
            [
             0.7777777777777778,
             "#fb9f3a"
            ],
            [
             0.8888888888888888,
             "#fdca26"
            ],
            [
             1,
             "#f0f921"
            ]
           ]
          },
          "colorway": [
           "#636efa",
           "#EF553B",
           "#00cc96",
           "#ab63fa",
           "#FFA15A",
           "#19d3f3",
           "#FF6692",
           "#B6E880",
           "#FF97FF",
           "#FECB52"
          ],
          "font": {
           "color": "#2a3f5f"
          },
          "geo": {
           "bgcolor": "white",
           "lakecolor": "white",
           "landcolor": "#E5ECF6",
           "showlakes": true,
           "showland": true,
           "subunitcolor": "white"
          },
          "hoverlabel": {
           "align": "left"
          },
          "hovermode": "closest",
          "mapbox": {
           "style": "light"
          },
          "paper_bgcolor": "white",
          "plot_bgcolor": "#E5ECF6",
          "polar": {
           "angularaxis": {
            "gridcolor": "white",
            "linecolor": "white",
            "ticks": ""
           },
           "bgcolor": "#E5ECF6",
           "radialaxis": {
            "gridcolor": "white",
            "linecolor": "white",
            "ticks": ""
           }
          },
          "scene": {
           "xaxis": {
            "backgroundcolor": "#E5ECF6",
            "gridcolor": "white",
            "gridwidth": 2,
            "linecolor": "white",
            "showbackground": true,
            "ticks": "",
            "zerolinecolor": "white"
           },
           "yaxis": {
            "backgroundcolor": "#E5ECF6",
            "gridcolor": "white",
            "gridwidth": 2,
            "linecolor": "white",
            "showbackground": true,
            "ticks": "",
            "zerolinecolor": "white"
           },
           "zaxis": {
            "backgroundcolor": "#E5ECF6",
            "gridcolor": "white",
            "gridwidth": 2,
            "linecolor": "white",
            "showbackground": true,
            "ticks": "",
            "zerolinecolor": "white"
           }
          },
          "shapedefaults": {
           "line": {
            "color": "#2a3f5f"
           }
          },
          "ternary": {
           "aaxis": {
            "gridcolor": "white",
            "linecolor": "white",
            "ticks": ""
           },
           "baxis": {
            "gridcolor": "white",
            "linecolor": "white",
            "ticks": ""
           },
           "bgcolor": "#E5ECF6",
           "caxis": {
            "gridcolor": "white",
            "linecolor": "white",
            "ticks": ""
           }
          },
          "title": {
           "x": 0.05
          },
          "xaxis": {
           "automargin": true,
           "gridcolor": "white",
           "linecolor": "white",
           "ticks": "",
           "title": {
            "standoff": 15
           },
           "zerolinecolor": "white",
           "zerolinewidth": 2
          },
          "yaxis": {
           "automargin": true,
           "gridcolor": "white",
           "linecolor": "white",
           "ticks": "",
           "title": {
            "standoff": 15
           },
           "zerolinecolor": "white",
           "zerolinewidth": 2
          }
         }
        },
        "title": {
         "text": "Performance Development for Feature TEMP"
        },
        "xaxis": {
         "title": {
          "text": "Missing Rate"
         }
        },
        "yaxis": {
         "title": {
          "text": "Difference between original and interpolated data"
         }
        }
       }
      }
     },
     "metadata": {},
     "output_type": "display_data"
    },
    {
     "data": {
      "application/vnd.plotly.v1+json": {
       "config": {
        "plotlyServerURL": "https://plot.ly"
       },
       "data": [
        {
         "mode": "lines+markers",
         "name": "linear",
         "type": "scatter",
         "x": [
          0.1,
          0.11,
          0.12,
          0.13,
          0.13999999999999999,
          0.14999999999999997,
          0.15999999999999998,
          0.16999999999999998,
          0.17999999999999997,
          0.18999999999999995,
          0.19999999999999996,
          0.20999999999999996,
          0.21999999999999995,
          0.22999999999999995,
          0.23999999999999994,
          0.24999999999999992,
          0.2599999999999999,
          0.2699999999999999,
          0.2799999999999999,
          0.2899999999999999,
          0.29999999999999993,
          0.30999999999999994,
          0.3199999999999999,
          0.32999999999999985,
          0.33999999999999986,
          0.34999999999999987,
          0.3599999999999999,
          0.3699999999999999,
          0.3799999999999999,
          0.3899999999999999,
          0.3999999999999998,
          0.4099999999999998,
          0.4199999999999998,
          0.4299999999999998,
          0.43999999999999984,
          0.44999999999999984,
          0.45999999999999985,
          0.46999999999999986,
          0.47999999999999976,
          0.48999999999999977
         ],
         "y": [
          0.395,
          0.4,
          0.3847,
          0.3744,
          0.3825,
          0.3758,
          0.3784,
          0.3659,
          0.3678,
          0.3721,
          0.3685,
          0.3652,
          0.3645,
          0.3632,
          0.3591,
          0.3628,
          0.3777,
          0.3786,
          0.3793,
          0.4002,
          0.4036,
          0.4083,
          0.4107,
          0.4082,
          0.4065,
          0.4121,
          0.4076,
          0.4064,
          0.4129,
          0.4096,
          0.4262,
          0.4265,
          0.4274,
          0.4324,
          0.4433,
          0.4416,
          0.4396,
          0.4579,
          0.4609,
          0.4614
         ]
        },
        {
         "mode": "lines+markers",
         "name": "nearest",
         "type": "scatter",
         "x": [
          0.1,
          0.11,
          0.12,
          0.13,
          0.13999999999999999,
          0.14999999999999997,
          0.15999999999999998,
          0.16999999999999998,
          0.17999999999999997,
          0.18999999999999995,
          0.19999999999999996,
          0.20999999999999996,
          0.21999999999999995,
          0.22999999999999995,
          0.23999999999999994,
          0.24999999999999992,
          0.2599999999999999,
          0.2699999999999999,
          0.2799999999999999,
          0.2899999999999999,
          0.29999999999999993,
          0.30999999999999994,
          0.3199999999999999,
          0.32999999999999985,
          0.33999999999999986,
          0.34999999999999987,
          0.3599999999999999,
          0.3699999999999999,
          0.3799999999999999,
          0.3899999999999999,
          0.3999999999999998,
          0.4099999999999998,
          0.4199999999999998,
          0.4299999999999998,
          0.43999999999999984,
          0.44999999999999984,
          0.45999999999999985,
          0.46999999999999986,
          0.47999999999999976,
          0.48999999999999977
         ],
         "y": [
          0.55,
          0.5455,
          0.525,
          0.5231,
          0.5108,
          0.4966,
          0.4969,
          0.4793,
          0.4693,
          null,
          null,
          null,
          null,
          null,
          null,
          null,
          null,
          null,
          null,
          null,
          null,
          null,
          null,
          null,
          null,
          null,
          null,
          null,
          null,
          null,
          null,
          null,
          null,
          null,
          null,
          null,
          null,
          null,
          null,
          null
         ]
        },
        {
         "mode": "lines+markers",
         "name": "zero",
         "type": "scatter",
         "x": [
          0.1,
          0.11,
          0.12,
          0.13,
          0.13999999999999999,
          0.14999999999999997,
          0.15999999999999998,
          0.16999999999999998,
          0.17999999999999997,
          0.18999999999999995,
          0.19999999999999996,
          0.20999999999999996,
          0.21999999999999995,
          0.22999999999999995,
          0.23999999999999994,
          0.24999999999999992,
          0.2599999999999999,
          0.2699999999999999,
          0.2799999999999999,
          0.2899999999999999,
          0.29999999999999993,
          0.30999999999999994,
          0.3199999999999999,
          0.32999999999999985,
          0.33999999999999986,
          0.34999999999999987,
          0.3599999999999999,
          0.3699999999999999,
          0.3799999999999999,
          0.3899999999999999,
          0.3999999999999998,
          0.4099999999999998,
          0.4199999999999998,
          0.4299999999999998,
          0.43999999999999984,
          0.44999999999999984,
          0.45999999999999985,
          0.46999999999999986,
          0.47999999999999976,
          0.48999999999999977
         ],
         "y": [
          0.53,
          0.5364,
          0.525,
          0.5231,
          0.5324,
          0.5302,
          0.5472,
          0.5266,
          0.5251,
          null,
          null,
          null,
          null,
          null,
          null,
          null,
          null,
          null,
          null,
          null,
          null,
          null,
          null,
          null,
          null,
          null,
          null,
          null,
          null,
          null,
          null,
          null,
          null,
          null,
          null,
          null,
          null,
          null,
          null,
          null
         ]
        },
        {
         "mode": "lines+markers",
         "name": "slinear",
         "type": "scatter",
         "x": [
          0.1,
          0.11,
          0.12,
          0.13,
          0.13999999999999999,
          0.14999999999999997,
          0.15999999999999998,
          0.16999999999999998,
          0.17999999999999997,
          0.18999999999999995,
          0.19999999999999996,
          0.20999999999999996,
          0.21999999999999995,
          0.22999999999999995,
          0.23999999999999994,
          0.24999999999999992,
          0.2599999999999999,
          0.2699999999999999,
          0.2799999999999999,
          0.2899999999999999,
          0.29999999999999993,
          0.30999999999999994,
          0.3199999999999999,
          0.32999999999999985,
          0.33999999999999986,
          0.34999999999999987,
          0.3599999999999999,
          0.3699999999999999,
          0.3799999999999999,
          0.3899999999999999,
          0.3999999999999998,
          0.4099999999999998,
          0.4199999999999998,
          0.4299999999999998,
          0.43999999999999984,
          0.44999999999999984,
          0.45999999999999985,
          0.46999999999999986,
          0.47999999999999976,
          0.48999999999999977
         ],
         "y": [
          0.395,
          0.4,
          0.3847,
          0.3744,
          0.3825,
          0.3758,
          0.3784,
          0.3659,
          0.3678,
          null,
          null,
          null,
          null,
          null,
          null,
          null,
          null,
          null,
          null,
          null,
          null,
          null,
          null,
          null,
          null,
          null,
          null,
          null,
          null,
          null,
          null,
          null,
          null,
          null,
          null,
          null,
          null,
          null,
          null,
          null
         ]
        },
        {
         "mode": "lines+markers",
         "name": "quadratic",
         "type": "scatter",
         "x": [
          0.1,
          0.11,
          0.12,
          0.13,
          0.13999999999999999,
          0.14999999999999997,
          0.15999999999999998,
          0.16999999999999998,
          0.17999999999999997,
          0.18999999999999995,
          0.19999999999999996,
          0.20999999999999996,
          0.21999999999999995,
          0.22999999999999995,
          0.23999999999999994,
          0.24999999999999992,
          0.2599999999999999,
          0.2699999999999999,
          0.2799999999999999,
          0.2899999999999999,
          0.29999999999999993,
          0.30999999999999994,
          0.3199999999999999,
          0.32999999999999985,
          0.33999999999999986,
          0.34999999999999987,
          0.3599999999999999,
          0.3699999999999999,
          0.3799999999999999,
          0.3899999999999999,
          0.3999999999999998,
          0.4099999999999998,
          0.4199999999999998,
          0.4299999999999998,
          0.43999999999999984,
          0.44999999999999984,
          0.45999999999999985,
          0.46999999999999986,
          0.47999999999999976,
          0.48999999999999977
         ],
         "y": [
          0.4227,
          0.4219,
          0.4031,
          0.398,
          0.4047,
          0.3999,
          0.4136,
          0.4047,
          0.4051,
          null,
          null,
          null,
          null,
          null,
          null,
          null,
          null,
          null,
          null,
          null,
          null,
          null,
          null,
          null,
          null,
          null,
          null,
          null,
          null,
          null,
          null,
          null,
          null,
          null,
          null,
          null,
          null,
          null,
          null,
          null
         ]
        },
        {
         "mode": "lines+markers",
         "name": "cubic",
         "type": "scatter",
         "x": [
          0.1,
          0.11,
          0.12,
          0.13,
          0.13999999999999999,
          0.14999999999999997,
          0.15999999999999998,
          0.16999999999999998,
          0.17999999999999997,
          0.18999999999999995,
          0.19999999999999996,
          0.20999999999999996,
          0.21999999999999995,
          0.22999999999999995,
          0.23999999999999994,
          0.24999999999999992,
          0.2599999999999999,
          0.2699999999999999,
          0.2799999999999999,
          0.2899999999999999,
          0.29999999999999993,
          0.30999999999999994,
          0.3199999999999999,
          0.32999999999999985,
          0.33999999999999986,
          0.34999999999999987,
          0.3599999999999999,
          0.3699999999999999,
          0.3799999999999999,
          0.3899999999999999,
          0.3999999999999998,
          0.4099999999999998,
          0.4199999999999998,
          0.4299999999999998,
          0.43999999999999984,
          0.44999999999999984,
          0.45999999999999985,
          0.46999999999999986,
          0.47999999999999976,
          0.48999999999999977
         ],
         "y": [
          0.4418,
          0.4383,
          0.4188,
          0.4126,
          0.4139,
          0.4115,
          0.4254,
          0.417,
          0.4187,
          null,
          null,
          null,
          null,
          null,
          null,
          null,
          null,
          null,
          null,
          null,
          null,
          null,
          null,
          null,
          null,
          null,
          null,
          null,
          null,
          null,
          null,
          null,
          null,
          null,
          null,
          null,
          null,
          null,
          null,
          null
         ]
        },
        {
         "mode": "lines+markers",
         "name": "polynomial_order_1",
         "type": "scatter",
         "x": [
          0.1,
          0.11,
          0.12,
          0.13,
          0.13999999999999999,
          0.14999999999999997,
          0.15999999999999998,
          0.16999999999999998,
          0.17999999999999997,
          0.18999999999999995,
          0.19999999999999996,
          0.20999999999999996,
          0.21999999999999995,
          0.22999999999999995,
          0.23999999999999994,
          0.24999999999999992,
          0.2599999999999999,
          0.2699999999999999,
          0.2799999999999999,
          0.2899999999999999,
          0.29999999999999993,
          0.30999999999999994,
          0.3199999999999999,
          0.32999999999999985,
          0.33999999999999986,
          0.34999999999999987,
          0.3599999999999999,
          0.3699999999999999,
          0.3799999999999999,
          0.3899999999999999,
          0.3999999999999998,
          0.4099999999999998,
          0.4199999999999998,
          0.4299999999999998,
          0.43999999999999984,
          0.44999999999999984,
          0.45999999999999985,
          0.46999999999999986,
          0.47999999999999976,
          0.48999999999999977
         ],
         "y": [
          0.395,
          0.4,
          0.3847,
          0.3744,
          0.3825,
          0.3758,
          0.3784,
          0.3659,
          0.3678,
          null,
          null,
          null,
          null,
          null,
          null,
          null,
          null,
          null,
          null,
          null,
          null,
          null,
          null,
          null,
          null,
          null,
          null,
          null,
          null,
          null,
          null,
          null,
          null,
          null,
          null,
          null,
          null,
          null,
          null,
          null
         ]
        },
        {
         "mode": "lines+markers",
         "name": "polynomial_order_2",
         "type": "scatter",
         "x": [
          0.1,
          0.11,
          0.12,
          0.13,
          0.13999999999999999,
          0.14999999999999997,
          0.15999999999999998,
          0.16999999999999998,
          0.17999999999999997,
          0.18999999999999995,
          0.19999999999999996,
          0.20999999999999996,
          0.21999999999999995,
          0.22999999999999995,
          0.23999999999999994,
          0.24999999999999992,
          0.2599999999999999,
          0.2699999999999999,
          0.2799999999999999,
          0.2899999999999999,
          0.29999999999999993,
          0.30999999999999994,
          0.3199999999999999,
          0.32999999999999985,
          0.33999999999999986,
          0.34999999999999987,
          0.3599999999999999,
          0.3699999999999999,
          0.3799999999999999,
          0.3899999999999999,
          0.3999999999999998,
          0.4099999999999998,
          0.4199999999999998,
          0.4299999999999998,
          0.43999999999999984,
          0.44999999999999984,
          0.45999999999999985,
          0.46999999999999986,
          0.47999999999999976,
          0.48999999999999977
         ],
         "y": [
          0.4227,
          0.4219,
          0.4031,
          0.398,
          0.4047,
          0.3999,
          0.4136,
          0.4047,
          0.4051,
          null,
          null,
          null,
          null,
          null,
          null,
          null,
          null,
          null,
          null,
          null,
          null,
          null,
          null,
          null,
          null,
          null,
          null,
          null,
          null,
          null,
          null,
          null,
          null,
          null,
          null,
          null,
          null,
          null,
          null,
          null
         ]
        },
        {
         "mode": "lines+markers",
         "name": "polynomial_order_3",
         "type": "scatter",
         "x": [
          0.1,
          0.11,
          0.12,
          0.13,
          0.13999999999999999,
          0.14999999999999997,
          0.15999999999999998,
          0.16999999999999998,
          0.17999999999999997,
          0.18999999999999995,
          0.19999999999999996,
          0.20999999999999996,
          0.21999999999999995,
          0.22999999999999995,
          0.23999999999999994,
          0.24999999999999992,
          0.2599999999999999,
          0.2699999999999999,
          0.2799999999999999,
          0.2899999999999999,
          0.29999999999999993,
          0.30999999999999994,
          0.3199999999999999,
          0.32999999999999985,
          0.33999999999999986,
          0.34999999999999987,
          0.3599999999999999,
          0.3699999999999999,
          0.3799999999999999,
          0.3899999999999999,
          0.3999999999999998,
          0.4099999999999998,
          0.4199999999999998,
          0.4299999999999998,
          0.43999999999999984,
          0.44999999999999984,
          0.45999999999999985,
          0.46999999999999986,
          0.47999999999999976,
          0.48999999999999977
         ],
         "y": [
          0.4418,
          0.4383,
          0.4188,
          0.4126,
          0.4139,
          0.4115,
          0.4254,
          0.417,
          0.4187,
          null,
          null,
          null,
          null,
          null,
          null,
          null,
          null,
          null,
          null,
          null,
          null,
          null,
          null,
          null,
          null,
          null,
          null,
          null,
          null,
          null,
          null,
          null,
          null,
          null,
          null,
          null,
          null,
          null,
          null,
          null
         ]
        },
        {
         "mode": "lines+markers",
         "name": "polynomial_order_5",
         "type": "scatter",
         "x": [
          0.1,
          0.11,
          0.12,
          0.13,
          0.13999999999999999,
          0.14999999999999997,
          0.15999999999999998,
          0.16999999999999998,
          0.17999999999999997,
          0.18999999999999995,
          0.19999999999999996,
          0.20999999999999996,
          0.21999999999999995,
          0.22999999999999995,
          0.23999999999999994,
          0.24999999999999992,
          0.2599999999999999,
          0.2699999999999999,
          0.2799999999999999,
          0.2899999999999999,
          0.29999999999999993,
          0.30999999999999994,
          0.3199999999999999,
          0.32999999999999985,
          0.33999999999999986,
          0.34999999999999987,
          0.3599999999999999,
          0.3699999999999999,
          0.3799999999999999,
          0.3899999999999999,
          0.3999999999999998,
          0.4099999999999998,
          0.4199999999999998,
          0.4299999999999998,
          0.43999999999999984,
          0.44999999999999984,
          0.45999999999999985,
          0.46999999999999986,
          0.47999999999999976,
          0.48999999999999977
         ],
         "y": [
          0.5345,
          0.5412,
          0.5128,
          0.4943,
          0.4854,
          0.4961,
          0.5135,
          0.5029,
          0.5023,
          null,
          null,
          null,
          null,
          null,
          null,
          null,
          null,
          null,
          null,
          null,
          null,
          null,
          null,
          null,
          null,
          null,
          null,
          null,
          null,
          null,
          null,
          null,
          null,
          null,
          null,
          null,
          null,
          null,
          null,
          null
         ]
        },
        {
         "mode": "lines+markers",
         "name": "polynomial_order_7",
         "type": "scatter",
         "x": [
          0.1,
          0.11,
          0.12,
          0.13,
          0.13999999999999999,
          0.14999999999999997,
          0.15999999999999998,
          0.16999999999999998,
          0.17999999999999997,
          0.18999999999999995,
          0.19999999999999996,
          0.20999999999999996,
          0.21999999999999995,
          0.22999999999999995,
          0.23999999999999994,
          0.24999999999999992,
          0.2599999999999999,
          0.2699999999999999,
          0.2799999999999999,
          0.2899999999999999,
          0.29999999999999993,
          0.30999999999999994,
          0.3199999999999999,
          0.32999999999999985,
          0.33999999999999986,
          0.34999999999999987,
          0.3599999999999999,
          0.3699999999999999,
          0.3799999999999999,
          0.3899999999999999,
          0.3999999999999998,
          0.4099999999999998,
          0.4199999999999998,
          0.4299999999999998,
          0.43999999999999984,
          0.44999999999999984,
          0.45999999999999985,
          0.46999999999999986,
          0.47999999999999976,
          0.48999999999999977
         ],
         "y": [
          0.6265,
          0.6446,
          0.596,
          0.5662,
          0.5569,
          0.5858,
          0.6036,
          0.5949,
          0.5918,
          null,
          null,
          null,
          null,
          null,
          null,
          null,
          null,
          null,
          null,
          null,
          null,
          null,
          null,
          null,
          null,
          null,
          null,
          null,
          null,
          null,
          null,
          null,
          null,
          null,
          null,
          null,
          null,
          null,
          null,
          null
         ]
        },
        {
         "mode": "lines+markers",
         "name": "polynomial_order_9",
         "type": "scatter",
         "x": [
          0.1,
          0.11,
          0.12,
          0.13,
          0.13999999999999999,
          0.14999999999999997,
          0.15999999999999998,
          0.16999999999999998,
          0.17999999999999997,
          0.18999999999999995,
          0.19999999999999996,
          0.20999999999999996,
          0.21999999999999995,
          0.22999999999999995,
          0.23999999999999994,
          0.24999999999999992,
          0.2599999999999999,
          0.2699999999999999,
          0.2799999999999999,
          0.2899999999999999,
          0.29999999999999993,
          0.30999999999999994,
          0.3199999999999999,
          0.32999999999999985,
          0.33999999999999986,
          0.34999999999999987,
          0.3599999999999999,
          0.3699999999999999,
          0.3799999999999999,
          0.3899999999999999,
          0.3999999999999998,
          0.4099999999999998,
          0.4199999999999998,
          0.4299999999999998,
          0.43999999999999984,
          0.44999999999999984,
          0.45999999999999985,
          0.46999999999999986,
          0.47999999999999976,
          0.48999999999999977
         ],
         "y": [
          0.7348,
          0.7709,
          0.6932,
          0.6522,
          0.7427,
          0.7853,
          0.7963,
          0.7723,
          0.765,
          null,
          null,
          null,
          null,
          null,
          null,
          null,
          null,
          null,
          null,
          null,
          null,
          null,
          null,
          null,
          null,
          null,
          null,
          null,
          null,
          null,
          null,
          null,
          null,
          null,
          null,
          null,
          null,
          null,
          null,
          null
         ]
        },
        {
         "mode": "lines+markers",
         "name": "piecewise_polynomial",
         "type": "scatter",
         "x": [
          0.1,
          0.11,
          0.12,
          0.13,
          0.13999999999999999,
          0.14999999999999997,
          0.15999999999999998,
          0.16999999999999998,
          0.17999999999999997,
          0.18999999999999995,
          0.19999999999999996,
          0.20999999999999996,
          0.21999999999999995,
          0.22999999999999995,
          0.23999999999999994,
          0.24999999999999992,
          0.2599999999999999,
          0.2699999999999999,
          0.2799999999999999,
          0.2899999999999999,
          0.29999999999999993,
          0.30999999999999994,
          0.3199999999999999,
          0.32999999999999985,
          0.33999999999999986,
          0.34999999999999987,
          0.3599999999999999,
          0.3699999999999999,
          0.3799999999999999,
          0.3899999999999999,
          0.3999999999999998,
          0.4099999999999998,
          0.4199999999999998,
          0.4299999999999998,
          0.43999999999999984,
          0.44999999999999984,
          0.45999999999999985,
          0.46999999999999986,
          0.47999999999999976,
          0.48999999999999977
         ],
         "y": [
          0.395,
          0.4,
          0.3847,
          0.3744,
          0.3825,
          0.3758,
          0.3784,
          0.3659,
          0.3678,
          null,
          null,
          null,
          null,
          null,
          null,
          null,
          null,
          null,
          null,
          null,
          null,
          null,
          null,
          null,
          null,
          null,
          null,
          null,
          null,
          null,
          null,
          null,
          null,
          null,
          null,
          null,
          null,
          null,
          null,
          null
         ]
        },
        {
         "mode": "lines+markers",
         "name": "spline_order_1",
         "type": "scatter",
         "x": [
          0.1,
          0.11,
          0.12,
          0.13,
          0.13999999999999999,
          0.14999999999999997,
          0.15999999999999998,
          0.16999999999999998,
          0.17999999999999997,
          0.18999999999999995,
          0.19999999999999996,
          0.20999999999999996,
          0.21999999999999995,
          0.22999999999999995,
          0.23999999999999994,
          0.24999999999999992,
          0.2599999999999999,
          0.2699999999999999,
          0.2799999999999999,
          0.2899999999999999,
          0.29999999999999993,
          0.30999999999999994,
          0.3199999999999999,
          0.32999999999999985,
          0.33999999999999986,
          0.34999999999999987,
          0.3599999999999999,
          0.3699999999999999,
          0.3799999999999999,
          0.3899999999999999,
          0.3999999999999998,
          0.4099999999999998,
          0.4199999999999998,
          0.4299999999999998,
          0.43999999999999984,
          0.44999999999999984,
          0.45999999999999985,
          0.46999999999999986,
          0.47999999999999976,
          0.48999999999999977
         ],
         "y": [
          0.9337,
          0.9171,
          0.9333,
          0.8904,
          0.9209,
          0.9118,
          0.9425,
          0.8906,
          0.8945,
          0.9736,
          0.9479,
          0.962,
          0.9214,
          0.9124,
          0.8831,
          0.9151,
          0.9217,
          0.9062,
          0.8939,
          0.8585,
          0.864,
          0.8873,
          0.9038,
          0.8938,
          0.8922,
          0.924,
          0.9068,
          0.8844,
          0.9406,
          0.9182,
          0.938,
          0.9458,
          0.9095,
          0.9285,
          0.8761,
          0.89,
          0.8981,
          0.9068,
          0.9084,
          0.8992
         ]
        },
        {
         "mode": "lines+markers",
         "name": "spline_order_2",
         "type": "scatter",
         "x": [
          0.1,
          0.11,
          0.12,
          0.13,
          0.13999999999999999,
          0.14999999999999997,
          0.15999999999999998,
          0.16999999999999998,
          0.17999999999999997,
          0.18999999999999995,
          0.19999999999999996,
          0.20999999999999996,
          0.21999999999999995,
          0.22999999999999995,
          0.23999999999999994,
          0.24999999999999992,
          0.2599999999999999,
          0.2699999999999999,
          0.2799999999999999,
          0.2899999999999999,
          0.29999999999999993,
          0.30999999999999994,
          0.3199999999999999,
          0.32999999999999985,
          0.33999999999999986,
          0.34999999999999987,
          0.3599999999999999,
          0.3699999999999999,
          0.3799999999999999,
          0.3899999999999999,
          0.3999999999999998,
          0.4099999999999998,
          0.4199999999999998,
          0.4299999999999998,
          0.43999999999999984,
          0.44999999999999984,
          0.45999999999999985,
          0.46999999999999986,
          0.47999999999999976,
          0.48999999999999977
         ],
         "y": [
          0.9456,
          0.9367,
          0.9376,
          0.905,
          0.9665,
          0.9448,
          0.9788,
          0.9993,
          0.9634,
          1.0081,
          0.9582,
          0.9295,
          0.95,
          0.9588,
          0.9409,
          0.939,
          0.9521,
          0.9298,
          0.9402,
          0.9518,
          0.94,
          0.9321,
          0.9275,
          0.938,
          0.9326,
          0.9336,
          0.9035,
          0.9033,
          0.8955,
          0.8843,
          0.8984,
          0.8866,
          0.8973,
          0.9295,
          0.9401,
          0.923,
          0.9303,
          0.9061,
          0.9255,
          0.8755
         ]
        },
        {
         "mode": "lines+markers",
         "name": "spline_order_3",
         "type": "scatter",
         "x": [
          0.1,
          0.11,
          0.12,
          0.13,
          0.13999999999999999,
          0.14999999999999997,
          0.15999999999999998,
          0.16999999999999998,
          0.17999999999999997,
          0.18999999999999995,
          0.19999999999999996,
          0.20999999999999996,
          0.21999999999999995,
          0.22999999999999995,
          0.23999999999999994,
          0.24999999999999992,
          0.2599999999999999,
          0.2699999999999999,
          0.2799999999999999,
          0.2899999999999999,
          0.29999999999999993,
          0.30999999999999994,
          0.3199999999999999,
          0.32999999999999985,
          0.33999999999999986,
          0.34999999999999987,
          0.3599999999999999,
          0.3699999999999999,
          0.3799999999999999,
          0.3899999999999999,
          0.3999999999999998,
          0.4099999999999998,
          0.4199999999999998,
          0.4299999999999998,
          0.43999999999999984,
          0.44999999999999984,
          0.45999999999999985,
          0.46999999999999986,
          0.47999999999999976,
          0.48999999999999977
         ],
         "y": [
          0.8373,
          0.9506,
          0.9019,
          0.9353,
          0.9367,
          0.9598,
          0.9714,
          0.9489,
          0.9465,
          0.9427,
          0.9369,
          0.9315,
          0.9244,
          0.9087,
          0.8917,
          0.9099,
          0.8878,
          0.8871,
          0.874,
          0.881,
          0.8681,
          0.8899,
          0.9009,
          0.8982,
          0.908,
          0.8854,
          0.9147,
          0.8763,
          0.874,
          0.8643,
          0.9039,
          0.8734,
          0.8915,
          0.8974,
          0.8545,
          0.8741,
          0.8763,
          0.8946,
          0.8942,
          0.9048
         ]
        },
        {
         "mode": "lines+markers",
         "name": "spline_order_4",
         "type": "scatter",
         "x": [
          0.1,
          0.11,
          0.12,
          0.13,
          0.13999999999999999,
          0.14999999999999997,
          0.15999999999999998,
          0.16999999999999998,
          0.17999999999999997,
          0.18999999999999995,
          0.19999999999999996,
          0.20999999999999996,
          0.21999999999999995,
          0.22999999999999995,
          0.23999999999999994,
          0.24999999999999992,
          0.2599999999999999,
          0.2699999999999999,
          0.2799999999999999,
          0.2899999999999999,
          0.29999999999999993,
          0.30999999999999994,
          0.3199999999999999,
          0.32999999999999985,
          0.33999999999999986,
          0.34999999999999987,
          0.3599999999999999,
          0.3699999999999999,
          0.3799999999999999,
          0.3899999999999999,
          0.3999999999999998,
          0.4099999999999998,
          0.4199999999999998,
          0.4299999999999998,
          0.43999999999999984,
          0.44999999999999984,
          0.45999999999999985,
          0.46999999999999986,
          0.47999999999999976,
          0.48999999999999977
         ],
         "y": [
          0.8882,
          0.9257,
          0.9106,
          0.8994,
          0.922,
          0.9582,
          0.9458,
          0.9895,
          0.9631,
          0.9731,
          0.9492,
          0.9551,
          0.9548,
          0.9515,
          0.9342,
          0.8941,
          0.9017,
          0.8886,
          0.9017,
          0.9127,
          0.9044,
          0.9138,
          0.8901,
          0.905,
          0.9063,
          0.8914,
          0.8796,
          0.8766,
          0.8774,
          0.8641,
          0.8874,
          0.8802,
          0.9153,
          0.9005,
          0.919,
          0.901,
          0.9041,
          0.9196,
          0.9137,
          0.9286
         ]
        },
        {
         "mode": "lines+markers",
         "name": "spline_order_5",
         "type": "scatter",
         "x": [
          0.1,
          0.11,
          0.12,
          0.13,
          0.13999999999999999,
          0.14999999999999997,
          0.15999999999999998,
          0.16999999999999998,
          0.17999999999999997,
          0.18999999999999995,
          0.19999999999999996,
          0.20999999999999996,
          0.21999999999999995,
          0.22999999999999995,
          0.23999999999999994,
          0.24999999999999992,
          0.2599999999999999,
          0.2699999999999999,
          0.2799999999999999,
          0.2899999999999999,
          0.29999999999999993,
          0.30999999999999994,
          0.3199999999999999,
          0.32999999999999985,
          0.33999999999999986,
          0.34999999999999987,
          0.3599999999999999,
          0.3699999999999999,
          0.3799999999999999,
          0.3899999999999999,
          0.3999999999999998,
          0.4099999999999998,
          0.4199999999999998,
          0.4299999999999998,
          0.43999999999999984,
          0.44999999999999984,
          0.45999999999999985,
          0.46999999999999986,
          0.47999999999999976,
          0.48999999999999977
         ],
         "y": [
          0.882,
          0.8971,
          0.9105,
          0.9131,
          0.957,
          0.9713,
          0.9487,
          0.9611,
          0.958,
          0.9685,
          0.9561,
          0.9287,
          0.9351,
          0.899,
          0.8916,
          0.8982,
          0.8942,
          0.9012,
          0.9018,
          0.8976,
          0.9119,
          0.8942,
          0.8884,
          0.9042,
          0.8858,
          0.9066,
          0.8999,
          0.8768,
          0.8704,
          0.8864,
          0.9158,
          0.8708,
          0.9121,
          0.8959,
          0.891,
          0.8784,
          0.8624,
          0.8877,
          0.8824,
          0.8809
         ]
        },
        {
         "mode": "lines+markers",
         "name": "akima",
         "type": "scatter",
         "x": [
          0.1,
          0.11,
          0.12,
          0.13,
          0.13999999999999999,
          0.14999999999999997,
          0.15999999999999998,
          0.16999999999999998,
          0.17999999999999997,
          0.18999999999999995,
          0.19999999999999996,
          0.20999999999999996,
          0.21999999999999995,
          0.22999999999999995,
          0.23999999999999994,
          0.24999999999999992,
          0.2599999999999999,
          0.2699999999999999,
          0.2799999999999999,
          0.2899999999999999,
          0.29999999999999993,
          0.30999999999999994,
          0.3199999999999999,
          0.32999999999999985,
          0.33999999999999986,
          0.34999999999999987,
          0.3599999999999999,
          0.3699999999999999,
          0.3799999999999999,
          0.3899999999999999,
          0.3999999999999998,
          0.4099999999999998,
          0.4199999999999998,
          0.4299999999999998,
          0.43999999999999984,
          0.44999999999999984,
          0.45999999999999985,
          0.46999999999999986,
          0.47999999999999976,
          0.48999999999999977
         ],
         "y": [
          0.3865,
          0.3748,
          0.3589,
          0.3568,
          0.3667,
          0.3608,
          0.3679,
          0.3596,
          0.3611,
          null,
          null,
          null,
          null,
          null,
          null,
          null,
          null,
          null,
          null,
          null,
          null,
          null,
          null,
          null,
          null,
          null,
          null,
          null,
          null,
          null,
          null,
          null,
          null,
          null,
          null,
          null,
          null,
          null,
          null,
          null
         ]
        },
        {
         "mode": "lines+markers",
         "name": "cubicspline",
         "type": "scatter",
         "x": [
          0.1,
          0.11,
          0.12,
          0.13,
          0.13999999999999999,
          0.14999999999999997,
          0.15999999999999998,
          0.16999999999999998,
          0.17999999999999997,
          0.18999999999999995,
          0.19999999999999996,
          0.20999999999999996,
          0.21999999999999995,
          0.22999999999999995,
          0.23999999999999994,
          0.24999999999999992,
          0.2599999999999999,
          0.2699999999999999,
          0.2799999999999999,
          0.2899999999999999,
          0.29999999999999993,
          0.30999999999999994,
          0.3199999999999999,
          0.32999999999999985,
          0.33999999999999986,
          0.34999999999999987,
          0.3599999999999999,
          0.3699999999999999,
          0.3799999999999999,
          0.3899999999999999,
          0.3999999999999998,
          0.4099999999999998,
          0.4199999999999998,
          0.4299999999999998,
          0.43999999999999984,
          0.44999999999999984,
          0.45999999999999985,
          0.46999999999999986,
          0.47999999999999976,
          0.48999999999999977
         ],
         "y": [
          0.4418,
          0.4383,
          0.4188,
          0.4126,
          0.4139,
          0.4115,
          0.4254,
          0.417,
          0.4187,
          0.4238,
          0.4189,
          0.419,
          0.4205,
          0.4214,
          0.4253,
          0.4283,
          0.4326,
          0.4309,
          0.4322,
          0.4649,
          0.4645,
          0.4701,
          0.4742,
          0.481,
          0.4712,
          0.4718,
          0.4731,
          0.4687,
          0.47,
          0.4751,
          0.4793,
          0.4869,
          0.4844,
          0.4795,
          0.5198,
          0.5125,
          0.5052,
          0.5207,
          0.5223,
          0.5244
         ]
        },
        {
         "mode": "lines+markers",
         "name": "from_derivatives",
         "type": "scatter",
         "x": [
          0.1,
          0.11,
          0.12,
          0.13,
          0.13999999999999999,
          0.14999999999999997,
          0.15999999999999998,
          0.16999999999999998,
          0.17999999999999997,
          0.18999999999999995,
          0.19999999999999996,
          0.20999999999999996,
          0.21999999999999995,
          0.22999999999999995,
          0.23999999999999994,
          0.24999999999999992,
          0.2599999999999999,
          0.2699999999999999,
          0.2799999999999999,
          0.2899999999999999,
          0.29999999999999993,
          0.30999999999999994,
          0.3199999999999999,
          0.32999999999999985,
          0.33999999999999986,
          0.34999999999999987,
          0.3599999999999999,
          0.3699999999999999,
          0.3799999999999999,
          0.3899999999999999,
          0.3999999999999998,
          0.4099999999999998,
          0.4199999999999998,
          0.4299999999999998,
          0.43999999999999984,
          0.44999999999999984,
          0.45999999999999985,
          0.46999999999999986,
          0.47999999999999976,
          0.48999999999999977
         ],
         "y": [
          0.395,
          0.4,
          0.3847,
          0.3744,
          0.3825,
          0.3758,
          0.3784,
          0.3659,
          0.3678,
          null,
          null,
          null,
          null,
          null,
          null,
          null,
          null,
          null,
          null,
          null,
          null,
          null,
          null,
          null,
          null,
          null,
          null,
          null,
          null,
          null,
          null,
          null,
          null,
          null,
          null,
          null,
          null,
          null,
          null,
          null
         ]
        }
       ],
       "layout": {
        "legend": {
         "title": {
          "text": "Method"
         }
        },
        "template": {
         "data": {
          "bar": [
           {
            "error_x": {
             "color": "#2a3f5f"
            },
            "error_y": {
             "color": "#2a3f5f"
            },
            "marker": {
             "line": {
              "color": "#E5ECF6",
              "width": 0.5
             },
             "pattern": {
              "fillmode": "overlay",
              "size": 10,
              "solidity": 0.2
             }
            },
            "type": "bar"
           }
          ],
          "barpolar": [
           {
            "marker": {
             "line": {
              "color": "#E5ECF6",
              "width": 0.5
             },
             "pattern": {
              "fillmode": "overlay",
              "size": 10,
              "solidity": 0.2
             }
            },
            "type": "barpolar"
           }
          ],
          "carpet": [
           {
            "aaxis": {
             "endlinecolor": "#2a3f5f",
             "gridcolor": "white",
             "linecolor": "white",
             "minorgridcolor": "white",
             "startlinecolor": "#2a3f5f"
            },
            "baxis": {
             "endlinecolor": "#2a3f5f",
             "gridcolor": "white",
             "linecolor": "white",
             "minorgridcolor": "white",
             "startlinecolor": "#2a3f5f"
            },
            "type": "carpet"
           }
          ],
          "choropleth": [
           {
            "colorbar": {
             "outlinewidth": 0,
             "ticks": ""
            },
            "type": "choropleth"
           }
          ],
          "contour": [
           {
            "colorbar": {
             "outlinewidth": 0,
             "ticks": ""
            },
            "colorscale": [
             [
              0,
              "#0d0887"
             ],
             [
              0.1111111111111111,
              "#46039f"
             ],
             [
              0.2222222222222222,
              "#7201a8"
             ],
             [
              0.3333333333333333,
              "#9c179e"
             ],
             [
              0.4444444444444444,
              "#bd3786"
             ],
             [
              0.5555555555555556,
              "#d8576b"
             ],
             [
              0.6666666666666666,
              "#ed7953"
             ],
             [
              0.7777777777777778,
              "#fb9f3a"
             ],
             [
              0.8888888888888888,
              "#fdca26"
             ],
             [
              1,
              "#f0f921"
             ]
            ],
            "type": "contour"
           }
          ],
          "contourcarpet": [
           {
            "colorbar": {
             "outlinewidth": 0,
             "ticks": ""
            },
            "type": "contourcarpet"
           }
          ],
          "heatmap": [
           {
            "colorbar": {
             "outlinewidth": 0,
             "ticks": ""
            },
            "colorscale": [
             [
              0,
              "#0d0887"
             ],
             [
              0.1111111111111111,
              "#46039f"
             ],
             [
              0.2222222222222222,
              "#7201a8"
             ],
             [
              0.3333333333333333,
              "#9c179e"
             ],
             [
              0.4444444444444444,
              "#bd3786"
             ],
             [
              0.5555555555555556,
              "#d8576b"
             ],
             [
              0.6666666666666666,
              "#ed7953"
             ],
             [
              0.7777777777777778,
              "#fb9f3a"
             ],
             [
              0.8888888888888888,
              "#fdca26"
             ],
             [
              1,
              "#f0f921"
             ]
            ],
            "type": "heatmap"
           }
          ],
          "heatmapgl": [
           {
            "colorbar": {
             "outlinewidth": 0,
             "ticks": ""
            },
            "colorscale": [
             [
              0,
              "#0d0887"
             ],
             [
              0.1111111111111111,
              "#46039f"
             ],
             [
              0.2222222222222222,
              "#7201a8"
             ],
             [
              0.3333333333333333,
              "#9c179e"
             ],
             [
              0.4444444444444444,
              "#bd3786"
             ],
             [
              0.5555555555555556,
              "#d8576b"
             ],
             [
              0.6666666666666666,
              "#ed7953"
             ],
             [
              0.7777777777777778,
              "#fb9f3a"
             ],
             [
              0.8888888888888888,
              "#fdca26"
             ],
             [
              1,
              "#f0f921"
             ]
            ],
            "type": "heatmapgl"
           }
          ],
          "histogram": [
           {
            "marker": {
             "pattern": {
              "fillmode": "overlay",
              "size": 10,
              "solidity": 0.2
             }
            },
            "type": "histogram"
           }
          ],
          "histogram2d": [
           {
            "colorbar": {
             "outlinewidth": 0,
             "ticks": ""
            },
            "colorscale": [
             [
              0,
              "#0d0887"
             ],
             [
              0.1111111111111111,
              "#46039f"
             ],
             [
              0.2222222222222222,
              "#7201a8"
             ],
             [
              0.3333333333333333,
              "#9c179e"
             ],
             [
              0.4444444444444444,
              "#bd3786"
             ],
             [
              0.5555555555555556,
              "#d8576b"
             ],
             [
              0.6666666666666666,
              "#ed7953"
             ],
             [
              0.7777777777777778,
              "#fb9f3a"
             ],
             [
              0.8888888888888888,
              "#fdca26"
             ],
             [
              1,
              "#f0f921"
             ]
            ],
            "type": "histogram2d"
           }
          ],
          "histogram2dcontour": [
           {
            "colorbar": {
             "outlinewidth": 0,
             "ticks": ""
            },
            "colorscale": [
             [
              0,
              "#0d0887"
             ],
             [
              0.1111111111111111,
              "#46039f"
             ],
             [
              0.2222222222222222,
              "#7201a8"
             ],
             [
              0.3333333333333333,
              "#9c179e"
             ],
             [
              0.4444444444444444,
              "#bd3786"
             ],
             [
              0.5555555555555556,
              "#d8576b"
             ],
             [
              0.6666666666666666,
              "#ed7953"
             ],
             [
              0.7777777777777778,
              "#fb9f3a"
             ],
             [
              0.8888888888888888,
              "#fdca26"
             ],
             [
              1,
              "#f0f921"
             ]
            ],
            "type": "histogram2dcontour"
           }
          ],
          "mesh3d": [
           {
            "colorbar": {
             "outlinewidth": 0,
             "ticks": ""
            },
            "type": "mesh3d"
           }
          ],
          "parcoords": [
           {
            "line": {
             "colorbar": {
              "outlinewidth": 0,
              "ticks": ""
             }
            },
            "type": "parcoords"
           }
          ],
          "pie": [
           {
            "automargin": true,
            "type": "pie"
           }
          ],
          "scatter": [
           {
            "fillpattern": {
             "fillmode": "overlay",
             "size": 10,
             "solidity": 0.2
            },
            "type": "scatter"
           }
          ],
          "scatter3d": [
           {
            "line": {
             "colorbar": {
              "outlinewidth": 0,
              "ticks": ""
             }
            },
            "marker": {
             "colorbar": {
              "outlinewidth": 0,
              "ticks": ""
             }
            },
            "type": "scatter3d"
           }
          ],
          "scattercarpet": [
           {
            "marker": {
             "colorbar": {
              "outlinewidth": 0,
              "ticks": ""
             }
            },
            "type": "scattercarpet"
           }
          ],
          "scattergeo": [
           {
            "marker": {
             "colorbar": {
              "outlinewidth": 0,
              "ticks": ""
             }
            },
            "type": "scattergeo"
           }
          ],
          "scattergl": [
           {
            "marker": {
             "colorbar": {
              "outlinewidth": 0,
              "ticks": ""
             }
            },
            "type": "scattergl"
           }
          ],
          "scattermapbox": [
           {
            "marker": {
             "colorbar": {
              "outlinewidth": 0,
              "ticks": ""
             }
            },
            "type": "scattermapbox"
           }
          ],
          "scatterpolar": [
           {
            "marker": {
             "colorbar": {
              "outlinewidth": 0,
              "ticks": ""
             }
            },
            "type": "scatterpolar"
           }
          ],
          "scatterpolargl": [
           {
            "marker": {
             "colorbar": {
              "outlinewidth": 0,
              "ticks": ""
             }
            },
            "type": "scatterpolargl"
           }
          ],
          "scatterternary": [
           {
            "marker": {
             "colorbar": {
              "outlinewidth": 0,
              "ticks": ""
             }
            },
            "type": "scatterternary"
           }
          ],
          "surface": [
           {
            "colorbar": {
             "outlinewidth": 0,
             "ticks": ""
            },
            "colorscale": [
             [
              0,
              "#0d0887"
             ],
             [
              0.1111111111111111,
              "#46039f"
             ],
             [
              0.2222222222222222,
              "#7201a8"
             ],
             [
              0.3333333333333333,
              "#9c179e"
             ],
             [
              0.4444444444444444,
              "#bd3786"
             ],
             [
              0.5555555555555556,
              "#d8576b"
             ],
             [
              0.6666666666666666,
              "#ed7953"
             ],
             [
              0.7777777777777778,
              "#fb9f3a"
             ],
             [
              0.8888888888888888,
              "#fdca26"
             ],
             [
              1,
              "#f0f921"
             ]
            ],
            "type": "surface"
           }
          ],
          "table": [
           {
            "cells": {
             "fill": {
              "color": "#EBF0F8"
             },
             "line": {
              "color": "white"
             }
            },
            "header": {
             "fill": {
              "color": "#C8D4E3"
             },
             "line": {
              "color": "white"
             }
            },
            "type": "table"
           }
          ]
         },
         "layout": {
          "annotationdefaults": {
           "arrowcolor": "#2a3f5f",
           "arrowhead": 0,
           "arrowwidth": 1
          },
          "autotypenumbers": "strict",
          "coloraxis": {
           "colorbar": {
            "outlinewidth": 0,
            "ticks": ""
           }
          },
          "colorscale": {
           "diverging": [
            [
             0,
             "#8e0152"
            ],
            [
             0.1,
             "#c51b7d"
            ],
            [
             0.2,
             "#de77ae"
            ],
            [
             0.3,
             "#f1b6da"
            ],
            [
             0.4,
             "#fde0ef"
            ],
            [
             0.5,
             "#f7f7f7"
            ],
            [
             0.6,
             "#e6f5d0"
            ],
            [
             0.7,
             "#b8e186"
            ],
            [
             0.8,
             "#7fbc41"
            ],
            [
             0.9,
             "#4d9221"
            ],
            [
             1,
             "#276419"
            ]
           ],
           "sequential": [
            [
             0,
             "#0d0887"
            ],
            [
             0.1111111111111111,
             "#46039f"
            ],
            [
             0.2222222222222222,
             "#7201a8"
            ],
            [
             0.3333333333333333,
             "#9c179e"
            ],
            [
             0.4444444444444444,
             "#bd3786"
            ],
            [
             0.5555555555555556,
             "#d8576b"
            ],
            [
             0.6666666666666666,
             "#ed7953"
            ],
            [
             0.7777777777777778,
             "#fb9f3a"
            ],
            [
             0.8888888888888888,
             "#fdca26"
            ],
            [
             1,
             "#f0f921"
            ]
           ],
           "sequentialminus": [
            [
             0,
             "#0d0887"
            ],
            [
             0.1111111111111111,
             "#46039f"
            ],
            [
             0.2222222222222222,
             "#7201a8"
            ],
            [
             0.3333333333333333,
             "#9c179e"
            ],
            [
             0.4444444444444444,
             "#bd3786"
            ],
            [
             0.5555555555555556,
             "#d8576b"
            ],
            [
             0.6666666666666666,
             "#ed7953"
            ],
            [
             0.7777777777777778,
             "#fb9f3a"
            ],
            [
             0.8888888888888888,
             "#fdca26"
            ],
            [
             1,
             "#f0f921"
            ]
           ]
          },
          "colorway": [
           "#636efa",
           "#EF553B",
           "#00cc96",
           "#ab63fa",
           "#FFA15A",
           "#19d3f3",
           "#FF6692",
           "#B6E880",
           "#FF97FF",
           "#FECB52"
          ],
          "font": {
           "color": "#2a3f5f"
          },
          "geo": {
           "bgcolor": "white",
           "lakecolor": "white",
           "landcolor": "#E5ECF6",
           "showlakes": true,
           "showland": true,
           "subunitcolor": "white"
          },
          "hoverlabel": {
           "align": "left"
          },
          "hovermode": "closest",
          "mapbox": {
           "style": "light"
          },
          "paper_bgcolor": "white",
          "plot_bgcolor": "#E5ECF6",
          "polar": {
           "angularaxis": {
            "gridcolor": "white",
            "linecolor": "white",
            "ticks": ""
           },
           "bgcolor": "#E5ECF6",
           "radialaxis": {
            "gridcolor": "white",
            "linecolor": "white",
            "ticks": ""
           }
          },
          "scene": {
           "xaxis": {
            "backgroundcolor": "#E5ECF6",
            "gridcolor": "white",
            "gridwidth": 2,
            "linecolor": "white",
            "showbackground": true,
            "ticks": "",
            "zerolinecolor": "white"
           },
           "yaxis": {
            "backgroundcolor": "#E5ECF6",
            "gridcolor": "white",
            "gridwidth": 2,
            "linecolor": "white",
            "showbackground": true,
            "ticks": "",
            "zerolinecolor": "white"
           },
           "zaxis": {
            "backgroundcolor": "#E5ECF6",
            "gridcolor": "white",
            "gridwidth": 2,
            "linecolor": "white",
            "showbackground": true,
            "ticks": "",
            "zerolinecolor": "white"
           }
          },
          "shapedefaults": {
           "line": {
            "color": "#2a3f5f"
           }
          },
          "ternary": {
           "aaxis": {
            "gridcolor": "white",
            "linecolor": "white",
            "ticks": ""
           },
           "baxis": {
            "gridcolor": "white",
            "linecolor": "white",
            "ticks": ""
           },
           "bgcolor": "#E5ECF6",
           "caxis": {
            "gridcolor": "white",
            "linecolor": "white",
            "ticks": ""
           }
          },
          "title": {
           "x": 0.05
          },
          "xaxis": {
           "automargin": true,
           "gridcolor": "white",
           "linecolor": "white",
           "ticks": "",
           "title": {
            "standoff": 15
           },
           "zerolinecolor": "white",
           "zerolinewidth": 2
          },
          "yaxis": {
           "automargin": true,
           "gridcolor": "white",
           "linecolor": "white",
           "ticks": "",
           "title": {
            "standoff": 15
           },
           "zerolinecolor": "white",
           "zerolinewidth": 2
          }
         }
        },
        "title": {
         "text": "Performance Development for Feature PRES"
        },
        "xaxis": {
         "title": {
          "text": "Missing Rate"
         }
        },
        "yaxis": {
         "title": {
          "text": "Difference between original and interpolated data"
         }
        }
       }
      }
     },
     "metadata": {},
     "output_type": "display_data"
    },
    {
     "data": {
      "application/vnd.plotly.v1+json": {
       "config": {
        "plotlyServerURL": "https://plot.ly"
       },
       "data": [
        {
         "mode": "lines+markers",
         "name": "linear",
         "type": "scatter",
         "x": [
          0.1,
          0.11,
          0.12,
          0.13,
          0.13999999999999999,
          0.14999999999999997,
          0.15999999999999998,
          0.16999999999999998,
          0.17999999999999997,
          0.18999999999999995,
          0.19999999999999996,
          0.20999999999999996,
          0.21999999999999995,
          0.22999999999999995,
          0.23999999999999994,
          0.24999999999999992,
          0.2599999999999999,
          0.2699999999999999,
          0.2799999999999999,
          0.2899999999999999,
          0.29999999999999993,
          0.30999999999999994,
          0.3199999999999999,
          0.32999999999999985,
          0.33999999999999986,
          0.34999999999999987,
          0.3599999999999999,
          0.3699999999999999,
          0.3799999999999999,
          0.3899999999999999,
          0.3999999999999998,
          0.4099999999999998,
          0.4199999999999998,
          0.4299999999999998,
          0.43999999999999984,
          0.44999999999999984,
          0.45999999999999985,
          0.46999999999999986,
          0.47999999999999976,
          0.48999999999999977
         ],
         "y": [
          null,
          null,
          null,
          null,
          null,
          null,
          null,
          null,
          null,
          null,
          null,
          null,
          null,
          null,
          null,
          null,
          null,
          null,
          null,
          null,
          null,
          null,
          null,
          null,
          null,
          null,
          null,
          null,
          null,
          null,
          null,
          null,
          null,
          null,
          null,
          null,
          null,
          null,
          null,
          null
         ]
        },
        {
         "mode": "lines+markers",
         "name": "nearest",
         "type": "scatter",
         "x": [
          0.1,
          0.11,
          0.12,
          0.13,
          0.13999999999999999,
          0.14999999999999997,
          0.15999999999999998,
          0.16999999999999998,
          0.17999999999999997,
          0.18999999999999995,
          0.19999999999999996,
          0.20999999999999996,
          0.21999999999999995,
          0.22999999999999995,
          0.23999999999999994,
          0.24999999999999992,
          0.2599999999999999,
          0.2699999999999999,
          0.2799999999999999,
          0.2899999999999999,
          0.29999999999999993,
          0.30999999999999994,
          0.3199999999999999,
          0.32999999999999985,
          0.33999999999999986,
          0.34999999999999987,
          0.3599999999999999,
          0.3699999999999999,
          0.3799999999999999,
          0.3899999999999999,
          0.3999999999999998,
          0.4099999999999998,
          0.4199999999999998,
          0.4299999999999998,
          0.43999999999999984,
          0.44999999999999984,
          0.45999999999999985,
          0.46999999999999986,
          0.47999999999999976,
          0.48999999999999977
         ],
         "y": [
          null,
          null,
          null,
          null,
          null,
          null,
          null,
          null,
          null,
          null,
          null,
          null,
          null,
          null,
          null,
          null,
          null,
          null,
          null,
          null,
          null,
          null,
          null,
          null,
          null,
          null,
          null,
          null,
          null,
          null,
          null,
          null,
          null,
          null,
          null,
          null,
          null,
          null,
          null,
          null
         ]
        },
        {
         "mode": "lines+markers",
         "name": "zero",
         "type": "scatter",
         "x": [
          0.1,
          0.11,
          0.12,
          0.13,
          0.13999999999999999,
          0.14999999999999997,
          0.15999999999999998,
          0.16999999999999998,
          0.17999999999999997,
          0.18999999999999995,
          0.19999999999999996,
          0.20999999999999996,
          0.21999999999999995,
          0.22999999999999995,
          0.23999999999999994,
          0.24999999999999992,
          0.2599999999999999,
          0.2699999999999999,
          0.2799999999999999,
          0.2899999999999999,
          0.29999999999999993,
          0.30999999999999994,
          0.3199999999999999,
          0.32999999999999985,
          0.33999999999999986,
          0.34999999999999987,
          0.3599999999999999,
          0.3699999999999999,
          0.3799999999999999,
          0.3899999999999999,
          0.3999999999999998,
          0.4099999999999998,
          0.4199999999999998,
          0.4299999999999998,
          0.43999999999999984,
          0.44999999999999984,
          0.45999999999999985,
          0.46999999999999986,
          0.47999999999999976,
          0.48999999999999977
         ],
         "y": [
          null,
          null,
          null,
          null,
          null,
          null,
          null,
          null,
          null,
          null,
          null,
          null,
          null,
          null,
          null,
          null,
          null,
          null,
          null,
          null,
          null,
          null,
          null,
          null,
          null,
          null,
          null,
          null,
          null,
          null,
          null,
          null,
          null,
          null,
          null,
          null,
          null,
          null,
          null,
          null
         ]
        },
        {
         "mode": "lines+markers",
         "name": "slinear",
         "type": "scatter",
         "x": [
          0.1,
          0.11,
          0.12,
          0.13,
          0.13999999999999999,
          0.14999999999999997,
          0.15999999999999998,
          0.16999999999999998,
          0.17999999999999997,
          0.18999999999999995,
          0.19999999999999996,
          0.20999999999999996,
          0.21999999999999995,
          0.22999999999999995,
          0.23999999999999994,
          0.24999999999999992,
          0.2599999999999999,
          0.2699999999999999,
          0.2799999999999999,
          0.2899999999999999,
          0.29999999999999993,
          0.30999999999999994,
          0.3199999999999999,
          0.32999999999999985,
          0.33999999999999986,
          0.34999999999999987,
          0.3599999999999999,
          0.3699999999999999,
          0.3799999999999999,
          0.3899999999999999,
          0.3999999999999998,
          0.4099999999999998,
          0.4199999999999998,
          0.4299999999999998,
          0.43999999999999984,
          0.44999999999999984,
          0.45999999999999985,
          0.46999999999999986,
          0.47999999999999976,
          0.48999999999999977
         ],
         "y": [
          null,
          null,
          null,
          null,
          null,
          null,
          null,
          null,
          null,
          null,
          null,
          null,
          null,
          null,
          null,
          null,
          null,
          null,
          null,
          null,
          null,
          null,
          null,
          null,
          null,
          null,
          null,
          null,
          null,
          null,
          null,
          null,
          null,
          null,
          null,
          null,
          null,
          null,
          null,
          null
         ]
        },
        {
         "mode": "lines+markers",
         "name": "quadratic",
         "type": "scatter",
         "x": [
          0.1,
          0.11,
          0.12,
          0.13,
          0.13999999999999999,
          0.14999999999999997,
          0.15999999999999998,
          0.16999999999999998,
          0.17999999999999997,
          0.18999999999999995,
          0.19999999999999996,
          0.20999999999999996,
          0.21999999999999995,
          0.22999999999999995,
          0.23999999999999994,
          0.24999999999999992,
          0.2599999999999999,
          0.2699999999999999,
          0.2799999999999999,
          0.2899999999999999,
          0.29999999999999993,
          0.30999999999999994,
          0.3199999999999999,
          0.32999999999999985,
          0.33999999999999986,
          0.34999999999999987,
          0.3599999999999999,
          0.3699999999999999,
          0.3799999999999999,
          0.3899999999999999,
          0.3999999999999998,
          0.4099999999999998,
          0.4199999999999998,
          0.4299999999999998,
          0.43999999999999984,
          0.44999999999999984,
          0.45999999999999985,
          0.46999999999999986,
          0.47999999999999976,
          0.48999999999999977
         ],
         "y": [
          null,
          null,
          null,
          null,
          null,
          null,
          null,
          null,
          null,
          null,
          null,
          null,
          null,
          null,
          null,
          null,
          null,
          null,
          null,
          null,
          null,
          null,
          null,
          null,
          null,
          null,
          null,
          null,
          null,
          null,
          null,
          null,
          null,
          null,
          null,
          null,
          null,
          null,
          null,
          null
         ]
        },
        {
         "mode": "lines+markers",
         "name": "cubic",
         "type": "scatter",
         "x": [
          0.1,
          0.11,
          0.12,
          0.13,
          0.13999999999999999,
          0.14999999999999997,
          0.15999999999999998,
          0.16999999999999998,
          0.17999999999999997,
          0.18999999999999995,
          0.19999999999999996,
          0.20999999999999996,
          0.21999999999999995,
          0.22999999999999995,
          0.23999999999999994,
          0.24999999999999992,
          0.2599999999999999,
          0.2699999999999999,
          0.2799999999999999,
          0.2899999999999999,
          0.29999999999999993,
          0.30999999999999994,
          0.3199999999999999,
          0.32999999999999985,
          0.33999999999999986,
          0.34999999999999987,
          0.3599999999999999,
          0.3699999999999999,
          0.3799999999999999,
          0.3899999999999999,
          0.3999999999999998,
          0.4099999999999998,
          0.4199999999999998,
          0.4299999999999998,
          0.43999999999999984,
          0.44999999999999984,
          0.45999999999999985,
          0.46999999999999986,
          0.47999999999999976,
          0.48999999999999977
         ],
         "y": [
          null,
          null,
          null,
          null,
          null,
          null,
          null,
          null,
          null,
          null,
          null,
          null,
          null,
          null,
          null,
          null,
          null,
          null,
          null,
          null,
          null,
          null,
          null,
          null,
          null,
          null,
          null,
          null,
          null,
          null,
          null,
          null,
          null,
          null,
          null,
          null,
          null,
          null,
          null,
          null
         ]
        },
        {
         "mode": "lines+markers",
         "name": "polynomial_order_1",
         "type": "scatter",
         "x": [
          0.1,
          0.11,
          0.12,
          0.13,
          0.13999999999999999,
          0.14999999999999997,
          0.15999999999999998,
          0.16999999999999998,
          0.17999999999999997,
          0.18999999999999995,
          0.19999999999999996,
          0.20999999999999996,
          0.21999999999999995,
          0.22999999999999995,
          0.23999999999999994,
          0.24999999999999992,
          0.2599999999999999,
          0.2699999999999999,
          0.2799999999999999,
          0.2899999999999999,
          0.29999999999999993,
          0.30999999999999994,
          0.3199999999999999,
          0.32999999999999985,
          0.33999999999999986,
          0.34999999999999987,
          0.3599999999999999,
          0.3699999999999999,
          0.3799999999999999,
          0.3899999999999999,
          0.3999999999999998,
          0.4099999999999998,
          0.4199999999999998,
          0.4299999999999998,
          0.43999999999999984,
          0.44999999999999984,
          0.45999999999999985,
          0.46999999999999986,
          0.47999999999999976,
          0.48999999999999977
         ],
         "y": [
          null,
          null,
          null,
          null,
          null,
          null,
          null,
          null,
          null,
          null,
          null,
          null,
          null,
          null,
          null,
          null,
          null,
          null,
          null,
          null,
          null,
          null,
          null,
          null,
          null,
          null,
          null,
          null,
          null,
          null,
          null,
          null,
          null,
          null,
          null,
          null,
          null,
          null,
          null,
          null
         ]
        },
        {
         "mode": "lines+markers",
         "name": "polynomial_order_2",
         "type": "scatter",
         "x": [
          0.1,
          0.11,
          0.12,
          0.13,
          0.13999999999999999,
          0.14999999999999997,
          0.15999999999999998,
          0.16999999999999998,
          0.17999999999999997,
          0.18999999999999995,
          0.19999999999999996,
          0.20999999999999996,
          0.21999999999999995,
          0.22999999999999995,
          0.23999999999999994,
          0.24999999999999992,
          0.2599999999999999,
          0.2699999999999999,
          0.2799999999999999,
          0.2899999999999999,
          0.29999999999999993,
          0.30999999999999994,
          0.3199999999999999,
          0.32999999999999985,
          0.33999999999999986,
          0.34999999999999987,
          0.3599999999999999,
          0.3699999999999999,
          0.3799999999999999,
          0.3899999999999999,
          0.3999999999999998,
          0.4099999999999998,
          0.4199999999999998,
          0.4299999999999998,
          0.43999999999999984,
          0.44999999999999984,
          0.45999999999999985,
          0.46999999999999986,
          0.47999999999999976,
          0.48999999999999977
         ],
         "y": [
          null,
          null,
          null,
          null,
          null,
          null,
          null,
          null,
          null,
          null,
          null,
          null,
          null,
          null,
          null,
          null,
          null,
          null,
          null,
          null,
          null,
          null,
          null,
          null,
          null,
          null,
          null,
          null,
          null,
          null,
          null,
          null,
          null,
          null,
          null,
          null,
          null,
          null,
          null,
          null
         ]
        },
        {
         "mode": "lines+markers",
         "name": "polynomial_order_3",
         "type": "scatter",
         "x": [
          0.1,
          0.11,
          0.12,
          0.13,
          0.13999999999999999,
          0.14999999999999997,
          0.15999999999999998,
          0.16999999999999998,
          0.17999999999999997,
          0.18999999999999995,
          0.19999999999999996,
          0.20999999999999996,
          0.21999999999999995,
          0.22999999999999995,
          0.23999999999999994,
          0.24999999999999992,
          0.2599999999999999,
          0.2699999999999999,
          0.2799999999999999,
          0.2899999999999999,
          0.29999999999999993,
          0.30999999999999994,
          0.3199999999999999,
          0.32999999999999985,
          0.33999999999999986,
          0.34999999999999987,
          0.3599999999999999,
          0.3699999999999999,
          0.3799999999999999,
          0.3899999999999999,
          0.3999999999999998,
          0.4099999999999998,
          0.4199999999999998,
          0.4299999999999998,
          0.43999999999999984,
          0.44999999999999984,
          0.45999999999999985,
          0.46999999999999986,
          0.47999999999999976,
          0.48999999999999977
         ],
         "y": [
          null,
          null,
          null,
          null,
          null,
          null,
          null,
          null,
          null,
          null,
          null,
          null,
          null,
          null,
          null,
          null,
          null,
          null,
          null,
          null,
          null,
          null,
          null,
          null,
          null,
          null,
          null,
          null,
          null,
          null,
          null,
          null,
          null,
          null,
          null,
          null,
          null,
          null,
          null,
          null
         ]
        },
        {
         "mode": "lines+markers",
         "name": "polynomial_order_5",
         "type": "scatter",
         "x": [
          0.1,
          0.11,
          0.12,
          0.13,
          0.13999999999999999,
          0.14999999999999997,
          0.15999999999999998,
          0.16999999999999998,
          0.17999999999999997,
          0.18999999999999995,
          0.19999999999999996,
          0.20999999999999996,
          0.21999999999999995,
          0.22999999999999995,
          0.23999999999999994,
          0.24999999999999992,
          0.2599999999999999,
          0.2699999999999999,
          0.2799999999999999,
          0.2899999999999999,
          0.29999999999999993,
          0.30999999999999994,
          0.3199999999999999,
          0.32999999999999985,
          0.33999999999999986,
          0.34999999999999987,
          0.3599999999999999,
          0.3699999999999999,
          0.3799999999999999,
          0.3899999999999999,
          0.3999999999999998,
          0.4099999999999998,
          0.4199999999999998,
          0.4299999999999998,
          0.43999999999999984,
          0.44999999999999984,
          0.45999999999999985,
          0.46999999999999986,
          0.47999999999999976,
          0.48999999999999977
         ],
         "y": [
          null,
          null,
          null,
          null,
          null,
          null,
          null,
          null,
          null,
          null,
          null,
          null,
          null,
          null,
          null,
          null,
          null,
          null,
          null,
          null,
          null,
          null,
          null,
          null,
          null,
          null,
          null,
          null,
          null,
          null,
          null,
          null,
          null,
          null,
          null,
          null,
          null,
          null,
          null,
          null
         ]
        },
        {
         "mode": "lines+markers",
         "name": "polynomial_order_7",
         "type": "scatter",
         "x": [
          0.1,
          0.11,
          0.12,
          0.13,
          0.13999999999999999,
          0.14999999999999997,
          0.15999999999999998,
          0.16999999999999998,
          0.17999999999999997,
          0.18999999999999995,
          0.19999999999999996,
          0.20999999999999996,
          0.21999999999999995,
          0.22999999999999995,
          0.23999999999999994,
          0.24999999999999992,
          0.2599999999999999,
          0.2699999999999999,
          0.2799999999999999,
          0.2899999999999999,
          0.29999999999999993,
          0.30999999999999994,
          0.3199999999999999,
          0.32999999999999985,
          0.33999999999999986,
          0.34999999999999987,
          0.3599999999999999,
          0.3699999999999999,
          0.3799999999999999,
          0.3899999999999999,
          0.3999999999999998,
          0.4099999999999998,
          0.4199999999999998,
          0.4299999999999998,
          0.43999999999999984,
          0.44999999999999984,
          0.45999999999999985,
          0.46999999999999986,
          0.47999999999999976,
          0.48999999999999977
         ],
         "y": [
          null,
          null,
          null,
          null,
          null,
          null,
          null,
          null,
          null,
          null,
          null,
          null,
          null,
          null,
          null,
          null,
          null,
          null,
          null,
          null,
          null,
          null,
          null,
          null,
          null,
          null,
          null,
          null,
          null,
          null,
          null,
          null,
          null,
          null,
          null,
          null,
          null,
          null,
          null,
          null
         ]
        },
        {
         "mode": "lines+markers",
         "name": "polynomial_order_9",
         "type": "scatter",
         "x": [
          0.1,
          0.11,
          0.12,
          0.13,
          0.13999999999999999,
          0.14999999999999997,
          0.15999999999999998,
          0.16999999999999998,
          0.17999999999999997,
          0.18999999999999995,
          0.19999999999999996,
          0.20999999999999996,
          0.21999999999999995,
          0.22999999999999995,
          0.23999999999999994,
          0.24999999999999992,
          0.2599999999999999,
          0.2699999999999999,
          0.2799999999999999,
          0.2899999999999999,
          0.29999999999999993,
          0.30999999999999994,
          0.3199999999999999,
          0.32999999999999985,
          0.33999999999999986,
          0.34999999999999987,
          0.3599999999999999,
          0.3699999999999999,
          0.3799999999999999,
          0.3899999999999999,
          0.3999999999999998,
          0.4099999999999998,
          0.4199999999999998,
          0.4299999999999998,
          0.43999999999999984,
          0.44999999999999984,
          0.45999999999999985,
          0.46999999999999986,
          0.47999999999999976,
          0.48999999999999977
         ],
         "y": [
          null,
          null,
          null,
          null,
          null,
          null,
          null,
          null,
          null,
          null,
          null,
          null,
          null,
          null,
          null,
          null,
          null,
          null,
          null,
          null,
          null,
          null,
          null,
          null,
          null,
          null,
          null,
          null,
          null,
          null,
          null,
          null,
          null,
          null,
          null,
          null,
          null,
          null,
          null,
          null
         ]
        },
        {
         "mode": "lines+markers",
         "name": "piecewise_polynomial",
         "type": "scatter",
         "x": [
          0.1,
          0.11,
          0.12,
          0.13,
          0.13999999999999999,
          0.14999999999999997,
          0.15999999999999998,
          0.16999999999999998,
          0.17999999999999997,
          0.18999999999999995,
          0.19999999999999996,
          0.20999999999999996,
          0.21999999999999995,
          0.22999999999999995,
          0.23999999999999994,
          0.24999999999999992,
          0.2599999999999999,
          0.2699999999999999,
          0.2799999999999999,
          0.2899999999999999,
          0.29999999999999993,
          0.30999999999999994,
          0.3199999999999999,
          0.32999999999999985,
          0.33999999999999986,
          0.34999999999999987,
          0.3599999999999999,
          0.3699999999999999,
          0.3799999999999999,
          0.3899999999999999,
          0.3999999999999998,
          0.4099999999999998,
          0.4199999999999998,
          0.4299999999999998,
          0.43999999999999984,
          0.44999999999999984,
          0.45999999999999985,
          0.46999999999999986,
          0.47999999999999976,
          0.48999999999999977
         ],
         "y": [
          null,
          null,
          null,
          null,
          null,
          null,
          null,
          null,
          null,
          null,
          null,
          null,
          null,
          null,
          null,
          null,
          null,
          null,
          null,
          null,
          null,
          null,
          null,
          null,
          null,
          null,
          null,
          null,
          null,
          null,
          null,
          null,
          null,
          null,
          null,
          null,
          null,
          null,
          null,
          null
         ]
        },
        {
         "mode": "lines+markers",
         "name": "spline_order_1",
         "type": "scatter",
         "x": [
          0.1,
          0.11,
          0.12,
          0.13,
          0.13999999999999999,
          0.14999999999999997,
          0.15999999999999998,
          0.16999999999999998,
          0.17999999999999997,
          0.18999999999999995,
          0.19999999999999996,
          0.20999999999999996,
          0.21999999999999995,
          0.22999999999999995,
          0.23999999999999994,
          0.24999999999999992,
          0.2599999999999999,
          0.2699999999999999,
          0.2799999999999999,
          0.2899999999999999,
          0.29999999999999993,
          0.30999999999999994,
          0.3199999999999999,
          0.32999999999999985,
          0.33999999999999986,
          0.34999999999999987,
          0.3599999999999999,
          0.3699999999999999,
          0.3799999999999999,
          0.3899999999999999,
          0.3999999999999998,
          0.4099999999999998,
          0.4199999999999998,
          0.4299999999999998,
          0.43999999999999984,
          0.44999999999999984,
          0.45999999999999985,
          0.46999999999999986,
          0.47999999999999976,
          0.48999999999999977
         ],
         "y": [
          null,
          null,
          null,
          null,
          null,
          null,
          null,
          null,
          null,
          null,
          null,
          null,
          null,
          null,
          null,
          null,
          null,
          null,
          null,
          null,
          null,
          null,
          null,
          null,
          null,
          null,
          null,
          null,
          null,
          null,
          null,
          null,
          null,
          null,
          null,
          null,
          null,
          null,
          null,
          null
         ]
        },
        {
         "mode": "lines+markers",
         "name": "spline_order_2",
         "type": "scatter",
         "x": [
          0.1,
          0.11,
          0.12,
          0.13,
          0.13999999999999999,
          0.14999999999999997,
          0.15999999999999998,
          0.16999999999999998,
          0.17999999999999997,
          0.18999999999999995,
          0.19999999999999996,
          0.20999999999999996,
          0.21999999999999995,
          0.22999999999999995,
          0.23999999999999994,
          0.24999999999999992,
          0.2599999999999999,
          0.2699999999999999,
          0.2799999999999999,
          0.2899999999999999,
          0.29999999999999993,
          0.30999999999999994,
          0.3199999999999999,
          0.32999999999999985,
          0.33999999999999986,
          0.34999999999999987,
          0.3599999999999999,
          0.3699999999999999,
          0.3799999999999999,
          0.3899999999999999,
          0.3999999999999998,
          0.4099999999999998,
          0.4199999999999998,
          0.4299999999999998,
          0.43999999999999984,
          0.44999999999999984,
          0.45999999999999985,
          0.46999999999999986,
          0.47999999999999976,
          0.48999999999999977
         ],
         "y": [
          null,
          null,
          null,
          null,
          null,
          null,
          null,
          null,
          null,
          null,
          null,
          null,
          null,
          null,
          null,
          null,
          null,
          null,
          null,
          null,
          null,
          null,
          null,
          null,
          null,
          null,
          null,
          null,
          null,
          null,
          null,
          null,
          null,
          null,
          null,
          null,
          null,
          null,
          null,
          null
         ]
        },
        {
         "mode": "lines+markers",
         "name": "spline_order_3",
         "type": "scatter",
         "x": [
          0.1,
          0.11,
          0.12,
          0.13,
          0.13999999999999999,
          0.14999999999999997,
          0.15999999999999998,
          0.16999999999999998,
          0.17999999999999997,
          0.18999999999999995,
          0.19999999999999996,
          0.20999999999999996,
          0.21999999999999995,
          0.22999999999999995,
          0.23999999999999994,
          0.24999999999999992,
          0.2599999999999999,
          0.2699999999999999,
          0.2799999999999999,
          0.2899999999999999,
          0.29999999999999993,
          0.30999999999999994,
          0.3199999999999999,
          0.32999999999999985,
          0.33999999999999986,
          0.34999999999999987,
          0.3599999999999999,
          0.3699999999999999,
          0.3799999999999999,
          0.3899999999999999,
          0.3999999999999998,
          0.4099999999999998,
          0.4199999999999998,
          0.4299999999999998,
          0.43999999999999984,
          0.44999999999999984,
          0.45999999999999985,
          0.46999999999999986,
          0.47999999999999976,
          0.48999999999999977
         ],
         "y": [
          null,
          null,
          null,
          null,
          null,
          null,
          null,
          null,
          null,
          null,
          null,
          null,
          null,
          null,
          null,
          null,
          null,
          null,
          null,
          null,
          null,
          null,
          null,
          null,
          null,
          null,
          null,
          null,
          null,
          null,
          null,
          null,
          null,
          null,
          null,
          null,
          null,
          null,
          null,
          null
         ]
        },
        {
         "mode": "lines+markers",
         "name": "spline_order_4",
         "type": "scatter",
         "x": [
          0.1,
          0.11,
          0.12,
          0.13,
          0.13999999999999999,
          0.14999999999999997,
          0.15999999999999998,
          0.16999999999999998,
          0.17999999999999997,
          0.18999999999999995,
          0.19999999999999996,
          0.20999999999999996,
          0.21999999999999995,
          0.22999999999999995,
          0.23999999999999994,
          0.24999999999999992,
          0.2599999999999999,
          0.2699999999999999,
          0.2799999999999999,
          0.2899999999999999,
          0.29999999999999993,
          0.30999999999999994,
          0.3199999999999999,
          0.32999999999999985,
          0.33999999999999986,
          0.34999999999999987,
          0.3599999999999999,
          0.3699999999999999,
          0.3799999999999999,
          0.3899999999999999,
          0.3999999999999998,
          0.4099999999999998,
          0.4199999999999998,
          0.4299999999999998,
          0.43999999999999984,
          0.44999999999999984,
          0.45999999999999985,
          0.46999999999999986,
          0.47999999999999976,
          0.48999999999999977
         ],
         "y": [
          null,
          null,
          null,
          null,
          null,
          null,
          null,
          null,
          null,
          null,
          null,
          null,
          null,
          null,
          null,
          null,
          null,
          null,
          null,
          null,
          null,
          null,
          null,
          null,
          null,
          null,
          null,
          null,
          null,
          null,
          null,
          null,
          null,
          null,
          null,
          null,
          null,
          null,
          null,
          null
         ]
        },
        {
         "mode": "lines+markers",
         "name": "spline_order_5",
         "type": "scatter",
         "x": [
          0.1,
          0.11,
          0.12,
          0.13,
          0.13999999999999999,
          0.14999999999999997,
          0.15999999999999998,
          0.16999999999999998,
          0.17999999999999997,
          0.18999999999999995,
          0.19999999999999996,
          0.20999999999999996,
          0.21999999999999995,
          0.22999999999999995,
          0.23999999999999994,
          0.24999999999999992,
          0.2599999999999999,
          0.2699999999999999,
          0.2799999999999999,
          0.2899999999999999,
          0.29999999999999993,
          0.30999999999999994,
          0.3199999999999999,
          0.32999999999999985,
          0.33999999999999986,
          0.34999999999999987,
          0.3599999999999999,
          0.3699999999999999,
          0.3799999999999999,
          0.3899999999999999,
          0.3999999999999998,
          0.4099999999999998,
          0.4199999999999998,
          0.4299999999999998,
          0.43999999999999984,
          0.44999999999999984,
          0.45999999999999985,
          0.46999999999999986,
          0.47999999999999976,
          0.48999999999999977
         ],
         "y": [
          null,
          null,
          null,
          null,
          null,
          null,
          null,
          null,
          null,
          null,
          null,
          null,
          null,
          null,
          null,
          null,
          null,
          null,
          null,
          null,
          null,
          null,
          null,
          null,
          null,
          null,
          null,
          null,
          null,
          null,
          null,
          null,
          null,
          null,
          null,
          null,
          null,
          null,
          null,
          null
         ]
        },
        {
         "mode": "lines+markers",
         "name": "akima",
         "type": "scatter",
         "x": [
          0.1,
          0.11,
          0.12,
          0.13,
          0.13999999999999999,
          0.14999999999999997,
          0.15999999999999998,
          0.16999999999999998,
          0.17999999999999997,
          0.18999999999999995,
          0.19999999999999996,
          0.20999999999999996,
          0.21999999999999995,
          0.22999999999999995,
          0.23999999999999994,
          0.24999999999999992,
          0.2599999999999999,
          0.2699999999999999,
          0.2799999999999999,
          0.2899999999999999,
          0.29999999999999993,
          0.30999999999999994,
          0.3199999999999999,
          0.32999999999999985,
          0.33999999999999986,
          0.34999999999999987,
          0.3599999999999999,
          0.3699999999999999,
          0.3799999999999999,
          0.3899999999999999,
          0.3999999999999998,
          0.4099999999999998,
          0.4199999999999998,
          0.4299999999999998,
          0.43999999999999984,
          0.44999999999999984,
          0.45999999999999985,
          0.46999999999999986,
          0.47999999999999976,
          0.48999999999999977
         ],
         "y": [
          null,
          null,
          null,
          null,
          null,
          null,
          null,
          null,
          null,
          null,
          null,
          null,
          null,
          null,
          null,
          null,
          null,
          null,
          null,
          null,
          null,
          null,
          null,
          null,
          null,
          null,
          null,
          null,
          null,
          null,
          null,
          null,
          null,
          null,
          null,
          null,
          null,
          null,
          null,
          null
         ]
        },
        {
         "mode": "lines+markers",
         "name": "cubicspline",
         "type": "scatter",
         "x": [
          0.1,
          0.11,
          0.12,
          0.13,
          0.13999999999999999,
          0.14999999999999997,
          0.15999999999999998,
          0.16999999999999998,
          0.17999999999999997,
          0.18999999999999995,
          0.19999999999999996,
          0.20999999999999996,
          0.21999999999999995,
          0.22999999999999995,
          0.23999999999999994,
          0.24999999999999992,
          0.2599999999999999,
          0.2699999999999999,
          0.2799999999999999,
          0.2899999999999999,
          0.29999999999999993,
          0.30999999999999994,
          0.3199999999999999,
          0.32999999999999985,
          0.33999999999999986,
          0.34999999999999987,
          0.3599999999999999,
          0.3699999999999999,
          0.3799999999999999,
          0.3899999999999999,
          0.3999999999999998,
          0.4099999999999998,
          0.4199999999999998,
          0.4299999999999998,
          0.43999999999999984,
          0.44999999999999984,
          0.45999999999999985,
          0.46999999999999986,
          0.47999999999999976,
          0.48999999999999977
         ],
         "y": [
          null,
          null,
          null,
          null,
          null,
          null,
          null,
          null,
          null,
          null,
          null,
          null,
          null,
          null,
          null,
          null,
          null,
          null,
          null,
          null,
          null,
          null,
          null,
          null,
          null,
          null,
          null,
          null,
          null,
          null,
          null,
          null,
          null,
          null,
          null,
          null,
          null,
          null,
          null,
          null
         ]
        },
        {
         "mode": "lines+markers",
         "name": "from_derivatives",
         "type": "scatter",
         "x": [
          0.1,
          0.11,
          0.12,
          0.13,
          0.13999999999999999,
          0.14999999999999997,
          0.15999999999999998,
          0.16999999999999998,
          0.17999999999999997,
          0.18999999999999995,
          0.19999999999999996,
          0.20999999999999996,
          0.21999999999999995,
          0.22999999999999995,
          0.23999999999999994,
          0.24999999999999992,
          0.2599999999999999,
          0.2699999999999999,
          0.2799999999999999,
          0.2899999999999999,
          0.29999999999999993,
          0.30999999999999994,
          0.3199999999999999,
          0.32999999999999985,
          0.33999999999999986,
          0.34999999999999987,
          0.3599999999999999,
          0.3699999999999999,
          0.3799999999999999,
          0.3899999999999999,
          0.3999999999999998,
          0.4099999999999998,
          0.4199999999999998,
          0.4299999999999998,
          0.43999999999999984,
          0.44999999999999984,
          0.45999999999999985,
          0.46999999999999986,
          0.47999999999999976,
          0.48999999999999977
         ],
         "y": [
          null,
          null,
          null,
          null,
          null,
          null,
          null,
          null,
          null,
          null,
          null,
          null,
          null,
          null,
          null,
          null,
          null,
          null,
          null,
          null,
          null,
          null,
          null,
          null,
          null,
          null,
          null,
          null,
          null,
          null,
          null,
          null,
          null,
          null,
          null,
          null,
          null,
          null,
          null,
          null
         ]
        }
       ],
       "layout": {
        "legend": {
         "title": {
          "text": "Method"
         }
        },
        "template": {
         "data": {
          "bar": [
           {
            "error_x": {
             "color": "#2a3f5f"
            },
            "error_y": {
             "color": "#2a3f5f"
            },
            "marker": {
             "line": {
              "color": "#E5ECF6",
              "width": 0.5
             },
             "pattern": {
              "fillmode": "overlay",
              "size": 10,
              "solidity": 0.2
             }
            },
            "type": "bar"
           }
          ],
          "barpolar": [
           {
            "marker": {
             "line": {
              "color": "#E5ECF6",
              "width": 0.5
             },
             "pattern": {
              "fillmode": "overlay",
              "size": 10,
              "solidity": 0.2
             }
            },
            "type": "barpolar"
           }
          ],
          "carpet": [
           {
            "aaxis": {
             "endlinecolor": "#2a3f5f",
             "gridcolor": "white",
             "linecolor": "white",
             "minorgridcolor": "white",
             "startlinecolor": "#2a3f5f"
            },
            "baxis": {
             "endlinecolor": "#2a3f5f",
             "gridcolor": "white",
             "linecolor": "white",
             "minorgridcolor": "white",
             "startlinecolor": "#2a3f5f"
            },
            "type": "carpet"
           }
          ],
          "choropleth": [
           {
            "colorbar": {
             "outlinewidth": 0,
             "ticks": ""
            },
            "type": "choropleth"
           }
          ],
          "contour": [
           {
            "colorbar": {
             "outlinewidth": 0,
             "ticks": ""
            },
            "colorscale": [
             [
              0,
              "#0d0887"
             ],
             [
              0.1111111111111111,
              "#46039f"
             ],
             [
              0.2222222222222222,
              "#7201a8"
             ],
             [
              0.3333333333333333,
              "#9c179e"
             ],
             [
              0.4444444444444444,
              "#bd3786"
             ],
             [
              0.5555555555555556,
              "#d8576b"
             ],
             [
              0.6666666666666666,
              "#ed7953"
             ],
             [
              0.7777777777777778,
              "#fb9f3a"
             ],
             [
              0.8888888888888888,
              "#fdca26"
             ],
             [
              1,
              "#f0f921"
             ]
            ],
            "type": "contour"
           }
          ],
          "contourcarpet": [
           {
            "colorbar": {
             "outlinewidth": 0,
             "ticks": ""
            },
            "type": "contourcarpet"
           }
          ],
          "heatmap": [
           {
            "colorbar": {
             "outlinewidth": 0,
             "ticks": ""
            },
            "colorscale": [
             [
              0,
              "#0d0887"
             ],
             [
              0.1111111111111111,
              "#46039f"
             ],
             [
              0.2222222222222222,
              "#7201a8"
             ],
             [
              0.3333333333333333,
              "#9c179e"
             ],
             [
              0.4444444444444444,
              "#bd3786"
             ],
             [
              0.5555555555555556,
              "#d8576b"
             ],
             [
              0.6666666666666666,
              "#ed7953"
             ],
             [
              0.7777777777777778,
              "#fb9f3a"
             ],
             [
              0.8888888888888888,
              "#fdca26"
             ],
             [
              1,
              "#f0f921"
             ]
            ],
            "type": "heatmap"
           }
          ],
          "heatmapgl": [
           {
            "colorbar": {
             "outlinewidth": 0,
             "ticks": ""
            },
            "colorscale": [
             [
              0,
              "#0d0887"
             ],
             [
              0.1111111111111111,
              "#46039f"
             ],
             [
              0.2222222222222222,
              "#7201a8"
             ],
             [
              0.3333333333333333,
              "#9c179e"
             ],
             [
              0.4444444444444444,
              "#bd3786"
             ],
             [
              0.5555555555555556,
              "#d8576b"
             ],
             [
              0.6666666666666666,
              "#ed7953"
             ],
             [
              0.7777777777777778,
              "#fb9f3a"
             ],
             [
              0.8888888888888888,
              "#fdca26"
             ],
             [
              1,
              "#f0f921"
             ]
            ],
            "type": "heatmapgl"
           }
          ],
          "histogram": [
           {
            "marker": {
             "pattern": {
              "fillmode": "overlay",
              "size": 10,
              "solidity": 0.2
             }
            },
            "type": "histogram"
           }
          ],
          "histogram2d": [
           {
            "colorbar": {
             "outlinewidth": 0,
             "ticks": ""
            },
            "colorscale": [
             [
              0,
              "#0d0887"
             ],
             [
              0.1111111111111111,
              "#46039f"
             ],
             [
              0.2222222222222222,
              "#7201a8"
             ],
             [
              0.3333333333333333,
              "#9c179e"
             ],
             [
              0.4444444444444444,
              "#bd3786"
             ],
             [
              0.5555555555555556,
              "#d8576b"
             ],
             [
              0.6666666666666666,
              "#ed7953"
             ],
             [
              0.7777777777777778,
              "#fb9f3a"
             ],
             [
              0.8888888888888888,
              "#fdca26"
             ],
             [
              1,
              "#f0f921"
             ]
            ],
            "type": "histogram2d"
           }
          ],
          "histogram2dcontour": [
           {
            "colorbar": {
             "outlinewidth": 0,
             "ticks": ""
            },
            "colorscale": [
             [
              0,
              "#0d0887"
             ],
             [
              0.1111111111111111,
              "#46039f"
             ],
             [
              0.2222222222222222,
              "#7201a8"
             ],
             [
              0.3333333333333333,
              "#9c179e"
             ],
             [
              0.4444444444444444,
              "#bd3786"
             ],
             [
              0.5555555555555556,
              "#d8576b"
             ],
             [
              0.6666666666666666,
              "#ed7953"
             ],
             [
              0.7777777777777778,
              "#fb9f3a"
             ],
             [
              0.8888888888888888,
              "#fdca26"
             ],
             [
              1,
              "#f0f921"
             ]
            ],
            "type": "histogram2dcontour"
           }
          ],
          "mesh3d": [
           {
            "colorbar": {
             "outlinewidth": 0,
             "ticks": ""
            },
            "type": "mesh3d"
           }
          ],
          "parcoords": [
           {
            "line": {
             "colorbar": {
              "outlinewidth": 0,
              "ticks": ""
             }
            },
            "type": "parcoords"
           }
          ],
          "pie": [
           {
            "automargin": true,
            "type": "pie"
           }
          ],
          "scatter": [
           {
            "fillpattern": {
             "fillmode": "overlay",
             "size": 10,
             "solidity": 0.2
            },
            "type": "scatter"
           }
          ],
          "scatter3d": [
           {
            "line": {
             "colorbar": {
              "outlinewidth": 0,
              "ticks": ""
             }
            },
            "marker": {
             "colorbar": {
              "outlinewidth": 0,
              "ticks": ""
             }
            },
            "type": "scatter3d"
           }
          ],
          "scattercarpet": [
           {
            "marker": {
             "colorbar": {
              "outlinewidth": 0,
              "ticks": ""
             }
            },
            "type": "scattercarpet"
           }
          ],
          "scattergeo": [
           {
            "marker": {
             "colorbar": {
              "outlinewidth": 0,
              "ticks": ""
             }
            },
            "type": "scattergeo"
           }
          ],
          "scattergl": [
           {
            "marker": {
             "colorbar": {
              "outlinewidth": 0,
              "ticks": ""
             }
            },
            "type": "scattergl"
           }
          ],
          "scattermapbox": [
           {
            "marker": {
             "colorbar": {
              "outlinewidth": 0,
              "ticks": ""
             }
            },
            "type": "scattermapbox"
           }
          ],
          "scatterpolar": [
           {
            "marker": {
             "colorbar": {
              "outlinewidth": 0,
              "ticks": ""
             }
            },
            "type": "scatterpolar"
           }
          ],
          "scatterpolargl": [
           {
            "marker": {
             "colorbar": {
              "outlinewidth": 0,
              "ticks": ""
             }
            },
            "type": "scatterpolargl"
           }
          ],
          "scatterternary": [
           {
            "marker": {
             "colorbar": {
              "outlinewidth": 0,
              "ticks": ""
             }
            },
            "type": "scatterternary"
           }
          ],
          "surface": [
           {
            "colorbar": {
             "outlinewidth": 0,
             "ticks": ""
            },
            "colorscale": [
             [
              0,
              "#0d0887"
             ],
             [
              0.1111111111111111,
              "#46039f"
             ],
             [
              0.2222222222222222,
              "#7201a8"
             ],
             [
              0.3333333333333333,
              "#9c179e"
             ],
             [
              0.4444444444444444,
              "#bd3786"
             ],
             [
              0.5555555555555556,
              "#d8576b"
             ],
             [
              0.6666666666666666,
              "#ed7953"
             ],
             [
              0.7777777777777778,
              "#fb9f3a"
             ],
             [
              0.8888888888888888,
              "#fdca26"
             ],
             [
              1,
              "#f0f921"
             ]
            ],
            "type": "surface"
           }
          ],
          "table": [
           {
            "cells": {
             "fill": {
              "color": "#EBF0F8"
             },
             "line": {
              "color": "white"
             }
            },
            "header": {
             "fill": {
              "color": "#C8D4E3"
             },
             "line": {
              "color": "white"
             }
            },
            "type": "table"
           }
          ]
         },
         "layout": {
          "annotationdefaults": {
           "arrowcolor": "#2a3f5f",
           "arrowhead": 0,
           "arrowwidth": 1
          },
          "autotypenumbers": "strict",
          "coloraxis": {
           "colorbar": {
            "outlinewidth": 0,
            "ticks": ""
           }
          },
          "colorscale": {
           "diverging": [
            [
             0,
             "#8e0152"
            ],
            [
             0.1,
             "#c51b7d"
            ],
            [
             0.2,
             "#de77ae"
            ],
            [
             0.3,
             "#f1b6da"
            ],
            [
             0.4,
             "#fde0ef"
            ],
            [
             0.5,
             "#f7f7f7"
            ],
            [
             0.6,
             "#e6f5d0"
            ],
            [
             0.7,
             "#b8e186"
            ],
            [
             0.8,
             "#7fbc41"
            ],
            [
             0.9,
             "#4d9221"
            ],
            [
             1,
             "#276419"
            ]
           ],
           "sequential": [
            [
             0,
             "#0d0887"
            ],
            [
             0.1111111111111111,
             "#46039f"
            ],
            [
             0.2222222222222222,
             "#7201a8"
            ],
            [
             0.3333333333333333,
             "#9c179e"
            ],
            [
             0.4444444444444444,
             "#bd3786"
            ],
            [
             0.5555555555555556,
             "#d8576b"
            ],
            [
             0.6666666666666666,
             "#ed7953"
            ],
            [
             0.7777777777777778,
             "#fb9f3a"
            ],
            [
             0.8888888888888888,
             "#fdca26"
            ],
            [
             1,
             "#f0f921"
            ]
           ],
           "sequentialminus": [
            [
             0,
             "#0d0887"
            ],
            [
             0.1111111111111111,
             "#46039f"
            ],
            [
             0.2222222222222222,
             "#7201a8"
            ],
            [
             0.3333333333333333,
             "#9c179e"
            ],
            [
             0.4444444444444444,
             "#bd3786"
            ],
            [
             0.5555555555555556,
             "#d8576b"
            ],
            [
             0.6666666666666666,
             "#ed7953"
            ],
            [
             0.7777777777777778,
             "#fb9f3a"
            ],
            [
             0.8888888888888888,
             "#fdca26"
            ],
            [
             1,
             "#f0f921"
            ]
           ]
          },
          "colorway": [
           "#636efa",
           "#EF553B",
           "#00cc96",
           "#ab63fa",
           "#FFA15A",
           "#19d3f3",
           "#FF6692",
           "#B6E880",
           "#FF97FF",
           "#FECB52"
          ],
          "font": {
           "color": "#2a3f5f"
          },
          "geo": {
           "bgcolor": "white",
           "lakecolor": "white",
           "landcolor": "#E5ECF6",
           "showlakes": true,
           "showland": true,
           "subunitcolor": "white"
          },
          "hoverlabel": {
           "align": "left"
          },
          "hovermode": "closest",
          "mapbox": {
           "style": "light"
          },
          "paper_bgcolor": "white",
          "plot_bgcolor": "#E5ECF6",
          "polar": {
           "angularaxis": {
            "gridcolor": "white",
            "linecolor": "white",
            "ticks": ""
           },
           "bgcolor": "#E5ECF6",
           "radialaxis": {
            "gridcolor": "white",
            "linecolor": "white",
            "ticks": ""
           }
          },
          "scene": {
           "xaxis": {
            "backgroundcolor": "#E5ECF6",
            "gridcolor": "white",
            "gridwidth": 2,
            "linecolor": "white",
            "showbackground": true,
            "ticks": "",
            "zerolinecolor": "white"
           },
           "yaxis": {
            "backgroundcolor": "#E5ECF6",
            "gridcolor": "white",
            "gridwidth": 2,
            "linecolor": "white",
            "showbackground": true,
            "ticks": "",
            "zerolinecolor": "white"
           },
           "zaxis": {
            "backgroundcolor": "#E5ECF6",
            "gridcolor": "white",
            "gridwidth": 2,
            "linecolor": "white",
            "showbackground": true,
            "ticks": "",
            "zerolinecolor": "white"
           }
          },
          "shapedefaults": {
           "line": {
            "color": "#2a3f5f"
           }
          },
          "ternary": {
           "aaxis": {
            "gridcolor": "white",
            "linecolor": "white",
            "ticks": ""
           },
           "baxis": {
            "gridcolor": "white",
            "linecolor": "white",
            "ticks": ""
           },
           "bgcolor": "#E5ECF6",
           "caxis": {
            "gridcolor": "white",
            "linecolor": "white",
            "ticks": ""
           }
          },
          "title": {
           "x": 0.05
          },
          "xaxis": {
           "automargin": true,
           "gridcolor": "white",
           "linecolor": "white",
           "ticks": "",
           "title": {
            "standoff": 15
           },
           "zerolinecolor": "white",
           "zerolinewidth": 2
          },
          "yaxis": {
           "automargin": true,
           "gridcolor": "white",
           "linecolor": "white",
           "ticks": "",
           "title": {
            "standoff": 15
           },
           "zerolinecolor": "white",
           "zerolinewidth": 2
          }
         }
        },
        "title": {
         "text": "Performance Development for Feature cbwd"
        },
        "xaxis": {
         "title": {
          "text": "Missing Rate"
         }
        },
        "yaxis": {
         "title": {
          "text": "Difference between original and interpolated data"
         }
        }
       }
      }
     },
     "metadata": {},
     "output_type": "display_data"
    },
    {
     "data": {
      "application/vnd.plotly.v1+json": {
       "config": {
        "plotlyServerURL": "https://plot.ly"
       },
       "data": [
        {
         "mode": "lines+markers",
         "name": "linear",
         "type": "scatter",
         "x": [
          0.1,
          0.11,
          0.12,
          0.13,
          0.13999999999999999,
          0.14999999999999997,
          0.15999999999999998,
          0.16999999999999998,
          0.17999999999999997,
          0.18999999999999995,
          0.19999999999999996,
          0.20999999999999996,
          0.21999999999999995,
          0.22999999999999995,
          0.23999999999999994,
          0.24999999999999992,
          0.2599999999999999,
          0.2699999999999999,
          0.2799999999999999,
          0.2899999999999999,
          0.29999999999999993,
          0.30999999999999994,
          0.3199999999999999,
          0.32999999999999985,
          0.33999999999999986,
          0.34999999999999987,
          0.3599999999999999,
          0.3699999999999999,
          0.3799999999999999,
          0.3899999999999999,
          0.3999999999999998,
          0.4099999999999998,
          0.4199999999999998,
          0.4299999999999998,
          0.43999999999999984,
          0.44999999999999984,
          0.45999999999999985,
          0.46999999999999986,
          0.47999999999999976,
          0.48999999999999977
         ],
         "y": [
          2.972,
          3.49,
          3.3104,
          3.1589,
          3.7144,
          4.2461,
          4.2883,
          4.0967,
          4.5397,
          4.4683,
          4.3893,
          4.2934,
          4.1164,
          4.5428,
          4.3846,
          4.7329,
          4.591,
          4.4705,
          4.396,
          4.3691,
          4.7754,
          5.1284,
          5.1071,
          5.0326,
          5.1169,
          5.0017,
          4.9321,
          4.8238,
          4.8136,
          4.8493,
          4.8783,
          4.8969,
          4.8724,
          4.8107,
          4.9678,
          5.1136,
          5.035,
          5.8408,
          6.8439,
          6.735
         ]
        },
        {
         "mode": "lines+markers",
         "name": "nearest",
         "type": "scatter",
         "x": [
          0.1,
          0.11,
          0.12,
          0.13,
          0.13999999999999999,
          0.14999999999999997,
          0.15999999999999998,
          0.16999999999999998,
          0.17999999999999997,
          0.18999999999999995,
          0.19999999999999996,
          0.20999999999999996,
          0.21999999999999995,
          0.22999999999999995,
          0.23999999999999994,
          0.24999999999999992,
          0.2599999999999999,
          0.2699999999999999,
          0.2799999999999999,
          0.2899999999999999,
          0.29999999999999993,
          0.30999999999999994,
          0.3199999999999999,
          0.32999999999999985,
          0.33999999999999986,
          0.34999999999999987,
          0.3599999999999999,
          0.3699999999999999,
          0.3799999999999999,
          0.3899999999999999,
          0.3999999999999998,
          0.4099999999999998,
          0.4199999999999998,
          0.4299999999999998,
          0.43999999999999984,
          0.44999999999999984,
          0.45999999999999985,
          0.46999999999999986,
          0.47999999999999976,
          0.48999999999999977
         ],
         "y": [
          6.2409,
          5.9783,
          5.9233,
          5.7016,
          6.7378,
          8.0074,
          8.2599,
          8.0436,
          8.0714,
          null,
          null,
          null,
          null,
          null,
          null,
          null,
          null,
          null,
          null,
          null,
          null,
          null,
          null,
          null,
          null,
          null,
          null,
          null,
          null,
          null,
          null,
          null,
          null,
          null,
          null,
          null,
          null,
          null,
          null,
          null
         ]
        },
        {
         "mode": "lines+markers",
         "name": "zero",
         "type": "scatter",
         "x": [
          0.1,
          0.11,
          0.12,
          0.13,
          0.13999999999999999,
          0.14999999999999997,
          0.15999999999999998,
          0.16999999999999998,
          0.17999999999999997,
          0.18999999999999995,
          0.19999999999999996,
          0.20999999999999996,
          0.21999999999999995,
          0.22999999999999995,
          0.23999999999999994,
          0.24999999999999992,
          0.2599999999999999,
          0.2699999999999999,
          0.2799999999999999,
          0.2899999999999999,
          0.29999999999999993,
          0.30999999999999994,
          0.3199999999999999,
          0.32999999999999985,
          0.33999999999999986,
          0.34999999999999987,
          0.3599999999999999,
          0.3699999999999999,
          0.3799999999999999,
          0.3899999999999999,
          0.3999999999999998,
          0.4099999999999998,
          0.4199999999999998,
          0.4299999999999998,
          0.43999999999999984,
          0.44999999999999984,
          0.45999999999999985,
          0.46999999999999986,
          0.47999999999999976,
          0.48999999999999977
         ],
         "y": [
          5.6463,
          5.4745,
          5.5285,
          5.3372,
          6.3294,
          7.6984,
          8.0659,
          7.8691,
          7.6643,
          null,
          null,
          null,
          null,
          null,
          null,
          null,
          null,
          null,
          null,
          null,
          null,
          null,
          null,
          null,
          null,
          null,
          null,
          null,
          null,
          null,
          null,
          null,
          null,
          null,
          null,
          null,
          null,
          null,
          null,
          null
         ]
        },
        {
         "mode": "lines+markers",
         "name": "slinear",
         "type": "scatter",
         "x": [
          0.1,
          0.11,
          0.12,
          0.13,
          0.13999999999999999,
          0.14999999999999997,
          0.15999999999999998,
          0.16999999999999998,
          0.17999999999999997,
          0.18999999999999995,
          0.19999999999999996,
          0.20999999999999996,
          0.21999999999999995,
          0.22999999999999995,
          0.23999999999999994,
          0.24999999999999992,
          0.2599999999999999,
          0.2699999999999999,
          0.2799999999999999,
          0.2899999999999999,
          0.29999999999999993,
          0.30999999999999994,
          0.3199999999999999,
          0.32999999999999985,
          0.33999999999999986,
          0.34999999999999987,
          0.3599999999999999,
          0.3699999999999999,
          0.3799999999999999,
          0.3899999999999999,
          0.3999999999999998,
          0.4099999999999998,
          0.4199999999999998,
          0.4299999999999998,
          0.43999999999999984,
          0.44999999999999984,
          0.45999999999999985,
          0.46999999999999986,
          0.47999999999999976,
          0.48999999999999977
         ],
         "y": [
          2.972,
          3.49,
          3.3104,
          3.1589,
          3.7144,
          4.2461,
          4.2883,
          4.0967,
          4.5397,
          null,
          null,
          null,
          null,
          null,
          null,
          null,
          null,
          null,
          null,
          null,
          null,
          null,
          null,
          null,
          null,
          null,
          null,
          null,
          null,
          null,
          null,
          null,
          null,
          null,
          null,
          null,
          null,
          null,
          null,
          null
         ]
        },
        {
         "mode": "lines+markers",
         "name": "quadratic",
         "type": "scatter",
         "x": [
          0.1,
          0.11,
          0.12,
          0.13,
          0.13999999999999999,
          0.14999999999999997,
          0.15999999999999998,
          0.16999999999999998,
          0.17999999999999997,
          0.18999999999999995,
          0.19999999999999996,
          0.20999999999999996,
          0.21999999999999995,
          0.22999999999999995,
          0.23999999999999994,
          0.24999999999999992,
          0.2599999999999999,
          0.2699999999999999,
          0.2799999999999999,
          0.2899999999999999,
          0.29999999999999993,
          0.30999999999999994,
          0.3199999999999999,
          0.32999999999999985,
          0.33999999999999986,
          0.34999999999999987,
          0.3599999999999999,
          0.3699999999999999,
          0.3799999999999999,
          0.3899999999999999,
          0.3999999999999998,
          0.4099999999999998,
          0.4199999999999998,
          0.4299999999999998,
          0.43999999999999984,
          0.44999999999999984,
          0.45999999999999985,
          0.46999999999999986,
          0.47999999999999976,
          0.48999999999999977
         ],
         "y": [
          4.3372,
          4.9374,
          4.9262,
          4.7112,
          5.2107,
          5.8253,
          5.8352,
          5.5484,
          6.3717,
          null,
          null,
          null,
          null,
          null,
          null,
          null,
          null,
          null,
          null,
          null,
          null,
          null,
          null,
          null,
          null,
          null,
          null,
          null,
          null,
          null,
          null,
          null,
          null,
          null,
          null,
          null,
          null,
          null,
          null,
          null
         ]
        },
        {
         "mode": "lines+markers",
         "name": "cubic",
         "type": "scatter",
         "x": [
          0.1,
          0.11,
          0.12,
          0.13,
          0.13999999999999999,
          0.14999999999999997,
          0.15999999999999998,
          0.16999999999999998,
          0.17999999999999997,
          0.18999999999999995,
          0.19999999999999996,
          0.20999999999999996,
          0.21999999999999995,
          0.22999999999999995,
          0.23999999999999994,
          0.24999999999999992,
          0.2599999999999999,
          0.2699999999999999,
          0.2799999999999999,
          0.2899999999999999,
          0.29999999999999993,
          0.30999999999999994,
          0.3199999999999999,
          0.32999999999999985,
          0.33999999999999986,
          0.34999999999999987,
          0.3599999999999999,
          0.3699999999999999,
          0.3799999999999999,
          0.3899999999999999,
          0.3999999999999998,
          0.4099999999999998,
          0.4199999999999998,
          0.4299999999999998,
          0.43999999999999984,
          0.44999999999999984,
          0.45999999999999985,
          0.46999999999999986,
          0.47999999999999976,
          0.48999999999999977
         ],
         "y": [
          4.7541,
          5.3457,
          5.3931,
          5.15,
          5.7077,
          6.2767,
          6.2748,
          5.9786,
          6.9482,
          null,
          null,
          null,
          null,
          null,
          null,
          null,
          null,
          null,
          null,
          null,
          null,
          null,
          null,
          null,
          null,
          null,
          null,
          null,
          null,
          null,
          null,
          null,
          null,
          null,
          null,
          null,
          null,
          null,
          null,
          null
         ]
        },
        {
         "mode": "lines+markers",
         "name": "polynomial_order_1",
         "type": "scatter",
         "x": [
          0.1,
          0.11,
          0.12,
          0.13,
          0.13999999999999999,
          0.14999999999999997,
          0.15999999999999998,
          0.16999999999999998,
          0.17999999999999997,
          0.18999999999999995,
          0.19999999999999996,
          0.20999999999999996,
          0.21999999999999995,
          0.22999999999999995,
          0.23999999999999994,
          0.24999999999999992,
          0.2599999999999999,
          0.2699999999999999,
          0.2799999999999999,
          0.2899999999999999,
          0.29999999999999993,
          0.30999999999999994,
          0.3199999999999999,
          0.32999999999999985,
          0.33999999999999986,
          0.34999999999999987,
          0.3599999999999999,
          0.3699999999999999,
          0.3799999999999999,
          0.3899999999999999,
          0.3999999999999998,
          0.4099999999999998,
          0.4199999999999998,
          0.4299999999999998,
          0.43999999999999984,
          0.44999999999999984,
          0.45999999999999985,
          0.46999999999999986,
          0.47999999999999976,
          0.48999999999999977
         ],
         "y": [
          2.972,
          3.49,
          3.3104,
          3.1589,
          3.7144,
          4.2461,
          4.2883,
          4.0967,
          4.5397,
          null,
          null,
          null,
          null,
          null,
          null,
          null,
          null,
          null,
          null,
          null,
          null,
          null,
          null,
          null,
          null,
          null,
          null,
          null,
          null,
          null,
          null,
          null,
          null,
          null,
          null,
          null,
          null,
          null,
          null,
          null
         ]
        },
        {
         "mode": "lines+markers",
         "name": "polynomial_order_2",
         "type": "scatter",
         "x": [
          0.1,
          0.11,
          0.12,
          0.13,
          0.13999999999999999,
          0.14999999999999997,
          0.15999999999999998,
          0.16999999999999998,
          0.17999999999999997,
          0.18999999999999995,
          0.19999999999999996,
          0.20999999999999996,
          0.21999999999999995,
          0.22999999999999995,
          0.23999999999999994,
          0.24999999999999992,
          0.2599999999999999,
          0.2699999999999999,
          0.2799999999999999,
          0.2899999999999999,
          0.29999999999999993,
          0.30999999999999994,
          0.3199999999999999,
          0.32999999999999985,
          0.33999999999999986,
          0.34999999999999987,
          0.3599999999999999,
          0.3699999999999999,
          0.3799999999999999,
          0.3899999999999999,
          0.3999999999999998,
          0.4099999999999998,
          0.4199999999999998,
          0.4299999999999998,
          0.43999999999999984,
          0.44999999999999984,
          0.45999999999999985,
          0.46999999999999986,
          0.47999999999999976,
          0.48999999999999977
         ],
         "y": [
          4.3372,
          4.9374,
          4.9262,
          4.7112,
          5.2107,
          5.8253,
          5.8352,
          5.5484,
          6.3717,
          null,
          null,
          null,
          null,
          null,
          null,
          null,
          null,
          null,
          null,
          null,
          null,
          null,
          null,
          null,
          null,
          null,
          null,
          null,
          null,
          null,
          null,
          null,
          null,
          null,
          null,
          null,
          null,
          null,
          null,
          null
         ]
        },
        {
         "mode": "lines+markers",
         "name": "polynomial_order_3",
         "type": "scatter",
         "x": [
          0.1,
          0.11,
          0.12,
          0.13,
          0.13999999999999999,
          0.14999999999999997,
          0.15999999999999998,
          0.16999999999999998,
          0.17999999999999997,
          0.18999999999999995,
          0.19999999999999996,
          0.20999999999999996,
          0.21999999999999995,
          0.22999999999999995,
          0.23999999999999994,
          0.24999999999999992,
          0.2599999999999999,
          0.2699999999999999,
          0.2799999999999999,
          0.2899999999999999,
          0.29999999999999993,
          0.30999999999999994,
          0.3199999999999999,
          0.32999999999999985,
          0.33999999999999986,
          0.34999999999999987,
          0.3599999999999999,
          0.3699999999999999,
          0.3799999999999999,
          0.3899999999999999,
          0.3999999999999998,
          0.4099999999999998,
          0.4199999999999998,
          0.4299999999999998,
          0.43999999999999984,
          0.44999999999999984,
          0.45999999999999985,
          0.46999999999999986,
          0.47999999999999976,
          0.48999999999999977
         ],
         "y": [
          4.7541,
          5.3457,
          5.3931,
          5.15,
          5.7077,
          6.2767,
          6.2748,
          5.9786,
          6.9482,
          null,
          null,
          null,
          null,
          null,
          null,
          null,
          null,
          null,
          null,
          null,
          null,
          null,
          null,
          null,
          null,
          null,
          null,
          null,
          null,
          null,
          null,
          null,
          null,
          null,
          null,
          null,
          null,
          null,
          null,
          null
         ]
        },
        {
         "mode": "lines+markers",
         "name": "polynomial_order_5",
         "type": "scatter",
         "x": [
          0.1,
          0.11,
          0.12,
          0.13,
          0.13999999999999999,
          0.14999999999999997,
          0.15999999999999998,
          0.16999999999999998,
          0.17999999999999997,
          0.18999999999999995,
          0.19999999999999996,
          0.20999999999999996,
          0.21999999999999995,
          0.22999999999999995,
          0.23999999999999994,
          0.24999999999999992,
          0.2599999999999999,
          0.2699999999999999,
          0.2799999999999999,
          0.2899999999999999,
          0.29999999999999993,
          0.30999999999999994,
          0.3199999999999999,
          0.32999999999999985,
          0.33999999999999986,
          0.34999999999999987,
          0.3599999999999999,
          0.3699999999999999,
          0.3799999999999999,
          0.3899999999999999,
          0.3999999999999998,
          0.4099999999999998,
          0.4199999999999998,
          0.4299999999999998,
          0.43999999999999984,
          0.44999999999999984,
          0.45999999999999985,
          0.46999999999999986,
          0.47999999999999976,
          0.48999999999999977
         ],
         "y": [
          7.1286,
          7.9055,
          8.0881,
          7.5978,
          9.0312,
          9.2843,
          9.1254,
          8.7441,
          10.0028,
          null,
          null,
          null,
          null,
          null,
          null,
          null,
          null,
          null,
          null,
          null,
          null,
          null,
          null,
          null,
          null,
          null,
          null,
          null,
          null,
          null,
          null,
          null,
          null,
          null,
          null,
          null,
          null,
          null,
          null,
          null
         ]
        },
        {
         "mode": "lines+markers",
         "name": "polynomial_order_7",
         "type": "scatter",
         "x": [
          0.1,
          0.11,
          0.12,
          0.13,
          0.13999999999999999,
          0.14999999999999997,
          0.15999999999999998,
          0.16999999999999998,
          0.17999999999999997,
          0.18999999999999995,
          0.19999999999999996,
          0.20999999999999996,
          0.21999999999999995,
          0.22999999999999995,
          0.23999999999999994,
          0.24999999999999992,
          0.2599999999999999,
          0.2699999999999999,
          0.2799999999999999,
          0.2899999999999999,
          0.29999999999999993,
          0.30999999999999994,
          0.3199999999999999,
          0.32999999999999985,
          0.33999999999999986,
          0.34999999999999987,
          0.3599999999999999,
          0.3699999999999999,
          0.3799999999999999,
          0.3899999999999999,
          0.3999999999999998,
          0.4099999999999998,
          0.4199999999999998,
          0.4299999999999998,
          0.43999999999999984,
          0.44999999999999984,
          0.45999999999999985,
          0.46999999999999986,
          0.47999999999999976,
          0.48999999999999977
         ],
         "y": [
          10.8039,
          11.7793,
          11.7718,
          10.9225,
          14.3332,
          14.1282,
          13.481,
          13.016,
          13.7532,
          null,
          null,
          null,
          null,
          null,
          null,
          null,
          null,
          null,
          null,
          null,
          null,
          null,
          null,
          null,
          null,
          null,
          null,
          null,
          null,
          null,
          null,
          null,
          null,
          null,
          null,
          null,
          null,
          null,
          null,
          null
         ]
        },
        {
         "mode": "lines+markers",
         "name": "polynomial_order_9",
         "type": "scatter",
         "x": [
          0.1,
          0.11,
          0.12,
          0.13,
          0.13999999999999999,
          0.14999999999999997,
          0.15999999999999998,
          0.16999999999999998,
          0.17999999999999997,
          0.18999999999999995,
          0.19999999999999996,
          0.20999999999999996,
          0.21999999999999995,
          0.22999999999999995,
          0.23999999999999994,
          0.24999999999999992,
          0.2599999999999999,
          0.2699999999999999,
          0.2799999999999999,
          0.2899999999999999,
          0.29999999999999993,
          0.30999999999999994,
          0.3199999999999999,
          0.32999999999999985,
          0.33999999999999986,
          0.34999999999999987,
          0.3599999999999999,
          0.3699999999999999,
          0.3799999999999999,
          0.3899999999999999,
          0.3999999999999998,
          0.4099999999999998,
          0.4199999999999998,
          0.4299999999999998,
          0.43999999999999984,
          0.44999999999999984,
          0.45999999999999985,
          0.46999999999999986,
          0.47999999999999976,
          0.48999999999999977
         ],
         "y": [
          15.9389,
          17.09,
          16.5046,
          15.2369,
          21.2069,
          20.5272,
          18.9815,
          18.6828,
          18.5074,
          null,
          null,
          null,
          null,
          null,
          null,
          null,
          null,
          null,
          null,
          null,
          null,
          null,
          null,
          null,
          null,
          null,
          null,
          null,
          null,
          null,
          null,
          null,
          null,
          null,
          null,
          null,
          null,
          null,
          null,
          null
         ]
        },
        {
         "mode": "lines+markers",
         "name": "piecewise_polynomial",
         "type": "scatter",
         "x": [
          0.1,
          0.11,
          0.12,
          0.13,
          0.13999999999999999,
          0.14999999999999997,
          0.15999999999999998,
          0.16999999999999998,
          0.17999999999999997,
          0.18999999999999995,
          0.19999999999999996,
          0.20999999999999996,
          0.21999999999999995,
          0.22999999999999995,
          0.23999999999999994,
          0.24999999999999992,
          0.2599999999999999,
          0.2699999999999999,
          0.2799999999999999,
          0.2899999999999999,
          0.29999999999999993,
          0.30999999999999994,
          0.3199999999999999,
          0.32999999999999985,
          0.33999999999999986,
          0.34999999999999987,
          0.3599999999999999,
          0.3699999999999999,
          0.3799999999999999,
          0.3899999999999999,
          0.3999999999999998,
          0.4099999999999998,
          0.4199999999999998,
          0.4299999999999998,
          0.43999999999999984,
          0.44999999999999984,
          0.45999999999999985,
          0.46999999999999986,
          0.47999999999999976,
          0.48999999999999977
         ],
         "y": [
          2.972,
          3.49,
          3.3104,
          3.1589,
          3.7144,
          4.2461,
          4.2883,
          4.0967,
          4.5397,
          null,
          null,
          null,
          null,
          null,
          null,
          null,
          null,
          null,
          null,
          null,
          null,
          null,
          null,
          null,
          null,
          null,
          null,
          null,
          null,
          null,
          null,
          null,
          null,
          null,
          null,
          null,
          null,
          null,
          null,
          null
         ]
        },
        {
         "mode": "lines+markers",
         "name": "spline_order_1",
         "type": "scatter",
         "x": [
          0.1,
          0.11,
          0.12,
          0.13,
          0.13999999999999999,
          0.14999999999999997,
          0.15999999999999998,
          0.16999999999999998,
          0.17999999999999997,
          0.18999999999999995,
          0.19999999999999996,
          0.20999999999999996,
          0.21999999999999995,
          0.22999999999999995,
          0.23999999999999994,
          0.24999999999999992,
          0.2599999999999999,
          0.2699999999999999,
          0.2799999999999999,
          0.2899999999999999,
          0.29999999999999993,
          0.30999999999999994,
          0.3199999999999999,
          0.32999999999999985,
          0.33999999999999986,
          0.34999999999999987,
          0.3599999999999999,
          0.3699999999999999,
          0.3799999999999999,
          0.3899999999999999,
          0.3999999999999998,
          0.4099999999999998,
          0.4199999999999998,
          0.4299999999999998,
          0.43999999999999984,
          0.44999999999999984,
          0.45999999999999985,
          0.46999999999999986,
          0.47999999999999976,
          0.48999999999999977
         ],
         "y": [
          3.2082,
          3.6865,
          3.5678,
          3.3954,
          3.9867,
          4.5596,
          4.5837,
          4.3799,
          4.8294,
          4.7693,
          4.6962,
          4.5267,
          4.3579,
          4.8282,
          4.7262,
          5.0253,
          4.8387,
          4.7133,
          4.6675,
          4.6508,
          5.0675,
          5.3975,
          5.3425,
          5.2611,
          5.3646,
          5.3043,
          5.1749,
          5.0429,
          5.0333,
          5.0962,
          5.1474,
          5.1772,
          5.0916,
          5.0023,
          5.1862,
          5.3045,
          5.217,
          6.0295,
          7.0387,
          6.9173
         ]
        },
        {
         "mode": "lines+markers",
         "name": "spline_order_2",
         "type": "scatter",
         "x": [
          0.1,
          0.11,
          0.12,
          0.13,
          0.13999999999999999,
          0.14999999999999997,
          0.15999999999999998,
          0.16999999999999998,
          0.17999999999999997,
          0.18999999999999995,
          0.19999999999999996,
          0.20999999999999996,
          0.21999999999999995,
          0.22999999999999995,
          0.23999999999999994,
          0.24999999999999992,
          0.2599999999999999,
          0.2699999999999999,
          0.2799999999999999,
          0.2899999999999999,
          0.29999999999999993,
          0.30999999999999994,
          0.3199999999999999,
          0.32999999999999985,
          0.33999999999999986,
          0.34999999999999987,
          0.3599999999999999,
          0.3699999999999999,
          0.3799999999999999,
          0.3899999999999999,
          0.3999999999999998,
          0.4099999999999998,
          0.4199999999999998,
          0.4299999999999998,
          0.43999999999999984,
          0.44999999999999984,
          0.45999999999999985,
          0.46999999999999986,
          0.47999999999999976,
          0.48999999999999977
         ],
         "y": [
          4.1913,
          4.787,
          46.0933,
          49.365,
          52.1933,
          5.7445,
          5.7517,
          54.0202,
          52.3243,
          57.9665,
          6.1306,
          59.9985,
          66.038,
          51.6947,
          54.0265,
          61.8755,
          56.1181,
          51.2718,
          42.9611,
          51.1749,
          6.9792,
          43.9148,
          45.9486,
          37.9939,
          44.8894,
          36.2152,
          6.8135,
          6.8171,
          6.8654,
          37.8691,
          6.8574,
          6.9902,
          6.9915,
          6.905,
          6.9031,
          6.8466,
          46.1019,
          47.6132,
          47.9744,
          8.3445
         ]
        },
        {
         "mode": "lines+markers",
         "name": "spline_order_3",
         "type": "scatter",
         "x": [
          0.1,
          0.11,
          0.12,
          0.13,
          0.13999999999999999,
          0.14999999999999997,
          0.15999999999999998,
          0.16999999999999998,
          0.17999999999999997,
          0.18999999999999995,
          0.19999999999999996,
          0.20999999999999996,
          0.21999999999999995,
          0.22999999999999995,
          0.23999999999999994,
          0.24999999999999992,
          0.2599999999999999,
          0.2699999999999999,
          0.2799999999999999,
          0.2899999999999999,
          0.29999999999999993,
          0.30999999999999994,
          0.3199999999999999,
          0.32999999999999985,
          0.33999999999999986,
          0.34999999999999987,
          0.3599999999999999,
          0.3699999999999999,
          0.3799999999999999,
          0.3899999999999999,
          0.3999999999999998,
          0.4099999999999998,
          0.4199999999999998,
          0.4299999999999998,
          0.43999999999999984,
          0.44999999999999984,
          0.45999999999999985,
          0.46999999999999986,
          0.47999999999999976,
          0.48999999999999977
         ],
         "y": [
          4.8855,
          5.4775,
          5.4686,
          5.3834,
          5.868,
          6.4953,
          6.3725,
          6.1783,
          7.0004,
          9.2902,
          277.7067,
          8.4401,
          8.4475,
          8.659,
          6.9432,
          7.5206,
          7.7733,
          7.5253,
          7.395,
          8.6629,
          8.0256,
          8.1266,
          8.2242,
          7.9849,
          7.9903,
          7.8382,
          7.8336,
          7.9058,
          7.7831,
          8.1466,
          8.0239,
          8.0443,
          8.0355,
          8.1105,
          7.7566,
          7.7064,
          7.9869,
          8.5599,
          9.1986,
          9.5084
         ]
        },
        {
         "mode": "lines+markers",
         "name": "spline_order_4",
         "type": "scatter",
         "x": [
          0.1,
          0.11,
          0.12,
          0.13,
          0.13999999999999999,
          0.14999999999999997,
          0.15999999999999998,
          0.16999999999999998,
          0.17999999999999997,
          0.18999999999999995,
          0.19999999999999996,
          0.20999999999999996,
          0.21999999999999995,
          0.22999999999999995,
          0.23999999999999994,
          0.24999999999999992,
          0.2599999999999999,
          0.2699999999999999,
          0.2799999999999999,
          0.2899999999999999,
          0.29999999999999993,
          0.30999999999999994,
          0.3199999999999999,
          0.32999999999999985,
          0.33999999999999986,
          0.34999999999999987,
          0.3599999999999999,
          0.3699999999999999,
          0.3799999999999999,
          0.3899999999999999,
          0.3999999999999998,
          0.4099999999999998,
          0.4199999999999998,
          0.4299999999999998,
          0.43999999999999984,
          0.44999999999999984,
          0.45999999999999985,
          0.46999999999999986,
          0.47999999999999976,
          0.48999999999999977
         ],
         "y": [
          5.7055,
          6.4743,
          54.883,
          53.3974,
          7.2742,
          7.7138,
          7.6501,
          7.3362,
          50.2764,
          85.717,
          60.267,
          79.2046,
          61.2336,
          61.0309,
          63.3677,
          9.2369,
          59.901,
          55.6284,
          49.9775,
          55.5601,
          9.7167,
          53.694,
          9.4536,
          67.9488,
          59.9456,
          55.9558,
          9.0805,
          55.2082,
          53.7285,
          49.3243,
          9.6836,
          9.7508,
          9.7264,
          60.6665,
          72.441,
          57.6575,
          75.153,
          75.9859,
          68.1624,
          91.06
         ]
        },
        {
         "mode": "lines+markers",
         "name": "spline_order_5",
         "type": "scatter",
         "x": [
          0.1,
          0.11,
          0.12,
          0.13,
          0.13999999999999999,
          0.14999999999999997,
          0.15999999999999998,
          0.16999999999999998,
          0.17999999999999997,
          0.18999999999999995,
          0.19999999999999996,
          0.20999999999999996,
          0.21999999999999995,
          0.22999999999999995,
          0.23999999999999994,
          0.24999999999999992,
          0.2599999999999999,
          0.2699999999999999,
          0.2799999999999999,
          0.2899999999999999,
          0.29999999999999993,
          0.30999999999999994,
          0.3199999999999999,
          0.32999999999999985,
          0.33999999999999986,
          0.34999999999999987,
          0.3599999999999999,
          0.3699999999999999,
          0.3799999999999999,
          0.3899999999999999,
          0.3999999999999998,
          0.4099999999999998,
          0.4199999999999998,
          0.4299999999999998,
          0.43999999999999984,
          0.44999999999999984,
          0.45999999999999985,
          0.46999999999999986,
          0.47999999999999976,
          0.48999999999999977
         ],
         "y": [
          7.0249,
          7.5377,
          7.6112,
          7.6387,
          8.8745,
          9.021,
          9.0039,
          8.4731,
          9.9353,
          10.7501,
          10.2206,
          10.2361,
          9.6538,
          9.8445,
          22.2229,
          10.6486,
          11.202,
          11.0074,
          10.8786,
          11.1389,
          11.2375,
          10.4943,
          10.6299,
          10.396,
          10.3561,
          10.1232,
          9.9735,
          10.0749,
          10.5516,
          11.0231,
          10.6719,
          10.9751,
          11.1198,
          11.5696,
          10.6523,
          11.0619,
          14.1665,
          13.4228,
          11.6348,
          11.1366
         ]
        },
        {
         "mode": "lines+markers",
         "name": "akima",
         "type": "scatter",
         "x": [
          0.1,
          0.11,
          0.12,
          0.13,
          0.13999999999999999,
          0.14999999999999997,
          0.15999999999999998,
          0.16999999999999998,
          0.17999999999999997,
          0.18999999999999995,
          0.19999999999999996,
          0.20999999999999996,
          0.21999999999999995,
          0.22999999999999995,
          0.23999999999999994,
          0.24999999999999992,
          0.2599999999999999,
          0.2699999999999999,
          0.2799999999999999,
          0.2899999999999999,
          0.29999999999999993,
          0.30999999999999994,
          0.3199999999999999,
          0.32999999999999985,
          0.33999999999999986,
          0.34999999999999987,
          0.3599999999999999,
          0.3699999999999999,
          0.3799999999999999,
          0.3899999999999999,
          0.3999999999999998,
          0.4099999999999998,
          0.4199999999999998,
          0.4299999999999998,
          0.43999999999999984,
          0.44999999999999984,
          0.45999999999999985,
          0.46999999999999986,
          0.47999999999999976,
          0.48999999999999977
         ],
         "y": [
          2.9095,
          3.38,
          3.1933,
          3.0564,
          3.5714,
          4.1199,
          4.2013,
          4.0062,
          4.474,
          null,
          null,
          null,
          null,
          null,
          null,
          null,
          null,
          null,
          null,
          null,
          null,
          null,
          null,
          null,
          null,
          null,
          null,
          null,
          null,
          null,
          null,
          null,
          null,
          null,
          null,
          null,
          null,
          null,
          null,
          null
         ]
        },
        {
         "mode": "lines+markers",
         "name": "cubicspline",
         "type": "scatter",
         "x": [
          0.1,
          0.11,
          0.12,
          0.13,
          0.13999999999999999,
          0.14999999999999997,
          0.15999999999999998,
          0.16999999999999998,
          0.17999999999999997,
          0.18999999999999995,
          0.19999999999999996,
          0.20999999999999996,
          0.21999999999999995,
          0.22999999999999995,
          0.23999999999999994,
          0.24999999999999992,
          0.2599999999999999,
          0.2699999999999999,
          0.2799999999999999,
          0.2899999999999999,
          0.29999999999999993,
          0.30999999999999994,
          0.3199999999999999,
          0.32999999999999985,
          0.33999999999999986,
          0.34999999999999987,
          0.3599999999999999,
          0.3699999999999999,
          0.3799999999999999,
          0.3899999999999999,
          0.3999999999999998,
          0.4099999999999998,
          0.4199999999999998,
          0.4299999999999998,
          0.43999999999999984,
          0.44999999999999984,
          0.45999999999999985,
          0.46999999999999986,
          0.47999999999999976,
          0.48999999999999977
         ],
         "y": [
          4.7541,
          5.3457,
          5.3931,
          5.15,
          5.7077,
          6.2767,
          6.2748,
          5.9786,
          6.9482,
          7.1965,
          6.939,
          6.7193,
          6.4602,
          6.804,
          6.8784,
          7.2352,
          7.5435,
          7.3738,
          7.2181,
          7.3712,
          8.0017,
          7.9896,
          8.0635,
          7.8555,
          7.887,
          7.737,
          7.7439,
          7.8016,
          7.9213,
          8.0863,
          7.9229,
          8.0003,
          7.9768,
          7.8657,
          7.8794,
          7.8293,
          8.1913,
          8.7294,
          9.3962,
          9.2632
         ]
        },
        {
         "mode": "lines+markers",
         "name": "from_derivatives",
         "type": "scatter",
         "x": [
          0.1,
          0.11,
          0.12,
          0.13,
          0.13999999999999999,
          0.14999999999999997,
          0.15999999999999998,
          0.16999999999999998,
          0.17999999999999997,
          0.18999999999999995,
          0.19999999999999996,
          0.20999999999999996,
          0.21999999999999995,
          0.22999999999999995,
          0.23999999999999994,
          0.24999999999999992,
          0.2599999999999999,
          0.2699999999999999,
          0.2799999999999999,
          0.2899999999999999,
          0.29999999999999993,
          0.30999999999999994,
          0.3199999999999999,
          0.32999999999999985,
          0.33999999999999986,
          0.34999999999999987,
          0.3599999999999999,
          0.3699999999999999,
          0.3799999999999999,
          0.3899999999999999,
          0.3999999999999998,
          0.4099999999999998,
          0.4199999999999998,
          0.4299999999999998,
          0.43999999999999984,
          0.44999999999999984,
          0.45999999999999985,
          0.46999999999999986,
          0.47999999999999976,
          0.48999999999999977
         ],
         "y": [
          2.972,
          3.49,
          3.3104,
          3.1589,
          3.7144,
          4.2461,
          4.2883,
          4.0967,
          4.5397,
          null,
          null,
          null,
          null,
          null,
          null,
          null,
          null,
          null,
          null,
          null,
          null,
          null,
          null,
          null,
          null,
          null,
          null,
          null,
          null,
          null,
          null,
          null,
          null,
          null,
          null,
          null,
          null,
          null,
          null,
          null
         ]
        }
       ],
       "layout": {
        "legend": {
         "title": {
          "text": "Method"
         }
        },
        "template": {
         "data": {
          "bar": [
           {
            "error_x": {
             "color": "#2a3f5f"
            },
            "error_y": {
             "color": "#2a3f5f"
            },
            "marker": {
             "line": {
              "color": "#E5ECF6",
              "width": 0.5
             },
             "pattern": {
              "fillmode": "overlay",
              "size": 10,
              "solidity": 0.2
             }
            },
            "type": "bar"
           }
          ],
          "barpolar": [
           {
            "marker": {
             "line": {
              "color": "#E5ECF6",
              "width": 0.5
             },
             "pattern": {
              "fillmode": "overlay",
              "size": 10,
              "solidity": 0.2
             }
            },
            "type": "barpolar"
           }
          ],
          "carpet": [
           {
            "aaxis": {
             "endlinecolor": "#2a3f5f",
             "gridcolor": "white",
             "linecolor": "white",
             "minorgridcolor": "white",
             "startlinecolor": "#2a3f5f"
            },
            "baxis": {
             "endlinecolor": "#2a3f5f",
             "gridcolor": "white",
             "linecolor": "white",
             "minorgridcolor": "white",
             "startlinecolor": "#2a3f5f"
            },
            "type": "carpet"
           }
          ],
          "choropleth": [
           {
            "colorbar": {
             "outlinewidth": 0,
             "ticks": ""
            },
            "type": "choropleth"
           }
          ],
          "contour": [
           {
            "colorbar": {
             "outlinewidth": 0,
             "ticks": ""
            },
            "colorscale": [
             [
              0,
              "#0d0887"
             ],
             [
              0.1111111111111111,
              "#46039f"
             ],
             [
              0.2222222222222222,
              "#7201a8"
             ],
             [
              0.3333333333333333,
              "#9c179e"
             ],
             [
              0.4444444444444444,
              "#bd3786"
             ],
             [
              0.5555555555555556,
              "#d8576b"
             ],
             [
              0.6666666666666666,
              "#ed7953"
             ],
             [
              0.7777777777777778,
              "#fb9f3a"
             ],
             [
              0.8888888888888888,
              "#fdca26"
             ],
             [
              1,
              "#f0f921"
             ]
            ],
            "type": "contour"
           }
          ],
          "contourcarpet": [
           {
            "colorbar": {
             "outlinewidth": 0,
             "ticks": ""
            },
            "type": "contourcarpet"
           }
          ],
          "heatmap": [
           {
            "colorbar": {
             "outlinewidth": 0,
             "ticks": ""
            },
            "colorscale": [
             [
              0,
              "#0d0887"
             ],
             [
              0.1111111111111111,
              "#46039f"
             ],
             [
              0.2222222222222222,
              "#7201a8"
             ],
             [
              0.3333333333333333,
              "#9c179e"
             ],
             [
              0.4444444444444444,
              "#bd3786"
             ],
             [
              0.5555555555555556,
              "#d8576b"
             ],
             [
              0.6666666666666666,
              "#ed7953"
             ],
             [
              0.7777777777777778,
              "#fb9f3a"
             ],
             [
              0.8888888888888888,
              "#fdca26"
             ],
             [
              1,
              "#f0f921"
             ]
            ],
            "type": "heatmap"
           }
          ],
          "heatmapgl": [
           {
            "colorbar": {
             "outlinewidth": 0,
             "ticks": ""
            },
            "colorscale": [
             [
              0,
              "#0d0887"
             ],
             [
              0.1111111111111111,
              "#46039f"
             ],
             [
              0.2222222222222222,
              "#7201a8"
             ],
             [
              0.3333333333333333,
              "#9c179e"
             ],
             [
              0.4444444444444444,
              "#bd3786"
             ],
             [
              0.5555555555555556,
              "#d8576b"
             ],
             [
              0.6666666666666666,
              "#ed7953"
             ],
             [
              0.7777777777777778,
              "#fb9f3a"
             ],
             [
              0.8888888888888888,
              "#fdca26"
             ],
             [
              1,
              "#f0f921"
             ]
            ],
            "type": "heatmapgl"
           }
          ],
          "histogram": [
           {
            "marker": {
             "pattern": {
              "fillmode": "overlay",
              "size": 10,
              "solidity": 0.2
             }
            },
            "type": "histogram"
           }
          ],
          "histogram2d": [
           {
            "colorbar": {
             "outlinewidth": 0,
             "ticks": ""
            },
            "colorscale": [
             [
              0,
              "#0d0887"
             ],
             [
              0.1111111111111111,
              "#46039f"
             ],
             [
              0.2222222222222222,
              "#7201a8"
             ],
             [
              0.3333333333333333,
              "#9c179e"
             ],
             [
              0.4444444444444444,
              "#bd3786"
             ],
             [
              0.5555555555555556,
              "#d8576b"
             ],
             [
              0.6666666666666666,
              "#ed7953"
             ],
             [
              0.7777777777777778,
              "#fb9f3a"
             ],
             [
              0.8888888888888888,
              "#fdca26"
             ],
             [
              1,
              "#f0f921"
             ]
            ],
            "type": "histogram2d"
           }
          ],
          "histogram2dcontour": [
           {
            "colorbar": {
             "outlinewidth": 0,
             "ticks": ""
            },
            "colorscale": [
             [
              0,
              "#0d0887"
             ],
             [
              0.1111111111111111,
              "#46039f"
             ],
             [
              0.2222222222222222,
              "#7201a8"
             ],
             [
              0.3333333333333333,
              "#9c179e"
             ],
             [
              0.4444444444444444,
              "#bd3786"
             ],
             [
              0.5555555555555556,
              "#d8576b"
             ],
             [
              0.6666666666666666,
              "#ed7953"
             ],
             [
              0.7777777777777778,
              "#fb9f3a"
             ],
             [
              0.8888888888888888,
              "#fdca26"
             ],
             [
              1,
              "#f0f921"
             ]
            ],
            "type": "histogram2dcontour"
           }
          ],
          "mesh3d": [
           {
            "colorbar": {
             "outlinewidth": 0,
             "ticks": ""
            },
            "type": "mesh3d"
           }
          ],
          "parcoords": [
           {
            "line": {
             "colorbar": {
              "outlinewidth": 0,
              "ticks": ""
             }
            },
            "type": "parcoords"
           }
          ],
          "pie": [
           {
            "automargin": true,
            "type": "pie"
           }
          ],
          "scatter": [
           {
            "fillpattern": {
             "fillmode": "overlay",
             "size": 10,
             "solidity": 0.2
            },
            "type": "scatter"
           }
          ],
          "scatter3d": [
           {
            "line": {
             "colorbar": {
              "outlinewidth": 0,
              "ticks": ""
             }
            },
            "marker": {
             "colorbar": {
              "outlinewidth": 0,
              "ticks": ""
             }
            },
            "type": "scatter3d"
           }
          ],
          "scattercarpet": [
           {
            "marker": {
             "colorbar": {
              "outlinewidth": 0,
              "ticks": ""
             }
            },
            "type": "scattercarpet"
           }
          ],
          "scattergeo": [
           {
            "marker": {
             "colorbar": {
              "outlinewidth": 0,
              "ticks": ""
             }
            },
            "type": "scattergeo"
           }
          ],
          "scattergl": [
           {
            "marker": {
             "colorbar": {
              "outlinewidth": 0,
              "ticks": ""
             }
            },
            "type": "scattergl"
           }
          ],
          "scattermapbox": [
           {
            "marker": {
             "colorbar": {
              "outlinewidth": 0,
              "ticks": ""
             }
            },
            "type": "scattermapbox"
           }
          ],
          "scatterpolar": [
           {
            "marker": {
             "colorbar": {
              "outlinewidth": 0,
              "ticks": ""
             }
            },
            "type": "scatterpolar"
           }
          ],
          "scatterpolargl": [
           {
            "marker": {
             "colorbar": {
              "outlinewidth": 0,
              "ticks": ""
             }
            },
            "type": "scatterpolargl"
           }
          ],
          "scatterternary": [
           {
            "marker": {
             "colorbar": {
              "outlinewidth": 0,
              "ticks": ""
             }
            },
            "type": "scatterternary"
           }
          ],
          "surface": [
           {
            "colorbar": {
             "outlinewidth": 0,
             "ticks": ""
            },
            "colorscale": [
             [
              0,
              "#0d0887"
             ],
             [
              0.1111111111111111,
              "#46039f"
             ],
             [
              0.2222222222222222,
              "#7201a8"
             ],
             [
              0.3333333333333333,
              "#9c179e"
             ],
             [
              0.4444444444444444,
              "#bd3786"
             ],
             [
              0.5555555555555556,
              "#d8576b"
             ],
             [
              0.6666666666666666,
              "#ed7953"
             ],
             [
              0.7777777777777778,
              "#fb9f3a"
             ],
             [
              0.8888888888888888,
              "#fdca26"
             ],
             [
              1,
              "#f0f921"
             ]
            ],
            "type": "surface"
           }
          ],
          "table": [
           {
            "cells": {
             "fill": {
              "color": "#EBF0F8"
             },
             "line": {
              "color": "white"
             }
            },
            "header": {
             "fill": {
              "color": "#C8D4E3"
             },
             "line": {
              "color": "white"
             }
            },
            "type": "table"
           }
          ]
         },
         "layout": {
          "annotationdefaults": {
           "arrowcolor": "#2a3f5f",
           "arrowhead": 0,
           "arrowwidth": 1
          },
          "autotypenumbers": "strict",
          "coloraxis": {
           "colorbar": {
            "outlinewidth": 0,
            "ticks": ""
           }
          },
          "colorscale": {
           "diverging": [
            [
             0,
             "#8e0152"
            ],
            [
             0.1,
             "#c51b7d"
            ],
            [
             0.2,
             "#de77ae"
            ],
            [
             0.3,
             "#f1b6da"
            ],
            [
             0.4,
             "#fde0ef"
            ],
            [
             0.5,
             "#f7f7f7"
            ],
            [
             0.6,
             "#e6f5d0"
            ],
            [
             0.7,
             "#b8e186"
            ],
            [
             0.8,
             "#7fbc41"
            ],
            [
             0.9,
             "#4d9221"
            ],
            [
             1,
             "#276419"
            ]
           ],
           "sequential": [
            [
             0,
             "#0d0887"
            ],
            [
             0.1111111111111111,
             "#46039f"
            ],
            [
             0.2222222222222222,
             "#7201a8"
            ],
            [
             0.3333333333333333,
             "#9c179e"
            ],
            [
             0.4444444444444444,
             "#bd3786"
            ],
            [
             0.5555555555555556,
             "#d8576b"
            ],
            [
             0.6666666666666666,
             "#ed7953"
            ],
            [
             0.7777777777777778,
             "#fb9f3a"
            ],
            [
             0.8888888888888888,
             "#fdca26"
            ],
            [
             1,
             "#f0f921"
            ]
           ],
           "sequentialminus": [
            [
             0,
             "#0d0887"
            ],
            [
             0.1111111111111111,
             "#46039f"
            ],
            [
             0.2222222222222222,
             "#7201a8"
            ],
            [
             0.3333333333333333,
             "#9c179e"
            ],
            [
             0.4444444444444444,
             "#bd3786"
            ],
            [
             0.5555555555555556,
             "#d8576b"
            ],
            [
             0.6666666666666666,
             "#ed7953"
            ],
            [
             0.7777777777777778,
             "#fb9f3a"
            ],
            [
             0.8888888888888888,
             "#fdca26"
            ],
            [
             1,
             "#f0f921"
            ]
           ]
          },
          "colorway": [
           "#636efa",
           "#EF553B",
           "#00cc96",
           "#ab63fa",
           "#FFA15A",
           "#19d3f3",
           "#FF6692",
           "#B6E880",
           "#FF97FF",
           "#FECB52"
          ],
          "font": {
           "color": "#2a3f5f"
          },
          "geo": {
           "bgcolor": "white",
           "lakecolor": "white",
           "landcolor": "#E5ECF6",
           "showlakes": true,
           "showland": true,
           "subunitcolor": "white"
          },
          "hoverlabel": {
           "align": "left"
          },
          "hovermode": "closest",
          "mapbox": {
           "style": "light"
          },
          "paper_bgcolor": "white",
          "plot_bgcolor": "#E5ECF6",
          "polar": {
           "angularaxis": {
            "gridcolor": "white",
            "linecolor": "white",
            "ticks": ""
           },
           "bgcolor": "#E5ECF6",
           "radialaxis": {
            "gridcolor": "white",
            "linecolor": "white",
            "ticks": ""
           }
          },
          "scene": {
           "xaxis": {
            "backgroundcolor": "#E5ECF6",
            "gridcolor": "white",
            "gridwidth": 2,
            "linecolor": "white",
            "showbackground": true,
            "ticks": "",
            "zerolinecolor": "white"
           },
           "yaxis": {
            "backgroundcolor": "#E5ECF6",
            "gridcolor": "white",
            "gridwidth": 2,
            "linecolor": "white",
            "showbackground": true,
            "ticks": "",
            "zerolinecolor": "white"
           },
           "zaxis": {
            "backgroundcolor": "#E5ECF6",
            "gridcolor": "white",
            "gridwidth": 2,
            "linecolor": "white",
            "showbackground": true,
            "ticks": "",
            "zerolinecolor": "white"
           }
          },
          "shapedefaults": {
           "line": {
            "color": "#2a3f5f"
           }
          },
          "ternary": {
           "aaxis": {
            "gridcolor": "white",
            "linecolor": "white",
            "ticks": ""
           },
           "baxis": {
            "gridcolor": "white",
            "linecolor": "white",
            "ticks": ""
           },
           "bgcolor": "#E5ECF6",
           "caxis": {
            "gridcolor": "white",
            "linecolor": "white",
            "ticks": ""
           }
          },
          "title": {
           "x": 0.05
          },
          "xaxis": {
           "automargin": true,
           "gridcolor": "white",
           "linecolor": "white",
           "ticks": "",
           "title": {
            "standoff": 15
           },
           "zerolinecolor": "white",
           "zerolinewidth": 2
          },
          "yaxis": {
           "automargin": true,
           "gridcolor": "white",
           "linecolor": "white",
           "ticks": "",
           "title": {
            "standoff": 15
           },
           "zerolinecolor": "white",
           "zerolinewidth": 2
          }
         }
        },
        "title": {
         "text": "Performance Development for Feature Iws"
        },
        "xaxis": {
         "title": {
          "text": "Missing Rate"
         }
        },
        "yaxis": {
         "title": {
          "text": "Difference between original and interpolated data"
         }
        }
       }
      }
     },
     "metadata": {},
     "output_type": "display_data"
    },
    {
     "data": {
      "application/vnd.plotly.v1+json": {
       "config": {
        "plotlyServerURL": "https://plot.ly"
       },
       "data": [
        {
         "mode": "lines+markers",
         "name": "linear",
         "type": "scatter",
         "x": [
          0.1,
          0.11,
          0.12,
          0.13,
          0.13999999999999999,
          0.14999999999999997,
          0.15999999999999998,
          0.16999999999999998,
          0.17999999999999997,
          0.18999999999999995,
          0.19999999999999996,
          0.20999999999999996,
          0.21999999999999995,
          0.22999999999999995,
          0.23999999999999994,
          0.24999999999999992,
          0.2599999999999999,
          0.2699999999999999,
          0.2799999999999999,
          0.2899999999999999,
          0.29999999999999993,
          0.30999999999999994,
          0.3199999999999999,
          0.32999999999999985,
          0.33999999999999986,
          0.34999999999999987,
          0.3599999999999999,
          0.3699999999999999,
          0.3799999999999999,
          0.3899999999999999,
          0.3999999999999998,
          0.4099999999999998,
          0.4199999999999998,
          0.4299999999999998,
          0.43999999999999984,
          0.44999999999999984,
          0.45999999999999985,
          0.46999999999999986,
          0.47999999999999976,
          0.48999999999999977
         ],
         "y": [
          0.025,
          0.0273,
          0.025,
          0.0269,
          0.0252,
          0.0235,
          0.0346,
          0.0325,
          0.0307,
          0.0291,
          0.0276,
          0.0263,
          0.0251,
          0.024,
          0.023,
          0.0221,
          0.0212,
          0.0204,
          0.0197,
          0.019,
          0.0184,
          0.0178,
          0.0172,
          0.0167,
          0.0162,
          0.0158,
          0.0153,
          0.0149,
          0.0145,
          0.0141,
          0.0138,
          0.0134,
          0.0131,
          0.0128,
          0.0125,
          0.0122,
          0.012,
          0.0139,
          0.0136,
          0.0133
         ]
        },
        {
         "mode": "lines+markers",
         "name": "nearest",
         "type": "scatter",
         "x": [
          0.1,
          0.11,
          0.12,
          0.13,
          0.13999999999999999,
          0.14999999999999997,
          0.15999999999999998,
          0.16999999999999998,
          0.17999999999999997,
          0.18999999999999995,
          0.19999999999999996,
          0.20999999999999996,
          0.21999999999999995,
          0.22999999999999995,
          0.23999999999999994,
          0.24999999999999992,
          0.2599999999999999,
          0.2699999999999999,
          0.2799999999999999,
          0.2899999999999999,
          0.29999999999999993,
          0.30999999999999994,
          0.3199999999999999,
          0.32999999999999985,
          0.33999999999999986,
          0.34999999999999987,
          0.3599999999999999,
          0.3699999999999999,
          0.3799999999999999,
          0.3899999999999999,
          0.3999999999999998,
          0.4099999999999998,
          0.4199999999999998,
          0.4299999999999998,
          0.43999999999999984,
          0.44999999999999984,
          0.45999999999999985,
          0.46999999999999986,
          0.47999999999999976,
          0.48999999999999977
         ],
         "y": [
          0.09,
          0.0909,
          0.0833,
          0.0846,
          0.0791,
          0.0805,
          0.0629,
          0.0592,
          0.0615,
          null,
          null,
          null,
          null,
          null,
          null,
          null,
          null,
          null,
          null,
          null,
          null,
          null,
          null,
          null,
          null,
          null,
          null,
          null,
          null,
          null,
          null,
          null,
          null,
          null,
          null,
          null,
          null,
          null,
          null,
          null
         ]
        },
        {
         "mode": "lines+markers",
         "name": "zero",
         "type": "scatter",
         "x": [
          0.1,
          0.11,
          0.12,
          0.13,
          0.13999999999999999,
          0.14999999999999997,
          0.15999999999999998,
          0.16999999999999998,
          0.17999999999999997,
          0.18999999999999995,
          0.19999999999999996,
          0.20999999999999996,
          0.21999999999999995,
          0.22999999999999995,
          0.23999999999999994,
          0.24999999999999992,
          0.2599999999999999,
          0.2699999999999999,
          0.2799999999999999,
          0.2899999999999999,
          0.29999999999999993,
          0.30999999999999994,
          0.3199999999999999,
          0.32999999999999985,
          0.33999999999999986,
          0.34999999999999987,
          0.3599999999999999,
          0.3699999999999999,
          0.3799999999999999,
          0.3899999999999999,
          0.3999999999999998,
          0.4099999999999998,
          0.4199999999999998,
          0.4299999999999998,
          0.43999999999999984,
          0.44999999999999984,
          0.45999999999999985,
          0.46999999999999986,
          0.47999999999999976,
          0.48999999999999977
         ],
         "y": [
          0.09,
          0.0909,
          0.0833,
          0.0846,
          0.0791,
          0.0872,
          0.0881,
          0.0828,
          0.0838,
          null,
          null,
          null,
          null,
          null,
          null,
          null,
          null,
          null,
          null,
          null,
          null,
          null,
          null,
          null,
          null,
          null,
          null,
          null,
          null,
          null,
          null,
          null,
          null,
          null,
          null,
          null,
          null,
          null,
          null,
          null
         ]
        },
        {
         "mode": "lines+markers",
         "name": "slinear",
         "type": "scatter",
         "x": [
          0.1,
          0.11,
          0.12,
          0.13,
          0.13999999999999999,
          0.14999999999999997,
          0.15999999999999998,
          0.16999999999999998,
          0.17999999999999997,
          0.18999999999999995,
          0.19999999999999996,
          0.20999999999999996,
          0.21999999999999995,
          0.22999999999999995,
          0.23999999999999994,
          0.24999999999999992,
          0.2599999999999999,
          0.2699999999999999,
          0.2799999999999999,
          0.2899999999999999,
          0.29999999999999993,
          0.30999999999999994,
          0.3199999999999999,
          0.32999999999999985,
          0.33999999999999986,
          0.34999999999999987,
          0.3599999999999999,
          0.3699999999999999,
          0.3799999999999999,
          0.3899999999999999,
          0.3999999999999998,
          0.4099999999999998,
          0.4199999999999998,
          0.4299999999999998,
          0.43999999999999984,
          0.44999999999999984,
          0.45999999999999985,
          0.46999999999999986,
          0.47999999999999976,
          0.48999999999999977
         ],
         "y": [
          0.025,
          0.0273,
          0.025,
          0.0269,
          0.0252,
          0.0235,
          0.0346,
          0.0325,
          0.0307,
          null,
          null,
          null,
          null,
          null,
          null,
          null,
          null,
          null,
          null,
          null,
          null,
          null,
          null,
          null,
          null,
          null,
          null,
          null,
          null,
          null,
          null,
          null,
          null,
          null,
          null,
          null,
          null,
          null,
          null,
          null
         ]
        },
        {
         "mode": "lines+markers",
         "name": "quadratic",
         "type": "scatter",
         "x": [
          0.1,
          0.11,
          0.12,
          0.13,
          0.13999999999999999,
          0.14999999999999997,
          0.15999999999999998,
          0.16999999999999998,
          0.17999999999999997,
          0.18999999999999995,
          0.19999999999999996,
          0.20999999999999996,
          0.21999999999999995,
          0.22999999999999995,
          0.23999999999999994,
          0.24999999999999992,
          0.2599999999999999,
          0.2699999999999999,
          0.2799999999999999,
          0.2899999999999999,
          0.29999999999999993,
          0.30999999999999994,
          0.3199999999999999,
          0.32999999999999985,
          0.33999999999999986,
          0.34999999999999987,
          0.3599999999999999,
          0.3699999999999999,
          0.3799999999999999,
          0.3899999999999999,
          0.3999999999999998,
          0.4099999999999998,
          0.4199999999999998,
          0.4299999999999998,
          0.43999999999999984,
          0.44999999999999984,
          0.45999999999999985,
          0.46999999999999986,
          0.47999999999999976,
          0.48999999999999977
         ],
         "y": [
          0.0352,
          0.0349,
          0.032,
          0.0331,
          0.031,
          0.0294,
          0.0346,
          0.0326,
          0.0308,
          null,
          null,
          null,
          null,
          null,
          null,
          null,
          null,
          null,
          null,
          null,
          null,
          null,
          null,
          null,
          null,
          null,
          null,
          null,
          null,
          null,
          null,
          null,
          null,
          null,
          null,
          null,
          null,
          null,
          null,
          null
         ]
        },
        {
         "mode": "lines+markers",
         "name": "cubic",
         "type": "scatter",
         "x": [
          0.1,
          0.11,
          0.12,
          0.13,
          0.13999999999999999,
          0.14999999999999997,
          0.15999999999999998,
          0.16999999999999998,
          0.17999999999999997,
          0.18999999999999995,
          0.19999999999999996,
          0.20999999999999996,
          0.21999999999999995,
          0.22999999999999995,
          0.23999999999999994,
          0.24999999999999992,
          0.2599999999999999,
          0.2699999999999999,
          0.2799999999999999,
          0.2899999999999999,
          0.29999999999999993,
          0.30999999999999994,
          0.3199999999999999,
          0.32999999999999985,
          0.33999999999999986,
          0.34999999999999987,
          0.3599999999999999,
          0.3699999999999999,
          0.3799999999999999,
          0.3899999999999999,
          0.3999999999999998,
          0.4099999999999998,
          0.4199999999999998,
          0.4299999999999998,
          0.43999999999999984,
          0.44999999999999984,
          0.45999999999999985,
          0.46999999999999986,
          0.47999999999999976,
          0.48999999999999977
         ],
         "y": [
          0.0364,
          0.0367,
          0.0336,
          0.0344,
          0.0322,
          0.0309,
          0.0375,
          0.0353,
          0.0334,
          null,
          null,
          null,
          null,
          null,
          null,
          null,
          null,
          null,
          null,
          null,
          null,
          null,
          null,
          null,
          null,
          null,
          null,
          null,
          null,
          null,
          null,
          null,
          null,
          null,
          null,
          null,
          null,
          null,
          null,
          null
         ]
        },
        {
         "mode": "lines+markers",
         "name": "polynomial_order_1",
         "type": "scatter",
         "x": [
          0.1,
          0.11,
          0.12,
          0.13,
          0.13999999999999999,
          0.14999999999999997,
          0.15999999999999998,
          0.16999999999999998,
          0.17999999999999997,
          0.18999999999999995,
          0.19999999999999996,
          0.20999999999999996,
          0.21999999999999995,
          0.22999999999999995,
          0.23999999999999994,
          0.24999999999999992,
          0.2599999999999999,
          0.2699999999999999,
          0.2799999999999999,
          0.2899999999999999,
          0.29999999999999993,
          0.30999999999999994,
          0.3199999999999999,
          0.32999999999999985,
          0.33999999999999986,
          0.34999999999999987,
          0.3599999999999999,
          0.3699999999999999,
          0.3799999999999999,
          0.3899999999999999,
          0.3999999999999998,
          0.4099999999999998,
          0.4199999999999998,
          0.4299999999999998,
          0.43999999999999984,
          0.44999999999999984,
          0.45999999999999985,
          0.46999999999999986,
          0.47999999999999976,
          0.48999999999999977
         ],
         "y": [
          0.025,
          0.0273,
          0.025,
          0.0269,
          0.0252,
          0.0235,
          0.0346,
          0.0325,
          0.0307,
          null,
          null,
          null,
          null,
          null,
          null,
          null,
          null,
          null,
          null,
          null,
          null,
          null,
          null,
          null,
          null,
          null,
          null,
          null,
          null,
          null,
          null,
          null,
          null,
          null,
          null,
          null,
          null,
          null,
          null,
          null
         ]
        },
        {
         "mode": "lines+markers",
         "name": "polynomial_order_2",
         "type": "scatter",
         "x": [
          0.1,
          0.11,
          0.12,
          0.13,
          0.13999999999999999,
          0.14999999999999997,
          0.15999999999999998,
          0.16999999999999998,
          0.17999999999999997,
          0.18999999999999995,
          0.19999999999999996,
          0.20999999999999996,
          0.21999999999999995,
          0.22999999999999995,
          0.23999999999999994,
          0.24999999999999992,
          0.2599999999999999,
          0.2699999999999999,
          0.2799999999999999,
          0.2899999999999999,
          0.29999999999999993,
          0.30999999999999994,
          0.3199999999999999,
          0.32999999999999985,
          0.33999999999999986,
          0.34999999999999987,
          0.3599999999999999,
          0.3699999999999999,
          0.3799999999999999,
          0.3899999999999999,
          0.3999999999999998,
          0.4099999999999998,
          0.4199999999999998,
          0.4299999999999998,
          0.43999999999999984,
          0.44999999999999984,
          0.45999999999999985,
          0.46999999999999986,
          0.47999999999999976,
          0.48999999999999977
         ],
         "y": [
          0.0352,
          0.0349,
          0.032,
          0.0331,
          0.031,
          0.0294,
          0.0346,
          0.0326,
          0.0308,
          null,
          null,
          null,
          null,
          null,
          null,
          null,
          null,
          null,
          null,
          null,
          null,
          null,
          null,
          null,
          null,
          null,
          null,
          null,
          null,
          null,
          null,
          null,
          null,
          null,
          null,
          null,
          null,
          null,
          null,
          null
         ]
        },
        {
         "mode": "lines+markers",
         "name": "polynomial_order_3",
         "type": "scatter",
         "x": [
          0.1,
          0.11,
          0.12,
          0.13,
          0.13999999999999999,
          0.14999999999999997,
          0.15999999999999998,
          0.16999999999999998,
          0.17999999999999997,
          0.18999999999999995,
          0.19999999999999996,
          0.20999999999999996,
          0.21999999999999995,
          0.22999999999999995,
          0.23999999999999994,
          0.24999999999999992,
          0.2599999999999999,
          0.2699999999999999,
          0.2799999999999999,
          0.2899999999999999,
          0.29999999999999993,
          0.30999999999999994,
          0.3199999999999999,
          0.32999999999999985,
          0.33999999999999986,
          0.34999999999999987,
          0.3599999999999999,
          0.3699999999999999,
          0.3799999999999999,
          0.3899999999999999,
          0.3999999999999998,
          0.4099999999999998,
          0.4199999999999998,
          0.4299999999999998,
          0.43999999999999984,
          0.44999999999999984,
          0.45999999999999985,
          0.46999999999999986,
          0.47999999999999976,
          0.48999999999999977
         ],
         "y": [
          0.0364,
          0.0367,
          0.0336,
          0.0344,
          0.0322,
          0.0309,
          0.0375,
          0.0353,
          0.0334,
          null,
          null,
          null,
          null,
          null,
          null,
          null,
          null,
          null,
          null,
          null,
          null,
          null,
          null,
          null,
          null,
          null,
          null,
          null,
          null,
          null,
          null,
          null,
          null,
          null,
          null,
          null,
          null,
          null,
          null,
          null
         ]
        },
        {
         "mode": "lines+markers",
         "name": "polynomial_order_5",
         "type": "scatter",
         "x": [
          0.1,
          0.11,
          0.12,
          0.13,
          0.13999999999999999,
          0.14999999999999997,
          0.15999999999999998,
          0.16999999999999998,
          0.17999999999999997,
          0.18999999999999995,
          0.19999999999999996,
          0.20999999999999996,
          0.21999999999999995,
          0.22999999999999995,
          0.23999999999999994,
          0.24999999999999992,
          0.2599999999999999,
          0.2699999999999999,
          0.2799999999999999,
          0.2899999999999999,
          0.29999999999999993,
          0.30999999999999994,
          0.3199999999999999,
          0.32999999999999985,
          0.33999999999999986,
          0.34999999999999987,
          0.3599999999999999,
          0.3699999999999999,
          0.3799999999999999,
          0.3899999999999999,
          0.3999999999999998,
          0.4099999999999998,
          0.4199999999999998,
          0.4299999999999998,
          0.43999999999999984,
          0.44999999999999984,
          0.45999999999999985,
          0.46999999999999986,
          0.47999999999999976,
          0.48999999999999977
         ],
         "y": [
          0.0413,
          0.0479,
          0.0439,
          0.0432,
          0.0404,
          0.0409,
          0.0457,
          0.043,
          0.0413,
          null,
          null,
          null,
          null,
          null,
          null,
          null,
          null,
          null,
          null,
          null,
          null,
          null,
          null,
          null,
          null,
          null,
          null,
          null,
          null,
          null,
          null,
          null,
          null,
          null,
          null,
          null,
          null,
          null,
          null,
          null
         ]
        },
        {
         "mode": "lines+markers",
         "name": "polynomial_order_7",
         "type": "scatter",
         "x": [
          0.1,
          0.11,
          0.12,
          0.13,
          0.13999999999999999,
          0.14999999999999997,
          0.15999999999999998,
          0.16999999999999998,
          0.17999999999999997,
          0.18999999999999995,
          0.19999999999999996,
          0.20999999999999996,
          0.21999999999999995,
          0.22999999999999995,
          0.23999999999999994,
          0.24999999999999992,
          0.2599999999999999,
          0.2699999999999999,
          0.2799999999999999,
          0.2899999999999999,
          0.29999999999999993,
          0.30999999999999994,
          0.3199999999999999,
          0.32999999999999985,
          0.33999999999999986,
          0.34999999999999987,
          0.3599999999999999,
          0.3699999999999999,
          0.3799999999999999,
          0.3899999999999999,
          0.3999999999999998,
          0.4099999999999998,
          0.4199999999999998,
          0.4299999999999998,
          0.43999999999999984,
          0.44999999999999984,
          0.45999999999999985,
          0.46999999999999986,
          0.47999999999999976,
          0.48999999999999977
         ],
         "y": [
          0.0463,
          0.0648,
          0.0594,
          0.0567,
          0.053,
          0.0546,
          0.0577,
          0.0543,
          0.0537,
          null,
          null,
          null,
          null,
          null,
          null,
          null,
          null,
          null,
          null,
          null,
          null,
          null,
          null,
          null,
          null,
          null,
          null,
          null,
          null,
          null,
          null,
          null,
          null,
          null,
          null,
          null,
          null,
          null,
          null,
          null
         ]
        },
        {
         "mode": "lines+markers",
         "name": "polynomial_order_9",
         "type": "scatter",
         "x": [
          0.1,
          0.11,
          0.12,
          0.13,
          0.13999999999999999,
          0.14999999999999997,
          0.15999999999999998,
          0.16999999999999998,
          0.17999999999999997,
          0.18999999999999995,
          0.19999999999999996,
          0.20999999999999996,
          0.21999999999999995,
          0.22999999999999995,
          0.23999999999999994,
          0.24999999999999992,
          0.2599999999999999,
          0.2699999999999999,
          0.2799999999999999,
          0.2899999999999999,
          0.29999999999999993,
          0.30999999999999994,
          0.3199999999999999,
          0.32999999999999985,
          0.33999999999999986,
          0.34999999999999987,
          0.3599999999999999,
          0.3699999999999999,
          0.3799999999999999,
          0.3899999999999999,
          0.3999999999999998,
          0.4099999999999998,
          0.4199999999999998,
          0.4299999999999998,
          0.43999999999999984,
          0.44999999999999984,
          0.45999999999999985,
          0.46999999999999986,
          0.47999999999999976,
          0.48999999999999977
         ],
         "y": [
          0.0524,
          0.084,
          0.077,
          0.0752,
          0.0703,
          0.0707,
          0.0721,
          0.0678,
          0.0693,
          null,
          null,
          null,
          null,
          null,
          null,
          null,
          null,
          null,
          null,
          null,
          null,
          null,
          null,
          null,
          null,
          null,
          null,
          null,
          null,
          null,
          null,
          null,
          null,
          null,
          null,
          null,
          null,
          null,
          null,
          null
         ]
        },
        {
         "mode": "lines+markers",
         "name": "piecewise_polynomial",
         "type": "scatter",
         "x": [
          0.1,
          0.11,
          0.12,
          0.13,
          0.13999999999999999,
          0.14999999999999997,
          0.15999999999999998,
          0.16999999999999998,
          0.17999999999999997,
          0.18999999999999995,
          0.19999999999999996,
          0.20999999999999996,
          0.21999999999999995,
          0.22999999999999995,
          0.23999999999999994,
          0.24999999999999992,
          0.2599999999999999,
          0.2699999999999999,
          0.2799999999999999,
          0.2899999999999999,
          0.29999999999999993,
          0.30999999999999994,
          0.3199999999999999,
          0.32999999999999985,
          0.33999999999999986,
          0.34999999999999987,
          0.3599999999999999,
          0.3699999999999999,
          0.3799999999999999,
          0.3899999999999999,
          0.3999999999999998,
          0.4099999999999998,
          0.4199999999999998,
          0.4299999999999998,
          0.43999999999999984,
          0.44999999999999984,
          0.45999999999999985,
          0.46999999999999986,
          0.47999999999999976,
          0.48999999999999977
         ],
         "y": [
          0.025,
          0.0273,
          0.025,
          0.0269,
          0.0252,
          0.0235,
          0.0346,
          0.0325,
          0.0307,
          null,
          null,
          null,
          null,
          null,
          null,
          null,
          null,
          null,
          null,
          null,
          null,
          null,
          null,
          null,
          null,
          null,
          null,
          null,
          null,
          null,
          null,
          null,
          null,
          null,
          null,
          null,
          null,
          null,
          null,
          null
         ]
        },
        {
         "mode": "lines+markers",
         "name": "spline_order_1",
         "type": "scatter",
         "x": [
          0.1,
          0.11,
          0.12,
          0.13,
          0.13999999999999999,
          0.14999999999999997,
          0.15999999999999998,
          0.16999999999999998,
          0.17999999999999997,
          0.18999999999999995,
          0.19999999999999996,
          0.20999999999999996,
          0.21999999999999995,
          0.22999999999999995,
          0.23999999999999994,
          0.24999999999999992,
          0.2599999999999999,
          0.2699999999999999,
          0.2799999999999999,
          0.2899999999999999,
          0.29999999999999993,
          0.30999999999999994,
          0.3199999999999999,
          0.32999999999999985,
          0.33999999999999986,
          0.34999999999999987,
          0.3599999999999999,
          0.3699999999999999,
          0.3799999999999999,
          0.3899999999999999,
          0.3999999999999998,
          0.4099999999999998,
          0.4199999999999998,
          0.4299999999999998,
          0.43999999999999984,
          0.44999999999999984,
          0.45999999999999985,
          0.46999999999999986,
          0.47999999999999976,
          0.48999999999999977
         ],
         "y": [
          0.2011,
          0.1895,
          0.2084,
          0.1956,
          0.1865,
          0.1753,
          0.2785,
          0.2412,
          0.2497,
          0.2571,
          0.2448,
          0.2368,
          0.2319,
          0.2411,
          0.2457,
          0.2395,
          0.2336,
          0.164,
          0.1603,
          0.1663,
          0.1773,
          0.2627,
          0.2704,
          0.2381,
          0.1933,
          0.2044,
          0.2023,
          0.1959,
          0.2203,
          0.1927,
          0.19,
          0.217,
          0.18,
          0.2341,
          0.2161,
          0.2408,
          0.1995,
          0.2114,
          0.2099,
          0.2054
         ]
        },
        {
         "mode": "lines+markers",
         "name": "spline_order_2",
         "type": "scatter",
         "x": [
          0.1,
          0.11,
          0.12,
          0.13,
          0.13999999999999999,
          0.14999999999999997,
          0.15999999999999998,
          0.16999999999999998,
          0.17999999999999997,
          0.18999999999999995,
          0.19999999999999996,
          0.20999999999999996,
          0.21999999999999995,
          0.22999999999999995,
          0.23999999999999994,
          0.24999999999999992,
          0.2599999999999999,
          0.2699999999999999,
          0.2799999999999999,
          0.2899999999999999,
          0.29999999999999993,
          0.30999999999999994,
          0.3199999999999999,
          0.32999999999999985,
          0.33999999999999986,
          0.34999999999999987,
          0.3599999999999999,
          0.3699999999999999,
          0.3799999999999999,
          0.3899999999999999,
          0.3999999999999998,
          0.4099999999999998,
          0.4199999999999998,
          0.4299999999999998,
          0.43999999999999984,
          0.44999999999999984,
          0.45999999999999985,
          0.46999999999999986,
          0.47999999999999976,
          0.48999999999999977
         ],
         "y": [
          0.114,
          0.1183,
          0.1088,
          0.122,
          0.1209,
          0.1166,
          0.165,
          0.1528,
          0.1654,
          0.1641,
          0.1618,
          0.1592,
          0.1667,
          0.1703,
          0.1644,
          0.1535,
          0.1691,
          0.1689,
          0.1672,
          0.189,
          0.1861,
          0.2081,
          0.2273,
          0.2468,
          0.2424,
          0.2624,
          0.2443,
          0.2517,
          0.236,
          0.2043,
          0.2019,
          0.2297,
          0.2249,
          0.1917,
          0.2102,
          0.2044,
          0.2296,
          0.2622,
          0.273,
          0.2658
         ]
        },
        {
         "mode": "lines+markers",
         "name": "spline_order_3",
         "type": "scatter",
         "x": [
          0.1,
          0.11,
          0.12,
          0.13,
          0.13999999999999999,
          0.14999999999999997,
          0.15999999999999998,
          0.16999999999999998,
          0.17999999999999997,
          0.18999999999999995,
          0.19999999999999996,
          0.20999999999999996,
          0.21999999999999995,
          0.22999999999999995,
          0.23999999999999994,
          0.24999999999999992,
          0.2599999999999999,
          0.2699999999999999,
          0.2799999999999999,
          0.2899999999999999,
          0.29999999999999993,
          0.30999999999999994,
          0.3199999999999999,
          0.32999999999999985,
          0.33999999999999986,
          0.34999999999999987,
          0.3599999999999999,
          0.3699999999999999,
          0.3799999999999999,
          0.3899999999999999,
          0.3999999999999998,
          0.4099999999999998,
          0.4199999999999998,
          0.4299999999999998,
          0.43999999999999984,
          0.44999999999999984,
          0.45999999999999985,
          0.46999999999999986,
          0.47999999999999976,
          0.48999999999999977
         ],
         "y": [
          0.161,
          0.1619,
          0.1574,
          0.1576,
          0.1527,
          0.1592,
          0.216,
          0.1991,
          0.211,
          0.2019,
          0.1928,
          0.1875,
          0.2006,
          0.2067,
          0.2097,
          0.1951,
          0.2094,
          0.2078,
          0.207,
          0.2,
          0.2012,
          0.2419,
          0.274,
          0.2327,
          0.2473,
          0.206,
          0.2437,
          0.1939,
          0.243,
          0.2505,
          0.2538,
          0.2482,
          0.2183,
          0.2077,
          0.2573,
          0.2507,
          0.2512,
          0.2322,
          0.2262,
          0.2162
         ]
        },
        {
         "mode": "lines+markers",
         "name": "spline_order_4",
         "type": "scatter",
         "x": [
          0.1,
          0.11,
          0.12,
          0.13,
          0.13999999999999999,
          0.14999999999999997,
          0.15999999999999998,
          0.16999999999999998,
          0.17999999999999997,
          0.18999999999999995,
          0.19999999999999996,
          0.20999999999999996,
          0.21999999999999995,
          0.22999999999999995,
          0.23999999999999994,
          0.24999999999999992,
          0.2599999999999999,
          0.2699999999999999,
          0.2799999999999999,
          0.2899999999999999,
          0.29999999999999993,
          0.30999999999999994,
          0.3199999999999999,
          0.32999999999999985,
          0.33999999999999986,
          0.34999999999999987,
          0.3599999999999999,
          0.3699999999999999,
          0.3799999999999999,
          0.3899999999999999,
          0.3999999999999998,
          0.4099999999999998,
          0.4199999999999998,
          0.4299999999999998,
          0.43999999999999984,
          0.44999999999999984,
          0.45999999999999985,
          0.46999999999999986,
          0.47999999999999976,
          0.48999999999999977
         ],
         "y": [
          0.1598,
          0.1643,
          0.1227,
          0.1712,
          0.1645,
          0.1673,
          0.1783,
          0.1811,
          0.1869,
          0.1864,
          0.1922,
          0.175,
          0.1902,
          0.1844,
          0.1935,
          0.1866,
          0.1939,
          0.1885,
          0.1912,
          0.208,
          0.1988,
          0.2143,
          0.241,
          0.2681,
          0.2828,
          0.2884,
          0.284,
          0.2861,
          0.2803,
          0.2877,
          0.2236,
          0.2712,
          0.2686,
          0.2739,
          0.2635,
          0.2787,
          0.2249,
          0.2728,
          0.2873,
          0.2698
         ]
        },
        {
         "mode": "lines+markers",
         "name": "spline_order_5",
         "type": "scatter",
         "x": [
          0.1,
          0.11,
          0.12,
          0.13,
          0.13999999999999999,
          0.14999999999999997,
          0.15999999999999998,
          0.16999999999999998,
          0.17999999999999997,
          0.18999999999999995,
          0.19999999999999996,
          0.20999999999999996,
          0.21999999999999995,
          0.22999999999999995,
          0.23999999999999994,
          0.24999999999999992,
          0.2599999999999999,
          0.2699999999999999,
          0.2799999999999999,
          0.2899999999999999,
          0.29999999999999993,
          0.30999999999999994,
          0.3199999999999999,
          0.32999999999999985,
          0.33999999999999986,
          0.34999999999999987,
          0.3599999999999999,
          0.3699999999999999,
          0.3799999999999999,
          0.3899999999999999,
          0.3999999999999998,
          0.4099999999999998,
          0.4199999999999998,
          0.4299999999999998,
          0.43999999999999984,
          0.44999999999999984,
          0.45999999999999985,
          0.46999999999999986,
          0.47999999999999976,
          0.48999999999999977
         ],
         "y": [
          0.1393,
          0.148,
          0.1394,
          0.1656,
          0.1596,
          0.1579,
          0.1968,
          0.1902,
          0.1993,
          0.2076,
          0.2023,
          0.1959,
          0.2084,
          0.2046,
          0.1971,
          0.1881,
          0.2001,
          0.1977,
          0.2092,
          0.2105,
          0.2124,
          0.255,
          0.2596,
          0.2626,
          0.2751,
          0.2844,
          0.2666,
          0.2777,
          0.2606,
          0.2849,
          0.2958,
          0.2248,
          0.2276,
          0.2629,
          0.2601,
          0.2485,
          0.2668,
          0.2686,
          0.2787,
          0.2619
         ]
        },
        {
         "mode": "lines+markers",
         "name": "akima",
         "type": "scatter",
         "x": [
          0.1,
          0.11,
          0.12,
          0.13,
          0.13999999999999999,
          0.14999999999999997,
          0.15999999999999998,
          0.16999999999999998,
          0.17999999999999997,
          0.18999999999999995,
          0.19999999999999996,
          0.20999999999999996,
          0.21999999999999995,
          0.22999999999999995,
          0.23999999999999994,
          0.24999999999999992,
          0.2599999999999999,
          0.2699999999999999,
          0.2799999999999999,
          0.2899999999999999,
          0.29999999999999993,
          0.30999999999999994,
          0.3199999999999999,
          0.32999999999999985,
          0.33999999999999986,
          0.34999999999999987,
          0.3599999999999999,
          0.3699999999999999,
          0.3799999999999999,
          0.3899999999999999,
          0.3999999999999998,
          0.4099999999999998,
          0.4199999999999998,
          0.4299999999999998,
          0.43999999999999984,
          0.44999999999999984,
          0.45999999999999985,
          0.46999999999999986,
          0.47999999999999976,
          0.48999999999999977
         ],
         "y": [
          0.0325,
          0.0341,
          0.0312,
          0.0333,
          0.0312,
          0.0291,
          0.0333,
          0.0313,
          0.0296,
          null,
          null,
          null,
          null,
          null,
          null,
          null,
          null,
          null,
          null,
          null,
          null,
          null,
          null,
          null,
          null,
          null,
          null,
          null,
          null,
          null,
          null,
          null,
          null,
          null,
          null,
          null,
          null,
          null,
          null,
          null
         ]
        },
        {
         "mode": "lines+markers",
         "name": "cubicspline",
         "type": "scatter",
         "x": [
          0.1,
          0.11,
          0.12,
          0.13,
          0.13999999999999999,
          0.14999999999999997,
          0.15999999999999998,
          0.16999999999999998,
          0.17999999999999997,
          0.18999999999999995,
          0.19999999999999996,
          0.20999999999999996,
          0.21999999999999995,
          0.22999999999999995,
          0.23999999999999994,
          0.24999999999999992,
          0.2599999999999999,
          0.2699999999999999,
          0.2799999999999999,
          0.2899999999999999,
          0.29999999999999993,
          0.30999999999999994,
          0.3199999999999999,
          0.32999999999999985,
          0.33999999999999986,
          0.34999999999999987,
          0.3599999999999999,
          0.3699999999999999,
          0.3799999999999999,
          0.3899999999999999,
          0.3999999999999998,
          0.4099999999999998,
          0.4199999999999998,
          0.4299999999999998,
          0.43999999999999984,
          0.44999999999999984,
          0.45999999999999985,
          0.46999999999999986,
          0.47999999999999976,
          0.48999999999999977
         ],
         "y": [
          0.0364,
          0.0367,
          0.0336,
          0.0344,
          0.0322,
          0.0309,
          0.0375,
          0.0353,
          0.0334,
          0.0317,
          0.0301,
          0.0286,
          0.0645,
          0.0617,
          0.0594,
          0.057,
          0.055,
          0.0529,
          0.0511,
          0.0494,
          0.0478,
          0.071,
          0.0868,
          0.0859,
          0.0854,
          0.0852,
          0.0837,
          0.0814,
          0.0792,
          0.0793,
          0.0777,
          0.0758,
          0.074,
          0.0723,
          0.0971,
          0.095,
          0.0929,
          0.0951,
          0.0935,
          0.0916
         ]
        },
        {
         "mode": "lines+markers",
         "name": "from_derivatives",
         "type": "scatter",
         "x": [
          0.1,
          0.11,
          0.12,
          0.13,
          0.13999999999999999,
          0.14999999999999997,
          0.15999999999999998,
          0.16999999999999998,
          0.17999999999999997,
          0.18999999999999995,
          0.19999999999999996,
          0.20999999999999996,
          0.21999999999999995,
          0.22999999999999995,
          0.23999999999999994,
          0.24999999999999992,
          0.2599999999999999,
          0.2699999999999999,
          0.2799999999999999,
          0.2899999999999999,
          0.29999999999999993,
          0.30999999999999994,
          0.3199999999999999,
          0.32999999999999985,
          0.33999999999999986,
          0.34999999999999987,
          0.3599999999999999,
          0.3699999999999999,
          0.3799999999999999,
          0.3899999999999999,
          0.3999999999999998,
          0.4099999999999998,
          0.4199999999999998,
          0.4299999999999998,
          0.43999999999999984,
          0.44999999999999984,
          0.45999999999999985,
          0.46999999999999986,
          0.47999999999999976,
          0.48999999999999977
         ],
         "y": [
          0.025,
          0.0273,
          0.025,
          0.0269,
          0.0252,
          0.0235,
          0.0346,
          0.0325,
          0.0307,
          null,
          null,
          null,
          null,
          null,
          null,
          null,
          null,
          null,
          null,
          null,
          null,
          null,
          null,
          null,
          null,
          null,
          null,
          null,
          null,
          null,
          null,
          null,
          null,
          null,
          null,
          null,
          null,
          null,
          null,
          null
         ]
        }
       ],
       "layout": {
        "legend": {
         "title": {
          "text": "Method"
         }
        },
        "template": {
         "data": {
          "bar": [
           {
            "error_x": {
             "color": "#2a3f5f"
            },
            "error_y": {
             "color": "#2a3f5f"
            },
            "marker": {
             "line": {
              "color": "#E5ECF6",
              "width": 0.5
             },
             "pattern": {
              "fillmode": "overlay",
              "size": 10,
              "solidity": 0.2
             }
            },
            "type": "bar"
           }
          ],
          "barpolar": [
           {
            "marker": {
             "line": {
              "color": "#E5ECF6",
              "width": 0.5
             },
             "pattern": {
              "fillmode": "overlay",
              "size": 10,
              "solidity": 0.2
             }
            },
            "type": "barpolar"
           }
          ],
          "carpet": [
           {
            "aaxis": {
             "endlinecolor": "#2a3f5f",
             "gridcolor": "white",
             "linecolor": "white",
             "minorgridcolor": "white",
             "startlinecolor": "#2a3f5f"
            },
            "baxis": {
             "endlinecolor": "#2a3f5f",
             "gridcolor": "white",
             "linecolor": "white",
             "minorgridcolor": "white",
             "startlinecolor": "#2a3f5f"
            },
            "type": "carpet"
           }
          ],
          "choropleth": [
           {
            "colorbar": {
             "outlinewidth": 0,
             "ticks": ""
            },
            "type": "choropleth"
           }
          ],
          "contour": [
           {
            "colorbar": {
             "outlinewidth": 0,
             "ticks": ""
            },
            "colorscale": [
             [
              0,
              "#0d0887"
             ],
             [
              0.1111111111111111,
              "#46039f"
             ],
             [
              0.2222222222222222,
              "#7201a8"
             ],
             [
              0.3333333333333333,
              "#9c179e"
             ],
             [
              0.4444444444444444,
              "#bd3786"
             ],
             [
              0.5555555555555556,
              "#d8576b"
             ],
             [
              0.6666666666666666,
              "#ed7953"
             ],
             [
              0.7777777777777778,
              "#fb9f3a"
             ],
             [
              0.8888888888888888,
              "#fdca26"
             ],
             [
              1,
              "#f0f921"
             ]
            ],
            "type": "contour"
           }
          ],
          "contourcarpet": [
           {
            "colorbar": {
             "outlinewidth": 0,
             "ticks": ""
            },
            "type": "contourcarpet"
           }
          ],
          "heatmap": [
           {
            "colorbar": {
             "outlinewidth": 0,
             "ticks": ""
            },
            "colorscale": [
             [
              0,
              "#0d0887"
             ],
             [
              0.1111111111111111,
              "#46039f"
             ],
             [
              0.2222222222222222,
              "#7201a8"
             ],
             [
              0.3333333333333333,
              "#9c179e"
             ],
             [
              0.4444444444444444,
              "#bd3786"
             ],
             [
              0.5555555555555556,
              "#d8576b"
             ],
             [
              0.6666666666666666,
              "#ed7953"
             ],
             [
              0.7777777777777778,
              "#fb9f3a"
             ],
             [
              0.8888888888888888,
              "#fdca26"
             ],
             [
              1,
              "#f0f921"
             ]
            ],
            "type": "heatmap"
           }
          ],
          "heatmapgl": [
           {
            "colorbar": {
             "outlinewidth": 0,
             "ticks": ""
            },
            "colorscale": [
             [
              0,
              "#0d0887"
             ],
             [
              0.1111111111111111,
              "#46039f"
             ],
             [
              0.2222222222222222,
              "#7201a8"
             ],
             [
              0.3333333333333333,
              "#9c179e"
             ],
             [
              0.4444444444444444,
              "#bd3786"
             ],
             [
              0.5555555555555556,
              "#d8576b"
             ],
             [
              0.6666666666666666,
              "#ed7953"
             ],
             [
              0.7777777777777778,
              "#fb9f3a"
             ],
             [
              0.8888888888888888,
              "#fdca26"
             ],
             [
              1,
              "#f0f921"
             ]
            ],
            "type": "heatmapgl"
           }
          ],
          "histogram": [
           {
            "marker": {
             "pattern": {
              "fillmode": "overlay",
              "size": 10,
              "solidity": 0.2
             }
            },
            "type": "histogram"
           }
          ],
          "histogram2d": [
           {
            "colorbar": {
             "outlinewidth": 0,
             "ticks": ""
            },
            "colorscale": [
             [
              0,
              "#0d0887"
             ],
             [
              0.1111111111111111,
              "#46039f"
             ],
             [
              0.2222222222222222,
              "#7201a8"
             ],
             [
              0.3333333333333333,
              "#9c179e"
             ],
             [
              0.4444444444444444,
              "#bd3786"
             ],
             [
              0.5555555555555556,
              "#d8576b"
             ],
             [
              0.6666666666666666,
              "#ed7953"
             ],
             [
              0.7777777777777778,
              "#fb9f3a"
             ],
             [
              0.8888888888888888,
              "#fdca26"
             ],
             [
              1,
              "#f0f921"
             ]
            ],
            "type": "histogram2d"
           }
          ],
          "histogram2dcontour": [
           {
            "colorbar": {
             "outlinewidth": 0,
             "ticks": ""
            },
            "colorscale": [
             [
              0,
              "#0d0887"
             ],
             [
              0.1111111111111111,
              "#46039f"
             ],
             [
              0.2222222222222222,
              "#7201a8"
             ],
             [
              0.3333333333333333,
              "#9c179e"
             ],
             [
              0.4444444444444444,
              "#bd3786"
             ],
             [
              0.5555555555555556,
              "#d8576b"
             ],
             [
              0.6666666666666666,
              "#ed7953"
             ],
             [
              0.7777777777777778,
              "#fb9f3a"
             ],
             [
              0.8888888888888888,
              "#fdca26"
             ],
             [
              1,
              "#f0f921"
             ]
            ],
            "type": "histogram2dcontour"
           }
          ],
          "mesh3d": [
           {
            "colorbar": {
             "outlinewidth": 0,
             "ticks": ""
            },
            "type": "mesh3d"
           }
          ],
          "parcoords": [
           {
            "line": {
             "colorbar": {
              "outlinewidth": 0,
              "ticks": ""
             }
            },
            "type": "parcoords"
           }
          ],
          "pie": [
           {
            "automargin": true,
            "type": "pie"
           }
          ],
          "scatter": [
           {
            "fillpattern": {
             "fillmode": "overlay",
             "size": 10,
             "solidity": 0.2
            },
            "type": "scatter"
           }
          ],
          "scatter3d": [
           {
            "line": {
             "colorbar": {
              "outlinewidth": 0,
              "ticks": ""
             }
            },
            "marker": {
             "colorbar": {
              "outlinewidth": 0,
              "ticks": ""
             }
            },
            "type": "scatter3d"
           }
          ],
          "scattercarpet": [
           {
            "marker": {
             "colorbar": {
              "outlinewidth": 0,
              "ticks": ""
             }
            },
            "type": "scattercarpet"
           }
          ],
          "scattergeo": [
           {
            "marker": {
             "colorbar": {
              "outlinewidth": 0,
              "ticks": ""
             }
            },
            "type": "scattergeo"
           }
          ],
          "scattergl": [
           {
            "marker": {
             "colorbar": {
              "outlinewidth": 0,
              "ticks": ""
             }
            },
            "type": "scattergl"
           }
          ],
          "scattermapbox": [
           {
            "marker": {
             "colorbar": {
              "outlinewidth": 0,
              "ticks": ""
             }
            },
            "type": "scattermapbox"
           }
          ],
          "scatterpolar": [
           {
            "marker": {
             "colorbar": {
              "outlinewidth": 0,
              "ticks": ""
             }
            },
            "type": "scatterpolar"
           }
          ],
          "scatterpolargl": [
           {
            "marker": {
             "colorbar": {
              "outlinewidth": 0,
              "ticks": ""
             }
            },
            "type": "scatterpolargl"
           }
          ],
          "scatterternary": [
           {
            "marker": {
             "colorbar": {
              "outlinewidth": 0,
              "ticks": ""
             }
            },
            "type": "scatterternary"
           }
          ],
          "surface": [
           {
            "colorbar": {
             "outlinewidth": 0,
             "ticks": ""
            },
            "colorscale": [
             [
              0,
              "#0d0887"
             ],
             [
              0.1111111111111111,
              "#46039f"
             ],
             [
              0.2222222222222222,
              "#7201a8"
             ],
             [
              0.3333333333333333,
              "#9c179e"
             ],
             [
              0.4444444444444444,
              "#bd3786"
             ],
             [
              0.5555555555555556,
              "#d8576b"
             ],
             [
              0.6666666666666666,
              "#ed7953"
             ],
             [
              0.7777777777777778,
              "#fb9f3a"
             ],
             [
              0.8888888888888888,
              "#fdca26"
             ],
             [
              1,
              "#f0f921"
             ]
            ],
            "type": "surface"
           }
          ],
          "table": [
           {
            "cells": {
             "fill": {
              "color": "#EBF0F8"
             },
             "line": {
              "color": "white"
             }
            },
            "header": {
             "fill": {
              "color": "#C8D4E3"
             },
             "line": {
              "color": "white"
             }
            },
            "type": "table"
           }
          ]
         },
         "layout": {
          "annotationdefaults": {
           "arrowcolor": "#2a3f5f",
           "arrowhead": 0,
           "arrowwidth": 1
          },
          "autotypenumbers": "strict",
          "coloraxis": {
           "colorbar": {
            "outlinewidth": 0,
            "ticks": ""
           }
          },
          "colorscale": {
           "diverging": [
            [
             0,
             "#8e0152"
            ],
            [
             0.1,
             "#c51b7d"
            ],
            [
             0.2,
             "#de77ae"
            ],
            [
             0.3,
             "#f1b6da"
            ],
            [
             0.4,
             "#fde0ef"
            ],
            [
             0.5,
             "#f7f7f7"
            ],
            [
             0.6,
             "#e6f5d0"
            ],
            [
             0.7,
             "#b8e186"
            ],
            [
             0.8,
             "#7fbc41"
            ],
            [
             0.9,
             "#4d9221"
            ],
            [
             1,
             "#276419"
            ]
           ],
           "sequential": [
            [
             0,
             "#0d0887"
            ],
            [
             0.1111111111111111,
             "#46039f"
            ],
            [
             0.2222222222222222,
             "#7201a8"
            ],
            [
             0.3333333333333333,
             "#9c179e"
            ],
            [
             0.4444444444444444,
             "#bd3786"
            ],
            [
             0.5555555555555556,
             "#d8576b"
            ],
            [
             0.6666666666666666,
             "#ed7953"
            ],
            [
             0.7777777777777778,
             "#fb9f3a"
            ],
            [
             0.8888888888888888,
             "#fdca26"
            ],
            [
             1,
             "#f0f921"
            ]
           ],
           "sequentialminus": [
            [
             0,
             "#0d0887"
            ],
            [
             0.1111111111111111,
             "#46039f"
            ],
            [
             0.2222222222222222,
             "#7201a8"
            ],
            [
             0.3333333333333333,
             "#9c179e"
            ],
            [
             0.4444444444444444,
             "#bd3786"
            ],
            [
             0.5555555555555556,
             "#d8576b"
            ],
            [
             0.6666666666666666,
             "#ed7953"
            ],
            [
             0.7777777777777778,
             "#fb9f3a"
            ],
            [
             0.8888888888888888,
             "#fdca26"
            ],
            [
             1,
             "#f0f921"
            ]
           ]
          },
          "colorway": [
           "#636efa",
           "#EF553B",
           "#00cc96",
           "#ab63fa",
           "#FFA15A",
           "#19d3f3",
           "#FF6692",
           "#B6E880",
           "#FF97FF",
           "#FECB52"
          ],
          "font": {
           "color": "#2a3f5f"
          },
          "geo": {
           "bgcolor": "white",
           "lakecolor": "white",
           "landcolor": "#E5ECF6",
           "showlakes": true,
           "showland": true,
           "subunitcolor": "white"
          },
          "hoverlabel": {
           "align": "left"
          },
          "hovermode": "closest",
          "mapbox": {
           "style": "light"
          },
          "paper_bgcolor": "white",
          "plot_bgcolor": "#E5ECF6",
          "polar": {
           "angularaxis": {
            "gridcolor": "white",
            "linecolor": "white",
            "ticks": ""
           },
           "bgcolor": "#E5ECF6",
           "radialaxis": {
            "gridcolor": "white",
            "linecolor": "white",
            "ticks": ""
           }
          },
          "scene": {
           "xaxis": {
            "backgroundcolor": "#E5ECF6",
            "gridcolor": "white",
            "gridwidth": 2,
            "linecolor": "white",
            "showbackground": true,
            "ticks": "",
            "zerolinecolor": "white"
           },
           "yaxis": {
            "backgroundcolor": "#E5ECF6",
            "gridcolor": "white",
            "gridwidth": 2,
            "linecolor": "white",
            "showbackground": true,
            "ticks": "",
            "zerolinecolor": "white"
           },
           "zaxis": {
            "backgroundcolor": "#E5ECF6",
            "gridcolor": "white",
            "gridwidth": 2,
            "linecolor": "white",
            "showbackground": true,
            "ticks": "",
            "zerolinecolor": "white"
           }
          },
          "shapedefaults": {
           "line": {
            "color": "#2a3f5f"
           }
          },
          "ternary": {
           "aaxis": {
            "gridcolor": "white",
            "linecolor": "white",
            "ticks": ""
           },
           "baxis": {
            "gridcolor": "white",
            "linecolor": "white",
            "ticks": ""
           },
           "bgcolor": "#E5ECF6",
           "caxis": {
            "gridcolor": "white",
            "linecolor": "white",
            "ticks": ""
           }
          },
          "title": {
           "x": 0.05
          },
          "xaxis": {
           "automargin": true,
           "gridcolor": "white",
           "linecolor": "white",
           "ticks": "",
           "title": {
            "standoff": 15
           },
           "zerolinecolor": "white",
           "zerolinewidth": 2
          },
          "yaxis": {
           "automargin": true,
           "gridcolor": "white",
           "linecolor": "white",
           "ticks": "",
           "title": {
            "standoff": 15
           },
           "zerolinecolor": "white",
           "zerolinewidth": 2
          }
         }
        },
        "title": {
         "text": "Performance Development for Feature Is"
        },
        "xaxis": {
         "title": {
          "text": "Missing Rate"
         }
        },
        "yaxis": {
         "title": {
          "text": "Difference between original and interpolated data"
         }
        }
       }
      }
     },
     "metadata": {},
     "output_type": "display_data"
    },
    {
     "data": {
      "application/vnd.plotly.v1+json": {
       "config": {
        "plotlyServerURL": "https://plot.ly"
       },
       "data": [
        {
         "mode": "lines+markers",
         "name": "linear",
         "type": "scatter",
         "x": [
          0.1,
          0.11,
          0.12,
          0.13,
          0.13999999999999999,
          0.14999999999999997,
          0.15999999999999998,
          0.16999999999999998,
          0.17999999999999997,
          0.18999999999999995,
          0.19999999999999996,
          0.20999999999999996,
          0.21999999999999995,
          0.22999999999999995,
          0.23999999999999994,
          0.24999999999999992,
          0.2599999999999999,
          0.2699999999999999,
          0.2799999999999999,
          0.2899999999999999,
          0.29999999999999993,
          0.30999999999999994,
          0.3199999999999999,
          0.32999999999999985,
          0.33999999999999986,
          0.34999999999999987,
          0.3599999999999999,
          0.3699999999999999,
          0.3799999999999999,
          0.3899999999999999,
          0.3999999999999998,
          0.4099999999999998,
          0.4199999999999998,
          0.4299999999999998,
          0.43999999999999984,
          0.44999999999999984,
          0.45999999999999985,
          0.46999999999999986,
          0.47999999999999976,
          0.48999999999999977
         ],
         "y": [
          0,
          0,
          0,
          0,
          0,
          0,
          0,
          0,
          0,
          0,
          0,
          0,
          0,
          0,
          0,
          0,
          0,
          0,
          0,
          0,
          0,
          0,
          0,
          0,
          0,
          0,
          0,
          0,
          0,
          0,
          0,
          0,
          0,
          0,
          0,
          0,
          0,
          0,
          0,
          0
         ]
        },
        {
         "mode": "lines+markers",
         "name": "nearest",
         "type": "scatter",
         "x": [
          0.1,
          0.11,
          0.12,
          0.13,
          0.13999999999999999,
          0.14999999999999997,
          0.15999999999999998,
          0.16999999999999998,
          0.17999999999999997,
          0.18999999999999995,
          0.19999999999999996,
          0.20999999999999996,
          0.21999999999999995,
          0.22999999999999995,
          0.23999999999999994,
          0.24999999999999992,
          0.2599999999999999,
          0.2699999999999999,
          0.2799999999999999,
          0.2899999999999999,
          0.29999999999999993,
          0.30999999999999994,
          0.3199999999999999,
          0.32999999999999985,
          0.33999999999999986,
          0.34999999999999987,
          0.3599999999999999,
          0.3699999999999999,
          0.3799999999999999,
          0.3899999999999999,
          0.3999999999999998,
          0.4099999999999998,
          0.4199999999999998,
          0.4299999999999998,
          0.43999999999999984,
          0.44999999999999984,
          0.45999999999999985,
          0.46999999999999986,
          0.47999999999999976,
          0.48999999999999977
         ],
         "y": [
          0,
          0,
          0,
          0,
          0,
          0,
          0,
          0,
          0,
          null,
          null,
          null,
          null,
          null,
          null,
          null,
          null,
          null,
          null,
          null,
          null,
          null,
          null,
          null,
          null,
          null,
          null,
          null,
          null,
          null,
          null,
          null,
          null,
          null,
          null,
          null,
          null,
          null,
          null,
          null
         ]
        },
        {
         "mode": "lines+markers",
         "name": "zero",
         "type": "scatter",
         "x": [
          0.1,
          0.11,
          0.12,
          0.13,
          0.13999999999999999,
          0.14999999999999997,
          0.15999999999999998,
          0.16999999999999998,
          0.17999999999999997,
          0.18999999999999995,
          0.19999999999999996,
          0.20999999999999996,
          0.21999999999999995,
          0.22999999999999995,
          0.23999999999999994,
          0.24999999999999992,
          0.2599999999999999,
          0.2699999999999999,
          0.2799999999999999,
          0.2899999999999999,
          0.29999999999999993,
          0.30999999999999994,
          0.3199999999999999,
          0.32999999999999985,
          0.33999999999999986,
          0.34999999999999987,
          0.3599999999999999,
          0.3699999999999999,
          0.3799999999999999,
          0.3899999999999999,
          0.3999999999999998,
          0.4099999999999998,
          0.4199999999999998,
          0.4299999999999998,
          0.43999999999999984,
          0.44999999999999984,
          0.45999999999999985,
          0.46999999999999986,
          0.47999999999999976,
          0.48999999999999977
         ],
         "y": [
          0,
          0,
          0,
          0,
          0,
          0,
          0,
          0,
          0,
          null,
          null,
          null,
          null,
          null,
          null,
          null,
          null,
          null,
          null,
          null,
          null,
          null,
          null,
          null,
          null,
          null,
          null,
          null,
          null,
          null,
          null,
          null,
          null,
          null,
          null,
          null,
          null,
          null,
          null,
          null
         ]
        },
        {
         "mode": "lines+markers",
         "name": "slinear",
         "type": "scatter",
         "x": [
          0.1,
          0.11,
          0.12,
          0.13,
          0.13999999999999999,
          0.14999999999999997,
          0.15999999999999998,
          0.16999999999999998,
          0.17999999999999997,
          0.18999999999999995,
          0.19999999999999996,
          0.20999999999999996,
          0.21999999999999995,
          0.22999999999999995,
          0.23999999999999994,
          0.24999999999999992,
          0.2599999999999999,
          0.2699999999999999,
          0.2799999999999999,
          0.2899999999999999,
          0.29999999999999993,
          0.30999999999999994,
          0.3199999999999999,
          0.32999999999999985,
          0.33999999999999986,
          0.34999999999999987,
          0.3599999999999999,
          0.3699999999999999,
          0.3799999999999999,
          0.3899999999999999,
          0.3999999999999998,
          0.4099999999999998,
          0.4199999999999998,
          0.4299999999999998,
          0.43999999999999984,
          0.44999999999999984,
          0.45999999999999985,
          0.46999999999999986,
          0.47999999999999976,
          0.48999999999999977
         ],
         "y": [
          0,
          0,
          0,
          0,
          0,
          0,
          0,
          0,
          0,
          null,
          null,
          null,
          null,
          null,
          null,
          null,
          null,
          null,
          null,
          null,
          null,
          null,
          null,
          null,
          null,
          null,
          null,
          null,
          null,
          null,
          null,
          null,
          null,
          null,
          null,
          null,
          null,
          null,
          null,
          null
         ]
        },
        {
         "mode": "lines+markers",
         "name": "quadratic",
         "type": "scatter",
         "x": [
          0.1,
          0.11,
          0.12,
          0.13,
          0.13999999999999999,
          0.14999999999999997,
          0.15999999999999998,
          0.16999999999999998,
          0.17999999999999997,
          0.18999999999999995,
          0.19999999999999996,
          0.20999999999999996,
          0.21999999999999995,
          0.22999999999999995,
          0.23999999999999994,
          0.24999999999999992,
          0.2599999999999999,
          0.2699999999999999,
          0.2799999999999999,
          0.2899999999999999,
          0.29999999999999993,
          0.30999999999999994,
          0.3199999999999999,
          0.32999999999999985,
          0.33999999999999986,
          0.34999999999999987,
          0.3599999999999999,
          0.3699999999999999,
          0.3799999999999999,
          0.3899999999999999,
          0.3999999999999998,
          0.4099999999999998,
          0.4199999999999998,
          0.4299999999999998,
          0.43999999999999984,
          0.44999999999999984,
          0.45999999999999985,
          0.46999999999999986,
          0.47999999999999976,
          0.48999999999999977
         ],
         "y": [
          0,
          0,
          0,
          0,
          0,
          0,
          0,
          0,
          0,
          null,
          null,
          null,
          null,
          null,
          null,
          null,
          null,
          null,
          null,
          null,
          null,
          null,
          null,
          null,
          null,
          null,
          null,
          null,
          null,
          null,
          null,
          null,
          null,
          null,
          null,
          null,
          null,
          null,
          null,
          null
         ]
        },
        {
         "mode": "lines+markers",
         "name": "cubic",
         "type": "scatter",
         "x": [
          0.1,
          0.11,
          0.12,
          0.13,
          0.13999999999999999,
          0.14999999999999997,
          0.15999999999999998,
          0.16999999999999998,
          0.17999999999999997,
          0.18999999999999995,
          0.19999999999999996,
          0.20999999999999996,
          0.21999999999999995,
          0.22999999999999995,
          0.23999999999999994,
          0.24999999999999992,
          0.2599999999999999,
          0.2699999999999999,
          0.2799999999999999,
          0.2899999999999999,
          0.29999999999999993,
          0.30999999999999994,
          0.3199999999999999,
          0.32999999999999985,
          0.33999999999999986,
          0.34999999999999987,
          0.3599999999999999,
          0.3699999999999999,
          0.3799999999999999,
          0.3899999999999999,
          0.3999999999999998,
          0.4099999999999998,
          0.4199999999999998,
          0.4299999999999998,
          0.43999999999999984,
          0.44999999999999984,
          0.45999999999999985,
          0.46999999999999986,
          0.47999999999999976,
          0.48999999999999977
         ],
         "y": [
          0,
          0,
          0,
          0,
          0,
          0,
          0,
          0,
          0,
          null,
          null,
          null,
          null,
          null,
          null,
          null,
          null,
          null,
          null,
          null,
          null,
          null,
          null,
          null,
          null,
          null,
          null,
          null,
          null,
          null,
          null,
          null,
          null,
          null,
          null,
          null,
          null,
          null,
          null,
          null
         ]
        },
        {
         "mode": "lines+markers",
         "name": "polynomial_order_1",
         "type": "scatter",
         "x": [
          0.1,
          0.11,
          0.12,
          0.13,
          0.13999999999999999,
          0.14999999999999997,
          0.15999999999999998,
          0.16999999999999998,
          0.17999999999999997,
          0.18999999999999995,
          0.19999999999999996,
          0.20999999999999996,
          0.21999999999999995,
          0.22999999999999995,
          0.23999999999999994,
          0.24999999999999992,
          0.2599999999999999,
          0.2699999999999999,
          0.2799999999999999,
          0.2899999999999999,
          0.29999999999999993,
          0.30999999999999994,
          0.3199999999999999,
          0.32999999999999985,
          0.33999999999999986,
          0.34999999999999987,
          0.3599999999999999,
          0.3699999999999999,
          0.3799999999999999,
          0.3899999999999999,
          0.3999999999999998,
          0.4099999999999998,
          0.4199999999999998,
          0.4299999999999998,
          0.43999999999999984,
          0.44999999999999984,
          0.45999999999999985,
          0.46999999999999986,
          0.47999999999999976,
          0.48999999999999977
         ],
         "y": [
          0,
          0,
          0,
          0,
          0,
          0,
          0,
          0,
          0,
          null,
          null,
          null,
          null,
          null,
          null,
          null,
          null,
          null,
          null,
          null,
          null,
          null,
          null,
          null,
          null,
          null,
          null,
          null,
          null,
          null,
          null,
          null,
          null,
          null,
          null,
          null,
          null,
          null,
          null,
          null
         ]
        },
        {
         "mode": "lines+markers",
         "name": "polynomial_order_2",
         "type": "scatter",
         "x": [
          0.1,
          0.11,
          0.12,
          0.13,
          0.13999999999999999,
          0.14999999999999997,
          0.15999999999999998,
          0.16999999999999998,
          0.17999999999999997,
          0.18999999999999995,
          0.19999999999999996,
          0.20999999999999996,
          0.21999999999999995,
          0.22999999999999995,
          0.23999999999999994,
          0.24999999999999992,
          0.2599999999999999,
          0.2699999999999999,
          0.2799999999999999,
          0.2899999999999999,
          0.29999999999999993,
          0.30999999999999994,
          0.3199999999999999,
          0.32999999999999985,
          0.33999999999999986,
          0.34999999999999987,
          0.3599999999999999,
          0.3699999999999999,
          0.3799999999999999,
          0.3899999999999999,
          0.3999999999999998,
          0.4099999999999998,
          0.4199999999999998,
          0.4299999999999998,
          0.43999999999999984,
          0.44999999999999984,
          0.45999999999999985,
          0.46999999999999986,
          0.47999999999999976,
          0.48999999999999977
         ],
         "y": [
          0,
          0,
          0,
          0,
          0,
          0,
          0,
          0,
          0,
          null,
          null,
          null,
          null,
          null,
          null,
          null,
          null,
          null,
          null,
          null,
          null,
          null,
          null,
          null,
          null,
          null,
          null,
          null,
          null,
          null,
          null,
          null,
          null,
          null,
          null,
          null,
          null,
          null,
          null,
          null
         ]
        },
        {
         "mode": "lines+markers",
         "name": "polynomial_order_3",
         "type": "scatter",
         "x": [
          0.1,
          0.11,
          0.12,
          0.13,
          0.13999999999999999,
          0.14999999999999997,
          0.15999999999999998,
          0.16999999999999998,
          0.17999999999999997,
          0.18999999999999995,
          0.19999999999999996,
          0.20999999999999996,
          0.21999999999999995,
          0.22999999999999995,
          0.23999999999999994,
          0.24999999999999992,
          0.2599999999999999,
          0.2699999999999999,
          0.2799999999999999,
          0.2899999999999999,
          0.29999999999999993,
          0.30999999999999994,
          0.3199999999999999,
          0.32999999999999985,
          0.33999999999999986,
          0.34999999999999987,
          0.3599999999999999,
          0.3699999999999999,
          0.3799999999999999,
          0.3899999999999999,
          0.3999999999999998,
          0.4099999999999998,
          0.4199999999999998,
          0.4299999999999998,
          0.43999999999999984,
          0.44999999999999984,
          0.45999999999999985,
          0.46999999999999986,
          0.47999999999999976,
          0.48999999999999977
         ],
         "y": [
          0,
          0,
          0,
          0,
          0,
          0,
          0,
          0,
          0,
          null,
          null,
          null,
          null,
          null,
          null,
          null,
          null,
          null,
          null,
          null,
          null,
          null,
          null,
          null,
          null,
          null,
          null,
          null,
          null,
          null,
          null,
          null,
          null,
          null,
          null,
          null,
          null,
          null,
          null,
          null
         ]
        },
        {
         "mode": "lines+markers",
         "name": "polynomial_order_5",
         "type": "scatter",
         "x": [
          0.1,
          0.11,
          0.12,
          0.13,
          0.13999999999999999,
          0.14999999999999997,
          0.15999999999999998,
          0.16999999999999998,
          0.17999999999999997,
          0.18999999999999995,
          0.19999999999999996,
          0.20999999999999996,
          0.21999999999999995,
          0.22999999999999995,
          0.23999999999999994,
          0.24999999999999992,
          0.2599999999999999,
          0.2699999999999999,
          0.2799999999999999,
          0.2899999999999999,
          0.29999999999999993,
          0.30999999999999994,
          0.3199999999999999,
          0.32999999999999985,
          0.33999999999999986,
          0.34999999999999987,
          0.3599999999999999,
          0.3699999999999999,
          0.3799999999999999,
          0.3899999999999999,
          0.3999999999999998,
          0.4099999999999998,
          0.4199999999999998,
          0.4299999999999998,
          0.43999999999999984,
          0.44999999999999984,
          0.45999999999999985,
          0.46999999999999986,
          0.47999999999999976,
          0.48999999999999977
         ],
         "y": [
          0,
          0,
          0,
          0,
          0,
          0,
          0,
          0,
          0,
          null,
          null,
          null,
          null,
          null,
          null,
          null,
          null,
          null,
          null,
          null,
          null,
          null,
          null,
          null,
          null,
          null,
          null,
          null,
          null,
          null,
          null,
          null,
          null,
          null,
          null,
          null,
          null,
          null,
          null,
          null
         ]
        },
        {
         "mode": "lines+markers",
         "name": "polynomial_order_7",
         "type": "scatter",
         "x": [
          0.1,
          0.11,
          0.12,
          0.13,
          0.13999999999999999,
          0.14999999999999997,
          0.15999999999999998,
          0.16999999999999998,
          0.17999999999999997,
          0.18999999999999995,
          0.19999999999999996,
          0.20999999999999996,
          0.21999999999999995,
          0.22999999999999995,
          0.23999999999999994,
          0.24999999999999992,
          0.2599999999999999,
          0.2699999999999999,
          0.2799999999999999,
          0.2899999999999999,
          0.29999999999999993,
          0.30999999999999994,
          0.3199999999999999,
          0.32999999999999985,
          0.33999999999999986,
          0.34999999999999987,
          0.3599999999999999,
          0.3699999999999999,
          0.3799999999999999,
          0.3899999999999999,
          0.3999999999999998,
          0.4099999999999998,
          0.4199999999999998,
          0.4299999999999998,
          0.43999999999999984,
          0.44999999999999984,
          0.45999999999999985,
          0.46999999999999986,
          0.47999999999999976,
          0.48999999999999977
         ],
         "y": [
          0,
          0,
          0,
          0,
          0,
          0,
          0,
          0,
          0,
          null,
          null,
          null,
          null,
          null,
          null,
          null,
          null,
          null,
          null,
          null,
          null,
          null,
          null,
          null,
          null,
          null,
          null,
          null,
          null,
          null,
          null,
          null,
          null,
          null,
          null,
          null,
          null,
          null,
          null,
          null
         ]
        },
        {
         "mode": "lines+markers",
         "name": "polynomial_order_9",
         "type": "scatter",
         "x": [
          0.1,
          0.11,
          0.12,
          0.13,
          0.13999999999999999,
          0.14999999999999997,
          0.15999999999999998,
          0.16999999999999998,
          0.17999999999999997,
          0.18999999999999995,
          0.19999999999999996,
          0.20999999999999996,
          0.21999999999999995,
          0.22999999999999995,
          0.23999999999999994,
          0.24999999999999992,
          0.2599999999999999,
          0.2699999999999999,
          0.2799999999999999,
          0.2899999999999999,
          0.29999999999999993,
          0.30999999999999994,
          0.3199999999999999,
          0.32999999999999985,
          0.33999999999999986,
          0.34999999999999987,
          0.3599999999999999,
          0.3699999999999999,
          0.3799999999999999,
          0.3899999999999999,
          0.3999999999999998,
          0.4099999999999998,
          0.4199999999999998,
          0.4299999999999998,
          0.43999999999999984,
          0.44999999999999984,
          0.45999999999999985,
          0.46999999999999986,
          0.47999999999999976,
          0.48999999999999977
         ],
         "y": [
          0,
          0,
          0,
          0,
          0,
          0,
          0,
          0,
          0,
          null,
          null,
          null,
          null,
          null,
          null,
          null,
          null,
          null,
          null,
          null,
          null,
          null,
          null,
          null,
          null,
          null,
          null,
          null,
          null,
          null,
          null,
          null,
          null,
          null,
          null,
          null,
          null,
          null,
          null,
          null
         ]
        },
        {
         "mode": "lines+markers",
         "name": "piecewise_polynomial",
         "type": "scatter",
         "x": [
          0.1,
          0.11,
          0.12,
          0.13,
          0.13999999999999999,
          0.14999999999999997,
          0.15999999999999998,
          0.16999999999999998,
          0.17999999999999997,
          0.18999999999999995,
          0.19999999999999996,
          0.20999999999999996,
          0.21999999999999995,
          0.22999999999999995,
          0.23999999999999994,
          0.24999999999999992,
          0.2599999999999999,
          0.2699999999999999,
          0.2799999999999999,
          0.2899999999999999,
          0.29999999999999993,
          0.30999999999999994,
          0.3199999999999999,
          0.32999999999999985,
          0.33999999999999986,
          0.34999999999999987,
          0.3599999999999999,
          0.3699999999999999,
          0.3799999999999999,
          0.3899999999999999,
          0.3999999999999998,
          0.4099999999999998,
          0.4199999999999998,
          0.4299999999999998,
          0.43999999999999984,
          0.44999999999999984,
          0.45999999999999985,
          0.46999999999999986,
          0.47999999999999976,
          0.48999999999999977
         ],
         "y": [
          0,
          0,
          0,
          0,
          0,
          0,
          0,
          0,
          0,
          null,
          null,
          null,
          null,
          null,
          null,
          null,
          null,
          null,
          null,
          null,
          null,
          null,
          null,
          null,
          null,
          null,
          null,
          null,
          null,
          null,
          null,
          null,
          null,
          null,
          null,
          null,
          null,
          null,
          null,
          null
         ]
        },
        {
         "mode": "lines+markers",
         "name": "spline_order_1",
         "type": "scatter",
         "x": [
          0.1,
          0.11,
          0.12,
          0.13,
          0.13999999999999999,
          0.14999999999999997,
          0.15999999999999998,
          0.16999999999999998,
          0.17999999999999997,
          0.18999999999999995,
          0.19999999999999996,
          0.20999999999999996,
          0.21999999999999995,
          0.22999999999999995,
          0.23999999999999994,
          0.24999999999999992,
          0.2599999999999999,
          0.2699999999999999,
          0.2799999999999999,
          0.2899999999999999,
          0.29999999999999993,
          0.30999999999999994,
          0.3199999999999999,
          0.32999999999999985,
          0.33999999999999986,
          0.34999999999999987,
          0.3599999999999999,
          0.3699999999999999,
          0.3799999999999999,
          0.3899999999999999,
          0.3999999999999998,
          0.4099999999999998,
          0.4199999999999998,
          0.4299999999999998,
          0.43999999999999984,
          0.44999999999999984,
          0.45999999999999985,
          0.46999999999999986,
          0.47999999999999976,
          0.48999999999999977
         ],
         "y": [
          0,
          0,
          0,
          0,
          0,
          0,
          0,
          0,
          0,
          0,
          0,
          0,
          0,
          0,
          0,
          0,
          0,
          0,
          0,
          0,
          0,
          0,
          0,
          0,
          0,
          0,
          0,
          0,
          0,
          0,
          0,
          0,
          0,
          0,
          0,
          0,
          0,
          0,
          0,
          0
         ]
        },
        {
         "mode": "lines+markers",
         "name": "spline_order_2",
         "type": "scatter",
         "x": [
          0.1,
          0.11,
          0.12,
          0.13,
          0.13999999999999999,
          0.14999999999999997,
          0.15999999999999998,
          0.16999999999999998,
          0.17999999999999997,
          0.18999999999999995,
          0.19999999999999996,
          0.20999999999999996,
          0.21999999999999995,
          0.22999999999999995,
          0.23999999999999994,
          0.24999999999999992,
          0.2599999999999999,
          0.2699999999999999,
          0.2799999999999999,
          0.2899999999999999,
          0.29999999999999993,
          0.30999999999999994,
          0.3199999999999999,
          0.32999999999999985,
          0.33999999999999986,
          0.34999999999999987,
          0.3599999999999999,
          0.3699999999999999,
          0.3799999999999999,
          0.3899999999999999,
          0.3999999999999998,
          0.4099999999999998,
          0.4199999999999998,
          0.4299999999999998,
          0.43999999999999984,
          0.44999999999999984,
          0.45999999999999985,
          0.46999999999999986,
          0.47999999999999976,
          0.48999999999999977
         ],
         "y": [
          0,
          0,
          0,
          0,
          0,
          0,
          0,
          0,
          0,
          0,
          0,
          0,
          0,
          0,
          0,
          0,
          0,
          0,
          0,
          0,
          0,
          0,
          0,
          0,
          0,
          0,
          0,
          0,
          0,
          0,
          0,
          0,
          0,
          0,
          0,
          0,
          0,
          0,
          0,
          0
         ]
        },
        {
         "mode": "lines+markers",
         "name": "spline_order_3",
         "type": "scatter",
         "x": [
          0.1,
          0.11,
          0.12,
          0.13,
          0.13999999999999999,
          0.14999999999999997,
          0.15999999999999998,
          0.16999999999999998,
          0.17999999999999997,
          0.18999999999999995,
          0.19999999999999996,
          0.20999999999999996,
          0.21999999999999995,
          0.22999999999999995,
          0.23999999999999994,
          0.24999999999999992,
          0.2599999999999999,
          0.2699999999999999,
          0.2799999999999999,
          0.2899999999999999,
          0.29999999999999993,
          0.30999999999999994,
          0.3199999999999999,
          0.32999999999999985,
          0.33999999999999986,
          0.34999999999999987,
          0.3599999999999999,
          0.3699999999999999,
          0.3799999999999999,
          0.3899999999999999,
          0.3999999999999998,
          0.4099999999999998,
          0.4199999999999998,
          0.4299999999999998,
          0.43999999999999984,
          0.44999999999999984,
          0.45999999999999985,
          0.46999999999999986,
          0.47999999999999976,
          0.48999999999999977
         ],
         "y": [
          0,
          0,
          0,
          0,
          0,
          0,
          0,
          0,
          0,
          0,
          0,
          0,
          0,
          0,
          0,
          0,
          0,
          0,
          0,
          0,
          0,
          0,
          0,
          0,
          0,
          0,
          0,
          0,
          0,
          0,
          0,
          0,
          0,
          0,
          0,
          0,
          0,
          0,
          0,
          0
         ]
        },
        {
         "mode": "lines+markers",
         "name": "spline_order_4",
         "type": "scatter",
         "x": [
          0.1,
          0.11,
          0.12,
          0.13,
          0.13999999999999999,
          0.14999999999999997,
          0.15999999999999998,
          0.16999999999999998,
          0.17999999999999997,
          0.18999999999999995,
          0.19999999999999996,
          0.20999999999999996,
          0.21999999999999995,
          0.22999999999999995,
          0.23999999999999994,
          0.24999999999999992,
          0.2599999999999999,
          0.2699999999999999,
          0.2799999999999999,
          0.2899999999999999,
          0.29999999999999993,
          0.30999999999999994,
          0.3199999999999999,
          0.32999999999999985,
          0.33999999999999986,
          0.34999999999999987,
          0.3599999999999999,
          0.3699999999999999,
          0.3799999999999999,
          0.3899999999999999,
          0.3999999999999998,
          0.4099999999999998,
          0.4199999999999998,
          0.4299999999999998,
          0.43999999999999984,
          0.44999999999999984,
          0.45999999999999985,
          0.46999999999999986,
          0.47999999999999976,
          0.48999999999999977
         ],
         "y": [
          0,
          0,
          0,
          0,
          0,
          0,
          0,
          0,
          0,
          0,
          0,
          0,
          0,
          0,
          0,
          0,
          0,
          0,
          0,
          0,
          0,
          0,
          0,
          0,
          0,
          0,
          0,
          0,
          0,
          0,
          0,
          0,
          0,
          0,
          0,
          0,
          0,
          0,
          0,
          0
         ]
        },
        {
         "mode": "lines+markers",
         "name": "spline_order_5",
         "type": "scatter",
         "x": [
          0.1,
          0.11,
          0.12,
          0.13,
          0.13999999999999999,
          0.14999999999999997,
          0.15999999999999998,
          0.16999999999999998,
          0.17999999999999997,
          0.18999999999999995,
          0.19999999999999996,
          0.20999999999999996,
          0.21999999999999995,
          0.22999999999999995,
          0.23999999999999994,
          0.24999999999999992,
          0.2599999999999999,
          0.2699999999999999,
          0.2799999999999999,
          0.2899999999999999,
          0.29999999999999993,
          0.30999999999999994,
          0.3199999999999999,
          0.32999999999999985,
          0.33999999999999986,
          0.34999999999999987,
          0.3599999999999999,
          0.3699999999999999,
          0.3799999999999999,
          0.3899999999999999,
          0.3999999999999998,
          0.4099999999999998,
          0.4199999999999998,
          0.4299999999999998,
          0.43999999999999984,
          0.44999999999999984,
          0.45999999999999985,
          0.46999999999999986,
          0.47999999999999976,
          0.48999999999999977
         ],
         "y": [
          0,
          0,
          0,
          0,
          0,
          0,
          0,
          0,
          0,
          0,
          0,
          0,
          0,
          0,
          0,
          0,
          0,
          0,
          0,
          0,
          0,
          0,
          0,
          0,
          0,
          0,
          0,
          0,
          0,
          0,
          0,
          0,
          0,
          0,
          0,
          0,
          0,
          0,
          0,
          0
         ]
        },
        {
         "mode": "lines+markers",
         "name": "akima",
         "type": "scatter",
         "x": [
          0.1,
          0.11,
          0.12,
          0.13,
          0.13999999999999999,
          0.14999999999999997,
          0.15999999999999998,
          0.16999999999999998,
          0.17999999999999997,
          0.18999999999999995,
          0.19999999999999996,
          0.20999999999999996,
          0.21999999999999995,
          0.22999999999999995,
          0.23999999999999994,
          0.24999999999999992,
          0.2599999999999999,
          0.2699999999999999,
          0.2799999999999999,
          0.2899999999999999,
          0.29999999999999993,
          0.30999999999999994,
          0.3199999999999999,
          0.32999999999999985,
          0.33999999999999986,
          0.34999999999999987,
          0.3599999999999999,
          0.3699999999999999,
          0.3799999999999999,
          0.3899999999999999,
          0.3999999999999998,
          0.4099999999999998,
          0.4199999999999998,
          0.4299999999999998,
          0.43999999999999984,
          0.44999999999999984,
          0.45999999999999985,
          0.46999999999999986,
          0.47999999999999976,
          0.48999999999999977
         ],
         "y": [
          0,
          0,
          0,
          0,
          0,
          0,
          0,
          0,
          0,
          null,
          null,
          null,
          null,
          null,
          null,
          null,
          null,
          null,
          null,
          null,
          null,
          null,
          null,
          null,
          null,
          null,
          null,
          null,
          null,
          null,
          null,
          null,
          null,
          null,
          null,
          null,
          null,
          null,
          null,
          null
         ]
        },
        {
         "mode": "lines+markers",
         "name": "cubicspline",
         "type": "scatter",
         "x": [
          0.1,
          0.11,
          0.12,
          0.13,
          0.13999999999999999,
          0.14999999999999997,
          0.15999999999999998,
          0.16999999999999998,
          0.17999999999999997,
          0.18999999999999995,
          0.19999999999999996,
          0.20999999999999996,
          0.21999999999999995,
          0.22999999999999995,
          0.23999999999999994,
          0.24999999999999992,
          0.2599999999999999,
          0.2699999999999999,
          0.2799999999999999,
          0.2899999999999999,
          0.29999999999999993,
          0.30999999999999994,
          0.3199999999999999,
          0.32999999999999985,
          0.33999999999999986,
          0.34999999999999987,
          0.3599999999999999,
          0.3699999999999999,
          0.3799999999999999,
          0.3899999999999999,
          0.3999999999999998,
          0.4099999999999998,
          0.4199999999999998,
          0.4299999999999998,
          0.43999999999999984,
          0.44999999999999984,
          0.45999999999999985,
          0.46999999999999986,
          0.47999999999999976,
          0.48999999999999977
         ],
         "y": [
          0,
          0,
          0,
          0,
          0,
          0,
          0,
          0,
          0,
          0,
          0,
          0,
          0,
          0,
          0,
          0,
          0,
          0,
          0,
          0,
          0,
          0,
          0,
          0,
          0,
          0,
          0,
          0,
          0,
          0,
          0,
          0,
          0,
          0,
          0,
          0,
          0,
          0,
          0,
          0
         ]
        },
        {
         "mode": "lines+markers",
         "name": "from_derivatives",
         "type": "scatter",
         "x": [
          0.1,
          0.11,
          0.12,
          0.13,
          0.13999999999999999,
          0.14999999999999997,
          0.15999999999999998,
          0.16999999999999998,
          0.17999999999999997,
          0.18999999999999995,
          0.19999999999999996,
          0.20999999999999996,
          0.21999999999999995,
          0.22999999999999995,
          0.23999999999999994,
          0.24999999999999992,
          0.2599999999999999,
          0.2699999999999999,
          0.2799999999999999,
          0.2899999999999999,
          0.29999999999999993,
          0.30999999999999994,
          0.3199999999999999,
          0.32999999999999985,
          0.33999999999999986,
          0.34999999999999987,
          0.3599999999999999,
          0.3699999999999999,
          0.3799999999999999,
          0.3899999999999999,
          0.3999999999999998,
          0.4099999999999998,
          0.4199999999999998,
          0.4299999999999998,
          0.43999999999999984,
          0.44999999999999984,
          0.45999999999999985,
          0.46999999999999986,
          0.47999999999999976,
          0.48999999999999977
         ],
         "y": [
          0,
          0,
          0,
          0,
          0,
          0,
          0,
          0,
          0,
          null,
          null,
          null,
          null,
          null,
          null,
          null,
          null,
          null,
          null,
          null,
          null,
          null,
          null,
          null,
          null,
          null,
          null,
          null,
          null,
          null,
          null,
          null,
          null,
          null,
          null,
          null,
          null,
          null,
          null,
          null
         ]
        }
       ],
       "layout": {
        "legend": {
         "title": {
          "text": "Method"
         }
        },
        "template": {
         "data": {
          "bar": [
           {
            "error_x": {
             "color": "#2a3f5f"
            },
            "error_y": {
             "color": "#2a3f5f"
            },
            "marker": {
             "line": {
              "color": "#E5ECF6",
              "width": 0.5
             },
             "pattern": {
              "fillmode": "overlay",
              "size": 10,
              "solidity": 0.2
             }
            },
            "type": "bar"
           }
          ],
          "barpolar": [
           {
            "marker": {
             "line": {
              "color": "#E5ECF6",
              "width": 0.5
             },
             "pattern": {
              "fillmode": "overlay",
              "size": 10,
              "solidity": 0.2
             }
            },
            "type": "barpolar"
           }
          ],
          "carpet": [
           {
            "aaxis": {
             "endlinecolor": "#2a3f5f",
             "gridcolor": "white",
             "linecolor": "white",
             "minorgridcolor": "white",
             "startlinecolor": "#2a3f5f"
            },
            "baxis": {
             "endlinecolor": "#2a3f5f",
             "gridcolor": "white",
             "linecolor": "white",
             "minorgridcolor": "white",
             "startlinecolor": "#2a3f5f"
            },
            "type": "carpet"
           }
          ],
          "choropleth": [
           {
            "colorbar": {
             "outlinewidth": 0,
             "ticks": ""
            },
            "type": "choropleth"
           }
          ],
          "contour": [
           {
            "colorbar": {
             "outlinewidth": 0,
             "ticks": ""
            },
            "colorscale": [
             [
              0,
              "#0d0887"
             ],
             [
              0.1111111111111111,
              "#46039f"
             ],
             [
              0.2222222222222222,
              "#7201a8"
             ],
             [
              0.3333333333333333,
              "#9c179e"
             ],
             [
              0.4444444444444444,
              "#bd3786"
             ],
             [
              0.5555555555555556,
              "#d8576b"
             ],
             [
              0.6666666666666666,
              "#ed7953"
             ],
             [
              0.7777777777777778,
              "#fb9f3a"
             ],
             [
              0.8888888888888888,
              "#fdca26"
             ],
             [
              1,
              "#f0f921"
             ]
            ],
            "type": "contour"
           }
          ],
          "contourcarpet": [
           {
            "colorbar": {
             "outlinewidth": 0,
             "ticks": ""
            },
            "type": "contourcarpet"
           }
          ],
          "heatmap": [
           {
            "colorbar": {
             "outlinewidth": 0,
             "ticks": ""
            },
            "colorscale": [
             [
              0,
              "#0d0887"
             ],
             [
              0.1111111111111111,
              "#46039f"
             ],
             [
              0.2222222222222222,
              "#7201a8"
             ],
             [
              0.3333333333333333,
              "#9c179e"
             ],
             [
              0.4444444444444444,
              "#bd3786"
             ],
             [
              0.5555555555555556,
              "#d8576b"
             ],
             [
              0.6666666666666666,
              "#ed7953"
             ],
             [
              0.7777777777777778,
              "#fb9f3a"
             ],
             [
              0.8888888888888888,
              "#fdca26"
             ],
             [
              1,
              "#f0f921"
             ]
            ],
            "type": "heatmap"
           }
          ],
          "heatmapgl": [
           {
            "colorbar": {
             "outlinewidth": 0,
             "ticks": ""
            },
            "colorscale": [
             [
              0,
              "#0d0887"
             ],
             [
              0.1111111111111111,
              "#46039f"
             ],
             [
              0.2222222222222222,
              "#7201a8"
             ],
             [
              0.3333333333333333,
              "#9c179e"
             ],
             [
              0.4444444444444444,
              "#bd3786"
             ],
             [
              0.5555555555555556,
              "#d8576b"
             ],
             [
              0.6666666666666666,
              "#ed7953"
             ],
             [
              0.7777777777777778,
              "#fb9f3a"
             ],
             [
              0.8888888888888888,
              "#fdca26"
             ],
             [
              1,
              "#f0f921"
             ]
            ],
            "type": "heatmapgl"
           }
          ],
          "histogram": [
           {
            "marker": {
             "pattern": {
              "fillmode": "overlay",
              "size": 10,
              "solidity": 0.2
             }
            },
            "type": "histogram"
           }
          ],
          "histogram2d": [
           {
            "colorbar": {
             "outlinewidth": 0,
             "ticks": ""
            },
            "colorscale": [
             [
              0,
              "#0d0887"
             ],
             [
              0.1111111111111111,
              "#46039f"
             ],
             [
              0.2222222222222222,
              "#7201a8"
             ],
             [
              0.3333333333333333,
              "#9c179e"
             ],
             [
              0.4444444444444444,
              "#bd3786"
             ],
             [
              0.5555555555555556,
              "#d8576b"
             ],
             [
              0.6666666666666666,
              "#ed7953"
             ],
             [
              0.7777777777777778,
              "#fb9f3a"
             ],
             [
              0.8888888888888888,
              "#fdca26"
             ],
             [
              1,
              "#f0f921"
             ]
            ],
            "type": "histogram2d"
           }
          ],
          "histogram2dcontour": [
           {
            "colorbar": {
             "outlinewidth": 0,
             "ticks": ""
            },
            "colorscale": [
             [
              0,
              "#0d0887"
             ],
             [
              0.1111111111111111,
              "#46039f"
             ],
             [
              0.2222222222222222,
              "#7201a8"
             ],
             [
              0.3333333333333333,
              "#9c179e"
             ],
             [
              0.4444444444444444,
              "#bd3786"
             ],
             [
              0.5555555555555556,
              "#d8576b"
             ],
             [
              0.6666666666666666,
              "#ed7953"
             ],
             [
              0.7777777777777778,
              "#fb9f3a"
             ],
             [
              0.8888888888888888,
              "#fdca26"
             ],
             [
              1,
              "#f0f921"
             ]
            ],
            "type": "histogram2dcontour"
           }
          ],
          "mesh3d": [
           {
            "colorbar": {
             "outlinewidth": 0,
             "ticks": ""
            },
            "type": "mesh3d"
           }
          ],
          "parcoords": [
           {
            "line": {
             "colorbar": {
              "outlinewidth": 0,
              "ticks": ""
             }
            },
            "type": "parcoords"
           }
          ],
          "pie": [
           {
            "automargin": true,
            "type": "pie"
           }
          ],
          "scatter": [
           {
            "fillpattern": {
             "fillmode": "overlay",
             "size": 10,
             "solidity": 0.2
            },
            "type": "scatter"
           }
          ],
          "scatter3d": [
           {
            "line": {
             "colorbar": {
              "outlinewidth": 0,
              "ticks": ""
             }
            },
            "marker": {
             "colorbar": {
              "outlinewidth": 0,
              "ticks": ""
             }
            },
            "type": "scatter3d"
           }
          ],
          "scattercarpet": [
           {
            "marker": {
             "colorbar": {
              "outlinewidth": 0,
              "ticks": ""
             }
            },
            "type": "scattercarpet"
           }
          ],
          "scattergeo": [
           {
            "marker": {
             "colorbar": {
              "outlinewidth": 0,
              "ticks": ""
             }
            },
            "type": "scattergeo"
           }
          ],
          "scattergl": [
           {
            "marker": {
             "colorbar": {
              "outlinewidth": 0,
              "ticks": ""
             }
            },
            "type": "scattergl"
           }
          ],
          "scattermapbox": [
           {
            "marker": {
             "colorbar": {
              "outlinewidth": 0,
              "ticks": ""
             }
            },
            "type": "scattermapbox"
           }
          ],
          "scatterpolar": [
           {
            "marker": {
             "colorbar": {
              "outlinewidth": 0,
              "ticks": ""
             }
            },
            "type": "scatterpolar"
           }
          ],
          "scatterpolargl": [
           {
            "marker": {
             "colorbar": {
              "outlinewidth": 0,
              "ticks": ""
             }
            },
            "type": "scatterpolargl"
           }
          ],
          "scatterternary": [
           {
            "marker": {
             "colorbar": {
              "outlinewidth": 0,
              "ticks": ""
             }
            },
            "type": "scatterternary"
           }
          ],
          "surface": [
           {
            "colorbar": {
             "outlinewidth": 0,
             "ticks": ""
            },
            "colorscale": [
             [
              0,
              "#0d0887"
             ],
             [
              0.1111111111111111,
              "#46039f"
             ],
             [
              0.2222222222222222,
              "#7201a8"
             ],
             [
              0.3333333333333333,
              "#9c179e"
             ],
             [
              0.4444444444444444,
              "#bd3786"
             ],
             [
              0.5555555555555556,
              "#d8576b"
             ],
             [
              0.6666666666666666,
              "#ed7953"
             ],
             [
              0.7777777777777778,
              "#fb9f3a"
             ],
             [
              0.8888888888888888,
              "#fdca26"
             ],
             [
              1,
              "#f0f921"
             ]
            ],
            "type": "surface"
           }
          ],
          "table": [
           {
            "cells": {
             "fill": {
              "color": "#EBF0F8"
             },
             "line": {
              "color": "white"
             }
            },
            "header": {
             "fill": {
              "color": "#C8D4E3"
             },
             "line": {
              "color": "white"
             }
            },
            "type": "table"
           }
          ]
         },
         "layout": {
          "annotationdefaults": {
           "arrowcolor": "#2a3f5f",
           "arrowhead": 0,
           "arrowwidth": 1
          },
          "autotypenumbers": "strict",
          "coloraxis": {
           "colorbar": {
            "outlinewidth": 0,
            "ticks": ""
           }
          },
          "colorscale": {
           "diverging": [
            [
             0,
             "#8e0152"
            ],
            [
             0.1,
             "#c51b7d"
            ],
            [
             0.2,
             "#de77ae"
            ],
            [
             0.3,
             "#f1b6da"
            ],
            [
             0.4,
             "#fde0ef"
            ],
            [
             0.5,
             "#f7f7f7"
            ],
            [
             0.6,
             "#e6f5d0"
            ],
            [
             0.7,
             "#b8e186"
            ],
            [
             0.8,
             "#7fbc41"
            ],
            [
             0.9,
             "#4d9221"
            ],
            [
             1,
             "#276419"
            ]
           ],
           "sequential": [
            [
             0,
             "#0d0887"
            ],
            [
             0.1111111111111111,
             "#46039f"
            ],
            [
             0.2222222222222222,
             "#7201a8"
            ],
            [
             0.3333333333333333,
             "#9c179e"
            ],
            [
             0.4444444444444444,
             "#bd3786"
            ],
            [
             0.5555555555555556,
             "#d8576b"
            ],
            [
             0.6666666666666666,
             "#ed7953"
            ],
            [
             0.7777777777777778,
             "#fb9f3a"
            ],
            [
             0.8888888888888888,
             "#fdca26"
            ],
            [
             1,
             "#f0f921"
            ]
           ],
           "sequentialminus": [
            [
             0,
             "#0d0887"
            ],
            [
             0.1111111111111111,
             "#46039f"
            ],
            [
             0.2222222222222222,
             "#7201a8"
            ],
            [
             0.3333333333333333,
             "#9c179e"
            ],
            [
             0.4444444444444444,
             "#bd3786"
            ],
            [
             0.5555555555555556,
             "#d8576b"
            ],
            [
             0.6666666666666666,
             "#ed7953"
            ],
            [
             0.7777777777777778,
             "#fb9f3a"
            ],
            [
             0.8888888888888888,
             "#fdca26"
            ],
            [
             1,
             "#f0f921"
            ]
           ]
          },
          "colorway": [
           "#636efa",
           "#EF553B",
           "#00cc96",
           "#ab63fa",
           "#FFA15A",
           "#19d3f3",
           "#FF6692",
           "#B6E880",
           "#FF97FF",
           "#FECB52"
          ],
          "font": {
           "color": "#2a3f5f"
          },
          "geo": {
           "bgcolor": "white",
           "lakecolor": "white",
           "landcolor": "#E5ECF6",
           "showlakes": true,
           "showland": true,
           "subunitcolor": "white"
          },
          "hoverlabel": {
           "align": "left"
          },
          "hovermode": "closest",
          "mapbox": {
           "style": "light"
          },
          "paper_bgcolor": "white",
          "plot_bgcolor": "#E5ECF6",
          "polar": {
           "angularaxis": {
            "gridcolor": "white",
            "linecolor": "white",
            "ticks": ""
           },
           "bgcolor": "#E5ECF6",
           "radialaxis": {
            "gridcolor": "white",
            "linecolor": "white",
            "ticks": ""
           }
          },
          "scene": {
           "xaxis": {
            "backgroundcolor": "#E5ECF6",
            "gridcolor": "white",
            "gridwidth": 2,
            "linecolor": "white",
            "showbackground": true,
            "ticks": "",
            "zerolinecolor": "white"
           },
           "yaxis": {
            "backgroundcolor": "#E5ECF6",
            "gridcolor": "white",
            "gridwidth": 2,
            "linecolor": "white",
            "showbackground": true,
            "ticks": "",
            "zerolinecolor": "white"
           },
           "zaxis": {
            "backgroundcolor": "#E5ECF6",
            "gridcolor": "white",
            "gridwidth": 2,
            "linecolor": "white",
            "showbackground": true,
            "ticks": "",
            "zerolinecolor": "white"
           }
          },
          "shapedefaults": {
           "line": {
            "color": "#2a3f5f"
           }
          },
          "ternary": {
           "aaxis": {
            "gridcolor": "white",
            "linecolor": "white",
            "ticks": ""
           },
           "baxis": {
            "gridcolor": "white",
            "linecolor": "white",
            "ticks": ""
           },
           "bgcolor": "#E5ECF6",
           "caxis": {
            "gridcolor": "white",
            "linecolor": "white",
            "ticks": ""
           }
          },
          "title": {
           "x": 0.05
          },
          "xaxis": {
           "automargin": true,
           "gridcolor": "white",
           "linecolor": "white",
           "ticks": "",
           "title": {
            "standoff": 15
           },
           "zerolinecolor": "white",
           "zerolinewidth": 2
          },
          "yaxis": {
           "automargin": true,
           "gridcolor": "white",
           "linecolor": "white",
           "ticks": "",
           "title": {
            "standoff": 15
           },
           "zerolinecolor": "white",
           "zerolinewidth": 2
          }
         }
        },
        "title": {
         "text": "Performance Development for Feature Ir"
        },
        "xaxis": {
         "title": {
          "text": "Missing Rate"
         }
        },
        "yaxis": {
         "title": {
          "text": "Difference between original and interpolated data"
         }
        }
       }
      }
     },
     "metadata": {},
     "output_type": "display_data"
    }
   ],
   "source": [
    "interpolator.get_rate_analysis()"
   ]
  }
 ],
 "metadata": {
  "kernelspec": {
   "display_name": "Python 3",
   "language": "python",
   "name": "python3"
  },
  "language_info": {
   "codemirror_mode": {
    "name": "ipython",
    "version": 3
   },
   "file_extension": ".py",
   "mimetype": "text/x-python",
   "name": "python",
   "nbconvert_exporter": "python",
   "pygments_lexer": "ipython3",
   "version": "3.12.2"
  }
 },
 "nbformat": 4,
 "nbformat_minor": 2
}
